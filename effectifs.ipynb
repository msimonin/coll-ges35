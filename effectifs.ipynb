{
 "cells": [
  {
   "cell_type": "code",
   "execution_count": 32,
   "id": "21958487-297e-40d6-969a-360365fdb03a",
   "metadata": {},
   "outputs": [],
   "source": [
    "import pandas as pd\n",
    "import plotly.express as px"
   ]
  },
  {
   "cell_type": "markdown",
   "id": "eaa473cc-39fa-42af-ba13-279c4a3aa20f",
   "metadata": {},
   "source": [
    "# Quelles sont les communes qui alimentent les collèges de Rennes ?\n"
   ]
  },
  {
   "cell_type": "code",
   "execution_count": 33,
   "id": "8dfc82cd-9e56-4fc2-bb22-94486888218c",
   "metadata": {},
   "outputs": [
    {
     "data": {
      "text/plain": [
       "0       0352167R\n",
       "1       0350052S\n",
       "2       0351799R\n",
       "3       0350970P\n",
       "4       0350969N\n",
       "          ...   \n",
       "5411    0350916F\n",
       "5412    0351638R\n",
       "5413    0350916F\n",
       "5414    0350895H\n",
       "5415    0350965J\n",
       "Name: Code_RNE, Length: 5416, dtype: object"
      ]
     },
     "execution_count": 33,
     "metadata": {},
     "output_type": "execute_result"
    }
   ],
   "source": [
    "carte_scolaire = pd.read_csv(\"./fr-en-carte-scolaire-colleges-publics.csv\", sep=\";\")\n",
    "carte_scolaire[\"Code_RNE\"]"
   ]
  },
  {
   "cell_type": "code",
   "execution_count": null,
   "id": "1a0c718e-dcbe-46ba-8f8a-6ad483898459",
   "metadata": {},
   "outputs": [],
   "source": [
    "\n"
   ]
  },
  {
   "cell_type": "code",
   "execution_count": 34,
   "id": "b42b8ea9-c133-496d-9ebb-d0017581633a",
   "metadata": {},
   "outputs": [
    {
     "data": {
      "text/plain": [
       "Index(['Code établissement', 'Appellation officielle',\n",
       "       'Dénomination principale', 'Patronyme uai', 'Secteur Public/Privé',\n",
       "       'Adresse', 'Lieu dit', 'Boite postale', 'Code postal',\n",
       "       'Localite d'acheminement', 'Commune', 'Coordonnee X', 'Coordonnee Y',\n",
       "       'EPSG', 'Latitude', 'Longitude', 'Qualité d'appariement',\n",
       "       'Localisation', 'Code nature', 'Nature', 'Code état établissement',\n",
       "       'Etat établissement', 'Code département', 'Code région',\n",
       "       'Code académie', 'Code commune', 'Département', 'Région', 'Académie',\n",
       "       'Position', 'secteur_prive_code_type_contrat',\n",
       "       'secteur_prive_libelle_type_contrat', 'code_ministere',\n",
       "       'libelle_ministere', 'date_ouverture'],\n",
       "      dtype='object')"
      ]
     },
     "execution_count": 34,
     "metadata": {},
     "output_type": "execute_result"
    }
   ],
   "source": [
    "colleges = pd.read_csv(\"./fr-en-adresse-et-geolocalisation-etablissements-premier-et-second-degre.csv\", sep=\";\")\n",
    "colleges.columns"
   ]
  },
  {
   "cell_type": "code",
   "execution_count": 35,
   "id": "c39dc3f1-4fdd-46d3-9f2c-fc537abe399e",
   "metadata": {},
   "outputs": [
    {
     "data": {
      "text/plain": [
       "array(['Chantepie', 'Rennes', 'Saint-Grégoire', 'Vezin-le-Coquet',\n",
       "       'Thorigné-Fouillard'], dtype=object)"
      ]
     },
     "execution_count": 35,
     "metadata": {},
     "output_type": "execute_result"
    }
   ],
   "source": [
    "# jointure sur le code rne\n",
    "# on veut connaitre toute les villes qui alimentent les collèges de rennes\n",
    "joined = carte_scolaire.join(colleges.set_index(\"Code établissement\"), on=[\"Code_RNE\"], how=\"left\") \n",
    "joined[joined[\"Commune\"] == \"Rennes\"].libelle_commune.unique()"
   ]
  },
  {
   "cell_type": "markdown",
   "id": "deb6db21-6142-4eca-86a6-eaa5955167fe",
   "metadata": {},
   "source": [
    "# Les effectifs dans les collèges de Rennes"
   ]
  },
  {
   "cell_type": "code",
   "execution_count": 36,
   "id": "ecc78b87-c43c-48f1-81ae-10b478e808bc",
   "metadata": {},
   "outputs": [],
   "source": [
    "# c'est un peu pénible, il faur piocher dans 2 jeux de données :(\n",
    "\n",
    "new_df = pd.read_csv(\"fr-en-college-effectifs-niveau-sexe-lv.csv\", sep=\";\")\n",
    "old_df = pd.read_csv(\"fr-en-effectifs-second-degre.csv\", sep=\";\")\n",
    "annuaire = pd.read_csv(\"fr-en-annuaire-education.csv\", sep=\";\")\n",
    "# on ne sélectionne que les établissements des communes proches\n",
    "\n",
    "effectifs_old = old_df[old_df[\"Type_d_etablissement\"] == \"COLLEGE\"][[\"Annee_scolaire\", \"Nombre_d_eleves\",  \"Numero_d_etablissement\"]]\n",
    "effectifs_new = new_df[[\"Rentrée scolaire\", \"Numéro du collège\", \"Nombre d'élèves total (nombre d'élèves dans les formations du 1er cycle du 2nd degré et non du nombre total d'élèves inscrits dans l'établissement, les DIMA et les dispositifs-relais sont exclus)\"]]\n",
    "\n",
    "# on uniformise les noms de colonnes\n",
    "effectifs_old.columns = [\"Annee_scolaire\", \"effectifs\", \"identifiant\"]\n",
    "effectifs_old[\"rentrée\"] = effectifs_old[\"Annee_scolaire\"].str.split(\"-\", expand=True)[0]\n",
    "effectifs_old = effectifs_old[[\"rentrée\", \"effectifs\", \"identifiant\"]]\n",
    "effectifs_old = effectifs_old[effectifs_old[\"rentrée\"] != \"2019\"]\n",
    "effectifs_new.columns = [\"rentrée\", \"identifiant\", \"effectifs\"]\n",
    "\n",
    "df_effectifs = pd.concat([effectifs_old, effectifs_new])\n",
    "df_effectifs[\"rentrée\"] = df_effectifs[\"rentrée\"].astype(\"str\")\n",
    "df_effectifs[\"effectifs\"] = df_effectifs[\"effectifs\"].astype(\"int\")\n",
    "\n",
    "# jointure avec l'annuaire\n",
    "df_effectifs = df_effectifs.join(annuaire.set_index(\"Identifiant_de_l_etablissement\"), on=\"identifiant\", how=\"inner\")\n",
    "df_effectifs = df_effectifs.sort_values(by=\"rentrée\")"
   ]
  },
  {
   "cell_type": "code",
   "execution_count": null,
   "id": "c7208c65-bdbd-4816-95cd-2e9f5dd7d193",
   "metadata": {},
   "outputs": [],
   "source": []
  },
  {
   "cell_type": "code",
   "execution_count": 37,
   "id": "33ce0eda-6987-4939-927d-b8c1f7b28d7b",
   "metadata": {},
   "outputs": [
    {
     "data": {
      "text/plain": [
       "rentrée\n",
       "2015     9308\n",
       "2016     9477\n",
       "2017     9797\n",
       "2018    10049\n",
       "2019    10578\n",
       "2020    10591\n",
       "2021    10586\n",
       "Name: effectifs, dtype: int64"
      ]
     },
     "execution_count": 37,
     "metadata": {},
     "output_type": "execute_result"
    }
   ],
   "source": [
    "df_effectifs_rennes = df_effectifs[df_effectifs[\"Nom_commune\"].str.match(r\".*rennes.*\", case=False)]\n",
    "df_effectifs_rennes.groupby(\"rentrée\")[\"effectifs\"].sum()"
   ]
  },
  {
   "cell_type": "code",
   "execution_count": 41,
   "id": "a2d59bf2-7499-49c7-8b3e-62e71cc3f457",
   "metadata": {},
   "outputs": [
    {
     "data": {
      "application/vnd.plotly.v1+json": {
       "config": {
        "plotlyServerURL": "https://plot.ly"
       },
       "data": [
        {
         "alignmentgroup": "True",
         "hovertemplate": "rentrée=2015<br>Statut_public_prive=%{x}<br>effectifs=%{y}<extra></extra>",
         "legendgroup": "2015",
         "marker": {
          "color": "#636efa",
          "pattern": {
           "shape": ""
          }
         },
         "name": "2015",
         "offsetgroup": "2015",
         "orientation": "v",
         "showlegend": true,
         "textposition": "auto",
         "type": "bar",
         "x": [
          "Privé",
          "Public"
         ],
         "xaxis": "x",
         "y": [
          3455,
          5853
         ],
         "yaxis": "y"
        },
        {
         "alignmentgroup": "True",
         "hovertemplate": "rentrée=2016<br>Statut_public_prive=%{x}<br>effectifs=%{y}<extra></extra>",
         "legendgroup": "2016",
         "marker": {
          "color": "#EF553B",
          "pattern": {
           "shape": ""
          }
         },
         "name": "2016",
         "offsetgroup": "2016",
         "orientation": "v",
         "showlegend": true,
         "textposition": "auto",
         "type": "bar",
         "x": [
          "Privé",
          "Public"
         ],
         "xaxis": "x",
         "y": [
          3513,
          5964
         ],
         "yaxis": "y"
        },
        {
         "alignmentgroup": "True",
         "hovertemplate": "rentrée=2017<br>Statut_public_prive=%{x}<br>effectifs=%{y}<extra></extra>",
         "legendgroup": "2017",
         "marker": {
          "color": "#00cc96",
          "pattern": {
           "shape": ""
          }
         },
         "name": "2017",
         "offsetgroup": "2017",
         "orientation": "v",
         "showlegend": true,
         "textposition": "auto",
         "type": "bar",
         "x": [
          "Privé",
          "Public"
         ],
         "xaxis": "x",
         "y": [
          3623,
          6174
         ],
         "yaxis": "y"
        },
        {
         "alignmentgroup": "True",
         "hovertemplate": "rentrée=2018<br>Statut_public_prive=%{x}<br>effectifs=%{y}<extra></extra>",
         "legendgroup": "2018",
         "marker": {
          "color": "#ab63fa",
          "pattern": {
           "shape": ""
          }
         },
         "name": "2018",
         "offsetgroup": "2018",
         "orientation": "v",
         "showlegend": true,
         "textposition": "auto",
         "type": "bar",
         "x": [
          "Privé",
          "Public"
         ],
         "xaxis": "x",
         "y": [
          3630,
          6419
         ],
         "yaxis": "y"
        },
        {
         "alignmentgroup": "True",
         "hovertemplate": "rentrée=2019<br>Statut_public_prive=%{x}<br>effectifs=%{y}<extra></extra>",
         "legendgroup": "2019",
         "marker": {
          "color": "#FFA15A",
          "pattern": {
           "shape": ""
          }
         },
         "name": "2019",
         "offsetgroup": "2019",
         "orientation": "v",
         "showlegend": true,
         "textposition": "auto",
         "type": "bar",
         "x": [
          "Privé",
          "Public"
         ],
         "xaxis": "x",
         "y": [
          3758,
          6820
         ],
         "yaxis": "y"
        },
        {
         "alignmentgroup": "True",
         "hovertemplate": "rentrée=2020<br>Statut_public_prive=%{x}<br>effectifs=%{y}<extra></extra>",
         "legendgroup": "2020",
         "marker": {
          "color": "#19d3f3",
          "pattern": {
           "shape": ""
          }
         },
         "name": "2020",
         "offsetgroup": "2020",
         "orientation": "v",
         "showlegend": true,
         "textposition": "auto",
         "type": "bar",
         "x": [
          "Privé",
          "Public"
         ],
         "xaxis": "x",
         "y": [
          3780,
          6811
         ],
         "yaxis": "y"
        },
        {
         "alignmentgroup": "True",
         "hovertemplate": "rentrée=2021<br>Statut_public_prive=%{x}<br>effectifs=%{y}<extra></extra>",
         "legendgroup": "2021",
         "marker": {
          "color": "#FF6692",
          "pattern": {
           "shape": ""
          }
         },
         "name": "2021",
         "offsetgroup": "2021",
         "orientation": "v",
         "showlegend": true,
         "textposition": "auto",
         "type": "bar",
         "x": [
          "Privé",
          "Public"
         ],
         "xaxis": "x",
         "y": [
          3797,
          6789
         ],
         "yaxis": "y"
        }
       ],
       "layout": {
        "barmode": "group",
        "height": 600,
        "legend": {
         "title": {
          "text": "rentrée"
         },
         "tracegroupgap": 0
        },
        "template": {
         "data": {
          "bar": [
           {
            "error_x": {
             "color": "#2a3f5f"
            },
            "error_y": {
             "color": "#2a3f5f"
            },
            "marker": {
             "line": {
              "color": "#E5ECF6",
              "width": 0.5
             },
             "pattern": {
              "fillmode": "overlay",
              "size": 10,
              "solidity": 0.2
             }
            },
            "type": "bar"
           }
          ],
          "barpolar": [
           {
            "marker": {
             "line": {
              "color": "#E5ECF6",
              "width": 0.5
             },
             "pattern": {
              "fillmode": "overlay",
              "size": 10,
              "solidity": 0.2
             }
            },
            "type": "barpolar"
           }
          ],
          "carpet": [
           {
            "aaxis": {
             "endlinecolor": "#2a3f5f",
             "gridcolor": "white",
             "linecolor": "white",
             "minorgridcolor": "white",
             "startlinecolor": "#2a3f5f"
            },
            "baxis": {
             "endlinecolor": "#2a3f5f",
             "gridcolor": "white",
             "linecolor": "white",
             "minorgridcolor": "white",
             "startlinecolor": "#2a3f5f"
            },
            "type": "carpet"
           }
          ],
          "choropleth": [
           {
            "colorbar": {
             "outlinewidth": 0,
             "ticks": ""
            },
            "type": "choropleth"
           }
          ],
          "contour": [
           {
            "colorbar": {
             "outlinewidth": 0,
             "ticks": ""
            },
            "colorscale": [
             [
              0,
              "#0d0887"
             ],
             [
              0.1111111111111111,
              "#46039f"
             ],
             [
              0.2222222222222222,
              "#7201a8"
             ],
             [
              0.3333333333333333,
              "#9c179e"
             ],
             [
              0.4444444444444444,
              "#bd3786"
             ],
             [
              0.5555555555555556,
              "#d8576b"
             ],
             [
              0.6666666666666666,
              "#ed7953"
             ],
             [
              0.7777777777777778,
              "#fb9f3a"
             ],
             [
              0.8888888888888888,
              "#fdca26"
             ],
             [
              1,
              "#f0f921"
             ]
            ],
            "type": "contour"
           }
          ],
          "contourcarpet": [
           {
            "colorbar": {
             "outlinewidth": 0,
             "ticks": ""
            },
            "type": "contourcarpet"
           }
          ],
          "heatmap": [
           {
            "colorbar": {
             "outlinewidth": 0,
             "ticks": ""
            },
            "colorscale": [
             [
              0,
              "#0d0887"
             ],
             [
              0.1111111111111111,
              "#46039f"
             ],
             [
              0.2222222222222222,
              "#7201a8"
             ],
             [
              0.3333333333333333,
              "#9c179e"
             ],
             [
              0.4444444444444444,
              "#bd3786"
             ],
             [
              0.5555555555555556,
              "#d8576b"
             ],
             [
              0.6666666666666666,
              "#ed7953"
             ],
             [
              0.7777777777777778,
              "#fb9f3a"
             ],
             [
              0.8888888888888888,
              "#fdca26"
             ],
             [
              1,
              "#f0f921"
             ]
            ],
            "type": "heatmap"
           }
          ],
          "heatmapgl": [
           {
            "colorbar": {
             "outlinewidth": 0,
             "ticks": ""
            },
            "colorscale": [
             [
              0,
              "#0d0887"
             ],
             [
              0.1111111111111111,
              "#46039f"
             ],
             [
              0.2222222222222222,
              "#7201a8"
             ],
             [
              0.3333333333333333,
              "#9c179e"
             ],
             [
              0.4444444444444444,
              "#bd3786"
             ],
             [
              0.5555555555555556,
              "#d8576b"
             ],
             [
              0.6666666666666666,
              "#ed7953"
             ],
             [
              0.7777777777777778,
              "#fb9f3a"
             ],
             [
              0.8888888888888888,
              "#fdca26"
             ],
             [
              1,
              "#f0f921"
             ]
            ],
            "type": "heatmapgl"
           }
          ],
          "histogram": [
           {
            "marker": {
             "pattern": {
              "fillmode": "overlay",
              "size": 10,
              "solidity": 0.2
             }
            },
            "type": "histogram"
           }
          ],
          "histogram2d": [
           {
            "colorbar": {
             "outlinewidth": 0,
             "ticks": ""
            },
            "colorscale": [
             [
              0,
              "#0d0887"
             ],
             [
              0.1111111111111111,
              "#46039f"
             ],
             [
              0.2222222222222222,
              "#7201a8"
             ],
             [
              0.3333333333333333,
              "#9c179e"
             ],
             [
              0.4444444444444444,
              "#bd3786"
             ],
             [
              0.5555555555555556,
              "#d8576b"
             ],
             [
              0.6666666666666666,
              "#ed7953"
             ],
             [
              0.7777777777777778,
              "#fb9f3a"
             ],
             [
              0.8888888888888888,
              "#fdca26"
             ],
             [
              1,
              "#f0f921"
             ]
            ],
            "type": "histogram2d"
           }
          ],
          "histogram2dcontour": [
           {
            "colorbar": {
             "outlinewidth": 0,
             "ticks": ""
            },
            "colorscale": [
             [
              0,
              "#0d0887"
             ],
             [
              0.1111111111111111,
              "#46039f"
             ],
             [
              0.2222222222222222,
              "#7201a8"
             ],
             [
              0.3333333333333333,
              "#9c179e"
             ],
             [
              0.4444444444444444,
              "#bd3786"
             ],
             [
              0.5555555555555556,
              "#d8576b"
             ],
             [
              0.6666666666666666,
              "#ed7953"
             ],
             [
              0.7777777777777778,
              "#fb9f3a"
             ],
             [
              0.8888888888888888,
              "#fdca26"
             ],
             [
              1,
              "#f0f921"
             ]
            ],
            "type": "histogram2dcontour"
           }
          ],
          "mesh3d": [
           {
            "colorbar": {
             "outlinewidth": 0,
             "ticks": ""
            },
            "type": "mesh3d"
           }
          ],
          "parcoords": [
           {
            "line": {
             "colorbar": {
              "outlinewidth": 0,
              "ticks": ""
             }
            },
            "type": "parcoords"
           }
          ],
          "pie": [
           {
            "automargin": true,
            "type": "pie"
           }
          ],
          "scatter": [
           {
            "fillpattern": {
             "fillmode": "overlay",
             "size": 10,
             "solidity": 0.2
            },
            "type": "scatter"
           }
          ],
          "scatter3d": [
           {
            "line": {
             "colorbar": {
              "outlinewidth": 0,
              "ticks": ""
             }
            },
            "marker": {
             "colorbar": {
              "outlinewidth": 0,
              "ticks": ""
             }
            },
            "type": "scatter3d"
           }
          ],
          "scattercarpet": [
           {
            "marker": {
             "colorbar": {
              "outlinewidth": 0,
              "ticks": ""
             }
            },
            "type": "scattercarpet"
           }
          ],
          "scattergeo": [
           {
            "marker": {
             "colorbar": {
              "outlinewidth": 0,
              "ticks": ""
             }
            },
            "type": "scattergeo"
           }
          ],
          "scattergl": [
           {
            "marker": {
             "colorbar": {
              "outlinewidth": 0,
              "ticks": ""
             }
            },
            "type": "scattergl"
           }
          ],
          "scattermapbox": [
           {
            "marker": {
             "colorbar": {
              "outlinewidth": 0,
              "ticks": ""
             }
            },
            "type": "scattermapbox"
           }
          ],
          "scatterpolar": [
           {
            "marker": {
             "colorbar": {
              "outlinewidth": 0,
              "ticks": ""
             }
            },
            "type": "scatterpolar"
           }
          ],
          "scatterpolargl": [
           {
            "marker": {
             "colorbar": {
              "outlinewidth": 0,
              "ticks": ""
             }
            },
            "type": "scatterpolargl"
           }
          ],
          "scatterternary": [
           {
            "marker": {
             "colorbar": {
              "outlinewidth": 0,
              "ticks": ""
             }
            },
            "type": "scatterternary"
           }
          ],
          "surface": [
           {
            "colorbar": {
             "outlinewidth": 0,
             "ticks": ""
            },
            "colorscale": [
             [
              0,
              "#0d0887"
             ],
             [
              0.1111111111111111,
              "#46039f"
             ],
             [
              0.2222222222222222,
              "#7201a8"
             ],
             [
              0.3333333333333333,
              "#9c179e"
             ],
             [
              0.4444444444444444,
              "#bd3786"
             ],
             [
              0.5555555555555556,
              "#d8576b"
             ],
             [
              0.6666666666666666,
              "#ed7953"
             ],
             [
              0.7777777777777778,
              "#fb9f3a"
             ],
             [
              0.8888888888888888,
              "#fdca26"
             ],
             [
              1,
              "#f0f921"
             ]
            ],
            "type": "surface"
           }
          ],
          "table": [
           {
            "cells": {
             "fill": {
              "color": "#EBF0F8"
             },
             "line": {
              "color": "white"
             }
            },
            "header": {
             "fill": {
              "color": "#C8D4E3"
             },
             "line": {
              "color": "white"
             }
            },
            "type": "table"
           }
          ]
         },
         "layout": {
          "annotationdefaults": {
           "arrowcolor": "#2a3f5f",
           "arrowhead": 0,
           "arrowwidth": 1
          },
          "autotypenumbers": "strict",
          "coloraxis": {
           "colorbar": {
            "outlinewidth": 0,
            "ticks": ""
           }
          },
          "colorscale": {
           "diverging": [
            [
             0,
             "#8e0152"
            ],
            [
             0.1,
             "#c51b7d"
            ],
            [
             0.2,
             "#de77ae"
            ],
            [
             0.3,
             "#f1b6da"
            ],
            [
             0.4,
             "#fde0ef"
            ],
            [
             0.5,
             "#f7f7f7"
            ],
            [
             0.6,
             "#e6f5d0"
            ],
            [
             0.7,
             "#b8e186"
            ],
            [
             0.8,
             "#7fbc41"
            ],
            [
             0.9,
             "#4d9221"
            ],
            [
             1,
             "#276419"
            ]
           ],
           "sequential": [
            [
             0,
             "#0d0887"
            ],
            [
             0.1111111111111111,
             "#46039f"
            ],
            [
             0.2222222222222222,
             "#7201a8"
            ],
            [
             0.3333333333333333,
             "#9c179e"
            ],
            [
             0.4444444444444444,
             "#bd3786"
            ],
            [
             0.5555555555555556,
             "#d8576b"
            ],
            [
             0.6666666666666666,
             "#ed7953"
            ],
            [
             0.7777777777777778,
             "#fb9f3a"
            ],
            [
             0.8888888888888888,
             "#fdca26"
            ],
            [
             1,
             "#f0f921"
            ]
           ],
           "sequentialminus": [
            [
             0,
             "#0d0887"
            ],
            [
             0.1111111111111111,
             "#46039f"
            ],
            [
             0.2222222222222222,
             "#7201a8"
            ],
            [
             0.3333333333333333,
             "#9c179e"
            ],
            [
             0.4444444444444444,
             "#bd3786"
            ],
            [
             0.5555555555555556,
             "#d8576b"
            ],
            [
             0.6666666666666666,
             "#ed7953"
            ],
            [
             0.7777777777777778,
             "#fb9f3a"
            ],
            [
             0.8888888888888888,
             "#fdca26"
            ],
            [
             1,
             "#f0f921"
            ]
           ]
          },
          "colorway": [
           "#636efa",
           "#EF553B",
           "#00cc96",
           "#ab63fa",
           "#FFA15A",
           "#19d3f3",
           "#FF6692",
           "#B6E880",
           "#FF97FF",
           "#FECB52"
          ],
          "font": {
           "color": "#2a3f5f"
          },
          "geo": {
           "bgcolor": "white",
           "lakecolor": "white",
           "landcolor": "#E5ECF6",
           "showlakes": true,
           "showland": true,
           "subunitcolor": "white"
          },
          "hoverlabel": {
           "align": "left"
          },
          "hovermode": "closest",
          "mapbox": {
           "style": "light"
          },
          "paper_bgcolor": "white",
          "plot_bgcolor": "#E5ECF6",
          "polar": {
           "angularaxis": {
            "gridcolor": "white",
            "linecolor": "white",
            "ticks": ""
           },
           "bgcolor": "#E5ECF6",
           "radialaxis": {
            "gridcolor": "white",
            "linecolor": "white",
            "ticks": ""
           }
          },
          "scene": {
           "xaxis": {
            "backgroundcolor": "#E5ECF6",
            "gridcolor": "white",
            "gridwidth": 2,
            "linecolor": "white",
            "showbackground": true,
            "ticks": "",
            "zerolinecolor": "white"
           },
           "yaxis": {
            "backgroundcolor": "#E5ECF6",
            "gridcolor": "white",
            "gridwidth": 2,
            "linecolor": "white",
            "showbackground": true,
            "ticks": "",
            "zerolinecolor": "white"
           },
           "zaxis": {
            "backgroundcolor": "#E5ECF6",
            "gridcolor": "white",
            "gridwidth": 2,
            "linecolor": "white",
            "showbackground": true,
            "ticks": "",
            "zerolinecolor": "white"
           }
          },
          "shapedefaults": {
           "line": {
            "color": "#2a3f5f"
           }
          },
          "ternary": {
           "aaxis": {
            "gridcolor": "white",
            "linecolor": "white",
            "ticks": ""
           },
           "baxis": {
            "gridcolor": "white",
            "linecolor": "white",
            "ticks": ""
           },
           "bgcolor": "#E5ECF6",
           "caxis": {
            "gridcolor": "white",
            "linecolor": "white",
            "ticks": ""
           }
          },
          "title": {
           "x": 0.05
          },
          "xaxis": {
           "automargin": true,
           "gridcolor": "white",
           "linecolor": "white",
           "ticks": "",
           "title": {
            "standoff": 15
           },
           "zerolinecolor": "white",
           "zerolinewidth": 2
          },
          "yaxis": {
           "automargin": true,
           "gridcolor": "white",
           "linecolor": "white",
           "ticks": "",
           "title": {
            "standoff": 15
           },
           "zerolinecolor": "white",
           "zerolinewidth": 2
          }
         }
        },
        "title": {
         "text": "Effectifs dans les collège de Rennes"
        },
        "width": 800,
        "xaxis": {
         "anchor": "y",
         "autorange": true,
         "domain": [
          0,
          1
         ],
         "range": [
          -0.5,
          1.5
         ],
         "title": {
          "text": "Statut_public_prive"
         },
         "type": "category"
        },
        "yaxis": {
         "anchor": "x",
         "autorange": true,
         "domain": [
          0,
          1
         ],
         "range": [
          0,
          7178.9473684210525
         ],
         "title": {
          "text": "effectifs"
         },
         "type": "linear"
        }
       }
      },
      "text/html": [
       "<div>                            <div id=\"8d63008c-0f26-445a-92c1-7f4e9431de49\" class=\"plotly-graph-div\" style=\"height:600px; width:800px;\"></div>            <script type=\"text/javascript\">                require([\"plotly\"], function(Plotly) {                    window.PLOTLYENV=window.PLOTLYENV || {};                                    if (document.getElementById(\"8d63008c-0f26-445a-92c1-7f4e9431de49\")) {                    Plotly.newPlot(                        \"8d63008c-0f26-445a-92c1-7f4e9431de49\",                        [{\"alignmentgroup\":\"True\",\"hovertemplate\":\"rentr\\u00e9e=2015\\u003cbr\\u003eStatut_public_prive=%{x}\\u003cbr\\u003eeffectifs=%{y}\\u003cextra\\u003e\\u003c\\u002fextra\\u003e\",\"legendgroup\":\"2015\",\"marker\":{\"color\":\"#636efa\",\"pattern\":{\"shape\":\"\"}},\"name\":\"2015\",\"offsetgroup\":\"2015\",\"orientation\":\"v\",\"showlegend\":true,\"textposition\":\"auto\",\"x\":[\"Priv\\u00e9\",\"Public\"],\"xaxis\":\"x\",\"y\":[3455,5853],\"yaxis\":\"y\",\"type\":\"bar\"},{\"alignmentgroup\":\"True\",\"hovertemplate\":\"rentr\\u00e9e=2016\\u003cbr\\u003eStatut_public_prive=%{x}\\u003cbr\\u003eeffectifs=%{y}\\u003cextra\\u003e\\u003c\\u002fextra\\u003e\",\"legendgroup\":\"2016\",\"marker\":{\"color\":\"#EF553B\",\"pattern\":{\"shape\":\"\"}},\"name\":\"2016\",\"offsetgroup\":\"2016\",\"orientation\":\"v\",\"showlegend\":true,\"textposition\":\"auto\",\"x\":[\"Priv\\u00e9\",\"Public\"],\"xaxis\":\"x\",\"y\":[3513,5964],\"yaxis\":\"y\",\"type\":\"bar\"},{\"alignmentgroup\":\"True\",\"hovertemplate\":\"rentr\\u00e9e=2017\\u003cbr\\u003eStatut_public_prive=%{x}\\u003cbr\\u003eeffectifs=%{y}\\u003cextra\\u003e\\u003c\\u002fextra\\u003e\",\"legendgroup\":\"2017\",\"marker\":{\"color\":\"#00cc96\",\"pattern\":{\"shape\":\"\"}},\"name\":\"2017\",\"offsetgroup\":\"2017\",\"orientation\":\"v\",\"showlegend\":true,\"textposition\":\"auto\",\"x\":[\"Priv\\u00e9\",\"Public\"],\"xaxis\":\"x\",\"y\":[3623,6174],\"yaxis\":\"y\",\"type\":\"bar\"},{\"alignmentgroup\":\"True\",\"hovertemplate\":\"rentr\\u00e9e=2018\\u003cbr\\u003eStatut_public_prive=%{x}\\u003cbr\\u003eeffectifs=%{y}\\u003cextra\\u003e\\u003c\\u002fextra\\u003e\",\"legendgroup\":\"2018\",\"marker\":{\"color\":\"#ab63fa\",\"pattern\":{\"shape\":\"\"}},\"name\":\"2018\",\"offsetgroup\":\"2018\",\"orientation\":\"v\",\"showlegend\":true,\"textposition\":\"auto\",\"x\":[\"Priv\\u00e9\",\"Public\"],\"xaxis\":\"x\",\"y\":[3630,6419],\"yaxis\":\"y\",\"type\":\"bar\"},{\"alignmentgroup\":\"True\",\"hovertemplate\":\"rentr\\u00e9e=2019\\u003cbr\\u003eStatut_public_prive=%{x}\\u003cbr\\u003eeffectifs=%{y}\\u003cextra\\u003e\\u003c\\u002fextra\\u003e\",\"legendgroup\":\"2019\",\"marker\":{\"color\":\"#FFA15A\",\"pattern\":{\"shape\":\"\"}},\"name\":\"2019\",\"offsetgroup\":\"2019\",\"orientation\":\"v\",\"showlegend\":true,\"textposition\":\"auto\",\"x\":[\"Priv\\u00e9\",\"Public\"],\"xaxis\":\"x\",\"y\":[3758,6820],\"yaxis\":\"y\",\"type\":\"bar\"},{\"alignmentgroup\":\"True\",\"hovertemplate\":\"rentr\\u00e9e=2020\\u003cbr\\u003eStatut_public_prive=%{x}\\u003cbr\\u003eeffectifs=%{y}\\u003cextra\\u003e\\u003c\\u002fextra\\u003e\",\"legendgroup\":\"2020\",\"marker\":{\"color\":\"#19d3f3\",\"pattern\":{\"shape\":\"\"}},\"name\":\"2020\",\"offsetgroup\":\"2020\",\"orientation\":\"v\",\"showlegend\":true,\"textposition\":\"auto\",\"x\":[\"Priv\\u00e9\",\"Public\"],\"xaxis\":\"x\",\"y\":[3780,6811],\"yaxis\":\"y\",\"type\":\"bar\"},{\"alignmentgroup\":\"True\",\"hovertemplate\":\"rentr\\u00e9e=2021\\u003cbr\\u003eStatut_public_prive=%{x}\\u003cbr\\u003eeffectifs=%{y}\\u003cextra\\u003e\\u003c\\u002fextra\\u003e\",\"legendgroup\":\"2021\",\"marker\":{\"color\":\"#FF6692\",\"pattern\":{\"shape\":\"\"}},\"name\":\"2021\",\"offsetgroup\":\"2021\",\"orientation\":\"v\",\"showlegend\":true,\"textposition\":\"auto\",\"x\":[\"Priv\\u00e9\",\"Public\"],\"xaxis\":\"x\",\"y\":[3797,6789],\"yaxis\":\"y\",\"type\":\"bar\"}],                        {\"template\":{\"data\":{\"histogram2dcontour\":[{\"type\":\"histogram2dcontour\",\"colorbar\":{\"outlinewidth\":0,\"ticks\":\"\"},\"colorscale\":[[0.0,\"#0d0887\"],[0.1111111111111111,\"#46039f\"],[0.2222222222222222,\"#7201a8\"],[0.3333333333333333,\"#9c179e\"],[0.4444444444444444,\"#bd3786\"],[0.5555555555555556,\"#d8576b\"],[0.6666666666666666,\"#ed7953\"],[0.7777777777777778,\"#fb9f3a\"],[0.8888888888888888,\"#fdca26\"],[1.0,\"#f0f921\"]]}],\"choropleth\":[{\"type\":\"choropleth\",\"colorbar\":{\"outlinewidth\":0,\"ticks\":\"\"}}],\"histogram2d\":[{\"type\":\"histogram2d\",\"colorbar\":{\"outlinewidth\":0,\"ticks\":\"\"},\"colorscale\":[[0.0,\"#0d0887\"],[0.1111111111111111,\"#46039f\"],[0.2222222222222222,\"#7201a8\"],[0.3333333333333333,\"#9c179e\"],[0.4444444444444444,\"#bd3786\"],[0.5555555555555556,\"#d8576b\"],[0.6666666666666666,\"#ed7953\"],[0.7777777777777778,\"#fb9f3a\"],[0.8888888888888888,\"#fdca26\"],[1.0,\"#f0f921\"]]}],\"heatmap\":[{\"type\":\"heatmap\",\"colorbar\":{\"outlinewidth\":0,\"ticks\":\"\"},\"colorscale\":[[0.0,\"#0d0887\"],[0.1111111111111111,\"#46039f\"],[0.2222222222222222,\"#7201a8\"],[0.3333333333333333,\"#9c179e\"],[0.4444444444444444,\"#bd3786\"],[0.5555555555555556,\"#d8576b\"],[0.6666666666666666,\"#ed7953\"],[0.7777777777777778,\"#fb9f3a\"],[0.8888888888888888,\"#fdca26\"],[1.0,\"#f0f921\"]]}],\"heatmapgl\":[{\"type\":\"heatmapgl\",\"colorbar\":{\"outlinewidth\":0,\"ticks\":\"\"},\"colorscale\":[[0.0,\"#0d0887\"],[0.1111111111111111,\"#46039f\"],[0.2222222222222222,\"#7201a8\"],[0.3333333333333333,\"#9c179e\"],[0.4444444444444444,\"#bd3786\"],[0.5555555555555556,\"#d8576b\"],[0.6666666666666666,\"#ed7953\"],[0.7777777777777778,\"#fb9f3a\"],[0.8888888888888888,\"#fdca26\"],[1.0,\"#f0f921\"]]}],\"contourcarpet\":[{\"type\":\"contourcarpet\",\"colorbar\":{\"outlinewidth\":0,\"ticks\":\"\"}}],\"contour\":[{\"type\":\"contour\",\"colorbar\":{\"outlinewidth\":0,\"ticks\":\"\"},\"colorscale\":[[0.0,\"#0d0887\"],[0.1111111111111111,\"#46039f\"],[0.2222222222222222,\"#7201a8\"],[0.3333333333333333,\"#9c179e\"],[0.4444444444444444,\"#bd3786\"],[0.5555555555555556,\"#d8576b\"],[0.6666666666666666,\"#ed7953\"],[0.7777777777777778,\"#fb9f3a\"],[0.8888888888888888,\"#fdca26\"],[1.0,\"#f0f921\"]]}],\"surface\":[{\"type\":\"surface\",\"colorbar\":{\"outlinewidth\":0,\"ticks\":\"\"},\"colorscale\":[[0.0,\"#0d0887\"],[0.1111111111111111,\"#46039f\"],[0.2222222222222222,\"#7201a8\"],[0.3333333333333333,\"#9c179e\"],[0.4444444444444444,\"#bd3786\"],[0.5555555555555556,\"#d8576b\"],[0.6666666666666666,\"#ed7953\"],[0.7777777777777778,\"#fb9f3a\"],[0.8888888888888888,\"#fdca26\"],[1.0,\"#f0f921\"]]}],\"mesh3d\":[{\"type\":\"mesh3d\",\"colorbar\":{\"outlinewidth\":0,\"ticks\":\"\"}}],\"scatter\":[{\"fillpattern\":{\"fillmode\":\"overlay\",\"size\":10,\"solidity\":0.2},\"type\":\"scatter\"}],\"parcoords\":[{\"type\":\"parcoords\",\"line\":{\"colorbar\":{\"outlinewidth\":0,\"ticks\":\"\"}}}],\"scatterpolargl\":[{\"type\":\"scatterpolargl\",\"marker\":{\"colorbar\":{\"outlinewidth\":0,\"ticks\":\"\"}}}],\"bar\":[{\"error_x\":{\"color\":\"#2a3f5f\"},\"error_y\":{\"color\":\"#2a3f5f\"},\"marker\":{\"line\":{\"color\":\"#E5ECF6\",\"width\":0.5},\"pattern\":{\"fillmode\":\"overlay\",\"size\":10,\"solidity\":0.2}},\"type\":\"bar\"}],\"scattergeo\":[{\"type\":\"scattergeo\",\"marker\":{\"colorbar\":{\"outlinewidth\":0,\"ticks\":\"\"}}}],\"scatterpolar\":[{\"type\":\"scatterpolar\",\"marker\":{\"colorbar\":{\"outlinewidth\":0,\"ticks\":\"\"}}}],\"histogram\":[{\"marker\":{\"pattern\":{\"fillmode\":\"overlay\",\"size\":10,\"solidity\":0.2}},\"type\":\"histogram\"}],\"scattergl\":[{\"type\":\"scattergl\",\"marker\":{\"colorbar\":{\"outlinewidth\":0,\"ticks\":\"\"}}}],\"scatter3d\":[{\"type\":\"scatter3d\",\"line\":{\"colorbar\":{\"outlinewidth\":0,\"ticks\":\"\"}},\"marker\":{\"colorbar\":{\"outlinewidth\":0,\"ticks\":\"\"}}}],\"scattermapbox\":[{\"type\":\"scattermapbox\",\"marker\":{\"colorbar\":{\"outlinewidth\":0,\"ticks\":\"\"}}}],\"scatterternary\":[{\"type\":\"scatterternary\",\"marker\":{\"colorbar\":{\"outlinewidth\":0,\"ticks\":\"\"}}}],\"scattercarpet\":[{\"type\":\"scattercarpet\",\"marker\":{\"colorbar\":{\"outlinewidth\":0,\"ticks\":\"\"}}}],\"carpet\":[{\"aaxis\":{\"endlinecolor\":\"#2a3f5f\",\"gridcolor\":\"white\",\"linecolor\":\"white\",\"minorgridcolor\":\"white\",\"startlinecolor\":\"#2a3f5f\"},\"baxis\":{\"endlinecolor\":\"#2a3f5f\",\"gridcolor\":\"white\",\"linecolor\":\"white\",\"minorgridcolor\":\"white\",\"startlinecolor\":\"#2a3f5f\"},\"type\":\"carpet\"}],\"table\":[{\"cells\":{\"fill\":{\"color\":\"#EBF0F8\"},\"line\":{\"color\":\"white\"}},\"header\":{\"fill\":{\"color\":\"#C8D4E3\"},\"line\":{\"color\":\"white\"}},\"type\":\"table\"}],\"barpolar\":[{\"marker\":{\"line\":{\"color\":\"#E5ECF6\",\"width\":0.5},\"pattern\":{\"fillmode\":\"overlay\",\"size\":10,\"solidity\":0.2}},\"type\":\"barpolar\"}],\"pie\":[{\"automargin\":true,\"type\":\"pie\"}]},\"layout\":{\"autotypenumbers\":\"strict\",\"colorway\":[\"#636efa\",\"#EF553B\",\"#00cc96\",\"#ab63fa\",\"#FFA15A\",\"#19d3f3\",\"#FF6692\",\"#B6E880\",\"#FF97FF\",\"#FECB52\"],\"font\":{\"color\":\"#2a3f5f\"},\"hovermode\":\"closest\",\"hoverlabel\":{\"align\":\"left\"},\"paper_bgcolor\":\"white\",\"plot_bgcolor\":\"#E5ECF6\",\"polar\":{\"bgcolor\":\"#E5ECF6\",\"angularaxis\":{\"gridcolor\":\"white\",\"linecolor\":\"white\",\"ticks\":\"\"},\"radialaxis\":{\"gridcolor\":\"white\",\"linecolor\":\"white\",\"ticks\":\"\"}},\"ternary\":{\"bgcolor\":\"#E5ECF6\",\"aaxis\":{\"gridcolor\":\"white\",\"linecolor\":\"white\",\"ticks\":\"\"},\"baxis\":{\"gridcolor\":\"white\",\"linecolor\":\"white\",\"ticks\":\"\"},\"caxis\":{\"gridcolor\":\"white\",\"linecolor\":\"white\",\"ticks\":\"\"}},\"coloraxis\":{\"colorbar\":{\"outlinewidth\":0,\"ticks\":\"\"}},\"colorscale\":{\"sequential\":[[0.0,\"#0d0887\"],[0.1111111111111111,\"#46039f\"],[0.2222222222222222,\"#7201a8\"],[0.3333333333333333,\"#9c179e\"],[0.4444444444444444,\"#bd3786\"],[0.5555555555555556,\"#d8576b\"],[0.6666666666666666,\"#ed7953\"],[0.7777777777777778,\"#fb9f3a\"],[0.8888888888888888,\"#fdca26\"],[1.0,\"#f0f921\"]],\"sequentialminus\":[[0.0,\"#0d0887\"],[0.1111111111111111,\"#46039f\"],[0.2222222222222222,\"#7201a8\"],[0.3333333333333333,\"#9c179e\"],[0.4444444444444444,\"#bd3786\"],[0.5555555555555556,\"#d8576b\"],[0.6666666666666666,\"#ed7953\"],[0.7777777777777778,\"#fb9f3a\"],[0.8888888888888888,\"#fdca26\"],[1.0,\"#f0f921\"]],\"diverging\":[[0,\"#8e0152\"],[0.1,\"#c51b7d\"],[0.2,\"#de77ae\"],[0.3,\"#f1b6da\"],[0.4,\"#fde0ef\"],[0.5,\"#f7f7f7\"],[0.6,\"#e6f5d0\"],[0.7,\"#b8e186\"],[0.8,\"#7fbc41\"],[0.9,\"#4d9221\"],[1,\"#276419\"]]},\"xaxis\":{\"gridcolor\":\"white\",\"linecolor\":\"white\",\"ticks\":\"\",\"title\":{\"standoff\":15},\"zerolinecolor\":\"white\",\"automargin\":true,\"zerolinewidth\":2},\"yaxis\":{\"gridcolor\":\"white\",\"linecolor\":\"white\",\"ticks\":\"\",\"title\":{\"standoff\":15},\"zerolinecolor\":\"white\",\"automargin\":true,\"zerolinewidth\":2},\"scene\":{\"xaxis\":{\"backgroundcolor\":\"#E5ECF6\",\"gridcolor\":\"white\",\"linecolor\":\"white\",\"showbackground\":true,\"ticks\":\"\",\"zerolinecolor\":\"white\",\"gridwidth\":2},\"yaxis\":{\"backgroundcolor\":\"#E5ECF6\",\"gridcolor\":\"white\",\"linecolor\":\"white\",\"showbackground\":true,\"ticks\":\"\",\"zerolinecolor\":\"white\",\"gridwidth\":2},\"zaxis\":{\"backgroundcolor\":\"#E5ECF6\",\"gridcolor\":\"white\",\"linecolor\":\"white\",\"showbackground\":true,\"ticks\":\"\",\"zerolinecolor\":\"white\",\"gridwidth\":2}},\"shapedefaults\":{\"line\":{\"color\":\"#2a3f5f\"}},\"annotationdefaults\":{\"arrowcolor\":\"#2a3f5f\",\"arrowhead\":0,\"arrowwidth\":1},\"geo\":{\"bgcolor\":\"white\",\"landcolor\":\"#E5ECF6\",\"subunitcolor\":\"white\",\"showland\":true,\"showlakes\":true,\"lakecolor\":\"white\"},\"title\":{\"x\":0.05},\"mapbox\":{\"style\":\"light\"}}},\"xaxis\":{\"anchor\":\"y\",\"domain\":[0.0,1.0],\"title\":{\"text\":\"Statut_public_prive\"}},\"yaxis\":{\"anchor\":\"x\",\"domain\":[0.0,1.0],\"title\":{\"text\":\"effectifs\"}},\"legend\":{\"title\":{\"text\":\"rentr\\u00e9e\"},\"tracegroupgap\":0},\"title\":{\"text\":\"Effectifs dans les coll\\u00e8ge de Rennes\"},\"barmode\":\"group\",\"height\":600,\"width\":800},                        {\"responsive\": true}                    ).then(function(){\n",
       "                            \n",
       "var gd = document.getElementById('8d63008c-0f26-445a-92c1-7f4e9431de49');\n",
       "var x = new MutationObserver(function (mutations, observer) {{\n",
       "        var display = window.getComputedStyle(gd).display;\n",
       "        if (!display || display === 'none') {{\n",
       "            console.log([gd, 'removed!']);\n",
       "            Plotly.purge(gd);\n",
       "            observer.disconnect();\n",
       "        }}\n",
       "}});\n",
       "\n",
       "// Listen for the removal of the full notebook cells\n",
       "var notebookContainer = gd.closest('#notebook-container');\n",
       "if (notebookContainer) {{\n",
       "    x.observe(notebookContainer, {childList: true});\n",
       "}}\n",
       "\n",
       "// Listen for the clearing of the current output cell\n",
       "var outputEl = gd.closest('.output');\n",
       "if (outputEl) {{\n",
       "    x.observe(outputEl, {childList: true});\n",
       "}}\n",
       "\n",
       "                        })                };                });            </script>        </div>"
      ]
     },
     "metadata": {},
     "output_type": "display_data"
    }
   ],
   "source": [
    "df_effectifs_rennes_status = df_effectifs_rennes.groupby([\"rentrée\", \"Statut_public_prive\"])[\"effectifs\"].sum().reset_index()\n",
    "px.bar(df_effectifs_rennes_status, x=\"Statut_public_prive\", y=\"effectifs\", color=\"rentrée\", barmode=\"group\" ,title=\"Effectifs dans les collège de Rennes\", width=800, height=600)"
   ]
  },
  {
   "cell_type": "markdown",
   "id": "cbc07251-04b8-478c-8c4b-9e14bd19b38b",
   "metadata": {},
   "source": [
    "# Effectifs dans les écoles primaires alimentant Rennes"
   ]
  },
  {
   "cell_type": "code",
   "execution_count": 42,
   "id": "833710aa-130d-4182-8932-8f7902204f0e",
   "metadata": {},
   "outputs": [],
   "source": [
    "ecoles = pd.read_csv(\"fr-en-ecoles-effectifs-nb_classes.csv\", sep=\";\")\n",
    "ecoles[\"rentrée\"] = ecoles[\"Rentrée scolaire\"].astype(str)\n",
    "ecoles = ecoles.sort_values(\"rentrée\")"
   ]
  },
  {
   "cell_type": "code",
   "execution_count": 46,
   "id": "67763dc2-a6a8-467c-896a-8669ef4c364a",
   "metadata": {},
   "outputs": [
    {
     "data": {
      "application/vnd.plotly.v1+json": {
       "config": {
        "plotlyServerURL": "https://plot.ly"
       },
       "data": [
        {
         "alignmentgroup": "True",
         "hovertemplate": "rentrée=2019<br>Dénomination principale=%{x}<br>Nombre total d'élèves=%{y}<extra></extra>",
         "legendgroup": "2019",
         "marker": {
          "color": "#636efa",
          "pattern": {
           "shape": ""
          }
         },
         "name": "2019",
         "offsetgroup": "2019",
         "orientation": "v",
         "showlegend": true,
         "textposition": "auto",
         "type": "bar",
         "x": [
          "ECOLE MATERNELLE PUBLIQUE",
          "ECOLE ELEMENTAIRE PUBLIQUE",
          "ECOLE PRIMAIRE PRIVEE"
         ],
         "xaxis": "x",
         "y": [
          238,
          330,
          323
         ],
         "yaxis": "y"
        },
        {
         "alignmentgroup": "True",
         "hovertemplate": "rentrée=2020<br>Dénomination principale=%{x}<br>Nombre total d'élèves=%{y}<extra></extra>",
         "legendgroup": "2020",
         "marker": {
          "color": "#EF553B",
          "pattern": {
           "shape": ""
          }
         },
         "name": "2020",
         "offsetgroup": "2020",
         "orientation": "v",
         "showlegend": true,
         "textposition": "auto",
         "type": "bar",
         "x": [
          "ECOLE MATERNELLE PUBLIQUE",
          "ECOLE ELEMENTAIRE PUBLIQUE",
          "ECOLE PRIMAIRE PRIVEE"
         ],
         "xaxis": "x",
         "y": [
          202,
          346,
          330
         ],
         "yaxis": "y"
        },
        {
         "alignmentgroup": "True",
         "hovertemplate": "rentrée=2021<br>Dénomination principale=%{x}<br>Nombre total d'élèves=%{y}<extra></extra>",
         "legendgroup": "2021",
         "marker": {
          "color": "#00cc96",
          "pattern": {
           "shape": ""
          }
         },
         "name": "2021",
         "offsetgroup": "2021",
         "orientation": "v",
         "showlegend": true,
         "textposition": "auto",
         "type": "bar",
         "x": [
          "ECOLE MATERNELLE PUBLIQUE",
          "ECOLE ELEMENTAIRE PUBLIQUE",
          "ECOLE PRIMAIRE PRIVEE"
         ],
         "xaxis": "x",
         "y": [
          172,
          341,
          322
         ],
         "yaxis": "y"
        },
        {
         "alignmentgroup": "True",
         "hovertemplate": "rentrée=2022<br>Dénomination principale=%{x}<br>Nombre total d'élèves=%{y}<extra></extra>",
         "legendgroup": "2022",
         "marker": {
          "color": "#ab63fa",
          "pattern": {
           "shape": ""
          }
         },
         "name": "2022",
         "offsetgroup": "2022",
         "orientation": "v",
         "showlegend": true,
         "textposition": "auto",
         "type": "bar",
         "x": [
          "ECOLE MATERNELLE PUBLIQUE",
          "ECOLE ELEMENTAIRE PUBLIQUE",
          "ECOLE PRIMAIRE PRIVEE"
         ],
         "xaxis": "x",
         "y": [
          167,
          322,
          312
         ],
         "yaxis": "y"
        }
       ],
       "layout": {
        "autosize": true,
        "barmode": "group",
        "legend": {
         "title": {
          "text": "rentrée"
         },
         "tracegroupgap": 0
        },
        "template": {
         "data": {
          "bar": [
           {
            "error_x": {
             "color": "#2a3f5f"
            },
            "error_y": {
             "color": "#2a3f5f"
            },
            "marker": {
             "line": {
              "color": "#E5ECF6",
              "width": 0.5
             },
             "pattern": {
              "fillmode": "overlay",
              "size": 10,
              "solidity": 0.2
             }
            },
            "type": "bar"
           }
          ],
          "barpolar": [
           {
            "marker": {
             "line": {
              "color": "#E5ECF6",
              "width": 0.5
             },
             "pattern": {
              "fillmode": "overlay",
              "size": 10,
              "solidity": 0.2
             }
            },
            "type": "barpolar"
           }
          ],
          "carpet": [
           {
            "aaxis": {
             "endlinecolor": "#2a3f5f",
             "gridcolor": "white",
             "linecolor": "white",
             "minorgridcolor": "white",
             "startlinecolor": "#2a3f5f"
            },
            "baxis": {
             "endlinecolor": "#2a3f5f",
             "gridcolor": "white",
             "linecolor": "white",
             "minorgridcolor": "white",
             "startlinecolor": "#2a3f5f"
            },
            "type": "carpet"
           }
          ],
          "choropleth": [
           {
            "colorbar": {
             "outlinewidth": 0,
             "ticks": ""
            },
            "type": "choropleth"
           }
          ],
          "contour": [
           {
            "colorbar": {
             "outlinewidth": 0,
             "ticks": ""
            },
            "colorscale": [
             [
              0,
              "#0d0887"
             ],
             [
              0.1111111111111111,
              "#46039f"
             ],
             [
              0.2222222222222222,
              "#7201a8"
             ],
             [
              0.3333333333333333,
              "#9c179e"
             ],
             [
              0.4444444444444444,
              "#bd3786"
             ],
             [
              0.5555555555555556,
              "#d8576b"
             ],
             [
              0.6666666666666666,
              "#ed7953"
             ],
             [
              0.7777777777777778,
              "#fb9f3a"
             ],
             [
              0.8888888888888888,
              "#fdca26"
             ],
             [
              1,
              "#f0f921"
             ]
            ],
            "type": "contour"
           }
          ],
          "contourcarpet": [
           {
            "colorbar": {
             "outlinewidth": 0,
             "ticks": ""
            },
            "type": "contourcarpet"
           }
          ],
          "heatmap": [
           {
            "colorbar": {
             "outlinewidth": 0,
             "ticks": ""
            },
            "colorscale": [
             [
              0,
              "#0d0887"
             ],
             [
              0.1111111111111111,
              "#46039f"
             ],
             [
              0.2222222222222222,
              "#7201a8"
             ],
             [
              0.3333333333333333,
              "#9c179e"
             ],
             [
              0.4444444444444444,
              "#bd3786"
             ],
             [
              0.5555555555555556,
              "#d8576b"
             ],
             [
              0.6666666666666666,
              "#ed7953"
             ],
             [
              0.7777777777777778,
              "#fb9f3a"
             ],
             [
              0.8888888888888888,
              "#fdca26"
             ],
             [
              1,
              "#f0f921"
             ]
            ],
            "type": "heatmap"
           }
          ],
          "heatmapgl": [
           {
            "colorbar": {
             "outlinewidth": 0,
             "ticks": ""
            },
            "colorscale": [
             [
              0,
              "#0d0887"
             ],
             [
              0.1111111111111111,
              "#46039f"
             ],
             [
              0.2222222222222222,
              "#7201a8"
             ],
             [
              0.3333333333333333,
              "#9c179e"
             ],
             [
              0.4444444444444444,
              "#bd3786"
             ],
             [
              0.5555555555555556,
              "#d8576b"
             ],
             [
              0.6666666666666666,
              "#ed7953"
             ],
             [
              0.7777777777777778,
              "#fb9f3a"
             ],
             [
              0.8888888888888888,
              "#fdca26"
             ],
             [
              1,
              "#f0f921"
             ]
            ],
            "type": "heatmapgl"
           }
          ],
          "histogram": [
           {
            "marker": {
             "pattern": {
              "fillmode": "overlay",
              "size": 10,
              "solidity": 0.2
             }
            },
            "type": "histogram"
           }
          ],
          "histogram2d": [
           {
            "colorbar": {
             "outlinewidth": 0,
             "ticks": ""
            },
            "colorscale": [
             [
              0,
              "#0d0887"
             ],
             [
              0.1111111111111111,
              "#46039f"
             ],
             [
              0.2222222222222222,
              "#7201a8"
             ],
             [
              0.3333333333333333,
              "#9c179e"
             ],
             [
              0.4444444444444444,
              "#bd3786"
             ],
             [
              0.5555555555555556,
              "#d8576b"
             ],
             [
              0.6666666666666666,
              "#ed7953"
             ],
             [
              0.7777777777777778,
              "#fb9f3a"
             ],
             [
              0.8888888888888888,
              "#fdca26"
             ],
             [
              1,
              "#f0f921"
             ]
            ],
            "type": "histogram2d"
           }
          ],
          "histogram2dcontour": [
           {
            "colorbar": {
             "outlinewidth": 0,
             "ticks": ""
            },
            "colorscale": [
             [
              0,
              "#0d0887"
             ],
             [
              0.1111111111111111,
              "#46039f"
             ],
             [
              0.2222222222222222,
              "#7201a8"
             ],
             [
              0.3333333333333333,
              "#9c179e"
             ],
             [
              0.4444444444444444,
              "#bd3786"
             ],
             [
              0.5555555555555556,
              "#d8576b"
             ],
             [
              0.6666666666666666,
              "#ed7953"
             ],
             [
              0.7777777777777778,
              "#fb9f3a"
             ],
             [
              0.8888888888888888,
              "#fdca26"
             ],
             [
              1,
              "#f0f921"
             ]
            ],
            "type": "histogram2dcontour"
           }
          ],
          "mesh3d": [
           {
            "colorbar": {
             "outlinewidth": 0,
             "ticks": ""
            },
            "type": "mesh3d"
           }
          ],
          "parcoords": [
           {
            "line": {
             "colorbar": {
              "outlinewidth": 0,
              "ticks": ""
             }
            },
            "type": "parcoords"
           }
          ],
          "pie": [
           {
            "automargin": true,
            "type": "pie"
           }
          ],
          "scatter": [
           {
            "fillpattern": {
             "fillmode": "overlay",
             "size": 10,
             "solidity": 0.2
            },
            "type": "scatter"
           }
          ],
          "scatter3d": [
           {
            "line": {
             "colorbar": {
              "outlinewidth": 0,
              "ticks": ""
             }
            },
            "marker": {
             "colorbar": {
              "outlinewidth": 0,
              "ticks": ""
             }
            },
            "type": "scatter3d"
           }
          ],
          "scattercarpet": [
           {
            "marker": {
             "colorbar": {
              "outlinewidth": 0,
              "ticks": ""
             }
            },
            "type": "scattercarpet"
           }
          ],
          "scattergeo": [
           {
            "marker": {
             "colorbar": {
              "outlinewidth": 0,
              "ticks": ""
             }
            },
            "type": "scattergeo"
           }
          ],
          "scattergl": [
           {
            "marker": {
             "colorbar": {
              "outlinewidth": 0,
              "ticks": ""
             }
            },
            "type": "scattergl"
           }
          ],
          "scattermapbox": [
           {
            "marker": {
             "colorbar": {
              "outlinewidth": 0,
              "ticks": ""
             }
            },
            "type": "scattermapbox"
           }
          ],
          "scatterpolar": [
           {
            "marker": {
             "colorbar": {
              "outlinewidth": 0,
              "ticks": ""
             }
            },
            "type": "scatterpolar"
           }
          ],
          "scatterpolargl": [
           {
            "marker": {
             "colorbar": {
              "outlinewidth": 0,
              "ticks": ""
             }
            },
            "type": "scatterpolargl"
           }
          ],
          "scatterternary": [
           {
            "marker": {
             "colorbar": {
              "outlinewidth": 0,
              "ticks": ""
             }
            },
            "type": "scatterternary"
           }
          ],
          "surface": [
           {
            "colorbar": {
             "outlinewidth": 0,
             "ticks": ""
            },
            "colorscale": [
             [
              0,
              "#0d0887"
             ],
             [
              0.1111111111111111,
              "#46039f"
             ],
             [
              0.2222222222222222,
              "#7201a8"
             ],
             [
              0.3333333333333333,
              "#9c179e"
             ],
             [
              0.4444444444444444,
              "#bd3786"
             ],
             [
              0.5555555555555556,
              "#d8576b"
             ],
             [
              0.6666666666666666,
              "#ed7953"
             ],
             [
              0.7777777777777778,
              "#fb9f3a"
             ],
             [
              0.8888888888888888,
              "#fdca26"
             ],
             [
              1,
              "#f0f921"
             ]
            ],
            "type": "surface"
           }
          ],
          "table": [
           {
            "cells": {
             "fill": {
              "color": "#EBF0F8"
             },
             "line": {
              "color": "white"
             }
            },
            "header": {
             "fill": {
              "color": "#C8D4E3"
             },
             "line": {
              "color": "white"
             }
            },
            "type": "table"
           }
          ]
         },
         "layout": {
          "annotationdefaults": {
           "arrowcolor": "#2a3f5f",
           "arrowhead": 0,
           "arrowwidth": 1
          },
          "autotypenumbers": "strict",
          "coloraxis": {
           "colorbar": {
            "outlinewidth": 0,
            "ticks": ""
           }
          },
          "colorscale": {
           "diverging": [
            [
             0,
             "#8e0152"
            ],
            [
             0.1,
             "#c51b7d"
            ],
            [
             0.2,
             "#de77ae"
            ],
            [
             0.3,
             "#f1b6da"
            ],
            [
             0.4,
             "#fde0ef"
            ],
            [
             0.5,
             "#f7f7f7"
            ],
            [
             0.6,
             "#e6f5d0"
            ],
            [
             0.7,
             "#b8e186"
            ],
            [
             0.8,
             "#7fbc41"
            ],
            [
             0.9,
             "#4d9221"
            ],
            [
             1,
             "#276419"
            ]
           ],
           "sequential": [
            [
             0,
             "#0d0887"
            ],
            [
             0.1111111111111111,
             "#46039f"
            ],
            [
             0.2222222222222222,
             "#7201a8"
            ],
            [
             0.3333333333333333,
             "#9c179e"
            ],
            [
             0.4444444444444444,
             "#bd3786"
            ],
            [
             0.5555555555555556,
             "#d8576b"
            ],
            [
             0.6666666666666666,
             "#ed7953"
            ],
            [
             0.7777777777777778,
             "#fb9f3a"
            ],
            [
             0.8888888888888888,
             "#fdca26"
            ],
            [
             1,
             "#f0f921"
            ]
           ],
           "sequentialminus": [
            [
             0,
             "#0d0887"
            ],
            [
             0.1111111111111111,
             "#46039f"
            ],
            [
             0.2222222222222222,
             "#7201a8"
            ],
            [
             0.3333333333333333,
             "#9c179e"
            ],
            [
             0.4444444444444444,
             "#bd3786"
            ],
            [
             0.5555555555555556,
             "#d8576b"
            ],
            [
             0.6666666666666666,
             "#ed7953"
            ],
            [
             0.7777777777777778,
             "#fb9f3a"
            ],
            [
             0.8888888888888888,
             "#fdca26"
            ],
            [
             1,
             "#f0f921"
            ]
           ]
          },
          "colorway": [
           "#636efa",
           "#EF553B",
           "#00cc96",
           "#ab63fa",
           "#FFA15A",
           "#19d3f3",
           "#FF6692",
           "#B6E880",
           "#FF97FF",
           "#FECB52"
          ],
          "font": {
           "color": "#2a3f5f"
          },
          "geo": {
           "bgcolor": "white",
           "lakecolor": "white",
           "landcolor": "#E5ECF6",
           "showlakes": true,
           "showland": true,
           "subunitcolor": "white"
          },
          "hoverlabel": {
           "align": "left"
          },
          "hovermode": "closest",
          "mapbox": {
           "style": "light"
          },
          "paper_bgcolor": "white",
          "plot_bgcolor": "#E5ECF6",
          "polar": {
           "angularaxis": {
            "gridcolor": "white",
            "linecolor": "white",
            "ticks": ""
           },
           "bgcolor": "#E5ECF6",
           "radialaxis": {
            "gridcolor": "white",
            "linecolor": "white",
            "ticks": ""
           }
          },
          "scene": {
           "xaxis": {
            "backgroundcolor": "#E5ECF6",
            "gridcolor": "white",
            "gridwidth": 2,
            "linecolor": "white",
            "showbackground": true,
            "ticks": "",
            "zerolinecolor": "white"
           },
           "yaxis": {
            "backgroundcolor": "#E5ECF6",
            "gridcolor": "white",
            "gridwidth": 2,
            "linecolor": "white",
            "showbackground": true,
            "ticks": "",
            "zerolinecolor": "white"
           },
           "zaxis": {
            "backgroundcolor": "#E5ECF6",
            "gridcolor": "white",
            "gridwidth": 2,
            "linecolor": "white",
            "showbackground": true,
            "ticks": "",
            "zerolinecolor": "white"
           }
          },
          "shapedefaults": {
           "line": {
            "color": "#2a3f5f"
           }
          },
          "ternary": {
           "aaxis": {
            "gridcolor": "white",
            "linecolor": "white",
            "ticks": ""
           },
           "baxis": {
            "gridcolor": "white",
            "linecolor": "white",
            "ticks": ""
           },
           "bgcolor": "#E5ECF6",
           "caxis": {
            "gridcolor": "white",
            "linecolor": "white",
            "ticks": ""
           }
          },
          "title": {
           "x": 0.05
          },
          "xaxis": {
           "automargin": true,
           "gridcolor": "white",
           "linecolor": "white",
           "ticks": "",
           "title": {
            "standoff": 15
           },
           "zerolinecolor": "white",
           "zerolinewidth": 2
          },
          "yaxis": {
           "automargin": true,
           "gridcolor": "white",
           "linecolor": "white",
           "ticks": "",
           "title": {
            "standoff": 15
           },
           "zerolinecolor": "white",
           "zerolinewidth": 2
          }
         }
        },
        "title": {
         "text": "effectif 1er degré Thorigné"
        },
        "xaxis": {
         "anchor": "y",
         "autorange": true,
         "domain": [
          0,
          1
         ],
         "range": [
          -0.5,
          2.5
         ],
         "title": {
          "text": "Dénomination principale"
         },
         "type": "category"
        },
        "yaxis": {
         "anchor": "x",
         "autorange": true,
         "domain": [
          0,
          1
         ],
         "range": [
          0,
          364.2105263157895
         ],
         "title": {
          "text": "Nombre total d'élèves"
         },
         "type": "linear"
        }
       }
      },
      "text/html": [
       "<div>                            <div id=\"bc07be5a-478d-4c27-8633-45f9f08f99cd\" class=\"plotly-graph-div\" style=\"height:525px; width:100%;\"></div>            <script type=\"text/javascript\">                require([\"plotly\"], function(Plotly) {                    window.PLOTLYENV=window.PLOTLYENV || {};                                    if (document.getElementById(\"bc07be5a-478d-4c27-8633-45f9f08f99cd\")) {                    Plotly.newPlot(                        \"bc07be5a-478d-4c27-8633-45f9f08f99cd\",                        [{\"alignmentgroup\":\"True\",\"hovertemplate\":\"rentr\\u00e9e=2019\\u003cbr\\u003eD\\u00e9nomination principale=%{x}\\u003cbr\\u003eNombre total d'\\u00e9l\\u00e8ves=%{y}\\u003cextra\\u003e\\u003c\\u002fextra\\u003e\",\"legendgroup\":\"2019\",\"marker\":{\"color\":\"#636efa\",\"pattern\":{\"shape\":\"\"}},\"name\":\"2019\",\"offsetgroup\":\"2019\",\"orientation\":\"v\",\"showlegend\":true,\"textposition\":\"auto\",\"x\":[\"ECOLE MATERNELLE PUBLIQUE\",\"ECOLE ELEMENTAIRE PUBLIQUE\",\"ECOLE PRIMAIRE PRIVEE\"],\"xaxis\":\"x\",\"y\":[238,330,323],\"yaxis\":\"y\",\"type\":\"bar\"},{\"alignmentgroup\":\"True\",\"hovertemplate\":\"rentr\\u00e9e=2020\\u003cbr\\u003eD\\u00e9nomination principale=%{x}\\u003cbr\\u003eNombre total d'\\u00e9l\\u00e8ves=%{y}\\u003cextra\\u003e\\u003c\\u002fextra\\u003e\",\"legendgroup\":\"2020\",\"marker\":{\"color\":\"#EF553B\",\"pattern\":{\"shape\":\"\"}},\"name\":\"2020\",\"offsetgroup\":\"2020\",\"orientation\":\"v\",\"showlegend\":true,\"textposition\":\"auto\",\"x\":[\"ECOLE MATERNELLE PUBLIQUE\",\"ECOLE ELEMENTAIRE PUBLIQUE\",\"ECOLE PRIMAIRE PRIVEE\"],\"xaxis\":\"x\",\"y\":[202,346,330],\"yaxis\":\"y\",\"type\":\"bar\"},{\"alignmentgroup\":\"True\",\"hovertemplate\":\"rentr\\u00e9e=2021\\u003cbr\\u003eD\\u00e9nomination principale=%{x}\\u003cbr\\u003eNombre total d'\\u00e9l\\u00e8ves=%{y}\\u003cextra\\u003e\\u003c\\u002fextra\\u003e\",\"legendgroup\":\"2021\",\"marker\":{\"color\":\"#00cc96\",\"pattern\":{\"shape\":\"\"}},\"name\":\"2021\",\"offsetgroup\":\"2021\",\"orientation\":\"v\",\"showlegend\":true,\"textposition\":\"auto\",\"x\":[\"ECOLE MATERNELLE PUBLIQUE\",\"ECOLE ELEMENTAIRE PUBLIQUE\",\"ECOLE PRIMAIRE PRIVEE\"],\"xaxis\":\"x\",\"y\":[172,341,322],\"yaxis\":\"y\",\"type\":\"bar\"},{\"alignmentgroup\":\"True\",\"hovertemplate\":\"rentr\\u00e9e=2022\\u003cbr\\u003eD\\u00e9nomination principale=%{x}\\u003cbr\\u003eNombre total d'\\u00e9l\\u00e8ves=%{y}\\u003cextra\\u003e\\u003c\\u002fextra\\u003e\",\"legendgroup\":\"2022\",\"marker\":{\"color\":\"#ab63fa\",\"pattern\":{\"shape\":\"\"}},\"name\":\"2022\",\"offsetgroup\":\"2022\",\"orientation\":\"v\",\"showlegend\":true,\"textposition\":\"auto\",\"x\":[\"ECOLE MATERNELLE PUBLIQUE\",\"ECOLE ELEMENTAIRE PUBLIQUE\",\"ECOLE PRIMAIRE PRIVEE\"],\"xaxis\":\"x\",\"y\":[167,322,312],\"yaxis\":\"y\",\"type\":\"bar\"}],                        {\"template\":{\"data\":{\"histogram2dcontour\":[{\"type\":\"histogram2dcontour\",\"colorbar\":{\"outlinewidth\":0,\"ticks\":\"\"},\"colorscale\":[[0.0,\"#0d0887\"],[0.1111111111111111,\"#46039f\"],[0.2222222222222222,\"#7201a8\"],[0.3333333333333333,\"#9c179e\"],[0.4444444444444444,\"#bd3786\"],[0.5555555555555556,\"#d8576b\"],[0.6666666666666666,\"#ed7953\"],[0.7777777777777778,\"#fb9f3a\"],[0.8888888888888888,\"#fdca26\"],[1.0,\"#f0f921\"]]}],\"choropleth\":[{\"type\":\"choropleth\",\"colorbar\":{\"outlinewidth\":0,\"ticks\":\"\"}}],\"histogram2d\":[{\"type\":\"histogram2d\",\"colorbar\":{\"outlinewidth\":0,\"ticks\":\"\"},\"colorscale\":[[0.0,\"#0d0887\"],[0.1111111111111111,\"#46039f\"],[0.2222222222222222,\"#7201a8\"],[0.3333333333333333,\"#9c179e\"],[0.4444444444444444,\"#bd3786\"],[0.5555555555555556,\"#d8576b\"],[0.6666666666666666,\"#ed7953\"],[0.7777777777777778,\"#fb9f3a\"],[0.8888888888888888,\"#fdca26\"],[1.0,\"#f0f921\"]]}],\"heatmap\":[{\"type\":\"heatmap\",\"colorbar\":{\"outlinewidth\":0,\"ticks\":\"\"},\"colorscale\":[[0.0,\"#0d0887\"],[0.1111111111111111,\"#46039f\"],[0.2222222222222222,\"#7201a8\"],[0.3333333333333333,\"#9c179e\"],[0.4444444444444444,\"#bd3786\"],[0.5555555555555556,\"#d8576b\"],[0.6666666666666666,\"#ed7953\"],[0.7777777777777778,\"#fb9f3a\"],[0.8888888888888888,\"#fdca26\"],[1.0,\"#f0f921\"]]}],\"heatmapgl\":[{\"type\":\"heatmapgl\",\"colorbar\":{\"outlinewidth\":0,\"ticks\":\"\"},\"colorscale\":[[0.0,\"#0d0887\"],[0.1111111111111111,\"#46039f\"],[0.2222222222222222,\"#7201a8\"],[0.3333333333333333,\"#9c179e\"],[0.4444444444444444,\"#bd3786\"],[0.5555555555555556,\"#d8576b\"],[0.6666666666666666,\"#ed7953\"],[0.7777777777777778,\"#fb9f3a\"],[0.8888888888888888,\"#fdca26\"],[1.0,\"#f0f921\"]]}],\"contourcarpet\":[{\"type\":\"contourcarpet\",\"colorbar\":{\"outlinewidth\":0,\"ticks\":\"\"}}],\"contour\":[{\"type\":\"contour\",\"colorbar\":{\"outlinewidth\":0,\"ticks\":\"\"},\"colorscale\":[[0.0,\"#0d0887\"],[0.1111111111111111,\"#46039f\"],[0.2222222222222222,\"#7201a8\"],[0.3333333333333333,\"#9c179e\"],[0.4444444444444444,\"#bd3786\"],[0.5555555555555556,\"#d8576b\"],[0.6666666666666666,\"#ed7953\"],[0.7777777777777778,\"#fb9f3a\"],[0.8888888888888888,\"#fdca26\"],[1.0,\"#f0f921\"]]}],\"surface\":[{\"type\":\"surface\",\"colorbar\":{\"outlinewidth\":0,\"ticks\":\"\"},\"colorscale\":[[0.0,\"#0d0887\"],[0.1111111111111111,\"#46039f\"],[0.2222222222222222,\"#7201a8\"],[0.3333333333333333,\"#9c179e\"],[0.4444444444444444,\"#bd3786\"],[0.5555555555555556,\"#d8576b\"],[0.6666666666666666,\"#ed7953\"],[0.7777777777777778,\"#fb9f3a\"],[0.8888888888888888,\"#fdca26\"],[1.0,\"#f0f921\"]]}],\"mesh3d\":[{\"type\":\"mesh3d\",\"colorbar\":{\"outlinewidth\":0,\"ticks\":\"\"}}],\"scatter\":[{\"fillpattern\":{\"fillmode\":\"overlay\",\"size\":10,\"solidity\":0.2},\"type\":\"scatter\"}],\"parcoords\":[{\"type\":\"parcoords\",\"line\":{\"colorbar\":{\"outlinewidth\":0,\"ticks\":\"\"}}}],\"scatterpolargl\":[{\"type\":\"scatterpolargl\",\"marker\":{\"colorbar\":{\"outlinewidth\":0,\"ticks\":\"\"}}}],\"bar\":[{\"error_x\":{\"color\":\"#2a3f5f\"},\"error_y\":{\"color\":\"#2a3f5f\"},\"marker\":{\"line\":{\"color\":\"#E5ECF6\",\"width\":0.5},\"pattern\":{\"fillmode\":\"overlay\",\"size\":10,\"solidity\":0.2}},\"type\":\"bar\"}],\"scattergeo\":[{\"type\":\"scattergeo\",\"marker\":{\"colorbar\":{\"outlinewidth\":0,\"ticks\":\"\"}}}],\"scatterpolar\":[{\"type\":\"scatterpolar\",\"marker\":{\"colorbar\":{\"outlinewidth\":0,\"ticks\":\"\"}}}],\"histogram\":[{\"marker\":{\"pattern\":{\"fillmode\":\"overlay\",\"size\":10,\"solidity\":0.2}},\"type\":\"histogram\"}],\"scattergl\":[{\"type\":\"scattergl\",\"marker\":{\"colorbar\":{\"outlinewidth\":0,\"ticks\":\"\"}}}],\"scatter3d\":[{\"type\":\"scatter3d\",\"line\":{\"colorbar\":{\"outlinewidth\":0,\"ticks\":\"\"}},\"marker\":{\"colorbar\":{\"outlinewidth\":0,\"ticks\":\"\"}}}],\"scattermapbox\":[{\"type\":\"scattermapbox\",\"marker\":{\"colorbar\":{\"outlinewidth\":0,\"ticks\":\"\"}}}],\"scatterternary\":[{\"type\":\"scatterternary\",\"marker\":{\"colorbar\":{\"outlinewidth\":0,\"ticks\":\"\"}}}],\"scattercarpet\":[{\"type\":\"scattercarpet\",\"marker\":{\"colorbar\":{\"outlinewidth\":0,\"ticks\":\"\"}}}],\"carpet\":[{\"aaxis\":{\"endlinecolor\":\"#2a3f5f\",\"gridcolor\":\"white\",\"linecolor\":\"white\",\"minorgridcolor\":\"white\",\"startlinecolor\":\"#2a3f5f\"},\"baxis\":{\"endlinecolor\":\"#2a3f5f\",\"gridcolor\":\"white\",\"linecolor\":\"white\",\"minorgridcolor\":\"white\",\"startlinecolor\":\"#2a3f5f\"},\"type\":\"carpet\"}],\"table\":[{\"cells\":{\"fill\":{\"color\":\"#EBF0F8\"},\"line\":{\"color\":\"white\"}},\"header\":{\"fill\":{\"color\":\"#C8D4E3\"},\"line\":{\"color\":\"white\"}},\"type\":\"table\"}],\"barpolar\":[{\"marker\":{\"line\":{\"color\":\"#E5ECF6\",\"width\":0.5},\"pattern\":{\"fillmode\":\"overlay\",\"size\":10,\"solidity\":0.2}},\"type\":\"barpolar\"}],\"pie\":[{\"automargin\":true,\"type\":\"pie\"}]},\"layout\":{\"autotypenumbers\":\"strict\",\"colorway\":[\"#636efa\",\"#EF553B\",\"#00cc96\",\"#ab63fa\",\"#FFA15A\",\"#19d3f3\",\"#FF6692\",\"#B6E880\",\"#FF97FF\",\"#FECB52\"],\"font\":{\"color\":\"#2a3f5f\"},\"hovermode\":\"closest\",\"hoverlabel\":{\"align\":\"left\"},\"paper_bgcolor\":\"white\",\"plot_bgcolor\":\"#E5ECF6\",\"polar\":{\"bgcolor\":\"#E5ECF6\",\"angularaxis\":{\"gridcolor\":\"white\",\"linecolor\":\"white\",\"ticks\":\"\"},\"radialaxis\":{\"gridcolor\":\"white\",\"linecolor\":\"white\",\"ticks\":\"\"}},\"ternary\":{\"bgcolor\":\"#E5ECF6\",\"aaxis\":{\"gridcolor\":\"white\",\"linecolor\":\"white\",\"ticks\":\"\"},\"baxis\":{\"gridcolor\":\"white\",\"linecolor\":\"white\",\"ticks\":\"\"},\"caxis\":{\"gridcolor\":\"white\",\"linecolor\":\"white\",\"ticks\":\"\"}},\"coloraxis\":{\"colorbar\":{\"outlinewidth\":0,\"ticks\":\"\"}},\"colorscale\":{\"sequential\":[[0.0,\"#0d0887\"],[0.1111111111111111,\"#46039f\"],[0.2222222222222222,\"#7201a8\"],[0.3333333333333333,\"#9c179e\"],[0.4444444444444444,\"#bd3786\"],[0.5555555555555556,\"#d8576b\"],[0.6666666666666666,\"#ed7953\"],[0.7777777777777778,\"#fb9f3a\"],[0.8888888888888888,\"#fdca26\"],[1.0,\"#f0f921\"]],\"sequentialminus\":[[0.0,\"#0d0887\"],[0.1111111111111111,\"#46039f\"],[0.2222222222222222,\"#7201a8\"],[0.3333333333333333,\"#9c179e\"],[0.4444444444444444,\"#bd3786\"],[0.5555555555555556,\"#d8576b\"],[0.6666666666666666,\"#ed7953\"],[0.7777777777777778,\"#fb9f3a\"],[0.8888888888888888,\"#fdca26\"],[1.0,\"#f0f921\"]],\"diverging\":[[0,\"#8e0152\"],[0.1,\"#c51b7d\"],[0.2,\"#de77ae\"],[0.3,\"#f1b6da\"],[0.4,\"#fde0ef\"],[0.5,\"#f7f7f7\"],[0.6,\"#e6f5d0\"],[0.7,\"#b8e186\"],[0.8,\"#7fbc41\"],[0.9,\"#4d9221\"],[1,\"#276419\"]]},\"xaxis\":{\"gridcolor\":\"white\",\"linecolor\":\"white\",\"ticks\":\"\",\"title\":{\"standoff\":15},\"zerolinecolor\":\"white\",\"automargin\":true,\"zerolinewidth\":2},\"yaxis\":{\"gridcolor\":\"white\",\"linecolor\":\"white\",\"ticks\":\"\",\"title\":{\"standoff\":15},\"zerolinecolor\":\"white\",\"automargin\":true,\"zerolinewidth\":2},\"scene\":{\"xaxis\":{\"backgroundcolor\":\"#E5ECF6\",\"gridcolor\":\"white\",\"linecolor\":\"white\",\"showbackground\":true,\"ticks\":\"\",\"zerolinecolor\":\"white\",\"gridwidth\":2},\"yaxis\":{\"backgroundcolor\":\"#E5ECF6\",\"gridcolor\":\"white\",\"linecolor\":\"white\",\"showbackground\":true,\"ticks\":\"\",\"zerolinecolor\":\"white\",\"gridwidth\":2},\"zaxis\":{\"backgroundcolor\":\"#E5ECF6\",\"gridcolor\":\"white\",\"linecolor\":\"white\",\"showbackground\":true,\"ticks\":\"\",\"zerolinecolor\":\"white\",\"gridwidth\":2}},\"shapedefaults\":{\"line\":{\"color\":\"#2a3f5f\"}},\"annotationdefaults\":{\"arrowcolor\":\"#2a3f5f\",\"arrowhead\":0,\"arrowwidth\":1},\"geo\":{\"bgcolor\":\"white\",\"landcolor\":\"#E5ECF6\",\"subunitcolor\":\"white\",\"showland\":true,\"showlakes\":true,\"lakecolor\":\"white\"},\"title\":{\"x\":0.05},\"mapbox\":{\"style\":\"light\"}}},\"xaxis\":{\"anchor\":\"y\",\"domain\":[0.0,1.0],\"title\":{\"text\":\"D\\u00e9nomination principale\"}},\"yaxis\":{\"anchor\":\"x\",\"domain\":[0.0,1.0],\"title\":{\"text\":\"Nombre total d'\\u00e9l\\u00e8ves\"}},\"legend\":{\"title\":{\"text\":\"rentr\\u00e9e\"},\"tracegroupgap\":0},\"title\":{\"text\":\"effectif 1er degr\\u00e9 Thorign\\u00e9\"},\"barmode\":\"group\"},                        {\"responsive\": true}                    ).then(function(){\n",
       "                            \n",
       "var gd = document.getElementById('bc07be5a-478d-4c27-8633-45f9f08f99cd');\n",
       "var x = new MutationObserver(function (mutations, observer) {{\n",
       "        var display = window.getComputedStyle(gd).display;\n",
       "        if (!display || display === 'none') {{\n",
       "            console.log([gd, 'removed!']);\n",
       "            Plotly.purge(gd);\n",
       "            observer.disconnect();\n",
       "        }}\n",
       "}});\n",
       "\n",
       "// Listen for the removal of the full notebook cells\n",
       "var notebookContainer = gd.closest('#notebook-container');\n",
       "if (notebookContainer) {{\n",
       "    x.observe(notebookContainer, {childList: true});\n",
       "}}\n",
       "\n",
       "// Listen for the clearing of the current output cell\n",
       "var outputEl = gd.closest('.output');\n",
       "if (outputEl) {{\n",
       "    x.observe(outputEl, {childList: true});\n",
       "}}\n",
       "\n",
       "                        })                };                });            </script>        </div>"
      ]
     },
     "metadata": {},
     "output_type": "display_data"
    }
   ],
   "source": [
    "\n",
    "px.bar(ecoles[ecoles[\"Commune\"] == \"THORIGNE-FOUILLARD\"], x=\"Dénomination principale\", y=\"Nombre total d'élèves\", color=\"rentrée\", title=\"effectif 1er degré Thorigné\", barmode=\"group\")"
   ]
  },
  {
   "cell_type": "code",
   "execution_count": 52,
   "id": "22b9ac0c-69a9-4267-b335-9a5a6643c200",
   "metadata": {},
   "outputs": [
    {
     "data": {
      "text/html": [
       "<div>\n",
       "<style scoped>\n",
       "    .dataframe tbody tr th:only-of-type {\n",
       "        vertical-align: middle;\n",
       "    }\n",
       "\n",
       "    .dataframe tbody tr th {\n",
       "        vertical-align: top;\n",
       "    }\n",
       "\n",
       "    .dataframe thead th {\n",
       "        text-align: right;\n",
       "    }\n",
       "</style>\n",
       "<table border=\"1\" class=\"dataframe\">\n",
       "  <thead>\n",
       "    <tr style=\"text-align: right;\">\n",
       "      <th></th>\n",
       "      <th>Rentrée scolaire</th>\n",
       "      <th>Région académique</th>\n",
       "      <th>Académie</th>\n",
       "      <th>Département</th>\n",
       "      <th>Commune</th>\n",
       "      <th>Numéro de l'école</th>\n",
       "      <th>Dénomination principale</th>\n",
       "      <th>Patronyme</th>\n",
       "      <th>Secteur</th>\n",
       "      <th>REP</th>\n",
       "      <th>...</th>\n",
       "      <th>Nombre d'élèves en élémentaire hors ULIS</th>\n",
       "      <th>Nombre d'élèves en ULIS</th>\n",
       "      <th>Nombre d'élèves en CP hors ULIS</th>\n",
       "      <th>Nombre d'élèves en CE1 hors ULIS</th>\n",
       "      <th>Nombre d'élèves en CE2 hors ULIS</th>\n",
       "      <th>Nombre d'élèves en CM1 hors ULIS</th>\n",
       "      <th>Nombre d'élèves en CM2 hors ULIS</th>\n",
       "      <th>tri</th>\n",
       "      <th>Code Postal</th>\n",
       "      <th>rentrée</th>\n",
       "    </tr>\n",
       "  </thead>\n",
       "  <tbody>\n",
       "    <tr>\n",
       "      <th>2104</th>\n",
       "      <td>2019</td>\n",
       "      <td>BRETAGNE</td>\n",
       "      <td>RENNES</td>\n",
       "      <td>ILLE-ET-VILAINE</td>\n",
       "      <td>CHANTEPIE</td>\n",
       "      <td>0352521A</td>\n",
       "      <td>ECOLE ELEMENTAIRE PUBLIQUE</td>\n",
       "      <td>LES DEUX RUISSEAUX</td>\n",
       "      <td>PUBLIC</td>\n",
       "      <td>0</td>\n",
       "      <td>...</td>\n",
       "      <td>134</td>\n",
       "      <td>0</td>\n",
       "      <td>22</td>\n",
       "      <td>24</td>\n",
       "      <td>39</td>\n",
       "      <td>32</td>\n",
       "      <td>17</td>\n",
       "      <td>81-BRETAGNE-RENNES-ILLE-ET-VILAINE-CHANTEPIE-0...</td>\n",
       "      <td>35135</td>\n",
       "      <td>2019</td>\n",
       "    </tr>\n",
       "    <tr>\n",
       "      <th>2103</th>\n",
       "      <td>2019</td>\n",
       "      <td>BRETAGNE</td>\n",
       "      <td>RENNES</td>\n",
       "      <td>ILLE-ET-VILAINE</td>\n",
       "      <td>CHANTEPIE</td>\n",
       "      <td>0352520Z</td>\n",
       "      <td>ECOLE PRIMAIRE PUBLIQUE</td>\n",
       "      <td>LES LANDES</td>\n",
       "      <td>PUBLIC</td>\n",
       "      <td>0</td>\n",
       "      <td>...</td>\n",
       "      <td>172</td>\n",
       "      <td>0</td>\n",
       "      <td>34</td>\n",
       "      <td>36</td>\n",
       "      <td>27</td>\n",
       "      <td>33</td>\n",
       "      <td>42</td>\n",
       "      <td>81-BRETAGNE-RENNES-ILLE-ET-VILAINE-CHANTEPIE-0...</td>\n",
       "      <td>35135</td>\n",
       "      <td>2019</td>\n",
       "    </tr>\n",
       "    <tr>\n",
       "      <th>2102</th>\n",
       "      <td>2019</td>\n",
       "      <td>BRETAGNE</td>\n",
       "      <td>RENNES</td>\n",
       "      <td>ILLE-ET-VILAINE</td>\n",
       "      <td>CHANTEPIE</td>\n",
       "      <td>0352159G</td>\n",
       "      <td>ECOLE MATERNELLE PUBLIQUE</td>\n",
       "      <td>LES DEUX RUISSEAUX</td>\n",
       "      <td>PUBLIC</td>\n",
       "      <td>0</td>\n",
       "      <td>...</td>\n",
       "      <td>0</td>\n",
       "      <td>0</td>\n",
       "      <td>0</td>\n",
       "      <td>0</td>\n",
       "      <td>0</td>\n",
       "      <td>0</td>\n",
       "      <td>0</td>\n",
       "      <td>81-BRETAGNE-RENNES-ILLE-ET-VILAINE-CHANTEPIE-0...</td>\n",
       "      <td>35135</td>\n",
       "      <td>2019</td>\n",
       "    </tr>\n",
       "    <tr>\n",
       "      <th>2101</th>\n",
       "      <td>2019</td>\n",
       "      <td>BRETAGNE</td>\n",
       "      <td>RENNES</td>\n",
       "      <td>ILLE-ET-VILAINE</td>\n",
       "      <td>CHANTEPIE</td>\n",
       "      <td>0351699G</td>\n",
       "      <td>ECOLE PRIMAIRE PRIVEE</td>\n",
       "      <td>ST JOSEPH</td>\n",
       "      <td>PRIVE</td>\n",
       "      <td>0</td>\n",
       "      <td>...</td>\n",
       "      <td>231</td>\n",
       "      <td>0</td>\n",
       "      <td>45</td>\n",
       "      <td>46</td>\n",
       "      <td>34</td>\n",
       "      <td>51</td>\n",
       "      <td>55</td>\n",
       "      <td>81-BRETAGNE-RENNES-ILLE-ET-VILAINE-CHANTEPIE-0...</td>\n",
       "      <td>35135</td>\n",
       "      <td>2019</td>\n",
       "    </tr>\n",
       "    <tr>\n",
       "      <th>2100</th>\n",
       "      <td>2019</td>\n",
       "      <td>BRETAGNE</td>\n",
       "      <td>RENNES</td>\n",
       "      <td>ILLE-ET-VILAINE</td>\n",
       "      <td>CHANTELOUP</td>\n",
       "      <td>0350168T</td>\n",
       "      <td>ECOLE PRIMAIRE PUBLIQUE</td>\n",
       "      <td>LUCIE AUBRAC</td>\n",
       "      <td>PUBLIC</td>\n",
       "      <td>0</td>\n",
       "      <td>...</td>\n",
       "      <td>147</td>\n",
       "      <td>0</td>\n",
       "      <td>31</td>\n",
       "      <td>21</td>\n",
       "      <td>32</td>\n",
       "      <td>32</td>\n",
       "      <td>31</td>\n",
       "      <td>81-BRETAGNE-RENNES-ILLE-ET-VILAINE-CHANTELOUP-...</td>\n",
       "      <td>35150</td>\n",
       "      <td>2019</td>\n",
       "    </tr>\n",
       "    <tr>\n",
       "      <th>1427</th>\n",
       "      <td>2020</td>\n",
       "      <td>BRETAGNE</td>\n",
       "      <td>RENNES</td>\n",
       "      <td>ILLE-ET-VILAINE</td>\n",
       "      <td>CHANTEPIE</td>\n",
       "      <td>0352521A</td>\n",
       "      <td>ECOLE ELEMENTAIRE PUBLIQUE</td>\n",
       "      <td>LES DEUX RUISSEAUX</td>\n",
       "      <td>PUBLIC</td>\n",
       "      <td>0</td>\n",
       "      <td>...</td>\n",
       "      <td>147</td>\n",
       "      <td>0</td>\n",
       "      <td>34</td>\n",
       "      <td>21</td>\n",
       "      <td>24</td>\n",
       "      <td>35</td>\n",
       "      <td>33</td>\n",
       "      <td>80-BRETAGNE-RENNES-ILLE-ET-VILAINE-CHANTEPIE-0...</td>\n",
       "      <td>35135</td>\n",
       "      <td>2020</td>\n",
       "    </tr>\n",
       "    <tr>\n",
       "      <th>1426</th>\n",
       "      <td>2020</td>\n",
       "      <td>BRETAGNE</td>\n",
       "      <td>RENNES</td>\n",
       "      <td>ILLE-ET-VILAINE</td>\n",
       "      <td>CHANTEPIE</td>\n",
       "      <td>0352520Z</td>\n",
       "      <td>ECOLE PRIMAIRE PUBLIQUE</td>\n",
       "      <td>LES LANDES</td>\n",
       "      <td>PUBLIC</td>\n",
       "      <td>0</td>\n",
       "      <td>...</td>\n",
       "      <td>189</td>\n",
       "      <td>0</td>\n",
       "      <td>45</td>\n",
       "      <td>41</td>\n",
       "      <td>38</td>\n",
       "      <td>27</td>\n",
       "      <td>38</td>\n",
       "      <td>80-BRETAGNE-RENNES-ILLE-ET-VILAINE-CHANTEPIE-0...</td>\n",
       "      <td>35135</td>\n",
       "      <td>2020</td>\n",
       "    </tr>\n",
       "    <tr>\n",
       "      <th>1425</th>\n",
       "      <td>2020</td>\n",
       "      <td>BRETAGNE</td>\n",
       "      <td>RENNES</td>\n",
       "      <td>ILLE-ET-VILAINE</td>\n",
       "      <td>CHANTEPIE</td>\n",
       "      <td>0352159G</td>\n",
       "      <td>ECOLE MATERNELLE PUBLIQUE</td>\n",
       "      <td>LES DEUX RUISSEAUX</td>\n",
       "      <td>PUBLIC</td>\n",
       "      <td>0</td>\n",
       "      <td>...</td>\n",
       "      <td>0</td>\n",
       "      <td>0</td>\n",
       "      <td>0</td>\n",
       "      <td>0</td>\n",
       "      <td>0</td>\n",
       "      <td>0</td>\n",
       "      <td>0</td>\n",
       "      <td>80-BRETAGNE-RENNES-ILLE-ET-VILAINE-CHANTEPIE-0...</td>\n",
       "      <td>35135</td>\n",
       "      <td>2020</td>\n",
       "    </tr>\n",
       "    <tr>\n",
       "      <th>1424</th>\n",
       "      <td>2020</td>\n",
       "      <td>BRETAGNE</td>\n",
       "      <td>RENNES</td>\n",
       "      <td>ILLE-ET-VILAINE</td>\n",
       "      <td>CHANTEPIE</td>\n",
       "      <td>0351699G</td>\n",
       "      <td>ECOLE PRIMAIRE PRIVEE</td>\n",
       "      <td>ST JOSEPH</td>\n",
       "      <td>PRIVE</td>\n",
       "      <td>0</td>\n",
       "      <td>...</td>\n",
       "      <td>211</td>\n",
       "      <td>0</td>\n",
       "      <td>34</td>\n",
       "      <td>45</td>\n",
       "      <td>47</td>\n",
       "      <td>34</td>\n",
       "      <td>51</td>\n",
       "      <td>80-BRETAGNE-RENNES-ILLE-ET-VILAINE-CHANTEPIE-0...</td>\n",
       "      <td>35135</td>\n",
       "      <td>2020</td>\n",
       "    </tr>\n",
       "    <tr>\n",
       "      <th>1423</th>\n",
       "      <td>2020</td>\n",
       "      <td>BRETAGNE</td>\n",
       "      <td>RENNES</td>\n",
       "      <td>ILLE-ET-VILAINE</td>\n",
       "      <td>CHANTELOUP</td>\n",
       "      <td>0350168T</td>\n",
       "      <td>ECOLE PRIMAIRE PUBLIQUE</td>\n",
       "      <td>LUCIE AUBRAC</td>\n",
       "      <td>PUBLIC</td>\n",
       "      <td>0</td>\n",
       "      <td>...</td>\n",
       "      <td>139</td>\n",
       "      <td>0</td>\n",
       "      <td>28</td>\n",
       "      <td>28</td>\n",
       "      <td>22</td>\n",
       "      <td>31</td>\n",
       "      <td>30</td>\n",
       "      <td>80-BRETAGNE-RENNES-ILLE-ET-VILAINE-CHANTELOUP-...</td>\n",
       "      <td>35150</td>\n",
       "      <td>2020</td>\n",
       "    </tr>\n",
       "    <tr>\n",
       "      <th>751</th>\n",
       "      <td>2021</td>\n",
       "      <td>BRETAGNE</td>\n",
       "      <td>RENNES</td>\n",
       "      <td>ILLE-ET-VILAINE</td>\n",
       "      <td>CHANTEPIE</td>\n",
       "      <td>0352521A</td>\n",
       "      <td>ECOLE ELEMENTAIRE PUBLIQUE</td>\n",
       "      <td>LES DEUX RUISSEAUX</td>\n",
       "      <td>PUBLIC</td>\n",
       "      <td>0</td>\n",
       "      <td>...</td>\n",
       "      <td>148</td>\n",
       "      <td>0</td>\n",
       "      <td>42</td>\n",
       "      <td>29</td>\n",
       "      <td>19</td>\n",
       "      <td>25</td>\n",
       "      <td>33</td>\n",
       "      <td>79-BRETAGNE-RENNES-ILLE-ET-VILAINE-CHANTEPIE-0...</td>\n",
       "      <td>35135</td>\n",
       "      <td>2021</td>\n",
       "    </tr>\n",
       "    <tr>\n",
       "      <th>750</th>\n",
       "      <td>2021</td>\n",
       "      <td>BRETAGNE</td>\n",
       "      <td>RENNES</td>\n",
       "      <td>ILLE-ET-VILAINE</td>\n",
       "      <td>CHANTEPIE</td>\n",
       "      <td>0352520Z</td>\n",
       "      <td>ECOLE PRIMAIRE PUBLIQUE</td>\n",
       "      <td>LES LANDES</td>\n",
       "      <td>PUBLIC</td>\n",
       "      <td>0</td>\n",
       "      <td>...</td>\n",
       "      <td>213</td>\n",
       "      <td>0</td>\n",
       "      <td>50</td>\n",
       "      <td>46</td>\n",
       "      <td>47</td>\n",
       "      <td>37</td>\n",
       "      <td>33</td>\n",
       "      <td>79-BRETAGNE-RENNES-ILLE-ET-VILAINE-CHANTEPIE-0...</td>\n",
       "      <td>35135</td>\n",
       "      <td>2021</td>\n",
       "    </tr>\n",
       "    <tr>\n",
       "      <th>749</th>\n",
       "      <td>2021</td>\n",
       "      <td>BRETAGNE</td>\n",
       "      <td>RENNES</td>\n",
       "      <td>ILLE-ET-VILAINE</td>\n",
       "      <td>CHANTEPIE</td>\n",
       "      <td>0352159G</td>\n",
       "      <td>ECOLE MATERNELLE PUBLIQUE</td>\n",
       "      <td>LES DEUX RUISSEAUX</td>\n",
       "      <td>PUBLIC</td>\n",
       "      <td>0</td>\n",
       "      <td>...</td>\n",
       "      <td>0</td>\n",
       "      <td>0</td>\n",
       "      <td>0</td>\n",
       "      <td>0</td>\n",
       "      <td>0</td>\n",
       "      <td>0</td>\n",
       "      <td>0</td>\n",
       "      <td>79-BRETAGNE-RENNES-ILLE-ET-VILAINE-CHANTEPIE-0...</td>\n",
       "      <td>35135</td>\n",
       "      <td>2021</td>\n",
       "    </tr>\n",
       "    <tr>\n",
       "      <th>748</th>\n",
       "      <td>2021</td>\n",
       "      <td>BRETAGNE</td>\n",
       "      <td>RENNES</td>\n",
       "      <td>ILLE-ET-VILAINE</td>\n",
       "      <td>CHANTEPIE</td>\n",
       "      <td>0351699G</td>\n",
       "      <td>ECOLE PRIMAIRE PRIVEE</td>\n",
       "      <td>ST JOSEPH</td>\n",
       "      <td>PRIVE</td>\n",
       "      <td>0</td>\n",
       "      <td>...</td>\n",
       "      <td>201</td>\n",
       "      <td>0</td>\n",
       "      <td>37</td>\n",
       "      <td>35</td>\n",
       "      <td>49</td>\n",
       "      <td>46</td>\n",
       "      <td>34</td>\n",
       "      <td>79-BRETAGNE-RENNES-ILLE-ET-VILAINE-CHANTEPIE-0...</td>\n",
       "      <td>35135</td>\n",
       "      <td>2021</td>\n",
       "    </tr>\n",
       "    <tr>\n",
       "      <th>747</th>\n",
       "      <td>2021</td>\n",
       "      <td>BRETAGNE</td>\n",
       "      <td>RENNES</td>\n",
       "      <td>ILLE-ET-VILAINE</td>\n",
       "      <td>CHANTELOUP</td>\n",
       "      <td>0350168T</td>\n",
       "      <td>ECOLE PRIMAIRE PUBLIQUE</td>\n",
       "      <td>LUCIE AUBRAC</td>\n",
       "      <td>PUBLIC</td>\n",
       "      <td>0</td>\n",
       "      <td>...</td>\n",
       "      <td>135</td>\n",
       "      <td>0</td>\n",
       "      <td>27</td>\n",
       "      <td>25</td>\n",
       "      <td>30</td>\n",
       "      <td>22</td>\n",
       "      <td>31</td>\n",
       "      <td>79-BRETAGNE-RENNES-ILLE-ET-VILAINE-CHANTELOUP-...</td>\n",
       "      <td>35150</td>\n",
       "      <td>2021</td>\n",
       "    </tr>\n",
       "    <tr>\n",
       "      <th>76</th>\n",
       "      <td>2022</td>\n",
       "      <td>BRETAGNE</td>\n",
       "      <td>RENNES</td>\n",
       "      <td>ILLE-ET-VILAINE</td>\n",
       "      <td>CHANTEPIE</td>\n",
       "      <td>0352521A</td>\n",
       "      <td>ECOLE ELEMENTAIRE PUBLIQUE</td>\n",
       "      <td>LES DEUX RUISSEAUX</td>\n",
       "      <td>PUBLIC</td>\n",
       "      <td>0</td>\n",
       "      <td>...</td>\n",
       "      <td>143</td>\n",
       "      <td>0</td>\n",
       "      <td>29</td>\n",
       "      <td>46</td>\n",
       "      <td>23</td>\n",
       "      <td>24</td>\n",
       "      <td>21</td>\n",
       "      <td>78-BRETAGNE-RENNES-ILLE-ET-VILAINE-CHANTEPIE-0...</td>\n",
       "      <td>35135</td>\n",
       "      <td>2022</td>\n",
       "    </tr>\n",
       "    <tr>\n",
       "      <th>75</th>\n",
       "      <td>2022</td>\n",
       "      <td>BRETAGNE</td>\n",
       "      <td>RENNES</td>\n",
       "      <td>ILLE-ET-VILAINE</td>\n",
       "      <td>CHANTEPIE</td>\n",
       "      <td>0352520Z</td>\n",
       "      <td>ECOLE PRIMAIRE PUBLIQUE</td>\n",
       "      <td>LES LANDES</td>\n",
       "      <td>PUBLIC</td>\n",
       "      <td>0</td>\n",
       "      <td>...</td>\n",
       "      <td>221</td>\n",
       "      <td>0</td>\n",
       "      <td>55</td>\n",
       "      <td>45</td>\n",
       "      <td>43</td>\n",
       "      <td>41</td>\n",
       "      <td>37</td>\n",
       "      <td>78-BRETAGNE-RENNES-ILLE-ET-VILAINE-CHANTEPIE-0...</td>\n",
       "      <td>35135</td>\n",
       "      <td>2022</td>\n",
       "    </tr>\n",
       "    <tr>\n",
       "      <th>74</th>\n",
       "      <td>2022</td>\n",
       "      <td>BRETAGNE</td>\n",
       "      <td>RENNES</td>\n",
       "      <td>ILLE-ET-VILAINE</td>\n",
       "      <td>CHANTEPIE</td>\n",
       "      <td>0352159G</td>\n",
       "      <td>ECOLE MATERNELLE PUBLIQUE</td>\n",
       "      <td>LES DEUX RUISSEAUX</td>\n",
       "      <td>PUBLIC</td>\n",
       "      <td>0</td>\n",
       "      <td>...</td>\n",
       "      <td>0</td>\n",
       "      <td>0</td>\n",
       "      <td>0</td>\n",
       "      <td>0</td>\n",
       "      <td>0</td>\n",
       "      <td>0</td>\n",
       "      <td>0</td>\n",
       "      <td>78-BRETAGNE-RENNES-ILLE-ET-VILAINE-CHANTEPIE-0...</td>\n",
       "      <td>35135</td>\n",
       "      <td>2022</td>\n",
       "    </tr>\n",
       "    <tr>\n",
       "      <th>73</th>\n",
       "      <td>2022</td>\n",
       "      <td>BRETAGNE</td>\n",
       "      <td>RENNES</td>\n",
       "      <td>ILLE-ET-VILAINE</td>\n",
       "      <td>CHANTEPIE</td>\n",
       "      <td>0351699G</td>\n",
       "      <td>ECOLE PRIMAIRE PRIVEE</td>\n",
       "      <td>ST JOSEPH</td>\n",
       "      <td>PRIVE</td>\n",
       "      <td>0</td>\n",
       "      <td>...</td>\n",
       "      <td>207</td>\n",
       "      <td>0</td>\n",
       "      <td>33</td>\n",
       "      <td>38</td>\n",
       "      <td>38</td>\n",
       "      <td>50</td>\n",
       "      <td>48</td>\n",
       "      <td>78-BRETAGNE-RENNES-ILLE-ET-VILAINE-CHANTEPIE-0...</td>\n",
       "      <td>35135</td>\n",
       "      <td>2022</td>\n",
       "    </tr>\n",
       "    <tr>\n",
       "      <th>72</th>\n",
       "      <td>2022</td>\n",
       "      <td>BRETAGNE</td>\n",
       "      <td>RENNES</td>\n",
       "      <td>ILLE-ET-VILAINE</td>\n",
       "      <td>CHANTELOUP</td>\n",
       "      <td>0350168T</td>\n",
       "      <td>ECOLE PRIMAIRE PUBLIQUE</td>\n",
       "      <td>LUCIE AUBRAC</td>\n",
       "      <td>PUBLIC</td>\n",
       "      <td>0</td>\n",
       "      <td>...</td>\n",
       "      <td>124</td>\n",
       "      <td>0</td>\n",
       "      <td>18</td>\n",
       "      <td>26</td>\n",
       "      <td>29</td>\n",
       "      <td>29</td>\n",
       "      <td>22</td>\n",
       "      <td>78-BRETAGNE-RENNES-ILLE-ET-VILAINE-CHANTELOUP-...</td>\n",
       "      <td>35150</td>\n",
       "      <td>2022</td>\n",
       "    </tr>\n",
       "  </tbody>\n",
       "</table>\n",
       "<p>20 rows × 24 columns</p>\n",
       "</div>"
      ],
      "text/plain": [
       "      Rentrée scolaire Région académique Académie      Département  \\\n",
       "2104              2019          BRETAGNE   RENNES  ILLE-ET-VILAINE   \n",
       "2103              2019          BRETAGNE   RENNES  ILLE-ET-VILAINE   \n",
       "2102              2019          BRETAGNE   RENNES  ILLE-ET-VILAINE   \n",
       "2101              2019          BRETAGNE   RENNES  ILLE-ET-VILAINE   \n",
       "2100              2019          BRETAGNE   RENNES  ILLE-ET-VILAINE   \n",
       "1427              2020          BRETAGNE   RENNES  ILLE-ET-VILAINE   \n",
       "1426              2020          BRETAGNE   RENNES  ILLE-ET-VILAINE   \n",
       "1425              2020          BRETAGNE   RENNES  ILLE-ET-VILAINE   \n",
       "1424              2020          BRETAGNE   RENNES  ILLE-ET-VILAINE   \n",
       "1423              2020          BRETAGNE   RENNES  ILLE-ET-VILAINE   \n",
       "751               2021          BRETAGNE   RENNES  ILLE-ET-VILAINE   \n",
       "750               2021          BRETAGNE   RENNES  ILLE-ET-VILAINE   \n",
       "749               2021          BRETAGNE   RENNES  ILLE-ET-VILAINE   \n",
       "748               2021          BRETAGNE   RENNES  ILLE-ET-VILAINE   \n",
       "747               2021          BRETAGNE   RENNES  ILLE-ET-VILAINE   \n",
       "76                2022          BRETAGNE   RENNES  ILLE-ET-VILAINE   \n",
       "75                2022          BRETAGNE   RENNES  ILLE-ET-VILAINE   \n",
       "74                2022          BRETAGNE   RENNES  ILLE-ET-VILAINE   \n",
       "73                2022          BRETAGNE   RENNES  ILLE-ET-VILAINE   \n",
       "72                2022          BRETAGNE   RENNES  ILLE-ET-VILAINE   \n",
       "\n",
       "         Commune Numéro de l'école     Dénomination principale  \\\n",
       "2104   CHANTEPIE          0352521A  ECOLE ELEMENTAIRE PUBLIQUE   \n",
       "2103   CHANTEPIE          0352520Z     ECOLE PRIMAIRE PUBLIQUE   \n",
       "2102   CHANTEPIE          0352159G   ECOLE MATERNELLE PUBLIQUE   \n",
       "2101   CHANTEPIE          0351699G       ECOLE PRIMAIRE PRIVEE   \n",
       "2100  CHANTELOUP          0350168T     ECOLE PRIMAIRE PUBLIQUE   \n",
       "1427   CHANTEPIE          0352521A  ECOLE ELEMENTAIRE PUBLIQUE   \n",
       "1426   CHANTEPIE          0352520Z     ECOLE PRIMAIRE PUBLIQUE   \n",
       "1425   CHANTEPIE          0352159G   ECOLE MATERNELLE PUBLIQUE   \n",
       "1424   CHANTEPIE          0351699G       ECOLE PRIMAIRE PRIVEE   \n",
       "1423  CHANTELOUP          0350168T     ECOLE PRIMAIRE PUBLIQUE   \n",
       "751    CHANTEPIE          0352521A  ECOLE ELEMENTAIRE PUBLIQUE   \n",
       "750    CHANTEPIE          0352520Z     ECOLE PRIMAIRE PUBLIQUE   \n",
       "749    CHANTEPIE          0352159G   ECOLE MATERNELLE PUBLIQUE   \n",
       "748    CHANTEPIE          0351699G       ECOLE PRIMAIRE PRIVEE   \n",
       "747   CHANTELOUP          0350168T     ECOLE PRIMAIRE PUBLIQUE   \n",
       "76     CHANTEPIE          0352521A  ECOLE ELEMENTAIRE PUBLIQUE   \n",
       "75     CHANTEPIE          0352520Z     ECOLE PRIMAIRE PUBLIQUE   \n",
       "74     CHANTEPIE          0352159G   ECOLE MATERNELLE PUBLIQUE   \n",
       "73     CHANTEPIE          0351699G       ECOLE PRIMAIRE PRIVEE   \n",
       "72    CHANTELOUP          0350168T     ECOLE PRIMAIRE PUBLIQUE   \n",
       "\n",
       "               Patronyme Secteur  REP  ...  \\\n",
       "2104  LES DEUX RUISSEAUX  PUBLIC    0  ...   \n",
       "2103          LES LANDES  PUBLIC    0  ...   \n",
       "2102  LES DEUX RUISSEAUX  PUBLIC    0  ...   \n",
       "2101           ST JOSEPH   PRIVE    0  ...   \n",
       "2100        LUCIE AUBRAC  PUBLIC    0  ...   \n",
       "1427  LES DEUX RUISSEAUX  PUBLIC    0  ...   \n",
       "1426          LES LANDES  PUBLIC    0  ...   \n",
       "1425  LES DEUX RUISSEAUX  PUBLIC    0  ...   \n",
       "1424           ST JOSEPH   PRIVE    0  ...   \n",
       "1423        LUCIE AUBRAC  PUBLIC    0  ...   \n",
       "751   LES DEUX RUISSEAUX  PUBLIC    0  ...   \n",
       "750           LES LANDES  PUBLIC    0  ...   \n",
       "749   LES DEUX RUISSEAUX  PUBLIC    0  ...   \n",
       "748            ST JOSEPH   PRIVE    0  ...   \n",
       "747         LUCIE AUBRAC  PUBLIC    0  ...   \n",
       "76    LES DEUX RUISSEAUX  PUBLIC    0  ...   \n",
       "75            LES LANDES  PUBLIC    0  ...   \n",
       "74    LES DEUX RUISSEAUX  PUBLIC    0  ...   \n",
       "73             ST JOSEPH   PRIVE    0  ...   \n",
       "72          LUCIE AUBRAC  PUBLIC    0  ...   \n",
       "\n",
       "      Nombre d'élèves en élémentaire hors ULIS  Nombre d'élèves en ULIS  \\\n",
       "2104                                       134                        0   \n",
       "2103                                       172                        0   \n",
       "2102                                         0                        0   \n",
       "2101                                       231                        0   \n",
       "2100                                       147                        0   \n",
       "1427                                       147                        0   \n",
       "1426                                       189                        0   \n",
       "1425                                         0                        0   \n",
       "1424                                       211                        0   \n",
       "1423                                       139                        0   \n",
       "751                                        148                        0   \n",
       "750                                        213                        0   \n",
       "749                                          0                        0   \n",
       "748                                        201                        0   \n",
       "747                                        135                        0   \n",
       "76                                         143                        0   \n",
       "75                                         221                        0   \n",
       "74                                           0                        0   \n",
       "73                                         207                        0   \n",
       "72                                         124                        0   \n",
       "\n",
       "      Nombre d'élèves en CP hors ULIS  Nombre d'élèves en CE1 hors ULIS  \\\n",
       "2104                               22                                24   \n",
       "2103                               34                                36   \n",
       "2102                                0                                 0   \n",
       "2101                               45                                46   \n",
       "2100                               31                                21   \n",
       "1427                               34                                21   \n",
       "1426                               45                                41   \n",
       "1425                                0                                 0   \n",
       "1424                               34                                45   \n",
       "1423                               28                                28   \n",
       "751                                42                                29   \n",
       "750                                50                                46   \n",
       "749                                 0                                 0   \n",
       "748                                37                                35   \n",
       "747                                27                                25   \n",
       "76                                 29                                46   \n",
       "75                                 55                                45   \n",
       "74                                  0                                 0   \n",
       "73                                 33                                38   \n",
       "72                                 18                                26   \n",
       "\n",
       "      Nombre d'élèves en CE2 hors ULIS  Nombre d'élèves en CM1 hors ULIS  \\\n",
       "2104                                39                                32   \n",
       "2103                                27                                33   \n",
       "2102                                 0                                 0   \n",
       "2101                                34                                51   \n",
       "2100                                32                                32   \n",
       "1427                                24                                35   \n",
       "1426                                38                                27   \n",
       "1425                                 0                                 0   \n",
       "1424                                47                                34   \n",
       "1423                                22                                31   \n",
       "751                                 19                                25   \n",
       "750                                 47                                37   \n",
       "749                                  0                                 0   \n",
       "748                                 49                                46   \n",
       "747                                 30                                22   \n",
       "76                                  23                                24   \n",
       "75                                  43                                41   \n",
       "74                                   0                                 0   \n",
       "73                                  38                                50   \n",
       "72                                  29                                29   \n",
       "\n",
       "      Nombre d'élèves en CM2 hors ULIS  \\\n",
       "2104                                17   \n",
       "2103                                42   \n",
       "2102                                 0   \n",
       "2101                                55   \n",
       "2100                                31   \n",
       "1427                                33   \n",
       "1426                                38   \n",
       "1425                                 0   \n",
       "1424                                51   \n",
       "1423                                30   \n",
       "751                                 33   \n",
       "750                                 33   \n",
       "749                                  0   \n",
       "748                                 34   \n",
       "747                                 31   \n",
       "76                                  21   \n",
       "75                                  37   \n",
       "74                                   0   \n",
       "73                                  48   \n",
       "72                                  22   \n",
       "\n",
       "                                                    tri  Code Postal  rentrée  \n",
       "2104  81-BRETAGNE-RENNES-ILLE-ET-VILAINE-CHANTEPIE-0...        35135     2019  \n",
       "2103  81-BRETAGNE-RENNES-ILLE-ET-VILAINE-CHANTEPIE-0...        35135     2019  \n",
       "2102  81-BRETAGNE-RENNES-ILLE-ET-VILAINE-CHANTEPIE-0...        35135     2019  \n",
       "2101  81-BRETAGNE-RENNES-ILLE-ET-VILAINE-CHANTEPIE-0...        35135     2019  \n",
       "2100  81-BRETAGNE-RENNES-ILLE-ET-VILAINE-CHANTELOUP-...        35150     2019  \n",
       "1427  80-BRETAGNE-RENNES-ILLE-ET-VILAINE-CHANTEPIE-0...        35135     2020  \n",
       "1426  80-BRETAGNE-RENNES-ILLE-ET-VILAINE-CHANTEPIE-0...        35135     2020  \n",
       "1425  80-BRETAGNE-RENNES-ILLE-ET-VILAINE-CHANTEPIE-0...        35135     2020  \n",
       "1424  80-BRETAGNE-RENNES-ILLE-ET-VILAINE-CHANTEPIE-0...        35135     2020  \n",
       "1423  80-BRETAGNE-RENNES-ILLE-ET-VILAINE-CHANTELOUP-...        35150     2020  \n",
       "751   79-BRETAGNE-RENNES-ILLE-ET-VILAINE-CHANTEPIE-0...        35135     2021  \n",
       "750   79-BRETAGNE-RENNES-ILLE-ET-VILAINE-CHANTEPIE-0...        35135     2021  \n",
       "749   79-BRETAGNE-RENNES-ILLE-ET-VILAINE-CHANTEPIE-0...        35135     2021  \n",
       "748   79-BRETAGNE-RENNES-ILLE-ET-VILAINE-CHANTEPIE-0...        35135     2021  \n",
       "747   79-BRETAGNE-RENNES-ILLE-ET-VILAINE-CHANTELOUP-...        35150     2021  \n",
       "76    78-BRETAGNE-RENNES-ILLE-ET-VILAINE-CHANTEPIE-0...        35135     2022  \n",
       "75    78-BRETAGNE-RENNES-ILLE-ET-VILAINE-CHANTEPIE-0...        35135     2022  \n",
       "74    78-BRETAGNE-RENNES-ILLE-ET-VILAINE-CHANTEPIE-0...        35135     2022  \n",
       "73    78-BRETAGNE-RENNES-ILLE-ET-VILAINE-CHANTEPIE-0...        35135     2022  \n",
       "72    78-BRETAGNE-RENNES-ILLE-ET-VILAINE-CHANTELOUP-...        35150     2022  \n",
       "\n",
       "[20 rows x 24 columns]"
      ]
     },
     "execution_count": 52,
     "metadata": {},
     "output_type": "execute_result"
    }
   ],
   "source": [
    "ecoles[ecoles.Commune.str.startswith(\"CHAN\")]"
   ]
  },
  {
   "cell_type": "code",
   "execution_count": 60,
   "id": "3ea86a60-004c-4f42-aece-d21c5f270290",
   "metadata": {},
   "outputs": [
    {
     "data": {
      "application/vnd.plotly.v1+json": {
       "config": {
        "plotlyServerURL": "https://plot.ly"
       },
       "data": [
        {
         "alignmentgroup": "True",
         "hovertemplate": "rentrée=2019<br>Dénomination principale=%{x}<br>Nombre total d'élèves=%{y}<extra></extra>",
         "legendgroup": "2019",
         "marker": {
          "color": "#636efa",
          "pattern": {
           "shape": ""
          }
         },
         "name": "2019",
         "offsetgroup": "2019",
         "orientation": "v",
         "showlegend": true,
         "textposition": "auto",
         "type": "bar",
         "x": [
          "ECOLE ELEMENTAIRE PUBLIQUE",
          "ECOLE ELEMENTAIRE PUBLIQUE",
          "ECOLE ELEMENTAIRE PUBLIQUE",
          "ECOLE ELEMENTAIRE PUBLIQUE",
          "ECOLE ELEMENTAIRE PUBLIQUE",
          "ECOLE ELEMENTAIRE PUBLIQUE",
          "ECOLE ELEMENTAIRE PUBLIQUE",
          "ECOLE ELEMENTAIRE PUBLIQUE",
          "ECOLE ELEMENTAIRE PUBLIQUE",
          "ECOLE PRIMAIRE PUBLIQUE",
          "ECOLE ELEMENTAIRE PUBLIQUE",
          "ECOLE ELEMENTAIRE PUBLIQUE",
          "ECOLE ELEMENTAIRE PUBLIQUE",
          "ECOLE ELEMENTAIRE PUBLIQUE",
          "ECOLE ELEMENTAIRE PUBLIQUE",
          "ECOLE ELEMENTAIRE PUBLIQUE",
          "ECOLE ELEMENTAIRE PUBLIQUE",
          "ECOLE ELEMENTAIRE PUBLIQUE",
          "ECOLE MATERNELLE PUBLIQUE",
          "ECOLE PRIMAIRE PUBLIQUE",
          "ECOLE PRIMAIRE PRIVEE",
          "ECOLE PRIMAIRE PRIVEE",
          "ECOLE PRIMAIRE PRIVEE",
          "ECOLE PRIMAIRE PRIVEE",
          "ECOLE PRIMAIRE PRIVEE",
          "ECOLE MATERNELLE PUBLIQUE",
          "ECOLE ELEMENTAIRE PUBLIQUE",
          "ECOLE ELEMENTAIRE PUBLIQUE",
          "ECOLE MATERNELLE PUBLIQUE",
          "ECOLE PRIMAIRE PUBLIQUE",
          "ECOLE ELEMENTAIRE PUBLIQUE",
          "ECOLE ELEMENTAIRE PUBLIQUE",
          "ECOLE ELEMENTAIRE PUBLIQUE",
          "ECOLE ELEMENTAIRE PUBLIQUE",
          "ECOLE ELEMENTAIRE PUBLIQUE",
          "ECOLE ELEMENTAIRE PUBLIQUE",
          "ECOLE PRIMAIRE PUBLIQUE",
          "ECOLE MATERNELLE PUBLIQUE",
          "ECOLE PRIMAIRE PRIVEE",
          "ECOLE PRIMAIRE PRIVEE",
          "ECOLE MATERNELLE PUBLIQUE",
          "ECOLE PRIMAIRE PUBLIQUE",
          "ECOLE MATERNELLE PUBLIQUE",
          "ECOLE PRIMAIRE PUBLIQUE",
          "ECOLE MATERNELLE PUBLIQUE",
          "ECOLE MATERNELLE PUBLIQUE",
          "ECOLE ELEMENTAIRE PUBLIQUE",
          "ECOLE ELEMENTAIRE PUBLIQUE",
          "ECOLE ELEMENTAIRE PUBLIQUE",
          "ECOLE ELEMENTAIRE PUBLIQUE",
          "ECOLE MATERNELLE PUBLIQUE",
          "ECOLE PRIMAIRE PUBLIQUE",
          "ECOLE MATERNELLE PUBLIQUE",
          "ECOLE ELEMENTAIRE PUBLIQUE",
          "ECOLE MATERNELLE PUBLIQUE",
          "ECOLE MATERNELLE PUBLIQUE",
          "ECOLE MATERNELLE PUBLIQUE",
          "ECOLE MATERNELLE PUBLIQUE",
          "ECOLE MATERNELLE PUBLIQUE",
          "ECOLE MATERNELLE PUBLIQUE",
          "ECOLE MATERNELLE PUBLIQUE",
          "ECOLE MATERNELLE PUBLIQUE",
          "ECOLE MATERNELLE PUBLIQUE",
          "ECOLE MATERNELLE PUBLIQUE",
          "ECOLE MATERNELLE PUBLIQUE",
          "ECOLE MATERNELLE PUBLIQUE",
          "ECOLE MATERNELLE PUBLIQUE",
          "ECOLE MATERNELLE PUBLIQUE",
          "ECOLE MATERNELLE PUBLIQUE",
          "ECOLE MATERNELLE PUBLIQUE",
          "ECOLE MATERNELLE PUBLIQUE",
          "ECOLE ELEMENTAIRE PUBLIQUE",
          "ECOLE MATERNELLE PUBLIQUE",
          "ECOLE PRIMAIRE PRIVEE",
          "ECOLE MATERNELLE PUBLIQUE",
          "ECOLE PRIMAIRE PRIVEE",
          "ECOLE PRIMAIRE PRIVEE",
          "ECOLE MATERNELLE PUBLIQUE",
          "ECOLE ELEMENTAIRE PUBLIQUE",
          "ECOLE MATERNELLE PUBLIQUE",
          "ECOLE MATERNELLE PUBLIQUE",
          "ECOLE MATERNELLE PUBLIQUE",
          "ECOLE MATERNELLE PUBLIQUE",
          "ECOLE ELEMENTAIRE PUBLIQUE",
          "ECOLE ELEMENTAIRE PUBLIQUE",
          "ECOLE PRIMAIRE PRIVEE",
          "ECOLE MATERNELLE PUBLIQUE",
          "ECOLE PRIMAIRE PRIVEE",
          "ECOLE PRIMAIRE PRIVEE",
          "ECOLE PRIMAIRE PRIVEE",
          "ECOLE PRIMAIRE PRIVEE",
          "ECOLE PRIMAIRE PRIVEE",
          "ECOLE PRIMAIRE PRIVEE",
          "ECOLE PRIMAIRE PRIVEE"
         ],
         "xaxis": "x",
         "y": [
          204,
          140,
          181,
          178,
          116,
          233,
          208,
          155,
          212,
          72,
          146,
          256,
          230,
          297,
          252,
          203,
          157,
          173,
          140,
          307,
          218,
          199,
          266,
          322,
          205,
          142,
          190,
          173,
          215,
          435,
          223,
          264,
          240,
          194,
          250,
          157,
          184,
          130,
          153,
          268,
          187,
          291,
          114,
          373,
          280,
          199,
          292,
          290,
          325,
          285,
          219,
          401,
          244,
          125,
          84,
          102,
          175,
          151,
          93,
          107,
          97,
          103,
          126,
          154,
          137,
          97,
          133,
          161,
          72,
          131,
          182,
          143,
          130,
          225,
          91,
          325,
          413,
          110,
          205,
          128,
          103,
          101,
          99,
          232,
          196,
          169,
          147,
          284,
          254,
          119,
          469,
          186,
          496,
          299
         ],
         "yaxis": "y"
        },
        {
         "alignmentgroup": "True",
         "hovertemplate": "rentrée=2020<br>Dénomination principale=%{x}<br>Nombre total d'élèves=%{y}<extra></extra>",
         "legendgroup": "2020",
         "marker": {
          "color": "#EF553B",
          "pattern": {
           "shape": ""
          }
         },
         "name": "2020",
         "offsetgroup": "2020",
         "orientation": "v",
         "showlegend": true,
         "textposition": "auto",
         "type": "bar",
         "x": [
          "ECOLE ELEMENTAIRE PUBLIQUE",
          "ECOLE ELEMENTAIRE PUBLIQUE",
          "ECOLE ELEMENTAIRE PUBLIQUE",
          "ECOLE ELEMENTAIRE PUBLIQUE",
          "ECOLE ELEMENTAIRE PUBLIQUE",
          "ECOLE ELEMENTAIRE PUBLIQUE",
          "ECOLE ELEMENTAIRE PUBLIQUE",
          "ECOLE ELEMENTAIRE PUBLIQUE",
          "ECOLE ELEMENTAIRE PUBLIQUE",
          "ECOLE ELEMENTAIRE PUBLIQUE",
          "ECOLE PRIMAIRE PUBLIQUE",
          "ECOLE ELEMENTAIRE PUBLIQUE",
          "ECOLE ELEMENTAIRE PUBLIQUE",
          "ECOLE ELEMENTAIRE PUBLIQUE",
          "ECOLE ELEMENTAIRE PUBLIQUE",
          "ECOLE ELEMENTAIRE PUBLIQUE",
          "ECOLE ELEMENTAIRE PUBLIQUE",
          "ECOLE ELEMENTAIRE PUBLIQUE",
          "ECOLE MATERNELLE PUBLIQUE",
          "ECOLE MATERNELLE PUBLIQUE",
          "ECOLE MATERNELLE PUBLIQUE",
          "ECOLE PRIMAIRE PUBLIQUE",
          "ECOLE PRIMAIRE PUBLIQUE",
          "ECOLE PRIMAIRE PRIVEE",
          "ECOLE PRIMAIRE PRIVEE",
          "ECOLE PRIMAIRE PRIVEE",
          "ECOLE PRIMAIRE PRIVEE",
          "ECOLE PRIMAIRE PRIVEE",
          "ECOLE MATERNELLE PUBLIQUE",
          "ECOLE ELEMENTAIRE PUBLIQUE",
          "ECOLE ELEMENTAIRE PUBLIQUE",
          "ECOLE MATERNELLE PUBLIQUE",
          "ECOLE PRIMAIRE PUBLIQUE",
          "ECOLE ELEMENTAIRE PUBLIQUE",
          "ECOLE ELEMENTAIRE PUBLIQUE",
          "ECOLE ELEMENTAIRE PUBLIQUE",
          "ECOLE ELEMENTAIRE PUBLIQUE",
          "ECOLE PRIMAIRE PRIVEE",
          "ECOLE ELEMENTAIRE PUBLIQUE",
          "ECOLE PRIMAIRE PRIVEE",
          "ECOLE MATERNELLE PUBLIQUE",
          "ECOLE PRIMAIRE PUBLIQUE",
          "ECOLE PRIMAIRE PUBLIQUE",
          "ECOLE MATERNELLE PUBLIQUE",
          "ECOLE MATERNELLE PUBLIQUE",
          "ECOLE MATERNELLE PUBLIQUE",
          "ECOLE ELEMENTAIRE PUBLIQUE",
          "ECOLE ELEMENTAIRE PUBLIQUE",
          "ECOLE ELEMENTAIRE PUBLIQUE",
          "ECOLE ELEMENTAIRE PUBLIQUE",
          "ECOLE PRIMAIRE PUBLIQUE",
          "ECOLE ELEMENTAIRE PUBLIQUE",
          "ECOLE MATERNELLE PUBLIQUE",
          "ECOLE ELEMENTAIRE PUBLIQUE",
          "ECOLE MATERNELLE PUBLIQUE",
          "ECOLE MATERNELLE PUBLIQUE",
          "ECOLE MATERNELLE PUBLIQUE",
          "ECOLE MATERNELLE PUBLIQUE",
          "ECOLE MATERNELLE PUBLIQUE",
          "ECOLE MATERNELLE PUBLIQUE",
          "ECOLE MATERNELLE PUBLIQUE",
          "ECOLE MATERNELLE PUBLIQUE",
          "ECOLE MATERNELLE PUBLIQUE",
          "ECOLE MATERNELLE PUBLIQUE",
          "ECOLE MATERNELLE PUBLIQUE",
          "ECOLE MATERNELLE PUBLIQUE",
          "ECOLE MATERNELLE PUBLIQUE",
          "ECOLE MATERNELLE PUBLIQUE",
          "ECOLE MATERNELLE PUBLIQUE",
          "ECOLE MATERNELLE PUBLIQUE",
          "ECOLE MATERNELLE PUBLIQUE",
          "ECOLE MATERNELLE PUBLIQUE",
          "ECOLE PRIMAIRE PRIVEE",
          "ECOLE PRIMAIRE PRIVEE",
          "ECOLE PRIMAIRE PRIVEE",
          "ECOLE ELEMENTAIRE PUBLIQUE",
          "ECOLE MATERNELLE PUBLIQUE",
          "ECOLE MATERNELLE PUBLIQUE",
          "ECOLE ELEMENTAIRE PUBLIQUE",
          "ECOLE MATERNELLE PUBLIQUE",
          "ECOLE MATERNELLE PUBLIQUE",
          "ECOLE MATERNELLE PUBLIQUE",
          "ECOLE ELEMENTAIRE PUBLIQUE",
          "ECOLE MATERNELLE PUBLIQUE",
          "ECOLE MATERNELLE PUBLIQUE",
          "ECOLE PRIMAIRE PRIVEE",
          "ECOLE PRIMAIRE PRIVEE",
          "ECOLE PRIMAIRE PRIVEE",
          "ECOLE PRIMAIRE PRIVEE",
          "ECOLE PRIMAIRE PRIVEE",
          "ECOLE PRIMAIRE PRIVEE",
          "ECOLE PRIMAIRE PRIVEE",
          "ECOLE PRIMAIRE PRIVEE",
          "ECOLE ELEMENTAIRE PUBLIQUE"
         ],
         "xaxis": "x",
         "y": [
          162,
          213,
          140,
          207,
          178,
          104,
          219,
          211,
          155,
          223,
          71,
          155,
          277,
          232,
          271,
          263,
          195,
          178,
          183,
          153,
          128,
          186,
          308,
          212,
          190,
          258,
          319,
          196,
          121,
          220,
          173,
          196,
          444,
          225,
          260,
          221,
          190,
          157,
          269,
          275,
          211,
          278,
          367,
          253,
          272,
          189,
          324,
          274,
          337,
          303,
          394,
          165,
          115,
          116,
          91,
          164,
          165,
          88,
          102,
          94,
          91,
          109,
          149,
          156,
          123,
          95,
          150,
          172,
          74,
          133,
          178,
          126,
          231,
          401,
          317,
          151,
          96,
          81,
          199,
          114,
          95,
          97,
          207,
          141,
          88,
          313,
          166,
          273,
          257,
          137,
          468,
          191,
          500,
          212
         ],
         "yaxis": "y"
        },
        {
         "alignmentgroup": "True",
         "hovertemplate": "rentrée=2021<br>Dénomination principale=%{x}<br>Nombre total d'élèves=%{y}<extra></extra>",
         "legendgroup": "2021",
         "marker": {
          "color": "#00cc96",
          "pattern": {
           "shape": ""
          }
         },
         "name": "2021",
         "offsetgroup": "2021",
         "orientation": "v",
         "showlegend": true,
         "textposition": "auto",
         "type": "bar",
         "x": [
          "ECOLE ELEMENTAIRE PUBLIQUE",
          "ECOLE ELEMENTAIRE PUBLIQUE",
          "ECOLE ELEMENTAIRE PUBLIQUE",
          "ECOLE ELEMENTAIRE PUBLIQUE",
          "ECOLE ELEMENTAIRE PUBLIQUE",
          "ECOLE ELEMENTAIRE PUBLIQUE",
          "ECOLE ELEMENTAIRE PUBLIQUE",
          "ECOLE ELEMENTAIRE PUBLIQUE",
          "ECOLE ELEMENTAIRE PUBLIQUE",
          "ECOLE PRIMAIRE PUBLIQUE",
          "ECOLE ELEMENTAIRE PUBLIQUE",
          "ECOLE ELEMENTAIRE PUBLIQUE",
          "ECOLE ELEMENTAIRE PUBLIQUE",
          "ECOLE ELEMENTAIRE PUBLIQUE",
          "ECOLE ELEMENTAIRE PUBLIQUE",
          "ECOLE ELEMENTAIRE PUBLIQUE",
          "ECOLE ELEMENTAIRE PUBLIQUE",
          "ECOLE ELEMENTAIRE PUBLIQUE",
          "ECOLE MATERNELLE PUBLIQUE",
          "ECOLE PRIMAIRE PUBLIQUE",
          "ECOLE PRIMAIRE PRIVEE",
          "ECOLE PRIMAIRE PRIVEE",
          "ECOLE PRIMAIRE PRIVEE",
          "ECOLE PRIMAIRE PRIVEE",
          "ECOLE PRIMAIRE PRIVEE",
          "ECOLE MATERNELLE PUBLIQUE",
          "ECOLE ELEMENTAIRE PUBLIQUE",
          "ECOLE ELEMENTAIRE PUBLIQUE",
          "ECOLE MATERNELLE PUBLIQUE",
          "ECOLE PRIMAIRE PUBLIQUE",
          "ECOLE ELEMENTAIRE PUBLIQUE",
          "ECOLE ELEMENTAIRE PUBLIQUE",
          "ECOLE ELEMENTAIRE PUBLIQUE",
          "ECOLE ELEMENTAIRE PUBLIQUE",
          "ECOLE ELEMENTAIRE PUBLIQUE",
          "ECOLE ELEMENTAIRE PUBLIQUE",
          "ECOLE MATERNELLE PUBLIQUE",
          "ECOLE MATERNELLE PUBLIQUE",
          "ECOLE PRIMAIRE PRIVEE",
          "ECOLE PRIMAIRE PUBLIQUE",
          "ECOLE MATERNELLE PUBLIQUE",
          "ECOLE PRIMAIRE PUBLIQUE",
          "ECOLE PRIMAIRE PUBLIQUE",
          "ECOLE MATERNELLE PUBLIQUE",
          "ECOLE MATERNELLE PUBLIQUE",
          "ECOLE MATERNELLE PUBLIQUE",
          "ECOLE ELEMENTAIRE PUBLIQUE",
          "ECOLE ELEMENTAIRE PUBLIQUE",
          "ECOLE ELEMENTAIRE PUBLIQUE",
          "ECOLE ELEMENTAIRE PUBLIQUE",
          "ECOLE MATERNELLE PUBLIQUE",
          "ECOLE PRIMAIRE PRIVEE",
          "ECOLE ELEMENTAIRE PUBLIQUE",
          "ECOLE PRIMAIRE PUBLIQUE",
          "ECOLE MATERNELLE PUBLIQUE",
          "ECOLE MATERNELLE PUBLIQUE",
          "ECOLE MATERNELLE PUBLIQUE",
          "ECOLE MATERNELLE PUBLIQUE",
          "ECOLE MATERNELLE PUBLIQUE",
          "ECOLE MATERNELLE PUBLIQUE",
          "ECOLE MATERNELLE PUBLIQUE",
          "ECOLE MATERNELLE PUBLIQUE",
          "ECOLE MATERNELLE PUBLIQUE",
          "ECOLE MATERNELLE PUBLIQUE",
          "ECOLE MATERNELLE PUBLIQUE",
          "ECOLE MATERNELLE PUBLIQUE",
          "ECOLE MATERNELLE PUBLIQUE",
          "ECOLE MATERNELLE PUBLIQUE",
          "ECOLE MATERNELLE PUBLIQUE",
          "ECOLE MATERNELLE PUBLIQUE",
          "ECOLE MATERNELLE PUBLIQUE",
          "ECOLE ELEMENTAIRE PUBLIQUE",
          "ECOLE MATERNELLE PUBLIQUE",
          "ECOLE PRIMAIRE PRIVEE",
          "ECOLE MATERNELLE PUBLIQUE",
          "ECOLE MATERNELLE PUBLIQUE",
          "ECOLE PRIMAIRE PRIVEE",
          "ECOLE ELEMENTAIRE PUBLIQUE",
          "ECOLE MATERNELLE PUBLIQUE",
          "ECOLE MATERNELLE PUBLIQUE",
          "ECOLE MATERNELLE PUBLIQUE",
          "ECOLE ELEMENTAIRE PUBLIQUE",
          "ECOLE MATERNELLE PUBLIQUE",
          "ECOLE ELEMENTAIRE PUBLIQUE",
          "ECOLE PRIMAIRE PRIVEE",
          "ECOLE MATERNELLE PUBLIQUE",
          "ECOLE PRIMAIRE PRIVEE",
          "ECOLE PRIMAIRE PRIVEE",
          "ECOLE PRIMAIRE PRIVEE",
          "ECOLE PRIMAIRE PRIVEE",
          "ECOLE PRIMAIRE PRIVEE",
          "ECOLE PRIMAIRE PRIVEE",
          "ECOLE PRIMAIRE PRIVEE",
          "ECOLE PRIMAIRE PRIVEE"
         ],
         "xaxis": "x",
         "y": [
          210,
          135,
          201,
          173,
          112,
          229,
          209,
          150,
          208,
          72,
          152,
          272,
          231,
          269,
          255,
          192,
          170,
          173,
          136,
          300,
          202,
          184,
          248,
          306,
          191,
          109,
          224,
          172,
          200,
          444,
          230,
          262,
          241,
          212,
          276,
          165,
          129,
          112,
          143,
          387,
          215,
          254,
          376,
          255,
          247,
          160,
          319,
          261,
          344,
          299,
          210,
          273,
          112,
          186,
          98,
          97,
          146,
          163,
          89,
          102,
          81,
          106,
          141,
          157,
          97,
          101,
          153,
          197,
          73,
          127,
          180,
          146,
          129,
          213,
          93,
          158,
          409,
          194,
          108,
          111,
          99,
          206,
          87,
          208,
          289,
          75,
          278,
          241,
          138,
          475,
          173,
          511,
          306,
          165
         ],
         "yaxis": "y"
        },
        {
         "alignmentgroup": "True",
         "hovertemplate": "rentrée=2022<br>Dénomination principale=%{x}<br>Nombre total d'élèves=%{y}<extra></extra>",
         "legendgroup": "2022",
         "marker": {
          "color": "#ab63fa",
          "pattern": {
           "shape": ""
          }
         },
         "name": "2022",
         "offsetgroup": "2022",
         "orientation": "v",
         "showlegend": true,
         "textposition": "auto",
         "type": "bar",
         "x": [
          "ECOLE ELEMENTAIRE PUBLIQUE",
          "ECOLE ELEMENTAIRE PUBLIQUE",
          "ECOLE ELEMENTAIRE PUBLIQUE",
          "ECOLE ELEMENTAIRE PUBLIQUE",
          "ECOLE ELEMENTAIRE PUBLIQUE",
          "ECOLE ELEMENTAIRE PUBLIQUE",
          "ECOLE ELEMENTAIRE PUBLIQUE",
          "ECOLE ELEMENTAIRE PUBLIQUE",
          "ECOLE ELEMENTAIRE PUBLIQUE",
          "ECOLE ELEMENTAIRE PUBLIQUE",
          "ECOLE PRIMAIRE PUBLIQUE",
          "ECOLE ELEMENTAIRE PUBLIQUE",
          "ECOLE ELEMENTAIRE PUBLIQUE",
          "ECOLE ELEMENTAIRE PUBLIQUE",
          "ECOLE ELEMENTAIRE PUBLIQUE",
          "ECOLE ELEMENTAIRE PUBLIQUE",
          "ECOLE ELEMENTAIRE PUBLIQUE",
          "ECOLE ELEMENTAIRE PUBLIQUE",
          "ECOLE MATERNELLE PUBLIQUE",
          "ECOLE MATERNELLE PUBLIQUE",
          "ECOLE MATERNELLE PUBLIQUE",
          "ECOLE PRIMAIRE PUBLIQUE",
          "ECOLE PRIMAIRE PUBLIQUE",
          "ECOLE PRIMAIRE PRIVEE",
          "ECOLE PRIMAIRE PRIVEE",
          "ECOLE PRIMAIRE PRIVEE",
          "ECOLE PRIMAIRE PRIVEE",
          "ECOLE PRIMAIRE PRIVEE",
          "ECOLE MATERNELLE PUBLIQUE",
          "ECOLE ELEMENTAIRE PUBLIQUE",
          "ECOLE ELEMENTAIRE PUBLIQUE",
          "ECOLE MATERNELLE PUBLIQUE",
          "ECOLE PRIMAIRE PUBLIQUE",
          "ECOLE ELEMENTAIRE PUBLIQUE",
          "ECOLE ELEMENTAIRE PUBLIQUE",
          "ECOLE ELEMENTAIRE PUBLIQUE",
          "ECOLE ELEMENTAIRE PUBLIQUE",
          "ECOLE PRIMAIRE PRIVEE",
          "ECOLE ELEMENTAIRE PUBLIQUE",
          "ECOLE PRIMAIRE PRIVEE",
          "ECOLE MATERNELLE PUBLIQUE",
          "ECOLE PRIMAIRE",
          "ECOLE PRIMAIRE PUBLIQUE",
          "ECOLE PRIMAIRE PUBLIQUE",
          "ECOLE MATERNELLE PUBLIQUE",
          "ECOLE MATERNELLE PUBLIQUE",
          "ECOLE MATERNELLE PUBLIQUE",
          "ECOLE ELEMENTAIRE PUBLIQUE",
          "ECOLE ELEMENTAIRE PUBLIQUE",
          "ECOLE ELEMENTAIRE PUBLIQUE",
          "ECOLE ELEMENTAIRE PUBLIQUE",
          "ECOLE PRIMAIRE PUBLIQUE",
          "ECOLE ELEMENTAIRE PUBLIQUE",
          "ECOLE MATERNELLE PUBLIQUE",
          "ECOLE ELEMENTAIRE PUBLIQUE",
          "ECOLE MATERNELLE PUBLIQUE",
          "ECOLE MATERNELLE PUBLIQUE",
          "ECOLE MATERNELLE PUBLIQUE",
          "ECOLE MATERNELLE PUBLIQUE",
          "ECOLE MATERNELLE PUBLIQUE",
          "ECOLE MATERNELLE PUBLIQUE",
          "ECOLE MATERNELLE PUBLIQUE",
          "ECOLE MATERNELLE PUBLIQUE",
          "ECOLE MATERNELLE PUBLIQUE",
          "ECOLE MATERNELLE PUBLIQUE",
          "ECOLE MATERNELLE PUBLIQUE",
          "ECOLE MATERNELLE PUBLIQUE",
          "ECOLE MATERNELLE PUBLIQUE",
          "ECOLE MATERNELLE PUBLIQUE",
          "ECOLE MATERNELLE PUBLIQUE",
          "ECOLE MATERNELLE PUBLIQUE",
          "ECOLE MATERNELLE PUBLIQUE",
          "ECOLE MATERNELLE PUBLIQUE",
          "ECOLE PRIMAIRE PRIVEE",
          "ECOLE PRIMAIRE PRIVEE",
          "ECOLE PRIMAIRE PRIVEE",
          "ECOLE ELEMENTAIRE PUBLIQUE",
          "ECOLE MATERNELLE PUBLIQUE",
          "ECOLE MATERNELLE PUBLIQUE",
          "ECOLE ELEMENTAIRE PUBLIQUE",
          "ECOLE MATERNELLE PUBLIQUE",
          "ECOLE MATERNELLE PUBLIQUE",
          "ECOLE MATERNELLE PUBLIQUE",
          "ECOLE ELEMENTAIRE PUBLIQUE",
          "ECOLE MATERNELLE PUBLIQUE",
          "ECOLE MATERNELLE PUBLIQUE",
          "ECOLE PRIMAIRE PRIVEE",
          "ECOLE PRIMAIRE PRIVEE",
          "ECOLE PRIMAIRE PRIVEE",
          "ECOLE PRIMAIRE PRIVEE",
          "ECOLE PRIMAIRE PRIVEE",
          "ECOLE PRIMAIRE PRIVEE",
          "ECOLE PRIMAIRE PRIVEE",
          "ECOLE PRIMAIRE PRIVEE",
          "ECOLE ELEMENTAIRE PUBLIQUE"
         ],
         "xaxis": "x",
         "y": [
          168,
          205,
          140,
          234,
          173,
          121,
          215,
          246,
          136,
          222,
          65,
          144,
          286,
          229,
          211,
          253,
          179,
          166,
          146,
          149,
          127,
          195,
          258,
          198,
          170,
          248,
          300,
          184,
          122,
          204,
          179,
          200,
          499,
          236,
          259,
          249,
          211,
          146,
          280,
          276,
          199,
          158,
          243,
          364,
          264,
          255,
          160,
          323,
          260,
          331,
          290,
          396,
          196,
          108,
          124,
          87,
          144,
          154,
          85,
          104,
          96,
          100,
          102,
          148,
          173,
          85,
          91,
          142,
          207,
          74,
          121,
          180,
          128,
          198,
          447,
          307,
          147,
          102,
          83,
          180,
          109,
          102,
          90,
          205,
          138,
          96,
          314,
          166,
          261,
          232,
          129,
          461,
          183,
          520,
          212
         ],
         "yaxis": "y"
        }
       ],
       "layout": {
        "autosize": true,
        "barmode": "group",
        "legend": {
         "title": {
          "text": "rentrée"
         },
         "tracegroupgap": 0
        },
        "template": {
         "data": {
          "bar": [
           {
            "error_x": {
             "color": "#2a3f5f"
            },
            "error_y": {
             "color": "#2a3f5f"
            },
            "marker": {
             "line": {
              "color": "#E5ECF6",
              "width": 0.5
             },
             "pattern": {
              "fillmode": "overlay",
              "size": 10,
              "solidity": 0.2
             }
            },
            "type": "bar"
           }
          ],
          "barpolar": [
           {
            "marker": {
             "line": {
              "color": "#E5ECF6",
              "width": 0.5
             },
             "pattern": {
              "fillmode": "overlay",
              "size": 10,
              "solidity": 0.2
             }
            },
            "type": "barpolar"
           }
          ],
          "carpet": [
           {
            "aaxis": {
             "endlinecolor": "#2a3f5f",
             "gridcolor": "white",
             "linecolor": "white",
             "minorgridcolor": "white",
             "startlinecolor": "#2a3f5f"
            },
            "baxis": {
             "endlinecolor": "#2a3f5f",
             "gridcolor": "white",
             "linecolor": "white",
             "minorgridcolor": "white",
             "startlinecolor": "#2a3f5f"
            },
            "type": "carpet"
           }
          ],
          "choropleth": [
           {
            "colorbar": {
             "outlinewidth": 0,
             "ticks": ""
            },
            "type": "choropleth"
           }
          ],
          "contour": [
           {
            "colorbar": {
             "outlinewidth": 0,
             "ticks": ""
            },
            "colorscale": [
             [
              0,
              "#0d0887"
             ],
             [
              0.1111111111111111,
              "#46039f"
             ],
             [
              0.2222222222222222,
              "#7201a8"
             ],
             [
              0.3333333333333333,
              "#9c179e"
             ],
             [
              0.4444444444444444,
              "#bd3786"
             ],
             [
              0.5555555555555556,
              "#d8576b"
             ],
             [
              0.6666666666666666,
              "#ed7953"
             ],
             [
              0.7777777777777778,
              "#fb9f3a"
             ],
             [
              0.8888888888888888,
              "#fdca26"
             ],
             [
              1,
              "#f0f921"
             ]
            ],
            "type": "contour"
           }
          ],
          "contourcarpet": [
           {
            "colorbar": {
             "outlinewidth": 0,
             "ticks": ""
            },
            "type": "contourcarpet"
           }
          ],
          "heatmap": [
           {
            "colorbar": {
             "outlinewidth": 0,
             "ticks": ""
            },
            "colorscale": [
             [
              0,
              "#0d0887"
             ],
             [
              0.1111111111111111,
              "#46039f"
             ],
             [
              0.2222222222222222,
              "#7201a8"
             ],
             [
              0.3333333333333333,
              "#9c179e"
             ],
             [
              0.4444444444444444,
              "#bd3786"
             ],
             [
              0.5555555555555556,
              "#d8576b"
             ],
             [
              0.6666666666666666,
              "#ed7953"
             ],
             [
              0.7777777777777778,
              "#fb9f3a"
             ],
             [
              0.8888888888888888,
              "#fdca26"
             ],
             [
              1,
              "#f0f921"
             ]
            ],
            "type": "heatmap"
           }
          ],
          "heatmapgl": [
           {
            "colorbar": {
             "outlinewidth": 0,
             "ticks": ""
            },
            "colorscale": [
             [
              0,
              "#0d0887"
             ],
             [
              0.1111111111111111,
              "#46039f"
             ],
             [
              0.2222222222222222,
              "#7201a8"
             ],
             [
              0.3333333333333333,
              "#9c179e"
             ],
             [
              0.4444444444444444,
              "#bd3786"
             ],
             [
              0.5555555555555556,
              "#d8576b"
             ],
             [
              0.6666666666666666,
              "#ed7953"
             ],
             [
              0.7777777777777778,
              "#fb9f3a"
             ],
             [
              0.8888888888888888,
              "#fdca26"
             ],
             [
              1,
              "#f0f921"
             ]
            ],
            "type": "heatmapgl"
           }
          ],
          "histogram": [
           {
            "marker": {
             "pattern": {
              "fillmode": "overlay",
              "size": 10,
              "solidity": 0.2
             }
            },
            "type": "histogram"
           }
          ],
          "histogram2d": [
           {
            "colorbar": {
             "outlinewidth": 0,
             "ticks": ""
            },
            "colorscale": [
             [
              0,
              "#0d0887"
             ],
             [
              0.1111111111111111,
              "#46039f"
             ],
             [
              0.2222222222222222,
              "#7201a8"
             ],
             [
              0.3333333333333333,
              "#9c179e"
             ],
             [
              0.4444444444444444,
              "#bd3786"
             ],
             [
              0.5555555555555556,
              "#d8576b"
             ],
             [
              0.6666666666666666,
              "#ed7953"
             ],
             [
              0.7777777777777778,
              "#fb9f3a"
             ],
             [
              0.8888888888888888,
              "#fdca26"
             ],
             [
              1,
              "#f0f921"
             ]
            ],
            "type": "histogram2d"
           }
          ],
          "histogram2dcontour": [
           {
            "colorbar": {
             "outlinewidth": 0,
             "ticks": ""
            },
            "colorscale": [
             [
              0,
              "#0d0887"
             ],
             [
              0.1111111111111111,
              "#46039f"
             ],
             [
              0.2222222222222222,
              "#7201a8"
             ],
             [
              0.3333333333333333,
              "#9c179e"
             ],
             [
              0.4444444444444444,
              "#bd3786"
             ],
             [
              0.5555555555555556,
              "#d8576b"
             ],
             [
              0.6666666666666666,
              "#ed7953"
             ],
             [
              0.7777777777777778,
              "#fb9f3a"
             ],
             [
              0.8888888888888888,
              "#fdca26"
             ],
             [
              1,
              "#f0f921"
             ]
            ],
            "type": "histogram2dcontour"
           }
          ],
          "mesh3d": [
           {
            "colorbar": {
             "outlinewidth": 0,
             "ticks": ""
            },
            "type": "mesh3d"
           }
          ],
          "parcoords": [
           {
            "line": {
             "colorbar": {
              "outlinewidth": 0,
              "ticks": ""
             }
            },
            "type": "parcoords"
           }
          ],
          "pie": [
           {
            "automargin": true,
            "type": "pie"
           }
          ],
          "scatter": [
           {
            "fillpattern": {
             "fillmode": "overlay",
             "size": 10,
             "solidity": 0.2
            },
            "type": "scatter"
           }
          ],
          "scatter3d": [
           {
            "line": {
             "colorbar": {
              "outlinewidth": 0,
              "ticks": ""
             }
            },
            "marker": {
             "colorbar": {
              "outlinewidth": 0,
              "ticks": ""
             }
            },
            "type": "scatter3d"
           }
          ],
          "scattercarpet": [
           {
            "marker": {
             "colorbar": {
              "outlinewidth": 0,
              "ticks": ""
             }
            },
            "type": "scattercarpet"
           }
          ],
          "scattergeo": [
           {
            "marker": {
             "colorbar": {
              "outlinewidth": 0,
              "ticks": ""
             }
            },
            "type": "scattergeo"
           }
          ],
          "scattergl": [
           {
            "marker": {
             "colorbar": {
              "outlinewidth": 0,
              "ticks": ""
             }
            },
            "type": "scattergl"
           }
          ],
          "scattermapbox": [
           {
            "marker": {
             "colorbar": {
              "outlinewidth": 0,
              "ticks": ""
             }
            },
            "type": "scattermapbox"
           }
          ],
          "scatterpolar": [
           {
            "marker": {
             "colorbar": {
              "outlinewidth": 0,
              "ticks": ""
             }
            },
            "type": "scatterpolar"
           }
          ],
          "scatterpolargl": [
           {
            "marker": {
             "colorbar": {
              "outlinewidth": 0,
              "ticks": ""
             }
            },
            "type": "scatterpolargl"
           }
          ],
          "scatterternary": [
           {
            "marker": {
             "colorbar": {
              "outlinewidth": 0,
              "ticks": ""
             }
            },
            "type": "scatterternary"
           }
          ],
          "surface": [
           {
            "colorbar": {
             "outlinewidth": 0,
             "ticks": ""
            },
            "colorscale": [
             [
              0,
              "#0d0887"
             ],
             [
              0.1111111111111111,
              "#46039f"
             ],
             [
              0.2222222222222222,
              "#7201a8"
             ],
             [
              0.3333333333333333,
              "#9c179e"
             ],
             [
              0.4444444444444444,
              "#bd3786"
             ],
             [
              0.5555555555555556,
              "#d8576b"
             ],
             [
              0.6666666666666666,
              "#ed7953"
             ],
             [
              0.7777777777777778,
              "#fb9f3a"
             ],
             [
              0.8888888888888888,
              "#fdca26"
             ],
             [
              1,
              "#f0f921"
             ]
            ],
            "type": "surface"
           }
          ],
          "table": [
           {
            "cells": {
             "fill": {
              "color": "#EBF0F8"
             },
             "line": {
              "color": "white"
             }
            },
            "header": {
             "fill": {
              "color": "#C8D4E3"
             },
             "line": {
              "color": "white"
             }
            },
            "type": "table"
           }
          ]
         },
         "layout": {
          "annotationdefaults": {
           "arrowcolor": "#2a3f5f",
           "arrowhead": 0,
           "arrowwidth": 1
          },
          "autotypenumbers": "strict",
          "coloraxis": {
           "colorbar": {
            "outlinewidth": 0,
            "ticks": ""
           }
          },
          "colorscale": {
           "diverging": [
            [
             0,
             "#8e0152"
            ],
            [
             0.1,
             "#c51b7d"
            ],
            [
             0.2,
             "#de77ae"
            ],
            [
             0.3,
             "#f1b6da"
            ],
            [
             0.4,
             "#fde0ef"
            ],
            [
             0.5,
             "#f7f7f7"
            ],
            [
             0.6,
             "#e6f5d0"
            ],
            [
             0.7,
             "#b8e186"
            ],
            [
             0.8,
             "#7fbc41"
            ],
            [
             0.9,
             "#4d9221"
            ],
            [
             1,
             "#276419"
            ]
           ],
           "sequential": [
            [
             0,
             "#0d0887"
            ],
            [
             0.1111111111111111,
             "#46039f"
            ],
            [
             0.2222222222222222,
             "#7201a8"
            ],
            [
             0.3333333333333333,
             "#9c179e"
            ],
            [
             0.4444444444444444,
             "#bd3786"
            ],
            [
             0.5555555555555556,
             "#d8576b"
            ],
            [
             0.6666666666666666,
             "#ed7953"
            ],
            [
             0.7777777777777778,
             "#fb9f3a"
            ],
            [
             0.8888888888888888,
             "#fdca26"
            ],
            [
             1,
             "#f0f921"
            ]
           ],
           "sequentialminus": [
            [
             0,
             "#0d0887"
            ],
            [
             0.1111111111111111,
             "#46039f"
            ],
            [
             0.2222222222222222,
             "#7201a8"
            ],
            [
             0.3333333333333333,
             "#9c179e"
            ],
            [
             0.4444444444444444,
             "#bd3786"
            ],
            [
             0.5555555555555556,
             "#d8576b"
            ],
            [
             0.6666666666666666,
             "#ed7953"
            ],
            [
             0.7777777777777778,
             "#fb9f3a"
            ],
            [
             0.8888888888888888,
             "#fdca26"
            ],
            [
             1,
             "#f0f921"
            ]
           ]
          },
          "colorway": [
           "#636efa",
           "#EF553B",
           "#00cc96",
           "#ab63fa",
           "#FFA15A",
           "#19d3f3",
           "#FF6692",
           "#B6E880",
           "#FF97FF",
           "#FECB52"
          ],
          "font": {
           "color": "#2a3f5f"
          },
          "geo": {
           "bgcolor": "white",
           "lakecolor": "white",
           "landcolor": "#E5ECF6",
           "showlakes": true,
           "showland": true,
           "subunitcolor": "white"
          },
          "hoverlabel": {
           "align": "left"
          },
          "hovermode": "closest",
          "mapbox": {
           "style": "light"
          },
          "paper_bgcolor": "white",
          "plot_bgcolor": "#E5ECF6",
          "polar": {
           "angularaxis": {
            "gridcolor": "white",
            "linecolor": "white",
            "ticks": ""
           },
           "bgcolor": "#E5ECF6",
           "radialaxis": {
            "gridcolor": "white",
            "linecolor": "white",
            "ticks": ""
           }
          },
          "scene": {
           "xaxis": {
            "backgroundcolor": "#E5ECF6",
            "gridcolor": "white",
            "gridwidth": 2,
            "linecolor": "white",
            "showbackground": true,
            "ticks": "",
            "zerolinecolor": "white"
           },
           "yaxis": {
            "backgroundcolor": "#E5ECF6",
            "gridcolor": "white",
            "gridwidth": 2,
            "linecolor": "white",
            "showbackground": true,
            "ticks": "",
            "zerolinecolor": "white"
           },
           "zaxis": {
            "backgroundcolor": "#E5ECF6",
            "gridcolor": "white",
            "gridwidth": 2,
            "linecolor": "white",
            "showbackground": true,
            "ticks": "",
            "zerolinecolor": "white"
           }
          },
          "shapedefaults": {
           "line": {
            "color": "#2a3f5f"
           }
          },
          "ternary": {
           "aaxis": {
            "gridcolor": "white",
            "linecolor": "white",
            "ticks": ""
           },
           "baxis": {
            "gridcolor": "white",
            "linecolor": "white",
            "ticks": ""
           },
           "bgcolor": "#E5ECF6",
           "caxis": {
            "gridcolor": "white",
            "linecolor": "white",
            "ticks": ""
           }
          },
          "title": {
           "x": 0.05
          },
          "xaxis": {
           "automargin": true,
           "gridcolor": "white",
           "linecolor": "white",
           "ticks": "",
           "title": {
            "standoff": 15
           },
           "zerolinecolor": "white",
           "zerolinewidth": 2
          },
          "yaxis": {
           "automargin": true,
           "gridcolor": "white",
           "linecolor": "white",
           "ticks": "",
           "title": {
            "standoff": 15
           },
           "zerolinecolor": "white",
           "zerolinewidth": 2
          }
         }
        },
        "title": {
         "text": "effectif 1er degré RENNES"
        },
        "xaxis": {
         "anchor": "y",
         "autorange": true,
         "domain": [
          0,
          1
         ],
         "range": [
          -0.5,
          4.5
         ],
         "title": {
          "text": "Dénomination principale"
         },
         "type": "category"
        },
        "yaxis": {
         "anchor": "x",
         "autorange": true,
         "domain": [
          0,
          1
         ],
         "range": [
          0,
          7609.473684210527
         ],
         "title": {
          "text": "Nombre total d'élèves"
         },
         "type": "linear"
        }
       }
      },
      "text/html": [
       "<div>                            <div id=\"74741751-a1da-4dd6-846b-d1aeff35692e\" class=\"plotly-graph-div\" style=\"height:525px; width:100%;\"></div>            <script type=\"text/javascript\">                require([\"plotly\"], function(Plotly) {                    window.PLOTLYENV=window.PLOTLYENV || {};                                    if (document.getElementById(\"74741751-a1da-4dd6-846b-d1aeff35692e\")) {                    Plotly.newPlot(                        \"74741751-a1da-4dd6-846b-d1aeff35692e\",                        [{\"alignmentgroup\":\"True\",\"hovertemplate\":\"rentr\\u00e9e=2019\\u003cbr\\u003eD\\u00e9nomination principale=%{x}\\u003cbr\\u003eNombre total d'\\u00e9l\\u00e8ves=%{y}\\u003cextra\\u003e\\u003c\\u002fextra\\u003e\",\"legendgroup\":\"2019\",\"marker\":{\"color\":\"#636efa\",\"pattern\":{\"shape\":\"\"}},\"name\":\"2019\",\"offsetgroup\":\"2019\",\"orientation\":\"v\",\"showlegend\":true,\"textposition\":\"auto\",\"x\":[\"ECOLE ELEMENTAIRE PUBLIQUE\",\"ECOLE ELEMENTAIRE PUBLIQUE\",\"ECOLE ELEMENTAIRE PUBLIQUE\",\"ECOLE ELEMENTAIRE PUBLIQUE\",\"ECOLE ELEMENTAIRE PUBLIQUE\",\"ECOLE ELEMENTAIRE PUBLIQUE\",\"ECOLE ELEMENTAIRE PUBLIQUE\",\"ECOLE ELEMENTAIRE PUBLIQUE\",\"ECOLE ELEMENTAIRE PUBLIQUE\",\"ECOLE PRIMAIRE PUBLIQUE\",\"ECOLE ELEMENTAIRE PUBLIQUE\",\"ECOLE ELEMENTAIRE PUBLIQUE\",\"ECOLE ELEMENTAIRE PUBLIQUE\",\"ECOLE ELEMENTAIRE PUBLIQUE\",\"ECOLE ELEMENTAIRE PUBLIQUE\",\"ECOLE ELEMENTAIRE PUBLIQUE\",\"ECOLE ELEMENTAIRE PUBLIQUE\",\"ECOLE ELEMENTAIRE PUBLIQUE\",\"ECOLE MATERNELLE PUBLIQUE\",\"ECOLE PRIMAIRE PUBLIQUE\",\"ECOLE PRIMAIRE PRIVEE\",\"ECOLE PRIMAIRE PRIVEE\",\"ECOLE PRIMAIRE PRIVEE\",\"ECOLE PRIMAIRE PRIVEE\",\"ECOLE PRIMAIRE PRIVEE\",\"ECOLE MATERNELLE PUBLIQUE\",\"ECOLE ELEMENTAIRE PUBLIQUE\",\"ECOLE ELEMENTAIRE PUBLIQUE\",\"ECOLE MATERNELLE PUBLIQUE\",\"ECOLE PRIMAIRE PUBLIQUE\",\"ECOLE ELEMENTAIRE PUBLIQUE\",\"ECOLE ELEMENTAIRE PUBLIQUE\",\"ECOLE ELEMENTAIRE PUBLIQUE\",\"ECOLE ELEMENTAIRE PUBLIQUE\",\"ECOLE ELEMENTAIRE PUBLIQUE\",\"ECOLE ELEMENTAIRE PUBLIQUE\",\"ECOLE PRIMAIRE PUBLIQUE\",\"ECOLE MATERNELLE PUBLIQUE\",\"ECOLE PRIMAIRE PRIVEE\",\"ECOLE PRIMAIRE PRIVEE\",\"ECOLE MATERNELLE PUBLIQUE\",\"ECOLE PRIMAIRE PUBLIQUE\",\"ECOLE MATERNELLE PUBLIQUE\",\"ECOLE PRIMAIRE PUBLIQUE\",\"ECOLE MATERNELLE PUBLIQUE\",\"ECOLE MATERNELLE PUBLIQUE\",\"ECOLE ELEMENTAIRE PUBLIQUE\",\"ECOLE ELEMENTAIRE PUBLIQUE\",\"ECOLE ELEMENTAIRE PUBLIQUE\",\"ECOLE ELEMENTAIRE PUBLIQUE\",\"ECOLE MATERNELLE PUBLIQUE\",\"ECOLE PRIMAIRE PUBLIQUE\",\"ECOLE MATERNELLE PUBLIQUE\",\"ECOLE ELEMENTAIRE PUBLIQUE\",\"ECOLE MATERNELLE PUBLIQUE\",\"ECOLE MATERNELLE PUBLIQUE\",\"ECOLE MATERNELLE PUBLIQUE\",\"ECOLE MATERNELLE PUBLIQUE\",\"ECOLE MATERNELLE PUBLIQUE\",\"ECOLE MATERNELLE PUBLIQUE\",\"ECOLE MATERNELLE PUBLIQUE\",\"ECOLE MATERNELLE PUBLIQUE\",\"ECOLE MATERNELLE PUBLIQUE\",\"ECOLE MATERNELLE PUBLIQUE\",\"ECOLE MATERNELLE PUBLIQUE\",\"ECOLE MATERNELLE PUBLIQUE\",\"ECOLE MATERNELLE PUBLIQUE\",\"ECOLE MATERNELLE PUBLIQUE\",\"ECOLE MATERNELLE PUBLIQUE\",\"ECOLE MATERNELLE PUBLIQUE\",\"ECOLE MATERNELLE PUBLIQUE\",\"ECOLE ELEMENTAIRE PUBLIQUE\",\"ECOLE MATERNELLE PUBLIQUE\",\"ECOLE PRIMAIRE PRIVEE\",\"ECOLE MATERNELLE PUBLIQUE\",\"ECOLE PRIMAIRE PRIVEE\",\"ECOLE PRIMAIRE PRIVEE\",\"ECOLE MATERNELLE PUBLIQUE\",\"ECOLE ELEMENTAIRE PUBLIQUE\",\"ECOLE MATERNELLE PUBLIQUE\",\"ECOLE MATERNELLE PUBLIQUE\",\"ECOLE MATERNELLE PUBLIQUE\",\"ECOLE MATERNELLE PUBLIQUE\",\"ECOLE ELEMENTAIRE PUBLIQUE\",\"ECOLE ELEMENTAIRE PUBLIQUE\",\"ECOLE PRIMAIRE PRIVEE\",\"ECOLE MATERNELLE PUBLIQUE\",\"ECOLE PRIMAIRE PRIVEE\",\"ECOLE PRIMAIRE PRIVEE\",\"ECOLE PRIMAIRE PRIVEE\",\"ECOLE PRIMAIRE PRIVEE\",\"ECOLE PRIMAIRE PRIVEE\",\"ECOLE PRIMAIRE PRIVEE\",\"ECOLE PRIMAIRE PRIVEE\"],\"xaxis\":\"x\",\"y\":[204,140,181,178,116,233,208,155,212,72,146,256,230,297,252,203,157,173,140,307,218,199,266,322,205,142,190,173,215,435,223,264,240,194,250,157,184,130,153,268,187,291,114,373,280,199,292,290,325,285,219,401,244,125,84,102,175,151,93,107,97,103,126,154,137,97,133,161,72,131,182,143,130,225,91,325,413,110,205,128,103,101,99,232,196,169,147,284,254,119,469,186,496,299],\"yaxis\":\"y\",\"type\":\"bar\"},{\"alignmentgroup\":\"True\",\"hovertemplate\":\"rentr\\u00e9e=2020\\u003cbr\\u003eD\\u00e9nomination principale=%{x}\\u003cbr\\u003eNombre total d'\\u00e9l\\u00e8ves=%{y}\\u003cextra\\u003e\\u003c\\u002fextra\\u003e\",\"legendgroup\":\"2020\",\"marker\":{\"color\":\"#EF553B\",\"pattern\":{\"shape\":\"\"}},\"name\":\"2020\",\"offsetgroup\":\"2020\",\"orientation\":\"v\",\"showlegend\":true,\"textposition\":\"auto\",\"x\":[\"ECOLE ELEMENTAIRE PUBLIQUE\",\"ECOLE ELEMENTAIRE PUBLIQUE\",\"ECOLE ELEMENTAIRE PUBLIQUE\",\"ECOLE ELEMENTAIRE PUBLIQUE\",\"ECOLE ELEMENTAIRE PUBLIQUE\",\"ECOLE ELEMENTAIRE PUBLIQUE\",\"ECOLE ELEMENTAIRE PUBLIQUE\",\"ECOLE ELEMENTAIRE PUBLIQUE\",\"ECOLE ELEMENTAIRE PUBLIQUE\",\"ECOLE ELEMENTAIRE PUBLIQUE\",\"ECOLE PRIMAIRE PUBLIQUE\",\"ECOLE ELEMENTAIRE PUBLIQUE\",\"ECOLE ELEMENTAIRE PUBLIQUE\",\"ECOLE ELEMENTAIRE PUBLIQUE\",\"ECOLE ELEMENTAIRE PUBLIQUE\",\"ECOLE ELEMENTAIRE PUBLIQUE\",\"ECOLE ELEMENTAIRE PUBLIQUE\",\"ECOLE ELEMENTAIRE PUBLIQUE\",\"ECOLE MATERNELLE PUBLIQUE\",\"ECOLE MATERNELLE PUBLIQUE\",\"ECOLE MATERNELLE PUBLIQUE\",\"ECOLE PRIMAIRE PUBLIQUE\",\"ECOLE PRIMAIRE PUBLIQUE\",\"ECOLE PRIMAIRE PRIVEE\",\"ECOLE PRIMAIRE PRIVEE\",\"ECOLE PRIMAIRE PRIVEE\",\"ECOLE PRIMAIRE PRIVEE\",\"ECOLE PRIMAIRE PRIVEE\",\"ECOLE MATERNELLE PUBLIQUE\",\"ECOLE ELEMENTAIRE PUBLIQUE\",\"ECOLE ELEMENTAIRE PUBLIQUE\",\"ECOLE MATERNELLE PUBLIQUE\",\"ECOLE PRIMAIRE PUBLIQUE\",\"ECOLE ELEMENTAIRE PUBLIQUE\",\"ECOLE ELEMENTAIRE PUBLIQUE\",\"ECOLE ELEMENTAIRE PUBLIQUE\",\"ECOLE ELEMENTAIRE PUBLIQUE\",\"ECOLE PRIMAIRE PRIVEE\",\"ECOLE ELEMENTAIRE PUBLIQUE\",\"ECOLE PRIMAIRE PRIVEE\",\"ECOLE MATERNELLE PUBLIQUE\",\"ECOLE PRIMAIRE PUBLIQUE\",\"ECOLE PRIMAIRE PUBLIQUE\",\"ECOLE MATERNELLE PUBLIQUE\",\"ECOLE MATERNELLE PUBLIQUE\",\"ECOLE MATERNELLE PUBLIQUE\",\"ECOLE ELEMENTAIRE PUBLIQUE\",\"ECOLE ELEMENTAIRE PUBLIQUE\",\"ECOLE ELEMENTAIRE PUBLIQUE\",\"ECOLE ELEMENTAIRE PUBLIQUE\",\"ECOLE PRIMAIRE PUBLIQUE\",\"ECOLE ELEMENTAIRE PUBLIQUE\",\"ECOLE MATERNELLE PUBLIQUE\",\"ECOLE ELEMENTAIRE PUBLIQUE\",\"ECOLE MATERNELLE PUBLIQUE\",\"ECOLE MATERNELLE PUBLIQUE\",\"ECOLE MATERNELLE PUBLIQUE\",\"ECOLE MATERNELLE PUBLIQUE\",\"ECOLE MATERNELLE PUBLIQUE\",\"ECOLE MATERNELLE PUBLIQUE\",\"ECOLE MATERNELLE PUBLIQUE\",\"ECOLE MATERNELLE PUBLIQUE\",\"ECOLE MATERNELLE PUBLIQUE\",\"ECOLE MATERNELLE PUBLIQUE\",\"ECOLE MATERNELLE PUBLIQUE\",\"ECOLE MATERNELLE PUBLIQUE\",\"ECOLE MATERNELLE PUBLIQUE\",\"ECOLE MATERNELLE PUBLIQUE\",\"ECOLE MATERNELLE PUBLIQUE\",\"ECOLE MATERNELLE PUBLIQUE\",\"ECOLE MATERNELLE PUBLIQUE\",\"ECOLE MATERNELLE PUBLIQUE\",\"ECOLE PRIMAIRE PRIVEE\",\"ECOLE PRIMAIRE PRIVEE\",\"ECOLE PRIMAIRE PRIVEE\",\"ECOLE ELEMENTAIRE PUBLIQUE\",\"ECOLE MATERNELLE PUBLIQUE\",\"ECOLE MATERNELLE PUBLIQUE\",\"ECOLE ELEMENTAIRE PUBLIQUE\",\"ECOLE MATERNELLE PUBLIQUE\",\"ECOLE MATERNELLE PUBLIQUE\",\"ECOLE MATERNELLE PUBLIQUE\",\"ECOLE ELEMENTAIRE PUBLIQUE\",\"ECOLE MATERNELLE PUBLIQUE\",\"ECOLE MATERNELLE PUBLIQUE\",\"ECOLE PRIMAIRE PRIVEE\",\"ECOLE PRIMAIRE PRIVEE\",\"ECOLE PRIMAIRE PRIVEE\",\"ECOLE PRIMAIRE PRIVEE\",\"ECOLE PRIMAIRE PRIVEE\",\"ECOLE PRIMAIRE PRIVEE\",\"ECOLE PRIMAIRE PRIVEE\",\"ECOLE PRIMAIRE PRIVEE\",\"ECOLE ELEMENTAIRE PUBLIQUE\"],\"xaxis\":\"x\",\"y\":[162,213,140,207,178,104,219,211,155,223,71,155,277,232,271,263,195,178,183,153,128,186,308,212,190,258,319,196,121,220,173,196,444,225,260,221,190,157,269,275,211,278,367,253,272,189,324,274,337,303,394,165,115,116,91,164,165,88,102,94,91,109,149,156,123,95,150,172,74,133,178,126,231,401,317,151,96,81,199,114,95,97,207,141,88,313,166,273,257,137,468,191,500,212],\"yaxis\":\"y\",\"type\":\"bar\"},{\"alignmentgroup\":\"True\",\"hovertemplate\":\"rentr\\u00e9e=2021\\u003cbr\\u003eD\\u00e9nomination principale=%{x}\\u003cbr\\u003eNombre total d'\\u00e9l\\u00e8ves=%{y}\\u003cextra\\u003e\\u003c\\u002fextra\\u003e\",\"legendgroup\":\"2021\",\"marker\":{\"color\":\"#00cc96\",\"pattern\":{\"shape\":\"\"}},\"name\":\"2021\",\"offsetgroup\":\"2021\",\"orientation\":\"v\",\"showlegend\":true,\"textposition\":\"auto\",\"x\":[\"ECOLE ELEMENTAIRE PUBLIQUE\",\"ECOLE ELEMENTAIRE PUBLIQUE\",\"ECOLE ELEMENTAIRE PUBLIQUE\",\"ECOLE ELEMENTAIRE PUBLIQUE\",\"ECOLE ELEMENTAIRE PUBLIQUE\",\"ECOLE ELEMENTAIRE PUBLIQUE\",\"ECOLE ELEMENTAIRE PUBLIQUE\",\"ECOLE ELEMENTAIRE PUBLIQUE\",\"ECOLE ELEMENTAIRE PUBLIQUE\",\"ECOLE PRIMAIRE PUBLIQUE\",\"ECOLE ELEMENTAIRE PUBLIQUE\",\"ECOLE ELEMENTAIRE PUBLIQUE\",\"ECOLE ELEMENTAIRE PUBLIQUE\",\"ECOLE ELEMENTAIRE PUBLIQUE\",\"ECOLE ELEMENTAIRE PUBLIQUE\",\"ECOLE ELEMENTAIRE PUBLIQUE\",\"ECOLE ELEMENTAIRE PUBLIQUE\",\"ECOLE ELEMENTAIRE PUBLIQUE\",\"ECOLE MATERNELLE PUBLIQUE\",\"ECOLE PRIMAIRE PUBLIQUE\",\"ECOLE PRIMAIRE PRIVEE\",\"ECOLE PRIMAIRE PRIVEE\",\"ECOLE PRIMAIRE PRIVEE\",\"ECOLE PRIMAIRE PRIVEE\",\"ECOLE PRIMAIRE PRIVEE\",\"ECOLE MATERNELLE PUBLIQUE\",\"ECOLE ELEMENTAIRE PUBLIQUE\",\"ECOLE ELEMENTAIRE PUBLIQUE\",\"ECOLE MATERNELLE PUBLIQUE\",\"ECOLE PRIMAIRE PUBLIQUE\",\"ECOLE ELEMENTAIRE PUBLIQUE\",\"ECOLE ELEMENTAIRE PUBLIQUE\",\"ECOLE ELEMENTAIRE PUBLIQUE\",\"ECOLE ELEMENTAIRE PUBLIQUE\",\"ECOLE ELEMENTAIRE PUBLIQUE\",\"ECOLE ELEMENTAIRE PUBLIQUE\",\"ECOLE MATERNELLE PUBLIQUE\",\"ECOLE MATERNELLE PUBLIQUE\",\"ECOLE PRIMAIRE PRIVEE\",\"ECOLE PRIMAIRE PUBLIQUE\",\"ECOLE MATERNELLE PUBLIQUE\",\"ECOLE PRIMAIRE PUBLIQUE\",\"ECOLE PRIMAIRE PUBLIQUE\",\"ECOLE MATERNELLE PUBLIQUE\",\"ECOLE MATERNELLE PUBLIQUE\",\"ECOLE MATERNELLE PUBLIQUE\",\"ECOLE ELEMENTAIRE PUBLIQUE\",\"ECOLE ELEMENTAIRE PUBLIQUE\",\"ECOLE ELEMENTAIRE PUBLIQUE\",\"ECOLE ELEMENTAIRE PUBLIQUE\",\"ECOLE MATERNELLE PUBLIQUE\",\"ECOLE PRIMAIRE PRIVEE\",\"ECOLE ELEMENTAIRE PUBLIQUE\",\"ECOLE PRIMAIRE PUBLIQUE\",\"ECOLE MATERNELLE PUBLIQUE\",\"ECOLE MATERNELLE PUBLIQUE\",\"ECOLE MATERNELLE PUBLIQUE\",\"ECOLE MATERNELLE PUBLIQUE\",\"ECOLE MATERNELLE PUBLIQUE\",\"ECOLE MATERNELLE PUBLIQUE\",\"ECOLE MATERNELLE PUBLIQUE\",\"ECOLE MATERNELLE PUBLIQUE\",\"ECOLE MATERNELLE PUBLIQUE\",\"ECOLE MATERNELLE PUBLIQUE\",\"ECOLE MATERNELLE PUBLIQUE\",\"ECOLE MATERNELLE PUBLIQUE\",\"ECOLE MATERNELLE PUBLIQUE\",\"ECOLE MATERNELLE PUBLIQUE\",\"ECOLE MATERNELLE PUBLIQUE\",\"ECOLE MATERNELLE PUBLIQUE\",\"ECOLE MATERNELLE PUBLIQUE\",\"ECOLE ELEMENTAIRE PUBLIQUE\",\"ECOLE MATERNELLE PUBLIQUE\",\"ECOLE PRIMAIRE PRIVEE\",\"ECOLE MATERNELLE PUBLIQUE\",\"ECOLE MATERNELLE PUBLIQUE\",\"ECOLE PRIMAIRE PRIVEE\",\"ECOLE ELEMENTAIRE PUBLIQUE\",\"ECOLE MATERNELLE PUBLIQUE\",\"ECOLE MATERNELLE PUBLIQUE\",\"ECOLE MATERNELLE PUBLIQUE\",\"ECOLE ELEMENTAIRE PUBLIQUE\",\"ECOLE MATERNELLE PUBLIQUE\",\"ECOLE ELEMENTAIRE PUBLIQUE\",\"ECOLE PRIMAIRE PRIVEE\",\"ECOLE MATERNELLE PUBLIQUE\",\"ECOLE PRIMAIRE PRIVEE\",\"ECOLE PRIMAIRE PRIVEE\",\"ECOLE PRIMAIRE PRIVEE\",\"ECOLE PRIMAIRE PRIVEE\",\"ECOLE PRIMAIRE PRIVEE\",\"ECOLE PRIMAIRE PRIVEE\",\"ECOLE PRIMAIRE PRIVEE\",\"ECOLE PRIMAIRE PRIVEE\"],\"xaxis\":\"x\",\"y\":[210,135,201,173,112,229,209,150,208,72,152,272,231,269,255,192,170,173,136,300,202,184,248,306,191,109,224,172,200,444,230,262,241,212,276,165,129,112,143,387,215,254,376,255,247,160,319,261,344,299,210,273,112,186,98,97,146,163,89,102,81,106,141,157,97,101,153,197,73,127,180,146,129,213,93,158,409,194,108,111,99,206,87,208,289,75,278,241,138,475,173,511,306,165],\"yaxis\":\"y\",\"type\":\"bar\"},{\"alignmentgroup\":\"True\",\"hovertemplate\":\"rentr\\u00e9e=2022\\u003cbr\\u003eD\\u00e9nomination principale=%{x}\\u003cbr\\u003eNombre total d'\\u00e9l\\u00e8ves=%{y}\\u003cextra\\u003e\\u003c\\u002fextra\\u003e\",\"legendgroup\":\"2022\",\"marker\":{\"color\":\"#ab63fa\",\"pattern\":{\"shape\":\"\"}},\"name\":\"2022\",\"offsetgroup\":\"2022\",\"orientation\":\"v\",\"showlegend\":true,\"textposition\":\"auto\",\"x\":[\"ECOLE ELEMENTAIRE PUBLIQUE\",\"ECOLE ELEMENTAIRE PUBLIQUE\",\"ECOLE ELEMENTAIRE PUBLIQUE\",\"ECOLE ELEMENTAIRE PUBLIQUE\",\"ECOLE ELEMENTAIRE PUBLIQUE\",\"ECOLE ELEMENTAIRE PUBLIQUE\",\"ECOLE ELEMENTAIRE PUBLIQUE\",\"ECOLE ELEMENTAIRE PUBLIQUE\",\"ECOLE ELEMENTAIRE PUBLIQUE\",\"ECOLE ELEMENTAIRE PUBLIQUE\",\"ECOLE PRIMAIRE PUBLIQUE\",\"ECOLE ELEMENTAIRE PUBLIQUE\",\"ECOLE ELEMENTAIRE PUBLIQUE\",\"ECOLE ELEMENTAIRE PUBLIQUE\",\"ECOLE ELEMENTAIRE PUBLIQUE\",\"ECOLE ELEMENTAIRE PUBLIQUE\",\"ECOLE ELEMENTAIRE PUBLIQUE\",\"ECOLE ELEMENTAIRE PUBLIQUE\",\"ECOLE MATERNELLE PUBLIQUE\",\"ECOLE MATERNELLE PUBLIQUE\",\"ECOLE MATERNELLE PUBLIQUE\",\"ECOLE PRIMAIRE PUBLIQUE\",\"ECOLE PRIMAIRE PUBLIQUE\",\"ECOLE PRIMAIRE PRIVEE\",\"ECOLE PRIMAIRE PRIVEE\",\"ECOLE PRIMAIRE PRIVEE\",\"ECOLE PRIMAIRE PRIVEE\",\"ECOLE PRIMAIRE PRIVEE\",\"ECOLE MATERNELLE PUBLIQUE\",\"ECOLE ELEMENTAIRE PUBLIQUE\",\"ECOLE ELEMENTAIRE PUBLIQUE\",\"ECOLE MATERNELLE PUBLIQUE\",\"ECOLE PRIMAIRE PUBLIQUE\",\"ECOLE ELEMENTAIRE PUBLIQUE\",\"ECOLE ELEMENTAIRE PUBLIQUE\",\"ECOLE ELEMENTAIRE PUBLIQUE\",\"ECOLE ELEMENTAIRE PUBLIQUE\",\"ECOLE PRIMAIRE PRIVEE\",\"ECOLE ELEMENTAIRE PUBLIQUE\",\"ECOLE PRIMAIRE PRIVEE\",\"ECOLE MATERNELLE PUBLIQUE\",\"ECOLE PRIMAIRE\",\"ECOLE PRIMAIRE PUBLIQUE\",\"ECOLE PRIMAIRE PUBLIQUE\",\"ECOLE MATERNELLE PUBLIQUE\",\"ECOLE MATERNELLE PUBLIQUE\",\"ECOLE MATERNELLE PUBLIQUE\",\"ECOLE ELEMENTAIRE PUBLIQUE\",\"ECOLE ELEMENTAIRE PUBLIQUE\",\"ECOLE ELEMENTAIRE PUBLIQUE\",\"ECOLE ELEMENTAIRE PUBLIQUE\",\"ECOLE PRIMAIRE PUBLIQUE\",\"ECOLE ELEMENTAIRE PUBLIQUE\",\"ECOLE MATERNELLE PUBLIQUE\",\"ECOLE ELEMENTAIRE PUBLIQUE\",\"ECOLE MATERNELLE PUBLIQUE\",\"ECOLE MATERNELLE PUBLIQUE\",\"ECOLE MATERNELLE PUBLIQUE\",\"ECOLE MATERNELLE PUBLIQUE\",\"ECOLE MATERNELLE PUBLIQUE\",\"ECOLE MATERNELLE PUBLIQUE\",\"ECOLE MATERNELLE PUBLIQUE\",\"ECOLE MATERNELLE PUBLIQUE\",\"ECOLE MATERNELLE PUBLIQUE\",\"ECOLE MATERNELLE PUBLIQUE\",\"ECOLE MATERNELLE PUBLIQUE\",\"ECOLE MATERNELLE PUBLIQUE\",\"ECOLE MATERNELLE PUBLIQUE\",\"ECOLE MATERNELLE PUBLIQUE\",\"ECOLE MATERNELLE PUBLIQUE\",\"ECOLE MATERNELLE PUBLIQUE\",\"ECOLE MATERNELLE PUBLIQUE\",\"ECOLE MATERNELLE PUBLIQUE\",\"ECOLE PRIMAIRE PRIVEE\",\"ECOLE PRIMAIRE PRIVEE\",\"ECOLE PRIMAIRE PRIVEE\",\"ECOLE ELEMENTAIRE PUBLIQUE\",\"ECOLE MATERNELLE PUBLIQUE\",\"ECOLE MATERNELLE PUBLIQUE\",\"ECOLE ELEMENTAIRE PUBLIQUE\",\"ECOLE MATERNELLE PUBLIQUE\",\"ECOLE MATERNELLE PUBLIQUE\",\"ECOLE MATERNELLE PUBLIQUE\",\"ECOLE ELEMENTAIRE PUBLIQUE\",\"ECOLE MATERNELLE PUBLIQUE\",\"ECOLE MATERNELLE PUBLIQUE\",\"ECOLE PRIMAIRE PRIVEE\",\"ECOLE PRIMAIRE PRIVEE\",\"ECOLE PRIMAIRE PRIVEE\",\"ECOLE PRIMAIRE PRIVEE\",\"ECOLE PRIMAIRE PRIVEE\",\"ECOLE PRIMAIRE PRIVEE\",\"ECOLE PRIMAIRE PRIVEE\",\"ECOLE PRIMAIRE PRIVEE\",\"ECOLE ELEMENTAIRE PUBLIQUE\"],\"xaxis\":\"x\",\"y\":[168,205,140,234,173,121,215,246,136,222,65,144,286,229,211,253,179,166,146,149,127,195,258,198,170,248,300,184,122,204,179,200,499,236,259,249,211,146,280,276,199,158,243,364,264,255,160,323,260,331,290,396,196,108,124,87,144,154,85,104,96,100,102,148,173,85,91,142,207,74,121,180,128,198,447,307,147,102,83,180,109,102,90,205,138,96,314,166,261,232,129,461,183,520,212],\"yaxis\":\"y\",\"type\":\"bar\"}],                        {\"template\":{\"data\":{\"histogram2dcontour\":[{\"type\":\"histogram2dcontour\",\"colorbar\":{\"outlinewidth\":0,\"ticks\":\"\"},\"colorscale\":[[0.0,\"#0d0887\"],[0.1111111111111111,\"#46039f\"],[0.2222222222222222,\"#7201a8\"],[0.3333333333333333,\"#9c179e\"],[0.4444444444444444,\"#bd3786\"],[0.5555555555555556,\"#d8576b\"],[0.6666666666666666,\"#ed7953\"],[0.7777777777777778,\"#fb9f3a\"],[0.8888888888888888,\"#fdca26\"],[1.0,\"#f0f921\"]]}],\"choropleth\":[{\"type\":\"choropleth\",\"colorbar\":{\"outlinewidth\":0,\"ticks\":\"\"}}],\"histogram2d\":[{\"type\":\"histogram2d\",\"colorbar\":{\"outlinewidth\":0,\"ticks\":\"\"},\"colorscale\":[[0.0,\"#0d0887\"],[0.1111111111111111,\"#46039f\"],[0.2222222222222222,\"#7201a8\"],[0.3333333333333333,\"#9c179e\"],[0.4444444444444444,\"#bd3786\"],[0.5555555555555556,\"#d8576b\"],[0.6666666666666666,\"#ed7953\"],[0.7777777777777778,\"#fb9f3a\"],[0.8888888888888888,\"#fdca26\"],[1.0,\"#f0f921\"]]}],\"heatmap\":[{\"type\":\"heatmap\",\"colorbar\":{\"outlinewidth\":0,\"ticks\":\"\"},\"colorscale\":[[0.0,\"#0d0887\"],[0.1111111111111111,\"#46039f\"],[0.2222222222222222,\"#7201a8\"],[0.3333333333333333,\"#9c179e\"],[0.4444444444444444,\"#bd3786\"],[0.5555555555555556,\"#d8576b\"],[0.6666666666666666,\"#ed7953\"],[0.7777777777777778,\"#fb9f3a\"],[0.8888888888888888,\"#fdca26\"],[1.0,\"#f0f921\"]]}],\"heatmapgl\":[{\"type\":\"heatmapgl\",\"colorbar\":{\"outlinewidth\":0,\"ticks\":\"\"},\"colorscale\":[[0.0,\"#0d0887\"],[0.1111111111111111,\"#46039f\"],[0.2222222222222222,\"#7201a8\"],[0.3333333333333333,\"#9c179e\"],[0.4444444444444444,\"#bd3786\"],[0.5555555555555556,\"#d8576b\"],[0.6666666666666666,\"#ed7953\"],[0.7777777777777778,\"#fb9f3a\"],[0.8888888888888888,\"#fdca26\"],[1.0,\"#f0f921\"]]}],\"contourcarpet\":[{\"type\":\"contourcarpet\",\"colorbar\":{\"outlinewidth\":0,\"ticks\":\"\"}}],\"contour\":[{\"type\":\"contour\",\"colorbar\":{\"outlinewidth\":0,\"ticks\":\"\"},\"colorscale\":[[0.0,\"#0d0887\"],[0.1111111111111111,\"#46039f\"],[0.2222222222222222,\"#7201a8\"],[0.3333333333333333,\"#9c179e\"],[0.4444444444444444,\"#bd3786\"],[0.5555555555555556,\"#d8576b\"],[0.6666666666666666,\"#ed7953\"],[0.7777777777777778,\"#fb9f3a\"],[0.8888888888888888,\"#fdca26\"],[1.0,\"#f0f921\"]]}],\"surface\":[{\"type\":\"surface\",\"colorbar\":{\"outlinewidth\":0,\"ticks\":\"\"},\"colorscale\":[[0.0,\"#0d0887\"],[0.1111111111111111,\"#46039f\"],[0.2222222222222222,\"#7201a8\"],[0.3333333333333333,\"#9c179e\"],[0.4444444444444444,\"#bd3786\"],[0.5555555555555556,\"#d8576b\"],[0.6666666666666666,\"#ed7953\"],[0.7777777777777778,\"#fb9f3a\"],[0.8888888888888888,\"#fdca26\"],[1.0,\"#f0f921\"]]}],\"mesh3d\":[{\"type\":\"mesh3d\",\"colorbar\":{\"outlinewidth\":0,\"ticks\":\"\"}}],\"scatter\":[{\"fillpattern\":{\"fillmode\":\"overlay\",\"size\":10,\"solidity\":0.2},\"type\":\"scatter\"}],\"parcoords\":[{\"type\":\"parcoords\",\"line\":{\"colorbar\":{\"outlinewidth\":0,\"ticks\":\"\"}}}],\"scatterpolargl\":[{\"type\":\"scatterpolargl\",\"marker\":{\"colorbar\":{\"outlinewidth\":0,\"ticks\":\"\"}}}],\"bar\":[{\"error_x\":{\"color\":\"#2a3f5f\"},\"error_y\":{\"color\":\"#2a3f5f\"},\"marker\":{\"line\":{\"color\":\"#E5ECF6\",\"width\":0.5},\"pattern\":{\"fillmode\":\"overlay\",\"size\":10,\"solidity\":0.2}},\"type\":\"bar\"}],\"scattergeo\":[{\"type\":\"scattergeo\",\"marker\":{\"colorbar\":{\"outlinewidth\":0,\"ticks\":\"\"}}}],\"scatterpolar\":[{\"type\":\"scatterpolar\",\"marker\":{\"colorbar\":{\"outlinewidth\":0,\"ticks\":\"\"}}}],\"histogram\":[{\"marker\":{\"pattern\":{\"fillmode\":\"overlay\",\"size\":10,\"solidity\":0.2}},\"type\":\"histogram\"}],\"scattergl\":[{\"type\":\"scattergl\",\"marker\":{\"colorbar\":{\"outlinewidth\":0,\"ticks\":\"\"}}}],\"scatter3d\":[{\"type\":\"scatter3d\",\"line\":{\"colorbar\":{\"outlinewidth\":0,\"ticks\":\"\"}},\"marker\":{\"colorbar\":{\"outlinewidth\":0,\"ticks\":\"\"}}}],\"scattermapbox\":[{\"type\":\"scattermapbox\",\"marker\":{\"colorbar\":{\"outlinewidth\":0,\"ticks\":\"\"}}}],\"scatterternary\":[{\"type\":\"scatterternary\",\"marker\":{\"colorbar\":{\"outlinewidth\":0,\"ticks\":\"\"}}}],\"scattercarpet\":[{\"type\":\"scattercarpet\",\"marker\":{\"colorbar\":{\"outlinewidth\":0,\"ticks\":\"\"}}}],\"carpet\":[{\"aaxis\":{\"endlinecolor\":\"#2a3f5f\",\"gridcolor\":\"white\",\"linecolor\":\"white\",\"minorgridcolor\":\"white\",\"startlinecolor\":\"#2a3f5f\"},\"baxis\":{\"endlinecolor\":\"#2a3f5f\",\"gridcolor\":\"white\",\"linecolor\":\"white\",\"minorgridcolor\":\"white\",\"startlinecolor\":\"#2a3f5f\"},\"type\":\"carpet\"}],\"table\":[{\"cells\":{\"fill\":{\"color\":\"#EBF0F8\"},\"line\":{\"color\":\"white\"}},\"header\":{\"fill\":{\"color\":\"#C8D4E3\"},\"line\":{\"color\":\"white\"}},\"type\":\"table\"}],\"barpolar\":[{\"marker\":{\"line\":{\"color\":\"#E5ECF6\",\"width\":0.5},\"pattern\":{\"fillmode\":\"overlay\",\"size\":10,\"solidity\":0.2}},\"type\":\"barpolar\"}],\"pie\":[{\"automargin\":true,\"type\":\"pie\"}]},\"layout\":{\"autotypenumbers\":\"strict\",\"colorway\":[\"#636efa\",\"#EF553B\",\"#00cc96\",\"#ab63fa\",\"#FFA15A\",\"#19d3f3\",\"#FF6692\",\"#B6E880\",\"#FF97FF\",\"#FECB52\"],\"font\":{\"color\":\"#2a3f5f\"},\"hovermode\":\"closest\",\"hoverlabel\":{\"align\":\"left\"},\"paper_bgcolor\":\"white\",\"plot_bgcolor\":\"#E5ECF6\",\"polar\":{\"bgcolor\":\"#E5ECF6\",\"angularaxis\":{\"gridcolor\":\"white\",\"linecolor\":\"white\",\"ticks\":\"\"},\"radialaxis\":{\"gridcolor\":\"white\",\"linecolor\":\"white\",\"ticks\":\"\"}},\"ternary\":{\"bgcolor\":\"#E5ECF6\",\"aaxis\":{\"gridcolor\":\"white\",\"linecolor\":\"white\",\"ticks\":\"\"},\"baxis\":{\"gridcolor\":\"white\",\"linecolor\":\"white\",\"ticks\":\"\"},\"caxis\":{\"gridcolor\":\"white\",\"linecolor\":\"white\",\"ticks\":\"\"}},\"coloraxis\":{\"colorbar\":{\"outlinewidth\":0,\"ticks\":\"\"}},\"colorscale\":{\"sequential\":[[0.0,\"#0d0887\"],[0.1111111111111111,\"#46039f\"],[0.2222222222222222,\"#7201a8\"],[0.3333333333333333,\"#9c179e\"],[0.4444444444444444,\"#bd3786\"],[0.5555555555555556,\"#d8576b\"],[0.6666666666666666,\"#ed7953\"],[0.7777777777777778,\"#fb9f3a\"],[0.8888888888888888,\"#fdca26\"],[1.0,\"#f0f921\"]],\"sequentialminus\":[[0.0,\"#0d0887\"],[0.1111111111111111,\"#46039f\"],[0.2222222222222222,\"#7201a8\"],[0.3333333333333333,\"#9c179e\"],[0.4444444444444444,\"#bd3786\"],[0.5555555555555556,\"#d8576b\"],[0.6666666666666666,\"#ed7953\"],[0.7777777777777778,\"#fb9f3a\"],[0.8888888888888888,\"#fdca26\"],[1.0,\"#f0f921\"]],\"diverging\":[[0,\"#8e0152\"],[0.1,\"#c51b7d\"],[0.2,\"#de77ae\"],[0.3,\"#f1b6da\"],[0.4,\"#fde0ef\"],[0.5,\"#f7f7f7\"],[0.6,\"#e6f5d0\"],[0.7,\"#b8e186\"],[0.8,\"#7fbc41\"],[0.9,\"#4d9221\"],[1,\"#276419\"]]},\"xaxis\":{\"gridcolor\":\"white\",\"linecolor\":\"white\",\"ticks\":\"\",\"title\":{\"standoff\":15},\"zerolinecolor\":\"white\",\"automargin\":true,\"zerolinewidth\":2},\"yaxis\":{\"gridcolor\":\"white\",\"linecolor\":\"white\",\"ticks\":\"\",\"title\":{\"standoff\":15},\"zerolinecolor\":\"white\",\"automargin\":true,\"zerolinewidth\":2},\"scene\":{\"xaxis\":{\"backgroundcolor\":\"#E5ECF6\",\"gridcolor\":\"white\",\"linecolor\":\"white\",\"showbackground\":true,\"ticks\":\"\",\"zerolinecolor\":\"white\",\"gridwidth\":2},\"yaxis\":{\"backgroundcolor\":\"#E5ECF6\",\"gridcolor\":\"white\",\"linecolor\":\"white\",\"showbackground\":true,\"ticks\":\"\",\"zerolinecolor\":\"white\",\"gridwidth\":2},\"zaxis\":{\"backgroundcolor\":\"#E5ECF6\",\"gridcolor\":\"white\",\"linecolor\":\"white\",\"showbackground\":true,\"ticks\":\"\",\"zerolinecolor\":\"white\",\"gridwidth\":2}},\"shapedefaults\":{\"line\":{\"color\":\"#2a3f5f\"}},\"annotationdefaults\":{\"arrowcolor\":\"#2a3f5f\",\"arrowhead\":0,\"arrowwidth\":1},\"geo\":{\"bgcolor\":\"white\",\"landcolor\":\"#E5ECF6\",\"subunitcolor\":\"white\",\"showland\":true,\"showlakes\":true,\"lakecolor\":\"white\"},\"title\":{\"x\":0.05},\"mapbox\":{\"style\":\"light\"}}},\"xaxis\":{\"anchor\":\"y\",\"domain\":[0.0,1.0],\"title\":{\"text\":\"D\\u00e9nomination principale\"}},\"yaxis\":{\"anchor\":\"x\",\"domain\":[0.0,1.0],\"title\":{\"text\":\"Nombre total d'\\u00e9l\\u00e8ves\"}},\"legend\":{\"title\":{\"text\":\"rentr\\u00e9e\"},\"tracegroupgap\":0},\"title\":{\"text\":\"effectif 1er degr\\u00e9 RENNES\"},\"barmode\":\"group\"},                        {\"responsive\": true}                    ).then(function(){\n",
       "                            \n",
       "var gd = document.getElementById('74741751-a1da-4dd6-846b-d1aeff35692e');\n",
       "var x = new MutationObserver(function (mutations, observer) {{\n",
       "        var display = window.getComputedStyle(gd).display;\n",
       "        if (!display || display === 'none') {{\n",
       "            console.log([gd, 'removed!']);\n",
       "            Plotly.purge(gd);\n",
       "            observer.disconnect();\n",
       "        }}\n",
       "}});\n",
       "\n",
       "// Listen for the removal of the full notebook cells\n",
       "var notebookContainer = gd.closest('#notebook-container');\n",
       "if (notebookContainer) {{\n",
       "    x.observe(notebookContainer, {childList: true});\n",
       "}}\n",
       "\n",
       "// Listen for the clearing of the current output cell\n",
       "var outputEl = gd.closest('.output');\n",
       "if (outputEl) {{\n",
       "    x.observe(outputEl, {childList: true});\n",
       "}}\n",
       "\n",
       "                        })                };                });            </script>        </div>"
      ]
     },
     "metadata": {},
     "output_type": "display_data"
    }
   ],
   "source": [
    "COMMUNES = [\"RENNES\"]\n",
    "px.bar(ecoles[ecoles[\"Commune\"].isin(COMMUNES)], x=\"Dénomination principale\", y=\"Nombre total d'élèves\", color=\"rentrée\", title=\"effectif 1er degré RENNES\", barmode=\"group\")"
   ]
  },
  {
   "cell_type": "code",
   "execution_count": 61,
   "id": "354ac48b-272c-4e39-8d5d-483904eb35a7",
   "metadata": {},
   "outputs": [
    {
     "data": {
      "application/vnd.plotly.v1+json": {
       "config": {
        "plotlyServerURL": "https://plot.ly"
       },
       "data": [
        {
         "alignmentgroup": "True",
         "hovertemplate": "rentrée=2019<br>Dénomination principale=%{x}<br>Nombre total d'élèves=%{y}<extra></extra>",
         "legendgroup": "2019",
         "marker": {
          "color": "#636efa",
          "pattern": {
           "shape": ""
          }
         },
         "name": "2019",
         "offsetgroup": "2019",
         "orientation": "v",
         "showlegend": true,
         "textposition": "auto",
         "type": "bar",
         "x": [
          "ECOLE ELEMENTAIRE PUBLIQUE",
          "ECOLE PRIMAIRE PUBLIQUE",
          "ECOLE MATERNELLE PUBLIQUE",
          "ECOLE PRIMAIRE PRIVEE",
          "ECOLE MATERNELLE PUBLIQUE",
          "ECOLE PRIMAIRE PRIVEE",
          "ECOLE ELEMENTAIRE PUBLIQUE",
          "ECOLE MATERNELLE PUBLIQUE",
          "ECOLE ELEMENTAIRE PUBLIQUE",
          "ECOLE PRIMAIRE PRIVEE",
          "ECOLE MATERNELLE PUBLIQUE",
          "ECOLE ELEMENTAIRE PUBLIQUE",
          "ECOLE PRIMAIRE PRIVEE",
          "ECOLE ELEMENTAIRE PUBLIQUE",
          "ECOLE ELEMENTAIRE PUBLIQUE",
          "ECOLE ELEMENTAIRE PUBLIQUE",
          "ECOLE ELEMENTAIRE PUBLIQUE",
          "ECOLE ELEMENTAIRE PUBLIQUE",
          "ECOLE ELEMENTAIRE PUBLIQUE",
          "ECOLE ELEMENTAIRE PUBLIQUE",
          "ECOLE ELEMENTAIRE PUBLIQUE",
          "ECOLE ELEMENTAIRE PUBLIQUE",
          "ECOLE PRIMAIRE PUBLIQUE",
          "ECOLE ELEMENTAIRE PUBLIQUE",
          "ECOLE ELEMENTAIRE PUBLIQUE",
          "ECOLE ELEMENTAIRE PUBLIQUE",
          "ECOLE ELEMENTAIRE PUBLIQUE",
          "ECOLE ELEMENTAIRE PUBLIQUE",
          "ECOLE ELEMENTAIRE PUBLIQUE",
          "ECOLE ELEMENTAIRE PUBLIQUE",
          "ECOLE ELEMENTAIRE PUBLIQUE",
          "ECOLE MATERNELLE PUBLIQUE",
          "ECOLE PRIMAIRE PUBLIQUE",
          "ECOLE PRIMAIRE PRIVEE",
          "ECOLE PRIMAIRE PRIVEE",
          "ECOLE PRIMAIRE PRIVEE",
          "ECOLE PRIMAIRE PRIVEE",
          "ECOLE PRIMAIRE PRIVEE",
          "ECOLE MATERNELLE PUBLIQUE",
          "ECOLE ELEMENTAIRE PUBLIQUE",
          "ECOLE ELEMENTAIRE PUBLIQUE",
          "ECOLE MATERNELLE PUBLIQUE",
          "ECOLE PRIMAIRE PUBLIQUE",
          "ECOLE ELEMENTAIRE PUBLIQUE",
          "ECOLE ELEMENTAIRE PUBLIQUE",
          "ECOLE ELEMENTAIRE PUBLIQUE",
          "ECOLE ELEMENTAIRE PUBLIQUE",
          "ECOLE ELEMENTAIRE PUBLIQUE",
          "ECOLE ELEMENTAIRE PUBLIQUE",
          "ECOLE PRIMAIRE PUBLIQUE",
          "ECOLE MATERNELLE PUBLIQUE",
          "ECOLE PRIMAIRE PRIVEE",
          "ECOLE PRIMAIRE PRIVEE",
          "ECOLE MATERNELLE PUBLIQUE",
          "ECOLE PRIMAIRE PUBLIQUE",
          "ECOLE MATERNELLE PUBLIQUE",
          "ECOLE PRIMAIRE PUBLIQUE",
          "ECOLE MATERNELLE PUBLIQUE",
          "ECOLE MATERNELLE PUBLIQUE",
          "ECOLE ELEMENTAIRE PUBLIQUE",
          "ECOLE ELEMENTAIRE PUBLIQUE",
          "ECOLE ELEMENTAIRE PUBLIQUE",
          "ECOLE ELEMENTAIRE PUBLIQUE",
          "ECOLE MATERNELLE PUBLIQUE",
          "ECOLE PRIMAIRE PUBLIQUE",
          "ECOLE MATERNELLE PUBLIQUE",
          "ECOLE ELEMENTAIRE PUBLIQUE",
          "ECOLE MATERNELLE PUBLIQUE",
          "ECOLE MATERNELLE PUBLIQUE",
          "ECOLE MATERNELLE PUBLIQUE",
          "ECOLE MATERNELLE PUBLIQUE",
          "ECOLE MATERNELLE PUBLIQUE",
          "ECOLE MATERNELLE PUBLIQUE",
          "ECOLE MATERNELLE PUBLIQUE",
          "ECOLE MATERNELLE PUBLIQUE",
          "ECOLE MATERNELLE PUBLIQUE",
          "ECOLE MATERNELLE PUBLIQUE",
          "ECOLE MATERNELLE PUBLIQUE",
          "ECOLE MATERNELLE PUBLIQUE",
          "ECOLE MATERNELLE PUBLIQUE",
          "ECOLE MATERNELLE PUBLIQUE",
          "ECOLE MATERNELLE PUBLIQUE",
          "ECOLE MATERNELLE PUBLIQUE",
          "ECOLE MATERNELLE PUBLIQUE",
          "ECOLE ELEMENTAIRE PUBLIQUE",
          "ECOLE MATERNELLE PUBLIQUE",
          "ECOLE PRIMAIRE PRIVEE",
          "ECOLE MATERNELLE PUBLIQUE",
          "ECOLE PRIMAIRE PRIVEE",
          "ECOLE PRIMAIRE PRIVEE",
          "ECOLE MATERNELLE PUBLIQUE",
          "ECOLE ELEMENTAIRE PUBLIQUE",
          "ECOLE MATERNELLE PUBLIQUE",
          "ECOLE MATERNELLE PUBLIQUE",
          "ECOLE MATERNELLE PUBLIQUE",
          "ECOLE MATERNELLE PUBLIQUE",
          "ECOLE ELEMENTAIRE PUBLIQUE",
          "ECOLE ELEMENTAIRE PUBLIQUE",
          "ECOLE PRIMAIRE PRIVEE",
          "ECOLE MATERNELLE PUBLIQUE",
          "ECOLE PRIMAIRE PRIVEE",
          "ECOLE PRIMAIRE PRIVEE",
          "ECOLE PRIMAIRE PRIVEE",
          "ECOLE PRIMAIRE PRIVEE",
          "ECOLE PRIMAIRE PRIVEE",
          "ECOLE PRIMAIRE PRIVEE",
          "ECOLE PRIMAIRE PRIVEE"
         ],
         "xaxis": "x",
         "y": [
          134,
          309,
          118,
          336,
          161,
          557,
          279,
          104,
          182,
          260,
          238,
          330,
          323,
          204,
          140,
          181,
          178,
          116,
          233,
          208,
          155,
          212,
          72,
          146,
          256,
          230,
          297,
          252,
          203,
          157,
          173,
          140,
          307,
          218,
          199,
          266,
          322,
          205,
          142,
          190,
          173,
          215,
          435,
          223,
          264,
          240,
          194,
          250,
          157,
          184,
          130,
          153,
          268,
          187,
          291,
          114,
          373,
          280,
          199,
          292,
          290,
          325,
          285,
          219,
          401,
          244,
          125,
          84,
          102,
          175,
          151,
          93,
          107,
          97,
          103,
          126,
          154,
          137,
          97,
          133,
          161,
          72,
          131,
          182,
          143,
          130,
          225,
          91,
          325,
          413,
          110,
          205,
          128,
          103,
          101,
          99,
          232,
          196,
          169,
          147,
          284,
          254,
          119,
          469,
          186,
          496,
          299
         ],
         "yaxis": "y"
        },
        {
         "alignmentgroup": "True",
         "hovertemplate": "rentrée=2020<br>Dénomination principale=%{x}<br>Nombre total d'élèves=%{y}<extra></extra>",
         "legendgroup": "2020",
         "marker": {
          "color": "#EF553B",
          "pattern": {
           "shape": ""
          }
         },
         "name": "2020",
         "offsetgroup": "2020",
         "orientation": "v",
         "showlegend": true,
         "textposition": "auto",
         "type": "bar",
         "x": [
          "ECOLE ELEMENTAIRE PUBLIQUE",
          "ECOLE PRIMAIRE PUBLIQUE",
          "ECOLE MATERNELLE PUBLIQUE",
          "ECOLE PRIMAIRE PRIVEE",
          "ECOLE ELEMENTAIRE PUBLIQUE",
          "ECOLE MATERNELLE PUBLIQUE",
          "ECOLE PRIMAIRE PRIVEE",
          "ECOLE ELEMENTAIRE PUBLIQUE",
          "ECOLE PRIMAIRE PRIVEE",
          "ECOLE MATERNELLE PUBLIQUE",
          "ECOLE ELEMENTAIRE PUBLIQUE",
          "ECOLE MATERNELLE PUBLIQUE",
          "ECOLE ELEMENTAIRE PUBLIQUE",
          "ECOLE PRIMAIRE PRIVEE",
          "ECOLE ELEMENTAIRE PUBLIQUE",
          "ECOLE ELEMENTAIRE PUBLIQUE",
          "ECOLE ELEMENTAIRE PUBLIQUE",
          "ECOLE ELEMENTAIRE PUBLIQUE",
          "ECOLE ELEMENTAIRE PUBLIQUE",
          "ECOLE ELEMENTAIRE PUBLIQUE",
          "ECOLE ELEMENTAIRE PUBLIQUE",
          "ECOLE ELEMENTAIRE PUBLIQUE",
          "ECOLE ELEMENTAIRE PUBLIQUE",
          "ECOLE PRIMAIRE PUBLIQUE",
          "ECOLE ELEMENTAIRE PUBLIQUE",
          "ECOLE ELEMENTAIRE PUBLIQUE",
          "ECOLE ELEMENTAIRE PUBLIQUE",
          "ECOLE ELEMENTAIRE PUBLIQUE",
          "ECOLE ELEMENTAIRE PUBLIQUE",
          "ECOLE ELEMENTAIRE PUBLIQUE",
          "ECOLE ELEMENTAIRE PUBLIQUE",
          "ECOLE MATERNELLE PUBLIQUE",
          "ECOLE MATERNELLE PUBLIQUE",
          "ECOLE MATERNELLE PUBLIQUE",
          "ECOLE PRIMAIRE PUBLIQUE",
          "ECOLE PRIMAIRE PUBLIQUE",
          "ECOLE PRIMAIRE PRIVEE",
          "ECOLE PRIMAIRE PRIVEE",
          "ECOLE PRIMAIRE PRIVEE",
          "ECOLE PRIMAIRE PRIVEE",
          "ECOLE PRIMAIRE PRIVEE",
          "ECOLE MATERNELLE PUBLIQUE",
          "ECOLE ELEMENTAIRE PUBLIQUE",
          "ECOLE ELEMENTAIRE PUBLIQUE",
          "ECOLE MATERNELLE PUBLIQUE",
          "ECOLE PRIMAIRE PUBLIQUE",
          "ECOLE ELEMENTAIRE PUBLIQUE",
          "ECOLE ELEMENTAIRE PUBLIQUE",
          "ECOLE ELEMENTAIRE PUBLIQUE",
          "ECOLE ELEMENTAIRE PUBLIQUE",
          "ECOLE PRIMAIRE PRIVEE",
          "ECOLE ELEMENTAIRE PUBLIQUE",
          "ECOLE PRIMAIRE PRIVEE",
          "ECOLE MATERNELLE PUBLIQUE",
          "ECOLE PRIMAIRE PUBLIQUE",
          "ECOLE PRIMAIRE PUBLIQUE",
          "ECOLE MATERNELLE PUBLIQUE",
          "ECOLE MATERNELLE PUBLIQUE",
          "ECOLE MATERNELLE PUBLIQUE",
          "ECOLE ELEMENTAIRE PUBLIQUE",
          "ECOLE ELEMENTAIRE PUBLIQUE",
          "ECOLE ELEMENTAIRE PUBLIQUE",
          "ECOLE ELEMENTAIRE PUBLIQUE",
          "ECOLE PRIMAIRE PUBLIQUE",
          "ECOLE ELEMENTAIRE PUBLIQUE",
          "ECOLE MATERNELLE PUBLIQUE",
          "ECOLE ELEMENTAIRE PUBLIQUE",
          "ECOLE MATERNELLE PUBLIQUE",
          "ECOLE MATERNELLE PUBLIQUE",
          "ECOLE MATERNELLE PUBLIQUE",
          "ECOLE MATERNELLE PUBLIQUE",
          "ECOLE MATERNELLE PUBLIQUE",
          "ECOLE MATERNELLE PUBLIQUE",
          "ECOLE MATERNELLE PUBLIQUE",
          "ECOLE MATERNELLE PUBLIQUE",
          "ECOLE MATERNELLE PUBLIQUE",
          "ECOLE MATERNELLE PUBLIQUE",
          "ECOLE MATERNELLE PUBLIQUE",
          "ECOLE MATERNELLE PUBLIQUE",
          "ECOLE MATERNELLE PUBLIQUE",
          "ECOLE MATERNELLE PUBLIQUE",
          "ECOLE MATERNELLE PUBLIQUE",
          "ECOLE MATERNELLE PUBLIQUE",
          "ECOLE MATERNELLE PUBLIQUE",
          "ECOLE MATERNELLE PUBLIQUE",
          "ECOLE PRIMAIRE PRIVEE",
          "ECOLE PRIMAIRE PRIVEE",
          "ECOLE PRIMAIRE PRIVEE",
          "ECOLE ELEMENTAIRE PUBLIQUE",
          "ECOLE MATERNELLE PUBLIQUE",
          "ECOLE MATERNELLE PUBLIQUE",
          "ECOLE ELEMENTAIRE PUBLIQUE",
          "ECOLE MATERNELLE PUBLIQUE",
          "ECOLE MATERNELLE PUBLIQUE",
          "ECOLE MATERNELLE PUBLIQUE",
          "ECOLE ELEMENTAIRE PUBLIQUE",
          "ECOLE MATERNELLE PUBLIQUE",
          "ECOLE MATERNELLE PUBLIQUE",
          "ECOLE PRIMAIRE PRIVEE",
          "ECOLE PRIMAIRE PRIVEE",
          "ECOLE PRIMAIRE PRIVEE",
          "ECOLE PRIMAIRE PRIVEE",
          "ECOLE PRIMAIRE PRIVEE",
          "ECOLE PRIMAIRE PRIVEE",
          "ECOLE PRIMAIRE PRIVEE",
          "ECOLE PRIMAIRE PRIVEE",
          "ECOLE ELEMENTAIRE PUBLIQUE"
         ],
         "xaxis": "x",
         "y": [
          147,
          332,
          112,
          327,
          162,
          157,
          542,
          280,
          263,
          105,
          194,
          202,
          346,
          330,
          213,
          140,
          207,
          178,
          104,
          219,
          211,
          155,
          223,
          71,
          155,
          277,
          232,
          271,
          263,
          195,
          178,
          183,
          153,
          128,
          186,
          308,
          212,
          190,
          258,
          319,
          196,
          121,
          220,
          173,
          196,
          444,
          225,
          260,
          221,
          190,
          157,
          269,
          275,
          211,
          278,
          367,
          253,
          272,
          189,
          324,
          274,
          337,
          303,
          394,
          165,
          115,
          116,
          91,
          164,
          165,
          88,
          102,
          94,
          91,
          109,
          149,
          156,
          123,
          95,
          150,
          172,
          74,
          133,
          178,
          126,
          231,
          401,
          317,
          151,
          96,
          81,
          199,
          114,
          95,
          97,
          207,
          141,
          88,
          313,
          166,
          273,
          257,
          137,
          468,
          191,
          500,
          212
         ],
         "yaxis": "y"
        },
        {
         "alignmentgroup": "True",
         "hovertemplate": "rentrée=2021<br>Dénomination principale=%{x}<br>Nombre total d'élèves=%{y}<extra></extra>",
         "legendgroup": "2021",
         "marker": {
          "color": "#00cc96",
          "pattern": {
           "shape": ""
          }
         },
         "name": "2021",
         "offsetgroup": "2021",
         "orientation": "v",
         "showlegend": true,
         "textposition": "auto",
         "type": "bar",
         "x": [
          "ECOLE ELEMENTAIRE PUBLIQUE",
          "ECOLE PRIMAIRE PUBLIQUE",
          "ECOLE MATERNELLE PUBLIQUE",
          "ECOLE PRIMAIRE PRIVEE",
          "ECOLE MATERNELLE PUBLIQUE",
          "ECOLE PRIMAIRE PRIVEE",
          "ECOLE ELEMENTAIRE PUBLIQUE",
          "ECOLE MATERNELLE PUBLIQUE",
          "ECOLE ELEMENTAIRE PUBLIQUE",
          "ECOLE PRIMAIRE PRIVEE",
          "ECOLE MATERNELLE PUBLIQUE",
          "ECOLE ELEMENTAIRE PUBLIQUE",
          "ECOLE PRIMAIRE PRIVEE",
          "ECOLE ELEMENTAIRE PUBLIQUE",
          "ECOLE ELEMENTAIRE PUBLIQUE",
          "ECOLE ELEMENTAIRE PUBLIQUE",
          "ECOLE ELEMENTAIRE PUBLIQUE",
          "ECOLE ELEMENTAIRE PUBLIQUE",
          "ECOLE ELEMENTAIRE PUBLIQUE",
          "ECOLE ELEMENTAIRE PUBLIQUE",
          "ECOLE ELEMENTAIRE PUBLIQUE",
          "ECOLE ELEMENTAIRE PUBLIQUE",
          "ECOLE PRIMAIRE PUBLIQUE",
          "ECOLE ELEMENTAIRE PUBLIQUE",
          "ECOLE ELEMENTAIRE PUBLIQUE",
          "ECOLE ELEMENTAIRE PUBLIQUE",
          "ECOLE ELEMENTAIRE PUBLIQUE",
          "ECOLE ELEMENTAIRE PUBLIQUE",
          "ECOLE ELEMENTAIRE PUBLIQUE",
          "ECOLE ELEMENTAIRE PUBLIQUE",
          "ECOLE ELEMENTAIRE PUBLIQUE",
          "ECOLE MATERNELLE PUBLIQUE",
          "ECOLE PRIMAIRE PUBLIQUE",
          "ECOLE PRIMAIRE PRIVEE",
          "ECOLE PRIMAIRE PRIVEE",
          "ECOLE PRIMAIRE PRIVEE",
          "ECOLE PRIMAIRE PRIVEE",
          "ECOLE PRIMAIRE PRIVEE",
          "ECOLE MATERNELLE PUBLIQUE",
          "ECOLE ELEMENTAIRE PUBLIQUE",
          "ECOLE ELEMENTAIRE PUBLIQUE",
          "ECOLE MATERNELLE PUBLIQUE",
          "ECOLE PRIMAIRE PUBLIQUE",
          "ECOLE ELEMENTAIRE PUBLIQUE",
          "ECOLE ELEMENTAIRE PUBLIQUE",
          "ECOLE ELEMENTAIRE PUBLIQUE",
          "ECOLE ELEMENTAIRE PUBLIQUE",
          "ECOLE ELEMENTAIRE PUBLIQUE",
          "ECOLE ELEMENTAIRE PUBLIQUE",
          "ECOLE MATERNELLE PUBLIQUE",
          "ECOLE MATERNELLE PUBLIQUE",
          "ECOLE PRIMAIRE PRIVEE",
          "ECOLE PRIMAIRE PUBLIQUE",
          "ECOLE MATERNELLE PUBLIQUE",
          "ECOLE PRIMAIRE PUBLIQUE",
          "ECOLE PRIMAIRE PUBLIQUE",
          "ECOLE MATERNELLE PUBLIQUE",
          "ECOLE MATERNELLE PUBLIQUE",
          "ECOLE MATERNELLE PUBLIQUE",
          "ECOLE ELEMENTAIRE PUBLIQUE",
          "ECOLE ELEMENTAIRE PUBLIQUE",
          "ECOLE ELEMENTAIRE PUBLIQUE",
          "ECOLE ELEMENTAIRE PUBLIQUE",
          "ECOLE MATERNELLE PUBLIQUE",
          "ECOLE PRIMAIRE PRIVEE",
          "ECOLE ELEMENTAIRE PUBLIQUE",
          "ECOLE PRIMAIRE PUBLIQUE",
          "ECOLE MATERNELLE PUBLIQUE",
          "ECOLE MATERNELLE PUBLIQUE",
          "ECOLE MATERNELLE PUBLIQUE",
          "ECOLE MATERNELLE PUBLIQUE",
          "ECOLE MATERNELLE PUBLIQUE",
          "ECOLE MATERNELLE PUBLIQUE",
          "ECOLE MATERNELLE PUBLIQUE",
          "ECOLE MATERNELLE PUBLIQUE",
          "ECOLE MATERNELLE PUBLIQUE",
          "ECOLE MATERNELLE PUBLIQUE",
          "ECOLE MATERNELLE PUBLIQUE",
          "ECOLE MATERNELLE PUBLIQUE",
          "ECOLE MATERNELLE PUBLIQUE",
          "ECOLE MATERNELLE PUBLIQUE",
          "ECOLE MATERNELLE PUBLIQUE",
          "ECOLE MATERNELLE PUBLIQUE",
          "ECOLE MATERNELLE PUBLIQUE",
          "ECOLE ELEMENTAIRE PUBLIQUE",
          "ECOLE MATERNELLE PUBLIQUE",
          "ECOLE PRIMAIRE PRIVEE",
          "ECOLE MATERNELLE PUBLIQUE",
          "ECOLE MATERNELLE PUBLIQUE",
          "ECOLE PRIMAIRE PRIVEE",
          "ECOLE ELEMENTAIRE PUBLIQUE",
          "ECOLE MATERNELLE PUBLIQUE",
          "ECOLE MATERNELLE PUBLIQUE",
          "ECOLE MATERNELLE PUBLIQUE",
          "ECOLE ELEMENTAIRE PUBLIQUE",
          "ECOLE MATERNELLE PUBLIQUE",
          "ECOLE ELEMENTAIRE PUBLIQUE",
          "ECOLE PRIMAIRE PRIVEE",
          "ECOLE MATERNELLE PUBLIQUE",
          "ECOLE PRIMAIRE PRIVEE",
          "ECOLE PRIMAIRE PRIVEE",
          "ECOLE PRIMAIRE PRIVEE",
          "ECOLE PRIMAIRE PRIVEE",
          "ECOLE PRIMAIRE PRIVEE",
          "ECOLE PRIMAIRE PRIVEE",
          "ECOLE PRIMAIRE PRIVEE",
          "ECOLE PRIMAIRE PRIVEE"
         ],
         "xaxis": "x",
         "y": [
          148,
          350,
          107,
          321,
          158,
          525,
          276,
          109,
          166,
          262,
          172,
          341,
          322,
          210,
          135,
          201,
          173,
          112,
          229,
          209,
          150,
          208,
          72,
          152,
          272,
          231,
          269,
          255,
          192,
          170,
          173,
          136,
          300,
          202,
          184,
          248,
          306,
          191,
          109,
          224,
          172,
          200,
          444,
          230,
          262,
          241,
          212,
          276,
          165,
          129,
          112,
          143,
          387,
          215,
          254,
          376,
          255,
          247,
          160,
          319,
          261,
          344,
          299,
          210,
          273,
          112,
          186,
          98,
          97,
          146,
          163,
          89,
          102,
          81,
          106,
          141,
          157,
          97,
          101,
          153,
          197,
          73,
          127,
          180,
          146,
          129,
          213,
          93,
          158,
          409,
          194,
          108,
          111,
          99,
          206,
          87,
          208,
          289,
          75,
          278,
          241,
          138,
          475,
          173,
          511,
          306,
          165
         ],
         "yaxis": "y"
        },
        {
         "alignmentgroup": "True",
         "hovertemplate": "rentrée=2022<br>Dénomination principale=%{x}<br>Nombre total d'élèves=%{y}<extra></extra>",
         "legendgroup": "2022",
         "marker": {
          "color": "#ab63fa",
          "pattern": {
           "shape": ""
          }
         },
         "name": "2022",
         "offsetgroup": "2022",
         "orientation": "v",
         "showlegend": true,
         "textposition": "auto",
         "type": "bar",
         "x": [
          "ECOLE ELEMENTAIRE PUBLIQUE",
          "ECOLE PRIMAIRE PUBLIQUE",
          "ECOLE MATERNELLE PUBLIQUE",
          "ECOLE PRIMAIRE PRIVEE",
          "ECOLE MATERNELLE PUBLIQUE",
          "ECOLE PRIMAIRE PRIVEE",
          "ECOLE ELEMENTAIRE PUBLIQUE",
          "ECOLE MATERNELLE PUBLIQUE",
          "ECOLE ELEMENTAIRE PUBLIQUE",
          "ECOLE PRIMAIRE PRIVEE",
          "ECOLE MATERNELLE PUBLIQUE",
          "ECOLE ELEMENTAIRE PUBLIQUE",
          "ECOLE PRIMAIRE PRIVEE",
          "ECOLE ELEMENTAIRE PUBLIQUE",
          "ECOLE ELEMENTAIRE PUBLIQUE",
          "ECOLE ELEMENTAIRE PUBLIQUE",
          "ECOLE ELEMENTAIRE PUBLIQUE",
          "ECOLE ELEMENTAIRE PUBLIQUE",
          "ECOLE ELEMENTAIRE PUBLIQUE",
          "ECOLE ELEMENTAIRE PUBLIQUE",
          "ECOLE ELEMENTAIRE PUBLIQUE",
          "ECOLE ELEMENTAIRE PUBLIQUE",
          "ECOLE ELEMENTAIRE PUBLIQUE",
          "ECOLE PRIMAIRE PUBLIQUE",
          "ECOLE ELEMENTAIRE PUBLIQUE",
          "ECOLE ELEMENTAIRE PUBLIQUE",
          "ECOLE ELEMENTAIRE PUBLIQUE",
          "ECOLE ELEMENTAIRE PUBLIQUE",
          "ECOLE ELEMENTAIRE PUBLIQUE",
          "ECOLE ELEMENTAIRE PUBLIQUE",
          "ECOLE ELEMENTAIRE PUBLIQUE",
          "ECOLE MATERNELLE PUBLIQUE",
          "ECOLE MATERNELLE PUBLIQUE",
          "ECOLE MATERNELLE PUBLIQUE",
          "ECOLE PRIMAIRE PUBLIQUE",
          "ECOLE PRIMAIRE PUBLIQUE",
          "ECOLE PRIMAIRE PRIVEE",
          "ECOLE PRIMAIRE PRIVEE",
          "ECOLE PRIMAIRE PRIVEE",
          "ECOLE PRIMAIRE PRIVEE",
          "ECOLE PRIMAIRE PRIVEE",
          "ECOLE MATERNELLE PUBLIQUE",
          "ECOLE ELEMENTAIRE PUBLIQUE",
          "ECOLE ELEMENTAIRE PUBLIQUE",
          "ECOLE MATERNELLE PUBLIQUE",
          "ECOLE PRIMAIRE PUBLIQUE",
          "ECOLE ELEMENTAIRE PUBLIQUE",
          "ECOLE ELEMENTAIRE PUBLIQUE",
          "ECOLE ELEMENTAIRE PUBLIQUE",
          "ECOLE ELEMENTAIRE PUBLIQUE",
          "ECOLE PRIMAIRE PRIVEE",
          "ECOLE ELEMENTAIRE PUBLIQUE",
          "ECOLE PRIMAIRE PRIVEE",
          "ECOLE MATERNELLE PUBLIQUE",
          "ECOLE PRIMAIRE",
          "ECOLE PRIMAIRE PUBLIQUE",
          "ECOLE PRIMAIRE PUBLIQUE",
          "ECOLE MATERNELLE PUBLIQUE",
          "ECOLE MATERNELLE PUBLIQUE",
          "ECOLE MATERNELLE PUBLIQUE",
          "ECOLE ELEMENTAIRE PUBLIQUE",
          "ECOLE ELEMENTAIRE PUBLIQUE",
          "ECOLE ELEMENTAIRE PUBLIQUE",
          "ECOLE ELEMENTAIRE PUBLIQUE",
          "ECOLE PRIMAIRE PUBLIQUE",
          "ECOLE ELEMENTAIRE PUBLIQUE",
          "ECOLE MATERNELLE PUBLIQUE",
          "ECOLE ELEMENTAIRE PUBLIQUE",
          "ECOLE MATERNELLE PUBLIQUE",
          "ECOLE MATERNELLE PUBLIQUE",
          "ECOLE MATERNELLE PUBLIQUE",
          "ECOLE MATERNELLE PUBLIQUE",
          "ECOLE MATERNELLE PUBLIQUE",
          "ECOLE MATERNELLE PUBLIQUE",
          "ECOLE MATERNELLE PUBLIQUE",
          "ECOLE MATERNELLE PUBLIQUE",
          "ECOLE MATERNELLE PUBLIQUE",
          "ECOLE MATERNELLE PUBLIQUE",
          "ECOLE MATERNELLE PUBLIQUE",
          "ECOLE MATERNELLE PUBLIQUE",
          "ECOLE MATERNELLE PUBLIQUE",
          "ECOLE MATERNELLE PUBLIQUE",
          "ECOLE MATERNELLE PUBLIQUE",
          "ECOLE MATERNELLE PUBLIQUE",
          "ECOLE MATERNELLE PUBLIQUE",
          "ECOLE MATERNELLE PUBLIQUE",
          "ECOLE PRIMAIRE PRIVEE",
          "ECOLE PRIMAIRE PRIVEE",
          "ECOLE PRIMAIRE PRIVEE",
          "ECOLE ELEMENTAIRE PUBLIQUE",
          "ECOLE MATERNELLE PUBLIQUE",
          "ECOLE MATERNELLE PUBLIQUE",
          "ECOLE ELEMENTAIRE PUBLIQUE",
          "ECOLE MATERNELLE PUBLIQUE",
          "ECOLE MATERNELLE PUBLIQUE",
          "ECOLE MATERNELLE PUBLIQUE",
          "ECOLE ELEMENTAIRE PUBLIQUE",
          "ECOLE MATERNELLE PUBLIQUE",
          "ECOLE MATERNELLE PUBLIQUE",
          "ECOLE PRIMAIRE PRIVEE",
          "ECOLE PRIMAIRE PRIVEE",
          "ECOLE PRIMAIRE PRIVEE",
          "ECOLE PRIMAIRE PRIVEE",
          "ECOLE PRIMAIRE PRIVEE",
          "ECOLE PRIMAIRE PRIVEE",
          "ECOLE PRIMAIRE PRIVEE",
          "ECOLE PRIMAIRE PRIVEE",
          "ECOLE ELEMENTAIRE PUBLIQUE"
         ],
         "xaxis": "x",
         "y": [
          143,
          361,
          106,
          323,
          169,
          497,
          250,
          126,
          169,
          266,
          167,
          322,
          312,
          168,
          205,
          140,
          234,
          173,
          121,
          215,
          246,
          136,
          222,
          65,
          144,
          286,
          229,
          211,
          253,
          179,
          166,
          146,
          149,
          127,
          195,
          258,
          198,
          170,
          248,
          300,
          184,
          122,
          204,
          179,
          200,
          499,
          236,
          259,
          249,
          211,
          146,
          280,
          276,
          199,
          158,
          243,
          364,
          264,
          255,
          160,
          323,
          260,
          331,
          290,
          396,
          196,
          108,
          124,
          87,
          144,
          154,
          85,
          104,
          96,
          100,
          102,
          148,
          173,
          85,
          91,
          142,
          207,
          74,
          121,
          180,
          128,
          198,
          447,
          307,
          147,
          102,
          83,
          180,
          109,
          102,
          90,
          205,
          138,
          96,
          314,
          166,
          261,
          232,
          129,
          461,
          183,
          520,
          212
         ],
         "yaxis": "y"
        }
       ],
       "layout": {
        "autosize": true,
        "barmode": "group",
        "legend": {
         "title": {
          "text": "rentrée"
         },
         "tracegroupgap": 0
        },
        "template": {
         "data": {
          "bar": [
           {
            "error_x": {
             "color": "#2a3f5f"
            },
            "error_y": {
             "color": "#2a3f5f"
            },
            "marker": {
             "line": {
              "color": "#E5ECF6",
              "width": 0.5
             },
             "pattern": {
              "fillmode": "overlay",
              "size": 10,
              "solidity": 0.2
             }
            },
            "type": "bar"
           }
          ],
          "barpolar": [
           {
            "marker": {
             "line": {
              "color": "#E5ECF6",
              "width": 0.5
             },
             "pattern": {
              "fillmode": "overlay",
              "size": 10,
              "solidity": 0.2
             }
            },
            "type": "barpolar"
           }
          ],
          "carpet": [
           {
            "aaxis": {
             "endlinecolor": "#2a3f5f",
             "gridcolor": "white",
             "linecolor": "white",
             "minorgridcolor": "white",
             "startlinecolor": "#2a3f5f"
            },
            "baxis": {
             "endlinecolor": "#2a3f5f",
             "gridcolor": "white",
             "linecolor": "white",
             "minorgridcolor": "white",
             "startlinecolor": "#2a3f5f"
            },
            "type": "carpet"
           }
          ],
          "choropleth": [
           {
            "colorbar": {
             "outlinewidth": 0,
             "ticks": ""
            },
            "type": "choropleth"
           }
          ],
          "contour": [
           {
            "colorbar": {
             "outlinewidth": 0,
             "ticks": ""
            },
            "colorscale": [
             [
              0,
              "#0d0887"
             ],
             [
              0.1111111111111111,
              "#46039f"
             ],
             [
              0.2222222222222222,
              "#7201a8"
             ],
             [
              0.3333333333333333,
              "#9c179e"
             ],
             [
              0.4444444444444444,
              "#bd3786"
             ],
             [
              0.5555555555555556,
              "#d8576b"
             ],
             [
              0.6666666666666666,
              "#ed7953"
             ],
             [
              0.7777777777777778,
              "#fb9f3a"
             ],
             [
              0.8888888888888888,
              "#fdca26"
             ],
             [
              1,
              "#f0f921"
             ]
            ],
            "type": "contour"
           }
          ],
          "contourcarpet": [
           {
            "colorbar": {
             "outlinewidth": 0,
             "ticks": ""
            },
            "type": "contourcarpet"
           }
          ],
          "heatmap": [
           {
            "colorbar": {
             "outlinewidth": 0,
             "ticks": ""
            },
            "colorscale": [
             [
              0,
              "#0d0887"
             ],
             [
              0.1111111111111111,
              "#46039f"
             ],
             [
              0.2222222222222222,
              "#7201a8"
             ],
             [
              0.3333333333333333,
              "#9c179e"
             ],
             [
              0.4444444444444444,
              "#bd3786"
             ],
             [
              0.5555555555555556,
              "#d8576b"
             ],
             [
              0.6666666666666666,
              "#ed7953"
             ],
             [
              0.7777777777777778,
              "#fb9f3a"
             ],
             [
              0.8888888888888888,
              "#fdca26"
             ],
             [
              1,
              "#f0f921"
             ]
            ],
            "type": "heatmap"
           }
          ],
          "heatmapgl": [
           {
            "colorbar": {
             "outlinewidth": 0,
             "ticks": ""
            },
            "colorscale": [
             [
              0,
              "#0d0887"
             ],
             [
              0.1111111111111111,
              "#46039f"
             ],
             [
              0.2222222222222222,
              "#7201a8"
             ],
             [
              0.3333333333333333,
              "#9c179e"
             ],
             [
              0.4444444444444444,
              "#bd3786"
             ],
             [
              0.5555555555555556,
              "#d8576b"
             ],
             [
              0.6666666666666666,
              "#ed7953"
             ],
             [
              0.7777777777777778,
              "#fb9f3a"
             ],
             [
              0.8888888888888888,
              "#fdca26"
             ],
             [
              1,
              "#f0f921"
             ]
            ],
            "type": "heatmapgl"
           }
          ],
          "histogram": [
           {
            "marker": {
             "pattern": {
              "fillmode": "overlay",
              "size": 10,
              "solidity": 0.2
             }
            },
            "type": "histogram"
           }
          ],
          "histogram2d": [
           {
            "colorbar": {
             "outlinewidth": 0,
             "ticks": ""
            },
            "colorscale": [
             [
              0,
              "#0d0887"
             ],
             [
              0.1111111111111111,
              "#46039f"
             ],
             [
              0.2222222222222222,
              "#7201a8"
             ],
             [
              0.3333333333333333,
              "#9c179e"
             ],
             [
              0.4444444444444444,
              "#bd3786"
             ],
             [
              0.5555555555555556,
              "#d8576b"
             ],
             [
              0.6666666666666666,
              "#ed7953"
             ],
             [
              0.7777777777777778,
              "#fb9f3a"
             ],
             [
              0.8888888888888888,
              "#fdca26"
             ],
             [
              1,
              "#f0f921"
             ]
            ],
            "type": "histogram2d"
           }
          ],
          "histogram2dcontour": [
           {
            "colorbar": {
             "outlinewidth": 0,
             "ticks": ""
            },
            "colorscale": [
             [
              0,
              "#0d0887"
             ],
             [
              0.1111111111111111,
              "#46039f"
             ],
             [
              0.2222222222222222,
              "#7201a8"
             ],
             [
              0.3333333333333333,
              "#9c179e"
             ],
             [
              0.4444444444444444,
              "#bd3786"
             ],
             [
              0.5555555555555556,
              "#d8576b"
             ],
             [
              0.6666666666666666,
              "#ed7953"
             ],
             [
              0.7777777777777778,
              "#fb9f3a"
             ],
             [
              0.8888888888888888,
              "#fdca26"
             ],
             [
              1,
              "#f0f921"
             ]
            ],
            "type": "histogram2dcontour"
           }
          ],
          "mesh3d": [
           {
            "colorbar": {
             "outlinewidth": 0,
             "ticks": ""
            },
            "type": "mesh3d"
           }
          ],
          "parcoords": [
           {
            "line": {
             "colorbar": {
              "outlinewidth": 0,
              "ticks": ""
             }
            },
            "type": "parcoords"
           }
          ],
          "pie": [
           {
            "automargin": true,
            "type": "pie"
           }
          ],
          "scatter": [
           {
            "fillpattern": {
             "fillmode": "overlay",
             "size": 10,
             "solidity": 0.2
            },
            "type": "scatter"
           }
          ],
          "scatter3d": [
           {
            "line": {
             "colorbar": {
              "outlinewidth": 0,
              "ticks": ""
             }
            },
            "marker": {
             "colorbar": {
              "outlinewidth": 0,
              "ticks": ""
             }
            },
            "type": "scatter3d"
           }
          ],
          "scattercarpet": [
           {
            "marker": {
             "colorbar": {
              "outlinewidth": 0,
              "ticks": ""
             }
            },
            "type": "scattercarpet"
           }
          ],
          "scattergeo": [
           {
            "marker": {
             "colorbar": {
              "outlinewidth": 0,
              "ticks": ""
             }
            },
            "type": "scattergeo"
           }
          ],
          "scattergl": [
           {
            "marker": {
             "colorbar": {
              "outlinewidth": 0,
              "ticks": ""
             }
            },
            "type": "scattergl"
           }
          ],
          "scattermapbox": [
           {
            "marker": {
             "colorbar": {
              "outlinewidth": 0,
              "ticks": ""
             }
            },
            "type": "scattermapbox"
           }
          ],
          "scatterpolar": [
           {
            "marker": {
             "colorbar": {
              "outlinewidth": 0,
              "ticks": ""
             }
            },
            "type": "scatterpolar"
           }
          ],
          "scatterpolargl": [
           {
            "marker": {
             "colorbar": {
              "outlinewidth": 0,
              "ticks": ""
             }
            },
            "type": "scatterpolargl"
           }
          ],
          "scatterternary": [
           {
            "marker": {
             "colorbar": {
              "outlinewidth": 0,
              "ticks": ""
             }
            },
            "type": "scatterternary"
           }
          ],
          "surface": [
           {
            "colorbar": {
             "outlinewidth": 0,
             "ticks": ""
            },
            "colorscale": [
             [
              0,
              "#0d0887"
             ],
             [
              0.1111111111111111,
              "#46039f"
             ],
             [
              0.2222222222222222,
              "#7201a8"
             ],
             [
              0.3333333333333333,
              "#9c179e"
             ],
             [
              0.4444444444444444,
              "#bd3786"
             ],
             [
              0.5555555555555556,
              "#d8576b"
             ],
             [
              0.6666666666666666,
              "#ed7953"
             ],
             [
              0.7777777777777778,
              "#fb9f3a"
             ],
             [
              0.8888888888888888,
              "#fdca26"
             ],
             [
              1,
              "#f0f921"
             ]
            ],
            "type": "surface"
           }
          ],
          "table": [
           {
            "cells": {
             "fill": {
              "color": "#EBF0F8"
             },
             "line": {
              "color": "white"
             }
            },
            "header": {
             "fill": {
              "color": "#C8D4E3"
             },
             "line": {
              "color": "white"
             }
            },
            "type": "table"
           }
          ]
         },
         "layout": {
          "annotationdefaults": {
           "arrowcolor": "#2a3f5f",
           "arrowhead": 0,
           "arrowwidth": 1
          },
          "autotypenumbers": "strict",
          "coloraxis": {
           "colorbar": {
            "outlinewidth": 0,
            "ticks": ""
           }
          },
          "colorscale": {
           "diverging": [
            [
             0,
             "#8e0152"
            ],
            [
             0.1,
             "#c51b7d"
            ],
            [
             0.2,
             "#de77ae"
            ],
            [
             0.3,
             "#f1b6da"
            ],
            [
             0.4,
             "#fde0ef"
            ],
            [
             0.5,
             "#f7f7f7"
            ],
            [
             0.6,
             "#e6f5d0"
            ],
            [
             0.7,
             "#b8e186"
            ],
            [
             0.8,
             "#7fbc41"
            ],
            [
             0.9,
             "#4d9221"
            ],
            [
             1,
             "#276419"
            ]
           ],
           "sequential": [
            [
             0,
             "#0d0887"
            ],
            [
             0.1111111111111111,
             "#46039f"
            ],
            [
             0.2222222222222222,
             "#7201a8"
            ],
            [
             0.3333333333333333,
             "#9c179e"
            ],
            [
             0.4444444444444444,
             "#bd3786"
            ],
            [
             0.5555555555555556,
             "#d8576b"
            ],
            [
             0.6666666666666666,
             "#ed7953"
            ],
            [
             0.7777777777777778,
             "#fb9f3a"
            ],
            [
             0.8888888888888888,
             "#fdca26"
            ],
            [
             1,
             "#f0f921"
            ]
           ],
           "sequentialminus": [
            [
             0,
             "#0d0887"
            ],
            [
             0.1111111111111111,
             "#46039f"
            ],
            [
             0.2222222222222222,
             "#7201a8"
            ],
            [
             0.3333333333333333,
             "#9c179e"
            ],
            [
             0.4444444444444444,
             "#bd3786"
            ],
            [
             0.5555555555555556,
             "#d8576b"
            ],
            [
             0.6666666666666666,
             "#ed7953"
            ],
            [
             0.7777777777777778,
             "#fb9f3a"
            ],
            [
             0.8888888888888888,
             "#fdca26"
            ],
            [
             1,
             "#f0f921"
            ]
           ]
          },
          "colorway": [
           "#636efa",
           "#EF553B",
           "#00cc96",
           "#ab63fa",
           "#FFA15A",
           "#19d3f3",
           "#FF6692",
           "#B6E880",
           "#FF97FF",
           "#FECB52"
          ],
          "font": {
           "color": "#2a3f5f"
          },
          "geo": {
           "bgcolor": "white",
           "lakecolor": "white",
           "landcolor": "#E5ECF6",
           "showlakes": true,
           "showland": true,
           "subunitcolor": "white"
          },
          "hoverlabel": {
           "align": "left"
          },
          "hovermode": "closest",
          "mapbox": {
           "style": "light"
          },
          "paper_bgcolor": "white",
          "plot_bgcolor": "#E5ECF6",
          "polar": {
           "angularaxis": {
            "gridcolor": "white",
            "linecolor": "white",
            "ticks": ""
           },
           "bgcolor": "#E5ECF6",
           "radialaxis": {
            "gridcolor": "white",
            "linecolor": "white",
            "ticks": ""
           }
          },
          "scene": {
           "xaxis": {
            "backgroundcolor": "#E5ECF6",
            "gridcolor": "white",
            "gridwidth": 2,
            "linecolor": "white",
            "showbackground": true,
            "ticks": "",
            "zerolinecolor": "white"
           },
           "yaxis": {
            "backgroundcolor": "#E5ECF6",
            "gridcolor": "white",
            "gridwidth": 2,
            "linecolor": "white",
            "showbackground": true,
            "ticks": "",
            "zerolinecolor": "white"
           },
           "zaxis": {
            "backgroundcolor": "#E5ECF6",
            "gridcolor": "white",
            "gridwidth": 2,
            "linecolor": "white",
            "showbackground": true,
            "ticks": "",
            "zerolinecolor": "white"
           }
          },
          "shapedefaults": {
           "line": {
            "color": "#2a3f5f"
           }
          },
          "ternary": {
           "aaxis": {
            "gridcolor": "white",
            "linecolor": "white",
            "ticks": ""
           },
           "baxis": {
            "gridcolor": "white",
            "linecolor": "white",
            "ticks": ""
           },
           "bgcolor": "#E5ECF6",
           "caxis": {
            "gridcolor": "white",
            "linecolor": "white",
            "ticks": ""
           }
          },
          "title": {
           "x": 0.05
          },
          "xaxis": {
           "automargin": true,
           "gridcolor": "white",
           "linecolor": "white",
           "ticks": "",
           "title": {
            "standoff": 15
           },
           "zerolinecolor": "white",
           "zerolinewidth": 2
          },
          "yaxis": {
           "automargin": true,
           "gridcolor": "white",
           "linecolor": "white",
           "ticks": "",
           "title": {
            "standoff": 15
           },
           "zerolinecolor": "white",
           "zerolinewidth": 2
          }
         }
        },
        "title": {
         "text": "effectif 1er degré des écoles alimentant Rennes"
        },
        "xaxis": {
         "anchor": "y",
         "autorange": true,
         "domain": [
          0,
          1
         ],
         "range": [
          -0.5,
          4.5
         ],
         "title": {
          "text": "Dénomination principale"
         },
         "type": "category"
        },
        "yaxis": {
         "anchor": "x",
         "autorange": true,
         "domain": [
          0,
          1
         ],
         "range": [
          0,
          8627.368421052632
         ],
         "title": {
          "text": "Nombre total d'élèves"
         },
         "type": "linear"
        }
       }
      },
      "text/html": [
       "<div>                            <div id=\"51058794-ee30-4551-8610-c95ab668c562\" class=\"plotly-graph-div\" style=\"height:525px; width:100%;\"></div>            <script type=\"text/javascript\">                require([\"plotly\"], function(Plotly) {                    window.PLOTLYENV=window.PLOTLYENV || {};                                    if (document.getElementById(\"51058794-ee30-4551-8610-c95ab668c562\")) {                    Plotly.newPlot(                        \"51058794-ee30-4551-8610-c95ab668c562\",                        [{\"alignmentgroup\":\"True\",\"hovertemplate\":\"rentr\\u00e9e=2019\\u003cbr\\u003eD\\u00e9nomination principale=%{x}\\u003cbr\\u003eNombre total d'\\u00e9l\\u00e8ves=%{y}\\u003cextra\\u003e\\u003c\\u002fextra\\u003e\",\"legendgroup\":\"2019\",\"marker\":{\"color\":\"#636efa\",\"pattern\":{\"shape\":\"\"}},\"name\":\"2019\",\"offsetgroup\":\"2019\",\"orientation\":\"v\",\"showlegend\":true,\"textposition\":\"auto\",\"x\":[\"ECOLE ELEMENTAIRE PUBLIQUE\",\"ECOLE PRIMAIRE PUBLIQUE\",\"ECOLE MATERNELLE PUBLIQUE\",\"ECOLE PRIMAIRE PRIVEE\",\"ECOLE MATERNELLE PUBLIQUE\",\"ECOLE PRIMAIRE PRIVEE\",\"ECOLE ELEMENTAIRE PUBLIQUE\",\"ECOLE MATERNELLE PUBLIQUE\",\"ECOLE ELEMENTAIRE PUBLIQUE\",\"ECOLE PRIMAIRE PRIVEE\",\"ECOLE MATERNELLE PUBLIQUE\",\"ECOLE ELEMENTAIRE PUBLIQUE\",\"ECOLE PRIMAIRE PRIVEE\",\"ECOLE ELEMENTAIRE PUBLIQUE\",\"ECOLE ELEMENTAIRE PUBLIQUE\",\"ECOLE ELEMENTAIRE PUBLIQUE\",\"ECOLE ELEMENTAIRE PUBLIQUE\",\"ECOLE ELEMENTAIRE PUBLIQUE\",\"ECOLE ELEMENTAIRE PUBLIQUE\",\"ECOLE ELEMENTAIRE PUBLIQUE\",\"ECOLE ELEMENTAIRE PUBLIQUE\",\"ECOLE ELEMENTAIRE PUBLIQUE\",\"ECOLE PRIMAIRE PUBLIQUE\",\"ECOLE ELEMENTAIRE PUBLIQUE\",\"ECOLE ELEMENTAIRE PUBLIQUE\",\"ECOLE ELEMENTAIRE PUBLIQUE\",\"ECOLE ELEMENTAIRE PUBLIQUE\",\"ECOLE ELEMENTAIRE PUBLIQUE\",\"ECOLE ELEMENTAIRE PUBLIQUE\",\"ECOLE ELEMENTAIRE PUBLIQUE\",\"ECOLE ELEMENTAIRE PUBLIQUE\",\"ECOLE MATERNELLE PUBLIQUE\",\"ECOLE PRIMAIRE PUBLIQUE\",\"ECOLE PRIMAIRE PRIVEE\",\"ECOLE PRIMAIRE PRIVEE\",\"ECOLE PRIMAIRE PRIVEE\",\"ECOLE PRIMAIRE PRIVEE\",\"ECOLE PRIMAIRE PRIVEE\",\"ECOLE MATERNELLE PUBLIQUE\",\"ECOLE ELEMENTAIRE PUBLIQUE\",\"ECOLE ELEMENTAIRE PUBLIQUE\",\"ECOLE MATERNELLE PUBLIQUE\",\"ECOLE PRIMAIRE PUBLIQUE\",\"ECOLE ELEMENTAIRE PUBLIQUE\",\"ECOLE ELEMENTAIRE PUBLIQUE\",\"ECOLE ELEMENTAIRE PUBLIQUE\",\"ECOLE ELEMENTAIRE PUBLIQUE\",\"ECOLE ELEMENTAIRE PUBLIQUE\",\"ECOLE ELEMENTAIRE PUBLIQUE\",\"ECOLE PRIMAIRE PUBLIQUE\",\"ECOLE MATERNELLE PUBLIQUE\",\"ECOLE PRIMAIRE PRIVEE\",\"ECOLE PRIMAIRE PRIVEE\",\"ECOLE MATERNELLE PUBLIQUE\",\"ECOLE PRIMAIRE PUBLIQUE\",\"ECOLE MATERNELLE PUBLIQUE\",\"ECOLE PRIMAIRE PUBLIQUE\",\"ECOLE MATERNELLE PUBLIQUE\",\"ECOLE MATERNELLE PUBLIQUE\",\"ECOLE ELEMENTAIRE PUBLIQUE\",\"ECOLE ELEMENTAIRE PUBLIQUE\",\"ECOLE ELEMENTAIRE PUBLIQUE\",\"ECOLE ELEMENTAIRE PUBLIQUE\",\"ECOLE MATERNELLE PUBLIQUE\",\"ECOLE PRIMAIRE PUBLIQUE\",\"ECOLE MATERNELLE PUBLIQUE\",\"ECOLE ELEMENTAIRE PUBLIQUE\",\"ECOLE MATERNELLE PUBLIQUE\",\"ECOLE MATERNELLE PUBLIQUE\",\"ECOLE MATERNELLE PUBLIQUE\",\"ECOLE MATERNELLE PUBLIQUE\",\"ECOLE MATERNELLE PUBLIQUE\",\"ECOLE MATERNELLE PUBLIQUE\",\"ECOLE MATERNELLE PUBLIQUE\",\"ECOLE MATERNELLE PUBLIQUE\",\"ECOLE MATERNELLE PUBLIQUE\",\"ECOLE MATERNELLE PUBLIQUE\",\"ECOLE MATERNELLE PUBLIQUE\",\"ECOLE MATERNELLE PUBLIQUE\",\"ECOLE MATERNELLE PUBLIQUE\",\"ECOLE MATERNELLE PUBLIQUE\",\"ECOLE MATERNELLE PUBLIQUE\",\"ECOLE MATERNELLE PUBLIQUE\",\"ECOLE MATERNELLE PUBLIQUE\",\"ECOLE ELEMENTAIRE PUBLIQUE\",\"ECOLE MATERNELLE PUBLIQUE\",\"ECOLE PRIMAIRE PRIVEE\",\"ECOLE MATERNELLE PUBLIQUE\",\"ECOLE PRIMAIRE PRIVEE\",\"ECOLE PRIMAIRE PRIVEE\",\"ECOLE MATERNELLE PUBLIQUE\",\"ECOLE ELEMENTAIRE PUBLIQUE\",\"ECOLE MATERNELLE PUBLIQUE\",\"ECOLE MATERNELLE PUBLIQUE\",\"ECOLE MATERNELLE PUBLIQUE\",\"ECOLE MATERNELLE PUBLIQUE\",\"ECOLE ELEMENTAIRE PUBLIQUE\",\"ECOLE ELEMENTAIRE PUBLIQUE\",\"ECOLE PRIMAIRE PRIVEE\",\"ECOLE MATERNELLE PUBLIQUE\",\"ECOLE PRIMAIRE PRIVEE\",\"ECOLE PRIMAIRE PRIVEE\",\"ECOLE PRIMAIRE PRIVEE\",\"ECOLE PRIMAIRE PRIVEE\",\"ECOLE PRIMAIRE PRIVEE\",\"ECOLE PRIMAIRE PRIVEE\",\"ECOLE PRIMAIRE PRIVEE\"],\"xaxis\":\"x\",\"y\":[134,309,118,336,161,557,279,104,182,260,238,330,323,204,140,181,178,116,233,208,155,212,72,146,256,230,297,252,203,157,173,140,307,218,199,266,322,205,142,190,173,215,435,223,264,240,194,250,157,184,130,153,268,187,291,114,373,280,199,292,290,325,285,219,401,244,125,84,102,175,151,93,107,97,103,126,154,137,97,133,161,72,131,182,143,130,225,91,325,413,110,205,128,103,101,99,232,196,169,147,284,254,119,469,186,496,299],\"yaxis\":\"y\",\"type\":\"bar\"},{\"alignmentgroup\":\"True\",\"hovertemplate\":\"rentr\\u00e9e=2020\\u003cbr\\u003eD\\u00e9nomination principale=%{x}\\u003cbr\\u003eNombre total d'\\u00e9l\\u00e8ves=%{y}\\u003cextra\\u003e\\u003c\\u002fextra\\u003e\",\"legendgroup\":\"2020\",\"marker\":{\"color\":\"#EF553B\",\"pattern\":{\"shape\":\"\"}},\"name\":\"2020\",\"offsetgroup\":\"2020\",\"orientation\":\"v\",\"showlegend\":true,\"textposition\":\"auto\",\"x\":[\"ECOLE ELEMENTAIRE PUBLIQUE\",\"ECOLE PRIMAIRE PUBLIQUE\",\"ECOLE MATERNELLE PUBLIQUE\",\"ECOLE PRIMAIRE PRIVEE\",\"ECOLE ELEMENTAIRE PUBLIQUE\",\"ECOLE MATERNELLE PUBLIQUE\",\"ECOLE PRIMAIRE PRIVEE\",\"ECOLE ELEMENTAIRE PUBLIQUE\",\"ECOLE PRIMAIRE PRIVEE\",\"ECOLE MATERNELLE PUBLIQUE\",\"ECOLE ELEMENTAIRE PUBLIQUE\",\"ECOLE MATERNELLE PUBLIQUE\",\"ECOLE ELEMENTAIRE PUBLIQUE\",\"ECOLE PRIMAIRE PRIVEE\",\"ECOLE ELEMENTAIRE PUBLIQUE\",\"ECOLE ELEMENTAIRE PUBLIQUE\",\"ECOLE ELEMENTAIRE PUBLIQUE\",\"ECOLE ELEMENTAIRE PUBLIQUE\",\"ECOLE ELEMENTAIRE PUBLIQUE\",\"ECOLE ELEMENTAIRE PUBLIQUE\",\"ECOLE ELEMENTAIRE PUBLIQUE\",\"ECOLE ELEMENTAIRE PUBLIQUE\",\"ECOLE ELEMENTAIRE PUBLIQUE\",\"ECOLE PRIMAIRE PUBLIQUE\",\"ECOLE ELEMENTAIRE PUBLIQUE\",\"ECOLE ELEMENTAIRE PUBLIQUE\",\"ECOLE ELEMENTAIRE PUBLIQUE\",\"ECOLE ELEMENTAIRE PUBLIQUE\",\"ECOLE ELEMENTAIRE PUBLIQUE\",\"ECOLE ELEMENTAIRE PUBLIQUE\",\"ECOLE ELEMENTAIRE PUBLIQUE\",\"ECOLE MATERNELLE PUBLIQUE\",\"ECOLE MATERNELLE PUBLIQUE\",\"ECOLE MATERNELLE PUBLIQUE\",\"ECOLE PRIMAIRE PUBLIQUE\",\"ECOLE PRIMAIRE PUBLIQUE\",\"ECOLE PRIMAIRE PRIVEE\",\"ECOLE PRIMAIRE PRIVEE\",\"ECOLE PRIMAIRE PRIVEE\",\"ECOLE PRIMAIRE PRIVEE\",\"ECOLE PRIMAIRE PRIVEE\",\"ECOLE MATERNELLE PUBLIQUE\",\"ECOLE ELEMENTAIRE PUBLIQUE\",\"ECOLE ELEMENTAIRE PUBLIQUE\",\"ECOLE MATERNELLE PUBLIQUE\",\"ECOLE PRIMAIRE PUBLIQUE\",\"ECOLE ELEMENTAIRE PUBLIQUE\",\"ECOLE ELEMENTAIRE PUBLIQUE\",\"ECOLE ELEMENTAIRE PUBLIQUE\",\"ECOLE ELEMENTAIRE PUBLIQUE\",\"ECOLE PRIMAIRE PRIVEE\",\"ECOLE ELEMENTAIRE PUBLIQUE\",\"ECOLE PRIMAIRE PRIVEE\",\"ECOLE MATERNELLE PUBLIQUE\",\"ECOLE PRIMAIRE PUBLIQUE\",\"ECOLE PRIMAIRE PUBLIQUE\",\"ECOLE MATERNELLE PUBLIQUE\",\"ECOLE MATERNELLE PUBLIQUE\",\"ECOLE MATERNELLE PUBLIQUE\",\"ECOLE ELEMENTAIRE PUBLIQUE\",\"ECOLE ELEMENTAIRE PUBLIQUE\",\"ECOLE ELEMENTAIRE PUBLIQUE\",\"ECOLE ELEMENTAIRE PUBLIQUE\",\"ECOLE PRIMAIRE PUBLIQUE\",\"ECOLE ELEMENTAIRE PUBLIQUE\",\"ECOLE MATERNELLE PUBLIQUE\",\"ECOLE ELEMENTAIRE PUBLIQUE\",\"ECOLE MATERNELLE PUBLIQUE\",\"ECOLE MATERNELLE PUBLIQUE\",\"ECOLE MATERNELLE PUBLIQUE\",\"ECOLE MATERNELLE PUBLIQUE\",\"ECOLE MATERNELLE PUBLIQUE\",\"ECOLE MATERNELLE PUBLIQUE\",\"ECOLE MATERNELLE PUBLIQUE\",\"ECOLE MATERNELLE PUBLIQUE\",\"ECOLE MATERNELLE PUBLIQUE\",\"ECOLE MATERNELLE PUBLIQUE\",\"ECOLE MATERNELLE PUBLIQUE\",\"ECOLE MATERNELLE PUBLIQUE\",\"ECOLE MATERNELLE PUBLIQUE\",\"ECOLE MATERNELLE PUBLIQUE\",\"ECOLE MATERNELLE PUBLIQUE\",\"ECOLE MATERNELLE PUBLIQUE\",\"ECOLE MATERNELLE PUBLIQUE\",\"ECOLE MATERNELLE PUBLIQUE\",\"ECOLE PRIMAIRE PRIVEE\",\"ECOLE PRIMAIRE PRIVEE\",\"ECOLE PRIMAIRE PRIVEE\",\"ECOLE ELEMENTAIRE PUBLIQUE\",\"ECOLE MATERNELLE PUBLIQUE\",\"ECOLE MATERNELLE PUBLIQUE\",\"ECOLE ELEMENTAIRE PUBLIQUE\",\"ECOLE MATERNELLE PUBLIQUE\",\"ECOLE MATERNELLE PUBLIQUE\",\"ECOLE MATERNELLE PUBLIQUE\",\"ECOLE ELEMENTAIRE PUBLIQUE\",\"ECOLE MATERNELLE PUBLIQUE\",\"ECOLE MATERNELLE PUBLIQUE\",\"ECOLE PRIMAIRE PRIVEE\",\"ECOLE PRIMAIRE PRIVEE\",\"ECOLE PRIMAIRE PRIVEE\",\"ECOLE PRIMAIRE PRIVEE\",\"ECOLE PRIMAIRE PRIVEE\",\"ECOLE PRIMAIRE PRIVEE\",\"ECOLE PRIMAIRE PRIVEE\",\"ECOLE PRIMAIRE PRIVEE\",\"ECOLE ELEMENTAIRE PUBLIQUE\"],\"xaxis\":\"x\",\"y\":[147,332,112,327,162,157,542,280,263,105,194,202,346,330,213,140,207,178,104,219,211,155,223,71,155,277,232,271,263,195,178,183,153,128,186,308,212,190,258,319,196,121,220,173,196,444,225,260,221,190,157,269,275,211,278,367,253,272,189,324,274,337,303,394,165,115,116,91,164,165,88,102,94,91,109,149,156,123,95,150,172,74,133,178,126,231,401,317,151,96,81,199,114,95,97,207,141,88,313,166,273,257,137,468,191,500,212],\"yaxis\":\"y\",\"type\":\"bar\"},{\"alignmentgroup\":\"True\",\"hovertemplate\":\"rentr\\u00e9e=2021\\u003cbr\\u003eD\\u00e9nomination principale=%{x}\\u003cbr\\u003eNombre total d'\\u00e9l\\u00e8ves=%{y}\\u003cextra\\u003e\\u003c\\u002fextra\\u003e\",\"legendgroup\":\"2021\",\"marker\":{\"color\":\"#00cc96\",\"pattern\":{\"shape\":\"\"}},\"name\":\"2021\",\"offsetgroup\":\"2021\",\"orientation\":\"v\",\"showlegend\":true,\"textposition\":\"auto\",\"x\":[\"ECOLE ELEMENTAIRE PUBLIQUE\",\"ECOLE PRIMAIRE PUBLIQUE\",\"ECOLE MATERNELLE PUBLIQUE\",\"ECOLE PRIMAIRE PRIVEE\",\"ECOLE MATERNELLE PUBLIQUE\",\"ECOLE PRIMAIRE PRIVEE\",\"ECOLE ELEMENTAIRE PUBLIQUE\",\"ECOLE MATERNELLE PUBLIQUE\",\"ECOLE ELEMENTAIRE PUBLIQUE\",\"ECOLE PRIMAIRE PRIVEE\",\"ECOLE MATERNELLE PUBLIQUE\",\"ECOLE ELEMENTAIRE PUBLIQUE\",\"ECOLE PRIMAIRE PRIVEE\",\"ECOLE ELEMENTAIRE PUBLIQUE\",\"ECOLE ELEMENTAIRE PUBLIQUE\",\"ECOLE ELEMENTAIRE PUBLIQUE\",\"ECOLE ELEMENTAIRE PUBLIQUE\",\"ECOLE ELEMENTAIRE PUBLIQUE\",\"ECOLE ELEMENTAIRE PUBLIQUE\",\"ECOLE ELEMENTAIRE PUBLIQUE\",\"ECOLE ELEMENTAIRE PUBLIQUE\",\"ECOLE ELEMENTAIRE PUBLIQUE\",\"ECOLE PRIMAIRE PUBLIQUE\",\"ECOLE ELEMENTAIRE PUBLIQUE\",\"ECOLE ELEMENTAIRE PUBLIQUE\",\"ECOLE ELEMENTAIRE PUBLIQUE\",\"ECOLE ELEMENTAIRE PUBLIQUE\",\"ECOLE ELEMENTAIRE PUBLIQUE\",\"ECOLE ELEMENTAIRE PUBLIQUE\",\"ECOLE ELEMENTAIRE PUBLIQUE\",\"ECOLE ELEMENTAIRE PUBLIQUE\",\"ECOLE MATERNELLE PUBLIQUE\",\"ECOLE PRIMAIRE PUBLIQUE\",\"ECOLE PRIMAIRE PRIVEE\",\"ECOLE PRIMAIRE PRIVEE\",\"ECOLE PRIMAIRE PRIVEE\",\"ECOLE PRIMAIRE PRIVEE\",\"ECOLE PRIMAIRE PRIVEE\",\"ECOLE MATERNELLE PUBLIQUE\",\"ECOLE ELEMENTAIRE PUBLIQUE\",\"ECOLE ELEMENTAIRE PUBLIQUE\",\"ECOLE MATERNELLE PUBLIQUE\",\"ECOLE PRIMAIRE PUBLIQUE\",\"ECOLE ELEMENTAIRE PUBLIQUE\",\"ECOLE ELEMENTAIRE PUBLIQUE\",\"ECOLE ELEMENTAIRE PUBLIQUE\",\"ECOLE ELEMENTAIRE PUBLIQUE\",\"ECOLE ELEMENTAIRE PUBLIQUE\",\"ECOLE ELEMENTAIRE PUBLIQUE\",\"ECOLE MATERNELLE PUBLIQUE\",\"ECOLE MATERNELLE PUBLIQUE\",\"ECOLE PRIMAIRE PRIVEE\",\"ECOLE PRIMAIRE PUBLIQUE\",\"ECOLE MATERNELLE PUBLIQUE\",\"ECOLE PRIMAIRE PUBLIQUE\",\"ECOLE PRIMAIRE PUBLIQUE\",\"ECOLE MATERNELLE PUBLIQUE\",\"ECOLE MATERNELLE PUBLIQUE\",\"ECOLE MATERNELLE PUBLIQUE\",\"ECOLE ELEMENTAIRE PUBLIQUE\",\"ECOLE ELEMENTAIRE PUBLIQUE\",\"ECOLE ELEMENTAIRE PUBLIQUE\",\"ECOLE ELEMENTAIRE PUBLIQUE\",\"ECOLE MATERNELLE PUBLIQUE\",\"ECOLE PRIMAIRE PRIVEE\",\"ECOLE ELEMENTAIRE PUBLIQUE\",\"ECOLE PRIMAIRE PUBLIQUE\",\"ECOLE MATERNELLE PUBLIQUE\",\"ECOLE MATERNELLE PUBLIQUE\",\"ECOLE MATERNELLE PUBLIQUE\",\"ECOLE MATERNELLE PUBLIQUE\",\"ECOLE MATERNELLE PUBLIQUE\",\"ECOLE MATERNELLE PUBLIQUE\",\"ECOLE MATERNELLE PUBLIQUE\",\"ECOLE MATERNELLE PUBLIQUE\",\"ECOLE MATERNELLE PUBLIQUE\",\"ECOLE MATERNELLE PUBLIQUE\",\"ECOLE MATERNELLE PUBLIQUE\",\"ECOLE MATERNELLE PUBLIQUE\",\"ECOLE MATERNELLE PUBLIQUE\",\"ECOLE MATERNELLE PUBLIQUE\",\"ECOLE MATERNELLE PUBLIQUE\",\"ECOLE MATERNELLE PUBLIQUE\",\"ECOLE MATERNELLE PUBLIQUE\",\"ECOLE ELEMENTAIRE PUBLIQUE\",\"ECOLE MATERNELLE PUBLIQUE\",\"ECOLE PRIMAIRE PRIVEE\",\"ECOLE MATERNELLE PUBLIQUE\",\"ECOLE MATERNELLE PUBLIQUE\",\"ECOLE PRIMAIRE PRIVEE\",\"ECOLE ELEMENTAIRE PUBLIQUE\",\"ECOLE MATERNELLE PUBLIQUE\",\"ECOLE MATERNELLE PUBLIQUE\",\"ECOLE MATERNELLE PUBLIQUE\",\"ECOLE ELEMENTAIRE PUBLIQUE\",\"ECOLE MATERNELLE PUBLIQUE\",\"ECOLE ELEMENTAIRE PUBLIQUE\",\"ECOLE PRIMAIRE PRIVEE\",\"ECOLE MATERNELLE PUBLIQUE\",\"ECOLE PRIMAIRE PRIVEE\",\"ECOLE PRIMAIRE PRIVEE\",\"ECOLE PRIMAIRE PRIVEE\",\"ECOLE PRIMAIRE PRIVEE\",\"ECOLE PRIMAIRE PRIVEE\",\"ECOLE PRIMAIRE PRIVEE\",\"ECOLE PRIMAIRE PRIVEE\",\"ECOLE PRIMAIRE PRIVEE\"],\"xaxis\":\"x\",\"y\":[148,350,107,321,158,525,276,109,166,262,172,341,322,210,135,201,173,112,229,209,150,208,72,152,272,231,269,255,192,170,173,136,300,202,184,248,306,191,109,224,172,200,444,230,262,241,212,276,165,129,112,143,387,215,254,376,255,247,160,319,261,344,299,210,273,112,186,98,97,146,163,89,102,81,106,141,157,97,101,153,197,73,127,180,146,129,213,93,158,409,194,108,111,99,206,87,208,289,75,278,241,138,475,173,511,306,165],\"yaxis\":\"y\",\"type\":\"bar\"},{\"alignmentgroup\":\"True\",\"hovertemplate\":\"rentr\\u00e9e=2022\\u003cbr\\u003eD\\u00e9nomination principale=%{x}\\u003cbr\\u003eNombre total d'\\u00e9l\\u00e8ves=%{y}\\u003cextra\\u003e\\u003c\\u002fextra\\u003e\",\"legendgroup\":\"2022\",\"marker\":{\"color\":\"#ab63fa\",\"pattern\":{\"shape\":\"\"}},\"name\":\"2022\",\"offsetgroup\":\"2022\",\"orientation\":\"v\",\"showlegend\":true,\"textposition\":\"auto\",\"x\":[\"ECOLE ELEMENTAIRE PUBLIQUE\",\"ECOLE PRIMAIRE PUBLIQUE\",\"ECOLE MATERNELLE PUBLIQUE\",\"ECOLE PRIMAIRE PRIVEE\",\"ECOLE MATERNELLE PUBLIQUE\",\"ECOLE PRIMAIRE PRIVEE\",\"ECOLE ELEMENTAIRE PUBLIQUE\",\"ECOLE MATERNELLE PUBLIQUE\",\"ECOLE ELEMENTAIRE PUBLIQUE\",\"ECOLE PRIMAIRE PRIVEE\",\"ECOLE MATERNELLE PUBLIQUE\",\"ECOLE ELEMENTAIRE PUBLIQUE\",\"ECOLE PRIMAIRE PRIVEE\",\"ECOLE ELEMENTAIRE PUBLIQUE\",\"ECOLE ELEMENTAIRE PUBLIQUE\",\"ECOLE ELEMENTAIRE PUBLIQUE\",\"ECOLE ELEMENTAIRE PUBLIQUE\",\"ECOLE ELEMENTAIRE PUBLIQUE\",\"ECOLE ELEMENTAIRE PUBLIQUE\",\"ECOLE ELEMENTAIRE PUBLIQUE\",\"ECOLE ELEMENTAIRE PUBLIQUE\",\"ECOLE ELEMENTAIRE PUBLIQUE\",\"ECOLE ELEMENTAIRE PUBLIQUE\",\"ECOLE PRIMAIRE PUBLIQUE\",\"ECOLE ELEMENTAIRE PUBLIQUE\",\"ECOLE ELEMENTAIRE PUBLIQUE\",\"ECOLE ELEMENTAIRE PUBLIQUE\",\"ECOLE ELEMENTAIRE PUBLIQUE\",\"ECOLE ELEMENTAIRE PUBLIQUE\",\"ECOLE ELEMENTAIRE PUBLIQUE\",\"ECOLE ELEMENTAIRE PUBLIQUE\",\"ECOLE MATERNELLE PUBLIQUE\",\"ECOLE MATERNELLE PUBLIQUE\",\"ECOLE MATERNELLE PUBLIQUE\",\"ECOLE PRIMAIRE PUBLIQUE\",\"ECOLE PRIMAIRE PUBLIQUE\",\"ECOLE PRIMAIRE PRIVEE\",\"ECOLE PRIMAIRE PRIVEE\",\"ECOLE PRIMAIRE PRIVEE\",\"ECOLE PRIMAIRE PRIVEE\",\"ECOLE PRIMAIRE PRIVEE\",\"ECOLE MATERNELLE PUBLIQUE\",\"ECOLE ELEMENTAIRE PUBLIQUE\",\"ECOLE ELEMENTAIRE PUBLIQUE\",\"ECOLE MATERNELLE PUBLIQUE\",\"ECOLE PRIMAIRE PUBLIQUE\",\"ECOLE ELEMENTAIRE PUBLIQUE\",\"ECOLE ELEMENTAIRE PUBLIQUE\",\"ECOLE ELEMENTAIRE PUBLIQUE\",\"ECOLE ELEMENTAIRE PUBLIQUE\",\"ECOLE PRIMAIRE PRIVEE\",\"ECOLE ELEMENTAIRE PUBLIQUE\",\"ECOLE PRIMAIRE PRIVEE\",\"ECOLE MATERNELLE PUBLIQUE\",\"ECOLE PRIMAIRE\",\"ECOLE PRIMAIRE PUBLIQUE\",\"ECOLE PRIMAIRE PUBLIQUE\",\"ECOLE MATERNELLE PUBLIQUE\",\"ECOLE MATERNELLE PUBLIQUE\",\"ECOLE MATERNELLE PUBLIQUE\",\"ECOLE ELEMENTAIRE PUBLIQUE\",\"ECOLE ELEMENTAIRE PUBLIQUE\",\"ECOLE ELEMENTAIRE PUBLIQUE\",\"ECOLE ELEMENTAIRE PUBLIQUE\",\"ECOLE PRIMAIRE PUBLIQUE\",\"ECOLE ELEMENTAIRE PUBLIQUE\",\"ECOLE MATERNELLE PUBLIQUE\",\"ECOLE ELEMENTAIRE PUBLIQUE\",\"ECOLE MATERNELLE PUBLIQUE\",\"ECOLE MATERNELLE PUBLIQUE\",\"ECOLE MATERNELLE PUBLIQUE\",\"ECOLE MATERNELLE PUBLIQUE\",\"ECOLE MATERNELLE PUBLIQUE\",\"ECOLE MATERNELLE PUBLIQUE\",\"ECOLE MATERNELLE PUBLIQUE\",\"ECOLE MATERNELLE PUBLIQUE\",\"ECOLE MATERNELLE PUBLIQUE\",\"ECOLE MATERNELLE PUBLIQUE\",\"ECOLE MATERNELLE PUBLIQUE\",\"ECOLE MATERNELLE PUBLIQUE\",\"ECOLE MATERNELLE PUBLIQUE\",\"ECOLE MATERNELLE PUBLIQUE\",\"ECOLE MATERNELLE PUBLIQUE\",\"ECOLE MATERNELLE PUBLIQUE\",\"ECOLE MATERNELLE PUBLIQUE\",\"ECOLE MATERNELLE PUBLIQUE\",\"ECOLE PRIMAIRE PRIVEE\",\"ECOLE PRIMAIRE PRIVEE\",\"ECOLE PRIMAIRE PRIVEE\",\"ECOLE ELEMENTAIRE PUBLIQUE\",\"ECOLE MATERNELLE PUBLIQUE\",\"ECOLE MATERNELLE PUBLIQUE\",\"ECOLE ELEMENTAIRE PUBLIQUE\",\"ECOLE MATERNELLE PUBLIQUE\",\"ECOLE MATERNELLE PUBLIQUE\",\"ECOLE MATERNELLE PUBLIQUE\",\"ECOLE ELEMENTAIRE PUBLIQUE\",\"ECOLE MATERNELLE PUBLIQUE\",\"ECOLE MATERNELLE PUBLIQUE\",\"ECOLE PRIMAIRE PRIVEE\",\"ECOLE PRIMAIRE PRIVEE\",\"ECOLE PRIMAIRE PRIVEE\",\"ECOLE PRIMAIRE PRIVEE\",\"ECOLE PRIMAIRE PRIVEE\",\"ECOLE PRIMAIRE PRIVEE\",\"ECOLE PRIMAIRE PRIVEE\",\"ECOLE PRIMAIRE PRIVEE\",\"ECOLE ELEMENTAIRE PUBLIQUE\"],\"xaxis\":\"x\",\"y\":[143,361,106,323,169,497,250,126,169,266,167,322,312,168,205,140,234,173,121,215,246,136,222,65,144,286,229,211,253,179,166,146,149,127,195,258,198,170,248,300,184,122,204,179,200,499,236,259,249,211,146,280,276,199,158,243,364,264,255,160,323,260,331,290,396,196,108,124,87,144,154,85,104,96,100,102,148,173,85,91,142,207,74,121,180,128,198,447,307,147,102,83,180,109,102,90,205,138,96,314,166,261,232,129,461,183,520,212],\"yaxis\":\"y\",\"type\":\"bar\"}],                        {\"template\":{\"data\":{\"histogram2dcontour\":[{\"type\":\"histogram2dcontour\",\"colorbar\":{\"outlinewidth\":0,\"ticks\":\"\"},\"colorscale\":[[0.0,\"#0d0887\"],[0.1111111111111111,\"#46039f\"],[0.2222222222222222,\"#7201a8\"],[0.3333333333333333,\"#9c179e\"],[0.4444444444444444,\"#bd3786\"],[0.5555555555555556,\"#d8576b\"],[0.6666666666666666,\"#ed7953\"],[0.7777777777777778,\"#fb9f3a\"],[0.8888888888888888,\"#fdca26\"],[1.0,\"#f0f921\"]]}],\"choropleth\":[{\"type\":\"choropleth\",\"colorbar\":{\"outlinewidth\":0,\"ticks\":\"\"}}],\"histogram2d\":[{\"type\":\"histogram2d\",\"colorbar\":{\"outlinewidth\":0,\"ticks\":\"\"},\"colorscale\":[[0.0,\"#0d0887\"],[0.1111111111111111,\"#46039f\"],[0.2222222222222222,\"#7201a8\"],[0.3333333333333333,\"#9c179e\"],[0.4444444444444444,\"#bd3786\"],[0.5555555555555556,\"#d8576b\"],[0.6666666666666666,\"#ed7953\"],[0.7777777777777778,\"#fb9f3a\"],[0.8888888888888888,\"#fdca26\"],[1.0,\"#f0f921\"]]}],\"heatmap\":[{\"type\":\"heatmap\",\"colorbar\":{\"outlinewidth\":0,\"ticks\":\"\"},\"colorscale\":[[0.0,\"#0d0887\"],[0.1111111111111111,\"#46039f\"],[0.2222222222222222,\"#7201a8\"],[0.3333333333333333,\"#9c179e\"],[0.4444444444444444,\"#bd3786\"],[0.5555555555555556,\"#d8576b\"],[0.6666666666666666,\"#ed7953\"],[0.7777777777777778,\"#fb9f3a\"],[0.8888888888888888,\"#fdca26\"],[1.0,\"#f0f921\"]]}],\"heatmapgl\":[{\"type\":\"heatmapgl\",\"colorbar\":{\"outlinewidth\":0,\"ticks\":\"\"},\"colorscale\":[[0.0,\"#0d0887\"],[0.1111111111111111,\"#46039f\"],[0.2222222222222222,\"#7201a8\"],[0.3333333333333333,\"#9c179e\"],[0.4444444444444444,\"#bd3786\"],[0.5555555555555556,\"#d8576b\"],[0.6666666666666666,\"#ed7953\"],[0.7777777777777778,\"#fb9f3a\"],[0.8888888888888888,\"#fdca26\"],[1.0,\"#f0f921\"]]}],\"contourcarpet\":[{\"type\":\"contourcarpet\",\"colorbar\":{\"outlinewidth\":0,\"ticks\":\"\"}}],\"contour\":[{\"type\":\"contour\",\"colorbar\":{\"outlinewidth\":0,\"ticks\":\"\"},\"colorscale\":[[0.0,\"#0d0887\"],[0.1111111111111111,\"#46039f\"],[0.2222222222222222,\"#7201a8\"],[0.3333333333333333,\"#9c179e\"],[0.4444444444444444,\"#bd3786\"],[0.5555555555555556,\"#d8576b\"],[0.6666666666666666,\"#ed7953\"],[0.7777777777777778,\"#fb9f3a\"],[0.8888888888888888,\"#fdca26\"],[1.0,\"#f0f921\"]]}],\"surface\":[{\"type\":\"surface\",\"colorbar\":{\"outlinewidth\":0,\"ticks\":\"\"},\"colorscale\":[[0.0,\"#0d0887\"],[0.1111111111111111,\"#46039f\"],[0.2222222222222222,\"#7201a8\"],[0.3333333333333333,\"#9c179e\"],[0.4444444444444444,\"#bd3786\"],[0.5555555555555556,\"#d8576b\"],[0.6666666666666666,\"#ed7953\"],[0.7777777777777778,\"#fb9f3a\"],[0.8888888888888888,\"#fdca26\"],[1.0,\"#f0f921\"]]}],\"mesh3d\":[{\"type\":\"mesh3d\",\"colorbar\":{\"outlinewidth\":0,\"ticks\":\"\"}}],\"scatter\":[{\"fillpattern\":{\"fillmode\":\"overlay\",\"size\":10,\"solidity\":0.2},\"type\":\"scatter\"}],\"parcoords\":[{\"type\":\"parcoords\",\"line\":{\"colorbar\":{\"outlinewidth\":0,\"ticks\":\"\"}}}],\"scatterpolargl\":[{\"type\":\"scatterpolargl\",\"marker\":{\"colorbar\":{\"outlinewidth\":0,\"ticks\":\"\"}}}],\"bar\":[{\"error_x\":{\"color\":\"#2a3f5f\"},\"error_y\":{\"color\":\"#2a3f5f\"},\"marker\":{\"line\":{\"color\":\"#E5ECF6\",\"width\":0.5},\"pattern\":{\"fillmode\":\"overlay\",\"size\":10,\"solidity\":0.2}},\"type\":\"bar\"}],\"scattergeo\":[{\"type\":\"scattergeo\",\"marker\":{\"colorbar\":{\"outlinewidth\":0,\"ticks\":\"\"}}}],\"scatterpolar\":[{\"type\":\"scatterpolar\",\"marker\":{\"colorbar\":{\"outlinewidth\":0,\"ticks\":\"\"}}}],\"histogram\":[{\"marker\":{\"pattern\":{\"fillmode\":\"overlay\",\"size\":10,\"solidity\":0.2}},\"type\":\"histogram\"}],\"scattergl\":[{\"type\":\"scattergl\",\"marker\":{\"colorbar\":{\"outlinewidth\":0,\"ticks\":\"\"}}}],\"scatter3d\":[{\"type\":\"scatter3d\",\"line\":{\"colorbar\":{\"outlinewidth\":0,\"ticks\":\"\"}},\"marker\":{\"colorbar\":{\"outlinewidth\":0,\"ticks\":\"\"}}}],\"scattermapbox\":[{\"type\":\"scattermapbox\",\"marker\":{\"colorbar\":{\"outlinewidth\":0,\"ticks\":\"\"}}}],\"scatterternary\":[{\"type\":\"scatterternary\",\"marker\":{\"colorbar\":{\"outlinewidth\":0,\"ticks\":\"\"}}}],\"scattercarpet\":[{\"type\":\"scattercarpet\",\"marker\":{\"colorbar\":{\"outlinewidth\":0,\"ticks\":\"\"}}}],\"carpet\":[{\"aaxis\":{\"endlinecolor\":\"#2a3f5f\",\"gridcolor\":\"white\",\"linecolor\":\"white\",\"minorgridcolor\":\"white\",\"startlinecolor\":\"#2a3f5f\"},\"baxis\":{\"endlinecolor\":\"#2a3f5f\",\"gridcolor\":\"white\",\"linecolor\":\"white\",\"minorgridcolor\":\"white\",\"startlinecolor\":\"#2a3f5f\"},\"type\":\"carpet\"}],\"table\":[{\"cells\":{\"fill\":{\"color\":\"#EBF0F8\"},\"line\":{\"color\":\"white\"}},\"header\":{\"fill\":{\"color\":\"#C8D4E3\"},\"line\":{\"color\":\"white\"}},\"type\":\"table\"}],\"barpolar\":[{\"marker\":{\"line\":{\"color\":\"#E5ECF6\",\"width\":0.5},\"pattern\":{\"fillmode\":\"overlay\",\"size\":10,\"solidity\":0.2}},\"type\":\"barpolar\"}],\"pie\":[{\"automargin\":true,\"type\":\"pie\"}]},\"layout\":{\"autotypenumbers\":\"strict\",\"colorway\":[\"#636efa\",\"#EF553B\",\"#00cc96\",\"#ab63fa\",\"#FFA15A\",\"#19d3f3\",\"#FF6692\",\"#B6E880\",\"#FF97FF\",\"#FECB52\"],\"font\":{\"color\":\"#2a3f5f\"},\"hovermode\":\"closest\",\"hoverlabel\":{\"align\":\"left\"},\"paper_bgcolor\":\"white\",\"plot_bgcolor\":\"#E5ECF6\",\"polar\":{\"bgcolor\":\"#E5ECF6\",\"angularaxis\":{\"gridcolor\":\"white\",\"linecolor\":\"white\",\"ticks\":\"\"},\"radialaxis\":{\"gridcolor\":\"white\",\"linecolor\":\"white\",\"ticks\":\"\"}},\"ternary\":{\"bgcolor\":\"#E5ECF6\",\"aaxis\":{\"gridcolor\":\"white\",\"linecolor\":\"white\",\"ticks\":\"\"},\"baxis\":{\"gridcolor\":\"white\",\"linecolor\":\"white\",\"ticks\":\"\"},\"caxis\":{\"gridcolor\":\"white\",\"linecolor\":\"white\",\"ticks\":\"\"}},\"coloraxis\":{\"colorbar\":{\"outlinewidth\":0,\"ticks\":\"\"}},\"colorscale\":{\"sequential\":[[0.0,\"#0d0887\"],[0.1111111111111111,\"#46039f\"],[0.2222222222222222,\"#7201a8\"],[0.3333333333333333,\"#9c179e\"],[0.4444444444444444,\"#bd3786\"],[0.5555555555555556,\"#d8576b\"],[0.6666666666666666,\"#ed7953\"],[0.7777777777777778,\"#fb9f3a\"],[0.8888888888888888,\"#fdca26\"],[1.0,\"#f0f921\"]],\"sequentialminus\":[[0.0,\"#0d0887\"],[0.1111111111111111,\"#46039f\"],[0.2222222222222222,\"#7201a8\"],[0.3333333333333333,\"#9c179e\"],[0.4444444444444444,\"#bd3786\"],[0.5555555555555556,\"#d8576b\"],[0.6666666666666666,\"#ed7953\"],[0.7777777777777778,\"#fb9f3a\"],[0.8888888888888888,\"#fdca26\"],[1.0,\"#f0f921\"]],\"diverging\":[[0,\"#8e0152\"],[0.1,\"#c51b7d\"],[0.2,\"#de77ae\"],[0.3,\"#f1b6da\"],[0.4,\"#fde0ef\"],[0.5,\"#f7f7f7\"],[0.6,\"#e6f5d0\"],[0.7,\"#b8e186\"],[0.8,\"#7fbc41\"],[0.9,\"#4d9221\"],[1,\"#276419\"]]},\"xaxis\":{\"gridcolor\":\"white\",\"linecolor\":\"white\",\"ticks\":\"\",\"title\":{\"standoff\":15},\"zerolinecolor\":\"white\",\"automargin\":true,\"zerolinewidth\":2},\"yaxis\":{\"gridcolor\":\"white\",\"linecolor\":\"white\",\"ticks\":\"\",\"title\":{\"standoff\":15},\"zerolinecolor\":\"white\",\"automargin\":true,\"zerolinewidth\":2},\"scene\":{\"xaxis\":{\"backgroundcolor\":\"#E5ECF6\",\"gridcolor\":\"white\",\"linecolor\":\"white\",\"showbackground\":true,\"ticks\":\"\",\"zerolinecolor\":\"white\",\"gridwidth\":2},\"yaxis\":{\"backgroundcolor\":\"#E5ECF6\",\"gridcolor\":\"white\",\"linecolor\":\"white\",\"showbackground\":true,\"ticks\":\"\",\"zerolinecolor\":\"white\",\"gridwidth\":2},\"zaxis\":{\"backgroundcolor\":\"#E5ECF6\",\"gridcolor\":\"white\",\"linecolor\":\"white\",\"showbackground\":true,\"ticks\":\"\",\"zerolinecolor\":\"white\",\"gridwidth\":2}},\"shapedefaults\":{\"line\":{\"color\":\"#2a3f5f\"}},\"annotationdefaults\":{\"arrowcolor\":\"#2a3f5f\",\"arrowhead\":0,\"arrowwidth\":1},\"geo\":{\"bgcolor\":\"white\",\"landcolor\":\"#E5ECF6\",\"subunitcolor\":\"white\",\"showland\":true,\"showlakes\":true,\"lakecolor\":\"white\"},\"title\":{\"x\":0.05},\"mapbox\":{\"style\":\"light\"}}},\"xaxis\":{\"anchor\":\"y\",\"domain\":[0.0,1.0],\"title\":{\"text\":\"D\\u00e9nomination principale\"}},\"yaxis\":{\"anchor\":\"x\",\"domain\":[0.0,1.0],\"title\":{\"text\":\"Nombre total d'\\u00e9l\\u00e8ves\"}},\"legend\":{\"title\":{\"text\":\"rentr\\u00e9e\"},\"tracegroupgap\":0},\"title\":{\"text\":\"effectif 1er degr\\u00e9 des \\u00e9coles alimentant Rennes\"},\"barmode\":\"group\"},                        {\"responsive\": true}                    ).then(function(){\n",
       "                            \n",
       "var gd = document.getElementById('51058794-ee30-4551-8610-c95ab668c562');\n",
       "var x = new MutationObserver(function (mutations, observer) {{\n",
       "        var display = window.getComputedStyle(gd).display;\n",
       "        if (!display || display === 'none') {{\n",
       "            console.log([gd, 'removed!']);\n",
       "            Plotly.purge(gd);\n",
       "            observer.disconnect();\n",
       "        }}\n",
       "}});\n",
       "\n",
       "// Listen for the removal of the full notebook cells\n",
       "var notebookContainer = gd.closest('#notebook-container');\n",
       "if (notebookContainer) {{\n",
       "    x.observe(notebookContainer, {childList: true});\n",
       "}}\n",
       "\n",
       "// Listen for the clearing of the current output cell\n",
       "var outputEl = gd.closest('.output');\n",
       "if (outputEl) {{\n",
       "    x.observe(outputEl, {childList: true});\n",
       "}}\n",
       "\n",
       "                        })                };                });            </script>        </div>"
      ]
     },
     "metadata": {},
     "output_type": "display_data"
    }
   ],
   "source": [
    "COMMUNES = [\"CHANTEPIE\", \"SAINT-GREGOIRE\",  \"THORIGNE-FOUILLARD\" , \"RENNES\", \"VEZIN-LE-COQUET\"]\n",
    "px.bar(ecoles[ecoles[\"Commune\"].isin(COMMUNES)], x=\"Dénomination principale\", y=\"Nombre total d'élèves\", color=\"rentrée\", title=\"effectif 1er degré des écoles alimentant Rennes\", barmode=\"group\")"
   ]
  },
  {
   "cell_type": "code",
   "execution_count": 62,
   "id": "ae203147-4bbd-4b06-8bed-c0b4f292a4e3",
   "metadata": {},
   "outputs": [
    {
     "data": {
      "application/vnd.plotly.v1+json": {
       "config": {
        "plotlyServerURL": "https://plot.ly"
       },
       "data": [
        {
         "alignmentgroup": "True",
         "hovertemplate": "rentrée=2019<br>Dénomination principale=%{x}<br>Nombre d'élèves en CE1 hors ULIS=%{y}<extra></extra>",
         "legendgroup": "2019",
         "marker": {
          "color": "#636efa",
          "pattern": {
           "shape": ""
          }
         },
         "name": "2019",
         "offsetgroup": "2019",
         "orientation": "v",
         "showlegend": true,
         "textposition": "auto",
         "type": "bar",
         "x": [
          "ECOLE ELEMENTAIRE PUBLIQUE",
          "ECOLE ELEMENTAIRE PUBLIQUE",
          "ECOLE ELEMENTAIRE PUBLIQUE",
          "ECOLE ELEMENTAIRE PUBLIQUE",
          "ECOLE ELEMENTAIRE PUBLIQUE",
          "ECOLE ELEMENTAIRE PUBLIQUE",
          "ECOLE ELEMENTAIRE PUBLIQUE",
          "ECOLE ELEMENTAIRE PUBLIQUE",
          "ECOLE ELEMENTAIRE PUBLIQUE",
          "ECOLE ELEMENTAIRE PUBLIQUE",
          "ECOLE ELEMENTAIRE PUBLIQUE",
          "ECOLE ELEMENTAIRE PUBLIQUE",
          "ECOLE ELEMENTAIRE PUBLIQUE",
          "ECOLE ELEMENTAIRE PUBLIQUE",
          "ECOLE ELEMENTAIRE PUBLIQUE",
          "ECOLE ELEMENTAIRE PUBLIQUE",
          "ECOLE ELEMENTAIRE PUBLIQUE",
          "ECOLE ELEMENTAIRE PUBLIQUE",
          "ECOLE ELEMENTAIRE PUBLIQUE",
          "ECOLE ELEMENTAIRE PUBLIQUE",
          "ECOLE ELEMENTAIRE PUBLIQUE",
          "ECOLE ELEMENTAIRE PUBLIQUE",
          "ECOLE ELEMENTAIRE PUBLIQUE",
          "ECOLE ELEMENTAIRE PUBLIQUE",
          "ECOLE ELEMENTAIRE PUBLIQUE",
          "ECOLE ELEMENTAIRE PUBLIQUE",
          "ECOLE ELEMENTAIRE PUBLIQUE",
          "ECOLE ELEMENTAIRE PUBLIQUE",
          "ECOLE ELEMENTAIRE PUBLIQUE",
          "ECOLE ELEMENTAIRE PUBLIQUE",
          "ECOLE ELEMENTAIRE PUBLIQUE",
          "ECOLE ELEMENTAIRE PUBLIQUE",
          "ECOLE ELEMENTAIRE PUBLIQUE",
          "ECOLE ELEMENTAIRE PUBLIQUE",
          "ECOLE ELEMENTAIRE PUBLIQUE",
          "ECOLE ELEMENTAIRE PUBLIQUE",
          "ECOLE ELEMENTAIRE PUBLIQUE",
          "ECOLE ELEMENTAIRE PUBLIQUE"
         ],
         "xaxis": "x",
         "y": [
          24,
          61,
          37,
          59,
          35,
          28,
          34,
          21,
          25,
          53,
          47,
          27,
          51,
          37,
          51,
          46,
          40,
          51,
          39,
          36,
          32,
          36,
          32,
          42,
          51,
          51,
          36,
          58,
          27,
          64,
          55,
          77,
          68,
          24,
          30,
          40,
          50,
          35
         ],
         "yaxis": "y"
        },
        {
         "alignmentgroup": "True",
         "hovertemplate": "rentrée=2020<br>Dénomination principale=%{x}<br>Nombre d'élèves en CE1 hors ULIS=%{y}<extra></extra>",
         "legendgroup": "2020",
         "marker": {
          "color": "#EF553B",
          "pattern": {
           "shape": ""
          }
         },
         "name": "2020",
         "offsetgroup": "2020",
         "orientation": "v",
         "showlegend": true,
         "textposition": "auto",
         "type": "bar",
         "x": [
          "ECOLE ELEMENTAIRE PUBLIQUE",
          "ECOLE ELEMENTAIRE PUBLIQUE",
          "ECOLE ELEMENTAIRE PUBLIQUE",
          "ECOLE ELEMENTAIRE PUBLIQUE",
          "ECOLE ELEMENTAIRE PUBLIQUE",
          "ECOLE ELEMENTAIRE PUBLIQUE",
          "ECOLE ELEMENTAIRE PUBLIQUE",
          "ECOLE ELEMENTAIRE PUBLIQUE",
          "ECOLE ELEMENTAIRE PUBLIQUE",
          "ECOLE ELEMENTAIRE PUBLIQUE",
          "ECOLE ELEMENTAIRE PUBLIQUE",
          "ECOLE ELEMENTAIRE PUBLIQUE",
          "ECOLE ELEMENTAIRE PUBLIQUE",
          "ECOLE ELEMENTAIRE PUBLIQUE",
          "ECOLE ELEMENTAIRE PUBLIQUE",
          "ECOLE ELEMENTAIRE PUBLIQUE",
          "ECOLE ELEMENTAIRE PUBLIQUE",
          "ECOLE ELEMENTAIRE PUBLIQUE",
          "ECOLE ELEMENTAIRE PUBLIQUE",
          "ECOLE ELEMENTAIRE PUBLIQUE",
          "ECOLE ELEMENTAIRE PUBLIQUE",
          "ECOLE ELEMENTAIRE PUBLIQUE",
          "ECOLE ELEMENTAIRE PUBLIQUE",
          "ECOLE ELEMENTAIRE PUBLIQUE",
          "ECOLE ELEMENTAIRE PUBLIQUE",
          "ECOLE ELEMENTAIRE PUBLIQUE",
          "ECOLE ELEMENTAIRE PUBLIQUE",
          "ECOLE ELEMENTAIRE PUBLIQUE",
          "ECOLE ELEMENTAIRE PUBLIQUE",
          "ECOLE ELEMENTAIRE PUBLIQUE",
          "ECOLE ELEMENTAIRE PUBLIQUE",
          "ECOLE ELEMENTAIRE PUBLIQUE",
          "ECOLE ELEMENTAIRE PUBLIQUE",
          "ECOLE ELEMENTAIRE PUBLIQUE",
          "ECOLE ELEMENTAIRE PUBLIQUE",
          "ECOLE ELEMENTAIRE PUBLIQUE",
          "ECOLE ELEMENTAIRE PUBLIQUE",
          "ECOLE ELEMENTAIRE PUBLIQUE"
         ],
         "xaxis": "x",
         "y": [
          21,
          35,
          44,
          42,
          59,
          33,
          27,
          39,
          39,
          22,
          45,
          47,
          26,
          35,
          32,
          56,
          40,
          59,
          57,
          31,
          26,
          41,
          41,
          43,
          47,
          53,
          44,
          54,
          69,
          60,
          56,
          55,
          35,
          27,
          35,
          35,
          33,
          41
         ],
         "yaxis": "y"
        },
        {
         "alignmentgroup": "True",
         "hovertemplate": "rentrée=2021<br>Dénomination principale=%{x}<br>Nombre d'élèves en CE1 hors ULIS=%{y}<extra></extra>",
         "legendgroup": "2021",
         "marker": {
          "color": "#00cc96",
          "pattern": {
           "shape": ""
          }
         },
         "name": "2021",
         "offsetgroup": "2021",
         "orientation": "v",
         "showlegend": true,
         "textposition": "auto",
         "type": "bar",
         "x": [
          "ECOLE ELEMENTAIRE PUBLIQUE",
          "ECOLE ELEMENTAIRE PUBLIQUE",
          "ECOLE ELEMENTAIRE PUBLIQUE",
          "ECOLE ELEMENTAIRE PUBLIQUE",
          "ECOLE ELEMENTAIRE PUBLIQUE",
          "ECOLE ELEMENTAIRE PUBLIQUE",
          "ECOLE ELEMENTAIRE PUBLIQUE",
          "ECOLE ELEMENTAIRE PUBLIQUE",
          "ECOLE ELEMENTAIRE PUBLIQUE",
          "ECOLE ELEMENTAIRE PUBLIQUE",
          "ECOLE ELEMENTAIRE PUBLIQUE",
          "ECOLE ELEMENTAIRE PUBLIQUE",
          "ECOLE ELEMENTAIRE PUBLIQUE",
          "ECOLE ELEMENTAIRE PUBLIQUE",
          "ECOLE ELEMENTAIRE PUBLIQUE",
          "ECOLE ELEMENTAIRE PUBLIQUE",
          "ECOLE ELEMENTAIRE PUBLIQUE",
          "ECOLE ELEMENTAIRE PUBLIQUE",
          "ECOLE ELEMENTAIRE PUBLIQUE",
          "ECOLE ELEMENTAIRE PUBLIQUE",
          "ECOLE ELEMENTAIRE PUBLIQUE",
          "ECOLE ELEMENTAIRE PUBLIQUE",
          "ECOLE ELEMENTAIRE PUBLIQUE",
          "ECOLE ELEMENTAIRE PUBLIQUE",
          "ECOLE ELEMENTAIRE PUBLIQUE",
          "ECOLE ELEMENTAIRE PUBLIQUE",
          "ECOLE ELEMENTAIRE PUBLIQUE",
          "ECOLE ELEMENTAIRE PUBLIQUE",
          "ECOLE ELEMENTAIRE PUBLIQUE",
          "ECOLE ELEMENTAIRE PUBLIQUE",
          "ECOLE ELEMENTAIRE PUBLIQUE",
          "ECOLE ELEMENTAIRE PUBLIQUE",
          "ECOLE ELEMENTAIRE PUBLIQUE",
          "ECOLE ELEMENTAIRE PUBLIQUE",
          "ECOLE ELEMENTAIRE PUBLIQUE",
          "ECOLE ELEMENTAIRE PUBLIQUE",
          "ECOLE ELEMENTAIRE PUBLIQUE",
          "ECOLE ELEMENTAIRE PUBLIQUE"
         ],
         "xaxis": "x",
         "y": [
          29,
          57,
          33,
          83,
          48,
          27,
          44,
          41,
          17,
          38,
          42,
          34,
          47,
          31,
          64,
          50,
          56,
          53,
          38,
          32,
          40,
          52,
          37,
          44,
          66,
          47,
          45,
          71,
          36,
          70,
          46,
          67,
          71,
          25,
          30,
          42,
          53,
          31
         ],
         "yaxis": "y"
        },
        {
         "alignmentgroup": "True",
         "hovertemplate": "rentrée=2022<br>Dénomination principale=%{x}<br>Nombre d'élèves en CE1 hors ULIS=%{y}<extra></extra>",
         "legendgroup": "2022",
         "marker": {
          "color": "#ab63fa",
          "pattern": {
           "shape": ""
          }
         },
         "name": "2022",
         "offsetgroup": "2022",
         "orientation": "v",
         "showlegend": true,
         "textposition": "auto",
         "type": "bar",
         "x": [
          "ECOLE ELEMENTAIRE PUBLIQUE",
          "ECOLE ELEMENTAIRE PUBLIQUE",
          "ECOLE ELEMENTAIRE PUBLIQUE",
          "ECOLE ELEMENTAIRE PUBLIQUE",
          "ECOLE ELEMENTAIRE PUBLIQUE",
          "ECOLE ELEMENTAIRE PUBLIQUE",
          "ECOLE ELEMENTAIRE PUBLIQUE",
          "ECOLE ELEMENTAIRE PUBLIQUE",
          "ECOLE ELEMENTAIRE PUBLIQUE",
          "ECOLE ELEMENTAIRE PUBLIQUE",
          "ECOLE ELEMENTAIRE PUBLIQUE",
          "ECOLE ELEMENTAIRE PUBLIQUE",
          "ECOLE ELEMENTAIRE PUBLIQUE",
          "ECOLE ELEMENTAIRE PUBLIQUE",
          "ECOLE ELEMENTAIRE PUBLIQUE",
          "ECOLE ELEMENTAIRE PUBLIQUE",
          "ECOLE ELEMENTAIRE PUBLIQUE",
          "ECOLE ELEMENTAIRE PUBLIQUE",
          "ECOLE ELEMENTAIRE PUBLIQUE",
          "ECOLE ELEMENTAIRE PUBLIQUE",
          "ECOLE ELEMENTAIRE PUBLIQUE",
          "ECOLE ELEMENTAIRE PUBLIQUE",
          "ECOLE ELEMENTAIRE PUBLIQUE",
          "ECOLE ELEMENTAIRE PUBLIQUE",
          "ECOLE ELEMENTAIRE PUBLIQUE",
          "ECOLE ELEMENTAIRE PUBLIQUE",
          "ECOLE ELEMENTAIRE PUBLIQUE",
          "ECOLE ELEMENTAIRE PUBLIQUE",
          "ECOLE ELEMENTAIRE PUBLIQUE",
          "ECOLE ELEMENTAIRE PUBLIQUE",
          "ECOLE ELEMENTAIRE PUBLIQUE",
          "ECOLE ELEMENTAIRE PUBLIQUE",
          "ECOLE ELEMENTAIRE PUBLIQUE",
          "ECOLE ELEMENTAIRE PUBLIQUE",
          "ECOLE ELEMENTAIRE PUBLIQUE",
          "ECOLE ELEMENTAIRE PUBLIQUE",
          "ECOLE ELEMENTAIRE PUBLIQUE",
          "ECOLE ELEMENTAIRE PUBLIQUE"
         ],
         "xaxis": "x",
         "y": [
          46,
          48,
          29,
          71,
          30,
          39,
          33,
          46,
          23,
          25,
          42,
          51,
          23,
          44,
          31,
          53,
          41,
          42,
          56,
          31,
          34,
          40,
          31,
          43,
          55,
          51,
          49,
          49,
          60,
          60,
          80,
          59,
          35,
          23,
          28,
          40,
          39,
          44
         ],
         "yaxis": "y"
        }
       ],
       "layout": {
        "autosize": true,
        "barmode": "group",
        "legend": {
         "title": {
          "text": "rentrée"
         },
         "tracegroupgap": 0
        },
        "template": {
         "data": {
          "bar": [
           {
            "error_x": {
             "color": "#2a3f5f"
            },
            "error_y": {
             "color": "#2a3f5f"
            },
            "marker": {
             "line": {
              "color": "#E5ECF6",
              "width": 0.5
             },
             "pattern": {
              "fillmode": "overlay",
              "size": 10,
              "solidity": 0.2
             }
            },
            "type": "bar"
           }
          ],
          "barpolar": [
           {
            "marker": {
             "line": {
              "color": "#E5ECF6",
              "width": 0.5
             },
             "pattern": {
              "fillmode": "overlay",
              "size": 10,
              "solidity": 0.2
             }
            },
            "type": "barpolar"
           }
          ],
          "carpet": [
           {
            "aaxis": {
             "endlinecolor": "#2a3f5f",
             "gridcolor": "white",
             "linecolor": "white",
             "minorgridcolor": "white",
             "startlinecolor": "#2a3f5f"
            },
            "baxis": {
             "endlinecolor": "#2a3f5f",
             "gridcolor": "white",
             "linecolor": "white",
             "minorgridcolor": "white",
             "startlinecolor": "#2a3f5f"
            },
            "type": "carpet"
           }
          ],
          "choropleth": [
           {
            "colorbar": {
             "outlinewidth": 0,
             "ticks": ""
            },
            "type": "choropleth"
           }
          ],
          "contour": [
           {
            "colorbar": {
             "outlinewidth": 0,
             "ticks": ""
            },
            "colorscale": [
             [
              0,
              "#0d0887"
             ],
             [
              0.1111111111111111,
              "#46039f"
             ],
             [
              0.2222222222222222,
              "#7201a8"
             ],
             [
              0.3333333333333333,
              "#9c179e"
             ],
             [
              0.4444444444444444,
              "#bd3786"
             ],
             [
              0.5555555555555556,
              "#d8576b"
             ],
             [
              0.6666666666666666,
              "#ed7953"
             ],
             [
              0.7777777777777778,
              "#fb9f3a"
             ],
             [
              0.8888888888888888,
              "#fdca26"
             ],
             [
              1,
              "#f0f921"
             ]
            ],
            "type": "contour"
           }
          ],
          "contourcarpet": [
           {
            "colorbar": {
             "outlinewidth": 0,
             "ticks": ""
            },
            "type": "contourcarpet"
           }
          ],
          "heatmap": [
           {
            "colorbar": {
             "outlinewidth": 0,
             "ticks": ""
            },
            "colorscale": [
             [
              0,
              "#0d0887"
             ],
             [
              0.1111111111111111,
              "#46039f"
             ],
             [
              0.2222222222222222,
              "#7201a8"
             ],
             [
              0.3333333333333333,
              "#9c179e"
             ],
             [
              0.4444444444444444,
              "#bd3786"
             ],
             [
              0.5555555555555556,
              "#d8576b"
             ],
             [
              0.6666666666666666,
              "#ed7953"
             ],
             [
              0.7777777777777778,
              "#fb9f3a"
             ],
             [
              0.8888888888888888,
              "#fdca26"
             ],
             [
              1,
              "#f0f921"
             ]
            ],
            "type": "heatmap"
           }
          ],
          "heatmapgl": [
           {
            "colorbar": {
             "outlinewidth": 0,
             "ticks": ""
            },
            "colorscale": [
             [
              0,
              "#0d0887"
             ],
             [
              0.1111111111111111,
              "#46039f"
             ],
             [
              0.2222222222222222,
              "#7201a8"
             ],
             [
              0.3333333333333333,
              "#9c179e"
             ],
             [
              0.4444444444444444,
              "#bd3786"
             ],
             [
              0.5555555555555556,
              "#d8576b"
             ],
             [
              0.6666666666666666,
              "#ed7953"
             ],
             [
              0.7777777777777778,
              "#fb9f3a"
             ],
             [
              0.8888888888888888,
              "#fdca26"
             ],
             [
              1,
              "#f0f921"
             ]
            ],
            "type": "heatmapgl"
           }
          ],
          "histogram": [
           {
            "marker": {
             "pattern": {
              "fillmode": "overlay",
              "size": 10,
              "solidity": 0.2
             }
            },
            "type": "histogram"
           }
          ],
          "histogram2d": [
           {
            "colorbar": {
             "outlinewidth": 0,
             "ticks": ""
            },
            "colorscale": [
             [
              0,
              "#0d0887"
             ],
             [
              0.1111111111111111,
              "#46039f"
             ],
             [
              0.2222222222222222,
              "#7201a8"
             ],
             [
              0.3333333333333333,
              "#9c179e"
             ],
             [
              0.4444444444444444,
              "#bd3786"
             ],
             [
              0.5555555555555556,
              "#d8576b"
             ],
             [
              0.6666666666666666,
              "#ed7953"
             ],
             [
              0.7777777777777778,
              "#fb9f3a"
             ],
             [
              0.8888888888888888,
              "#fdca26"
             ],
             [
              1,
              "#f0f921"
             ]
            ],
            "type": "histogram2d"
           }
          ],
          "histogram2dcontour": [
           {
            "colorbar": {
             "outlinewidth": 0,
             "ticks": ""
            },
            "colorscale": [
             [
              0,
              "#0d0887"
             ],
             [
              0.1111111111111111,
              "#46039f"
             ],
             [
              0.2222222222222222,
              "#7201a8"
             ],
             [
              0.3333333333333333,
              "#9c179e"
             ],
             [
              0.4444444444444444,
              "#bd3786"
             ],
             [
              0.5555555555555556,
              "#d8576b"
             ],
             [
              0.6666666666666666,
              "#ed7953"
             ],
             [
              0.7777777777777778,
              "#fb9f3a"
             ],
             [
              0.8888888888888888,
              "#fdca26"
             ],
             [
              1,
              "#f0f921"
             ]
            ],
            "type": "histogram2dcontour"
           }
          ],
          "mesh3d": [
           {
            "colorbar": {
             "outlinewidth": 0,
             "ticks": ""
            },
            "type": "mesh3d"
           }
          ],
          "parcoords": [
           {
            "line": {
             "colorbar": {
              "outlinewidth": 0,
              "ticks": ""
             }
            },
            "type": "parcoords"
           }
          ],
          "pie": [
           {
            "automargin": true,
            "type": "pie"
           }
          ],
          "scatter": [
           {
            "fillpattern": {
             "fillmode": "overlay",
             "size": 10,
             "solidity": 0.2
            },
            "type": "scatter"
           }
          ],
          "scatter3d": [
           {
            "line": {
             "colorbar": {
              "outlinewidth": 0,
              "ticks": ""
             }
            },
            "marker": {
             "colorbar": {
              "outlinewidth": 0,
              "ticks": ""
             }
            },
            "type": "scatter3d"
           }
          ],
          "scattercarpet": [
           {
            "marker": {
             "colorbar": {
              "outlinewidth": 0,
              "ticks": ""
             }
            },
            "type": "scattercarpet"
           }
          ],
          "scattergeo": [
           {
            "marker": {
             "colorbar": {
              "outlinewidth": 0,
              "ticks": ""
             }
            },
            "type": "scattergeo"
           }
          ],
          "scattergl": [
           {
            "marker": {
             "colorbar": {
              "outlinewidth": 0,
              "ticks": ""
             }
            },
            "type": "scattergl"
           }
          ],
          "scattermapbox": [
           {
            "marker": {
             "colorbar": {
              "outlinewidth": 0,
              "ticks": ""
             }
            },
            "type": "scattermapbox"
           }
          ],
          "scatterpolar": [
           {
            "marker": {
             "colorbar": {
              "outlinewidth": 0,
              "ticks": ""
             }
            },
            "type": "scatterpolar"
           }
          ],
          "scatterpolargl": [
           {
            "marker": {
             "colorbar": {
              "outlinewidth": 0,
              "ticks": ""
             }
            },
            "type": "scatterpolargl"
           }
          ],
          "scatterternary": [
           {
            "marker": {
             "colorbar": {
              "outlinewidth": 0,
              "ticks": ""
             }
            },
            "type": "scatterternary"
           }
          ],
          "surface": [
           {
            "colorbar": {
             "outlinewidth": 0,
             "ticks": ""
            },
            "colorscale": [
             [
              0,
              "#0d0887"
             ],
             [
              0.1111111111111111,
              "#46039f"
             ],
             [
              0.2222222222222222,
              "#7201a8"
             ],
             [
              0.3333333333333333,
              "#9c179e"
             ],
             [
              0.4444444444444444,
              "#bd3786"
             ],
             [
              0.5555555555555556,
              "#d8576b"
             ],
             [
              0.6666666666666666,
              "#ed7953"
             ],
             [
              0.7777777777777778,
              "#fb9f3a"
             ],
             [
              0.8888888888888888,
              "#fdca26"
             ],
             [
              1,
              "#f0f921"
             ]
            ],
            "type": "surface"
           }
          ],
          "table": [
           {
            "cells": {
             "fill": {
              "color": "#EBF0F8"
             },
             "line": {
              "color": "white"
             }
            },
            "header": {
             "fill": {
              "color": "#C8D4E3"
             },
             "line": {
              "color": "white"
             }
            },
            "type": "table"
           }
          ]
         },
         "layout": {
          "annotationdefaults": {
           "arrowcolor": "#2a3f5f",
           "arrowhead": 0,
           "arrowwidth": 1
          },
          "autotypenumbers": "strict",
          "coloraxis": {
           "colorbar": {
            "outlinewidth": 0,
            "ticks": ""
           }
          },
          "colorscale": {
           "diverging": [
            [
             0,
             "#8e0152"
            ],
            [
             0.1,
             "#c51b7d"
            ],
            [
             0.2,
             "#de77ae"
            ],
            [
             0.3,
             "#f1b6da"
            ],
            [
             0.4,
             "#fde0ef"
            ],
            [
             0.5,
             "#f7f7f7"
            ],
            [
             0.6,
             "#e6f5d0"
            ],
            [
             0.7,
             "#b8e186"
            ],
            [
             0.8,
             "#7fbc41"
            ],
            [
             0.9,
             "#4d9221"
            ],
            [
             1,
             "#276419"
            ]
           ],
           "sequential": [
            [
             0,
             "#0d0887"
            ],
            [
             0.1111111111111111,
             "#46039f"
            ],
            [
             0.2222222222222222,
             "#7201a8"
            ],
            [
             0.3333333333333333,
             "#9c179e"
            ],
            [
             0.4444444444444444,
             "#bd3786"
            ],
            [
             0.5555555555555556,
             "#d8576b"
            ],
            [
             0.6666666666666666,
             "#ed7953"
            ],
            [
             0.7777777777777778,
             "#fb9f3a"
            ],
            [
             0.8888888888888888,
             "#fdca26"
            ],
            [
             1,
             "#f0f921"
            ]
           ],
           "sequentialminus": [
            [
             0,
             "#0d0887"
            ],
            [
             0.1111111111111111,
             "#46039f"
            ],
            [
             0.2222222222222222,
             "#7201a8"
            ],
            [
             0.3333333333333333,
             "#9c179e"
            ],
            [
             0.4444444444444444,
             "#bd3786"
            ],
            [
             0.5555555555555556,
             "#d8576b"
            ],
            [
             0.6666666666666666,
             "#ed7953"
            ],
            [
             0.7777777777777778,
             "#fb9f3a"
            ],
            [
             0.8888888888888888,
             "#fdca26"
            ],
            [
             1,
             "#f0f921"
            ]
           ]
          },
          "colorway": [
           "#636efa",
           "#EF553B",
           "#00cc96",
           "#ab63fa",
           "#FFA15A",
           "#19d3f3",
           "#FF6692",
           "#B6E880",
           "#FF97FF",
           "#FECB52"
          ],
          "font": {
           "color": "#2a3f5f"
          },
          "geo": {
           "bgcolor": "white",
           "lakecolor": "white",
           "landcolor": "#E5ECF6",
           "showlakes": true,
           "showland": true,
           "subunitcolor": "white"
          },
          "hoverlabel": {
           "align": "left"
          },
          "hovermode": "closest",
          "mapbox": {
           "style": "light"
          },
          "paper_bgcolor": "white",
          "plot_bgcolor": "#E5ECF6",
          "polar": {
           "angularaxis": {
            "gridcolor": "white",
            "linecolor": "white",
            "ticks": ""
           },
           "bgcolor": "#E5ECF6",
           "radialaxis": {
            "gridcolor": "white",
            "linecolor": "white",
            "ticks": ""
           }
          },
          "scene": {
           "xaxis": {
            "backgroundcolor": "#E5ECF6",
            "gridcolor": "white",
            "gridwidth": 2,
            "linecolor": "white",
            "showbackground": true,
            "ticks": "",
            "zerolinecolor": "white"
           },
           "yaxis": {
            "backgroundcolor": "#E5ECF6",
            "gridcolor": "white",
            "gridwidth": 2,
            "linecolor": "white",
            "showbackground": true,
            "ticks": "",
            "zerolinecolor": "white"
           },
           "zaxis": {
            "backgroundcolor": "#E5ECF6",
            "gridcolor": "white",
            "gridwidth": 2,
            "linecolor": "white",
            "showbackground": true,
            "ticks": "",
            "zerolinecolor": "white"
           }
          },
          "shapedefaults": {
           "line": {
            "color": "#2a3f5f"
           }
          },
          "ternary": {
           "aaxis": {
            "gridcolor": "white",
            "linecolor": "white",
            "ticks": ""
           },
           "baxis": {
            "gridcolor": "white",
            "linecolor": "white",
            "ticks": ""
           },
           "bgcolor": "#E5ECF6",
           "caxis": {
            "gridcolor": "white",
            "linecolor": "white",
            "ticks": ""
           }
          },
          "title": {
           "x": 0.05
          },
          "xaxis": {
           "automargin": true,
           "gridcolor": "white",
           "linecolor": "white",
           "ticks": "",
           "title": {
            "standoff": 15
           },
           "zerolinecolor": "white",
           "zerolinewidth": 2
          },
          "yaxis": {
           "automargin": true,
           "gridcolor": "white",
           "linecolor": "white",
           "ticks": "",
           "title": {
            "standoff": 15
           },
           "zerolinecolor": "white",
           "zerolinewidth": 2
          }
         }
        },
        "title": {
         "text": "CE1"
        },
        "xaxis": {
         "anchor": "y",
         "autorange": true,
         "domain": [
          0,
          1
         ],
         "range": [
          -0.5,
          0.5
         ],
         "title": {
          "text": "Dénomination principale"
         },
         "type": "category"
        },
        "yaxis": {
         "anchor": "x",
         "autorange": true,
         "domain": [
          0,
          1
         ],
         "range": [
          0,
          1828.421052631579
         ],
         "title": {
          "text": "Nombre d'élèves en CE1 hors ULIS"
         },
         "type": "linear"
        }
       }
      },
      "text/html": [
       "<div>                            <div id=\"bc6be801-c9df-4bf1-9a12-a3ae2ef6e623\" class=\"plotly-graph-div\" style=\"height:525px; width:100%;\"></div>            <script type=\"text/javascript\">                require([\"plotly\"], function(Plotly) {                    window.PLOTLYENV=window.PLOTLYENV || {};                                    if (document.getElementById(\"bc6be801-c9df-4bf1-9a12-a3ae2ef6e623\")) {                    Plotly.newPlot(                        \"bc6be801-c9df-4bf1-9a12-a3ae2ef6e623\",                        [{\"alignmentgroup\":\"True\",\"hovertemplate\":\"rentr\\u00e9e=2019\\u003cbr\\u003eD\\u00e9nomination principale=%{x}\\u003cbr\\u003eNombre d'\\u00e9l\\u00e8ves en CE1 hors ULIS=%{y}\\u003cextra\\u003e\\u003c\\u002fextra\\u003e\",\"legendgroup\":\"2019\",\"marker\":{\"color\":\"#636efa\",\"pattern\":{\"shape\":\"\"}},\"name\":\"2019\",\"offsetgroup\":\"2019\",\"orientation\":\"v\",\"showlegend\":true,\"textposition\":\"auto\",\"x\":[\"ECOLE ELEMENTAIRE PUBLIQUE\",\"ECOLE ELEMENTAIRE PUBLIQUE\",\"ECOLE ELEMENTAIRE PUBLIQUE\",\"ECOLE ELEMENTAIRE PUBLIQUE\",\"ECOLE ELEMENTAIRE PUBLIQUE\",\"ECOLE ELEMENTAIRE PUBLIQUE\",\"ECOLE ELEMENTAIRE PUBLIQUE\",\"ECOLE ELEMENTAIRE PUBLIQUE\",\"ECOLE ELEMENTAIRE PUBLIQUE\",\"ECOLE ELEMENTAIRE PUBLIQUE\",\"ECOLE ELEMENTAIRE PUBLIQUE\",\"ECOLE ELEMENTAIRE PUBLIQUE\",\"ECOLE ELEMENTAIRE PUBLIQUE\",\"ECOLE ELEMENTAIRE PUBLIQUE\",\"ECOLE ELEMENTAIRE PUBLIQUE\",\"ECOLE ELEMENTAIRE PUBLIQUE\",\"ECOLE ELEMENTAIRE PUBLIQUE\",\"ECOLE ELEMENTAIRE PUBLIQUE\",\"ECOLE ELEMENTAIRE PUBLIQUE\",\"ECOLE ELEMENTAIRE PUBLIQUE\",\"ECOLE ELEMENTAIRE PUBLIQUE\",\"ECOLE ELEMENTAIRE PUBLIQUE\",\"ECOLE ELEMENTAIRE PUBLIQUE\",\"ECOLE ELEMENTAIRE PUBLIQUE\",\"ECOLE ELEMENTAIRE PUBLIQUE\",\"ECOLE ELEMENTAIRE PUBLIQUE\",\"ECOLE ELEMENTAIRE PUBLIQUE\",\"ECOLE ELEMENTAIRE PUBLIQUE\",\"ECOLE ELEMENTAIRE PUBLIQUE\",\"ECOLE ELEMENTAIRE PUBLIQUE\",\"ECOLE ELEMENTAIRE PUBLIQUE\",\"ECOLE ELEMENTAIRE PUBLIQUE\",\"ECOLE ELEMENTAIRE PUBLIQUE\",\"ECOLE ELEMENTAIRE PUBLIQUE\",\"ECOLE ELEMENTAIRE PUBLIQUE\",\"ECOLE ELEMENTAIRE PUBLIQUE\",\"ECOLE ELEMENTAIRE PUBLIQUE\",\"ECOLE ELEMENTAIRE PUBLIQUE\"],\"xaxis\":\"x\",\"y\":[24,61,37,59,35,28,34,21,25,53,47,27,51,37,51,46,40,51,39,36,32,36,32,42,51,51,36,58,27,64,55,77,68,24,30,40,50,35],\"yaxis\":\"y\",\"type\":\"bar\"},{\"alignmentgroup\":\"True\",\"hovertemplate\":\"rentr\\u00e9e=2020\\u003cbr\\u003eD\\u00e9nomination principale=%{x}\\u003cbr\\u003eNombre d'\\u00e9l\\u00e8ves en CE1 hors ULIS=%{y}\\u003cextra\\u003e\\u003c\\u002fextra\\u003e\",\"legendgroup\":\"2020\",\"marker\":{\"color\":\"#EF553B\",\"pattern\":{\"shape\":\"\"}},\"name\":\"2020\",\"offsetgroup\":\"2020\",\"orientation\":\"v\",\"showlegend\":true,\"textposition\":\"auto\",\"x\":[\"ECOLE ELEMENTAIRE PUBLIQUE\",\"ECOLE ELEMENTAIRE PUBLIQUE\",\"ECOLE ELEMENTAIRE PUBLIQUE\",\"ECOLE ELEMENTAIRE PUBLIQUE\",\"ECOLE ELEMENTAIRE PUBLIQUE\",\"ECOLE ELEMENTAIRE PUBLIQUE\",\"ECOLE ELEMENTAIRE PUBLIQUE\",\"ECOLE ELEMENTAIRE PUBLIQUE\",\"ECOLE ELEMENTAIRE PUBLIQUE\",\"ECOLE ELEMENTAIRE PUBLIQUE\",\"ECOLE ELEMENTAIRE PUBLIQUE\",\"ECOLE ELEMENTAIRE PUBLIQUE\",\"ECOLE ELEMENTAIRE PUBLIQUE\",\"ECOLE ELEMENTAIRE PUBLIQUE\",\"ECOLE ELEMENTAIRE PUBLIQUE\",\"ECOLE ELEMENTAIRE PUBLIQUE\",\"ECOLE ELEMENTAIRE PUBLIQUE\",\"ECOLE ELEMENTAIRE PUBLIQUE\",\"ECOLE ELEMENTAIRE PUBLIQUE\",\"ECOLE ELEMENTAIRE PUBLIQUE\",\"ECOLE ELEMENTAIRE PUBLIQUE\",\"ECOLE ELEMENTAIRE PUBLIQUE\",\"ECOLE ELEMENTAIRE PUBLIQUE\",\"ECOLE ELEMENTAIRE PUBLIQUE\",\"ECOLE ELEMENTAIRE PUBLIQUE\",\"ECOLE ELEMENTAIRE PUBLIQUE\",\"ECOLE ELEMENTAIRE PUBLIQUE\",\"ECOLE ELEMENTAIRE PUBLIQUE\",\"ECOLE ELEMENTAIRE PUBLIQUE\",\"ECOLE ELEMENTAIRE PUBLIQUE\",\"ECOLE ELEMENTAIRE PUBLIQUE\",\"ECOLE ELEMENTAIRE PUBLIQUE\",\"ECOLE ELEMENTAIRE PUBLIQUE\",\"ECOLE ELEMENTAIRE PUBLIQUE\",\"ECOLE ELEMENTAIRE PUBLIQUE\",\"ECOLE ELEMENTAIRE PUBLIQUE\",\"ECOLE ELEMENTAIRE PUBLIQUE\",\"ECOLE ELEMENTAIRE PUBLIQUE\"],\"xaxis\":\"x\",\"y\":[21,35,44,42,59,33,27,39,39,22,45,47,26,35,32,56,40,59,57,31,26,41,41,43,47,53,44,54,69,60,56,55,35,27,35,35,33,41],\"yaxis\":\"y\",\"type\":\"bar\"},{\"alignmentgroup\":\"True\",\"hovertemplate\":\"rentr\\u00e9e=2021\\u003cbr\\u003eD\\u00e9nomination principale=%{x}\\u003cbr\\u003eNombre d'\\u00e9l\\u00e8ves en CE1 hors ULIS=%{y}\\u003cextra\\u003e\\u003c\\u002fextra\\u003e\",\"legendgroup\":\"2021\",\"marker\":{\"color\":\"#00cc96\",\"pattern\":{\"shape\":\"\"}},\"name\":\"2021\",\"offsetgroup\":\"2021\",\"orientation\":\"v\",\"showlegend\":true,\"textposition\":\"auto\",\"x\":[\"ECOLE ELEMENTAIRE PUBLIQUE\",\"ECOLE ELEMENTAIRE PUBLIQUE\",\"ECOLE ELEMENTAIRE PUBLIQUE\",\"ECOLE ELEMENTAIRE PUBLIQUE\",\"ECOLE ELEMENTAIRE PUBLIQUE\",\"ECOLE ELEMENTAIRE PUBLIQUE\",\"ECOLE ELEMENTAIRE PUBLIQUE\",\"ECOLE ELEMENTAIRE PUBLIQUE\",\"ECOLE ELEMENTAIRE PUBLIQUE\",\"ECOLE ELEMENTAIRE PUBLIQUE\",\"ECOLE ELEMENTAIRE PUBLIQUE\",\"ECOLE ELEMENTAIRE PUBLIQUE\",\"ECOLE ELEMENTAIRE PUBLIQUE\",\"ECOLE ELEMENTAIRE PUBLIQUE\",\"ECOLE ELEMENTAIRE PUBLIQUE\",\"ECOLE ELEMENTAIRE PUBLIQUE\",\"ECOLE ELEMENTAIRE PUBLIQUE\",\"ECOLE ELEMENTAIRE PUBLIQUE\",\"ECOLE ELEMENTAIRE PUBLIQUE\",\"ECOLE ELEMENTAIRE PUBLIQUE\",\"ECOLE ELEMENTAIRE PUBLIQUE\",\"ECOLE ELEMENTAIRE PUBLIQUE\",\"ECOLE ELEMENTAIRE PUBLIQUE\",\"ECOLE ELEMENTAIRE PUBLIQUE\",\"ECOLE ELEMENTAIRE PUBLIQUE\",\"ECOLE ELEMENTAIRE PUBLIQUE\",\"ECOLE ELEMENTAIRE PUBLIQUE\",\"ECOLE ELEMENTAIRE PUBLIQUE\",\"ECOLE ELEMENTAIRE PUBLIQUE\",\"ECOLE ELEMENTAIRE PUBLIQUE\",\"ECOLE ELEMENTAIRE PUBLIQUE\",\"ECOLE ELEMENTAIRE PUBLIQUE\",\"ECOLE ELEMENTAIRE PUBLIQUE\",\"ECOLE ELEMENTAIRE PUBLIQUE\",\"ECOLE ELEMENTAIRE PUBLIQUE\",\"ECOLE ELEMENTAIRE PUBLIQUE\",\"ECOLE ELEMENTAIRE PUBLIQUE\",\"ECOLE ELEMENTAIRE PUBLIQUE\"],\"xaxis\":\"x\",\"y\":[29,57,33,83,48,27,44,41,17,38,42,34,47,31,64,50,56,53,38,32,40,52,37,44,66,47,45,71,36,70,46,67,71,25,30,42,53,31],\"yaxis\":\"y\",\"type\":\"bar\"},{\"alignmentgroup\":\"True\",\"hovertemplate\":\"rentr\\u00e9e=2022\\u003cbr\\u003eD\\u00e9nomination principale=%{x}\\u003cbr\\u003eNombre d'\\u00e9l\\u00e8ves en CE1 hors ULIS=%{y}\\u003cextra\\u003e\\u003c\\u002fextra\\u003e\",\"legendgroup\":\"2022\",\"marker\":{\"color\":\"#ab63fa\",\"pattern\":{\"shape\":\"\"}},\"name\":\"2022\",\"offsetgroup\":\"2022\",\"orientation\":\"v\",\"showlegend\":true,\"textposition\":\"auto\",\"x\":[\"ECOLE ELEMENTAIRE PUBLIQUE\",\"ECOLE ELEMENTAIRE PUBLIQUE\",\"ECOLE ELEMENTAIRE PUBLIQUE\",\"ECOLE ELEMENTAIRE PUBLIQUE\",\"ECOLE ELEMENTAIRE PUBLIQUE\",\"ECOLE ELEMENTAIRE PUBLIQUE\",\"ECOLE ELEMENTAIRE PUBLIQUE\",\"ECOLE ELEMENTAIRE PUBLIQUE\",\"ECOLE ELEMENTAIRE PUBLIQUE\",\"ECOLE ELEMENTAIRE PUBLIQUE\",\"ECOLE ELEMENTAIRE PUBLIQUE\",\"ECOLE ELEMENTAIRE PUBLIQUE\",\"ECOLE ELEMENTAIRE PUBLIQUE\",\"ECOLE ELEMENTAIRE PUBLIQUE\",\"ECOLE ELEMENTAIRE PUBLIQUE\",\"ECOLE ELEMENTAIRE PUBLIQUE\",\"ECOLE ELEMENTAIRE PUBLIQUE\",\"ECOLE ELEMENTAIRE PUBLIQUE\",\"ECOLE ELEMENTAIRE PUBLIQUE\",\"ECOLE ELEMENTAIRE PUBLIQUE\",\"ECOLE ELEMENTAIRE PUBLIQUE\",\"ECOLE ELEMENTAIRE PUBLIQUE\",\"ECOLE ELEMENTAIRE PUBLIQUE\",\"ECOLE ELEMENTAIRE PUBLIQUE\",\"ECOLE ELEMENTAIRE PUBLIQUE\",\"ECOLE ELEMENTAIRE PUBLIQUE\",\"ECOLE ELEMENTAIRE PUBLIQUE\",\"ECOLE ELEMENTAIRE PUBLIQUE\",\"ECOLE ELEMENTAIRE PUBLIQUE\",\"ECOLE ELEMENTAIRE PUBLIQUE\",\"ECOLE ELEMENTAIRE PUBLIQUE\",\"ECOLE ELEMENTAIRE PUBLIQUE\",\"ECOLE ELEMENTAIRE PUBLIQUE\",\"ECOLE ELEMENTAIRE PUBLIQUE\",\"ECOLE ELEMENTAIRE PUBLIQUE\",\"ECOLE ELEMENTAIRE PUBLIQUE\",\"ECOLE ELEMENTAIRE PUBLIQUE\",\"ECOLE ELEMENTAIRE PUBLIQUE\"],\"xaxis\":\"x\",\"y\":[46,48,29,71,30,39,33,46,23,25,42,51,23,44,31,53,41,42,56,31,34,40,31,43,55,51,49,49,60,60,80,59,35,23,28,40,39,44],\"yaxis\":\"y\",\"type\":\"bar\"}],                        {\"template\":{\"data\":{\"histogram2dcontour\":[{\"type\":\"histogram2dcontour\",\"colorbar\":{\"outlinewidth\":0,\"ticks\":\"\"},\"colorscale\":[[0.0,\"#0d0887\"],[0.1111111111111111,\"#46039f\"],[0.2222222222222222,\"#7201a8\"],[0.3333333333333333,\"#9c179e\"],[0.4444444444444444,\"#bd3786\"],[0.5555555555555556,\"#d8576b\"],[0.6666666666666666,\"#ed7953\"],[0.7777777777777778,\"#fb9f3a\"],[0.8888888888888888,\"#fdca26\"],[1.0,\"#f0f921\"]]}],\"choropleth\":[{\"type\":\"choropleth\",\"colorbar\":{\"outlinewidth\":0,\"ticks\":\"\"}}],\"histogram2d\":[{\"type\":\"histogram2d\",\"colorbar\":{\"outlinewidth\":0,\"ticks\":\"\"},\"colorscale\":[[0.0,\"#0d0887\"],[0.1111111111111111,\"#46039f\"],[0.2222222222222222,\"#7201a8\"],[0.3333333333333333,\"#9c179e\"],[0.4444444444444444,\"#bd3786\"],[0.5555555555555556,\"#d8576b\"],[0.6666666666666666,\"#ed7953\"],[0.7777777777777778,\"#fb9f3a\"],[0.8888888888888888,\"#fdca26\"],[1.0,\"#f0f921\"]]}],\"heatmap\":[{\"type\":\"heatmap\",\"colorbar\":{\"outlinewidth\":0,\"ticks\":\"\"},\"colorscale\":[[0.0,\"#0d0887\"],[0.1111111111111111,\"#46039f\"],[0.2222222222222222,\"#7201a8\"],[0.3333333333333333,\"#9c179e\"],[0.4444444444444444,\"#bd3786\"],[0.5555555555555556,\"#d8576b\"],[0.6666666666666666,\"#ed7953\"],[0.7777777777777778,\"#fb9f3a\"],[0.8888888888888888,\"#fdca26\"],[1.0,\"#f0f921\"]]}],\"heatmapgl\":[{\"type\":\"heatmapgl\",\"colorbar\":{\"outlinewidth\":0,\"ticks\":\"\"},\"colorscale\":[[0.0,\"#0d0887\"],[0.1111111111111111,\"#46039f\"],[0.2222222222222222,\"#7201a8\"],[0.3333333333333333,\"#9c179e\"],[0.4444444444444444,\"#bd3786\"],[0.5555555555555556,\"#d8576b\"],[0.6666666666666666,\"#ed7953\"],[0.7777777777777778,\"#fb9f3a\"],[0.8888888888888888,\"#fdca26\"],[1.0,\"#f0f921\"]]}],\"contourcarpet\":[{\"type\":\"contourcarpet\",\"colorbar\":{\"outlinewidth\":0,\"ticks\":\"\"}}],\"contour\":[{\"type\":\"contour\",\"colorbar\":{\"outlinewidth\":0,\"ticks\":\"\"},\"colorscale\":[[0.0,\"#0d0887\"],[0.1111111111111111,\"#46039f\"],[0.2222222222222222,\"#7201a8\"],[0.3333333333333333,\"#9c179e\"],[0.4444444444444444,\"#bd3786\"],[0.5555555555555556,\"#d8576b\"],[0.6666666666666666,\"#ed7953\"],[0.7777777777777778,\"#fb9f3a\"],[0.8888888888888888,\"#fdca26\"],[1.0,\"#f0f921\"]]}],\"surface\":[{\"type\":\"surface\",\"colorbar\":{\"outlinewidth\":0,\"ticks\":\"\"},\"colorscale\":[[0.0,\"#0d0887\"],[0.1111111111111111,\"#46039f\"],[0.2222222222222222,\"#7201a8\"],[0.3333333333333333,\"#9c179e\"],[0.4444444444444444,\"#bd3786\"],[0.5555555555555556,\"#d8576b\"],[0.6666666666666666,\"#ed7953\"],[0.7777777777777778,\"#fb9f3a\"],[0.8888888888888888,\"#fdca26\"],[1.0,\"#f0f921\"]]}],\"mesh3d\":[{\"type\":\"mesh3d\",\"colorbar\":{\"outlinewidth\":0,\"ticks\":\"\"}}],\"scatter\":[{\"fillpattern\":{\"fillmode\":\"overlay\",\"size\":10,\"solidity\":0.2},\"type\":\"scatter\"}],\"parcoords\":[{\"type\":\"parcoords\",\"line\":{\"colorbar\":{\"outlinewidth\":0,\"ticks\":\"\"}}}],\"scatterpolargl\":[{\"type\":\"scatterpolargl\",\"marker\":{\"colorbar\":{\"outlinewidth\":0,\"ticks\":\"\"}}}],\"bar\":[{\"error_x\":{\"color\":\"#2a3f5f\"},\"error_y\":{\"color\":\"#2a3f5f\"},\"marker\":{\"line\":{\"color\":\"#E5ECF6\",\"width\":0.5},\"pattern\":{\"fillmode\":\"overlay\",\"size\":10,\"solidity\":0.2}},\"type\":\"bar\"}],\"scattergeo\":[{\"type\":\"scattergeo\",\"marker\":{\"colorbar\":{\"outlinewidth\":0,\"ticks\":\"\"}}}],\"scatterpolar\":[{\"type\":\"scatterpolar\",\"marker\":{\"colorbar\":{\"outlinewidth\":0,\"ticks\":\"\"}}}],\"histogram\":[{\"marker\":{\"pattern\":{\"fillmode\":\"overlay\",\"size\":10,\"solidity\":0.2}},\"type\":\"histogram\"}],\"scattergl\":[{\"type\":\"scattergl\",\"marker\":{\"colorbar\":{\"outlinewidth\":0,\"ticks\":\"\"}}}],\"scatter3d\":[{\"type\":\"scatter3d\",\"line\":{\"colorbar\":{\"outlinewidth\":0,\"ticks\":\"\"}},\"marker\":{\"colorbar\":{\"outlinewidth\":0,\"ticks\":\"\"}}}],\"scattermapbox\":[{\"type\":\"scattermapbox\",\"marker\":{\"colorbar\":{\"outlinewidth\":0,\"ticks\":\"\"}}}],\"scatterternary\":[{\"type\":\"scatterternary\",\"marker\":{\"colorbar\":{\"outlinewidth\":0,\"ticks\":\"\"}}}],\"scattercarpet\":[{\"type\":\"scattercarpet\",\"marker\":{\"colorbar\":{\"outlinewidth\":0,\"ticks\":\"\"}}}],\"carpet\":[{\"aaxis\":{\"endlinecolor\":\"#2a3f5f\",\"gridcolor\":\"white\",\"linecolor\":\"white\",\"minorgridcolor\":\"white\",\"startlinecolor\":\"#2a3f5f\"},\"baxis\":{\"endlinecolor\":\"#2a3f5f\",\"gridcolor\":\"white\",\"linecolor\":\"white\",\"minorgridcolor\":\"white\",\"startlinecolor\":\"#2a3f5f\"},\"type\":\"carpet\"}],\"table\":[{\"cells\":{\"fill\":{\"color\":\"#EBF0F8\"},\"line\":{\"color\":\"white\"}},\"header\":{\"fill\":{\"color\":\"#C8D4E3\"},\"line\":{\"color\":\"white\"}},\"type\":\"table\"}],\"barpolar\":[{\"marker\":{\"line\":{\"color\":\"#E5ECF6\",\"width\":0.5},\"pattern\":{\"fillmode\":\"overlay\",\"size\":10,\"solidity\":0.2}},\"type\":\"barpolar\"}],\"pie\":[{\"automargin\":true,\"type\":\"pie\"}]},\"layout\":{\"autotypenumbers\":\"strict\",\"colorway\":[\"#636efa\",\"#EF553B\",\"#00cc96\",\"#ab63fa\",\"#FFA15A\",\"#19d3f3\",\"#FF6692\",\"#B6E880\",\"#FF97FF\",\"#FECB52\"],\"font\":{\"color\":\"#2a3f5f\"},\"hovermode\":\"closest\",\"hoverlabel\":{\"align\":\"left\"},\"paper_bgcolor\":\"white\",\"plot_bgcolor\":\"#E5ECF6\",\"polar\":{\"bgcolor\":\"#E5ECF6\",\"angularaxis\":{\"gridcolor\":\"white\",\"linecolor\":\"white\",\"ticks\":\"\"},\"radialaxis\":{\"gridcolor\":\"white\",\"linecolor\":\"white\",\"ticks\":\"\"}},\"ternary\":{\"bgcolor\":\"#E5ECF6\",\"aaxis\":{\"gridcolor\":\"white\",\"linecolor\":\"white\",\"ticks\":\"\"},\"baxis\":{\"gridcolor\":\"white\",\"linecolor\":\"white\",\"ticks\":\"\"},\"caxis\":{\"gridcolor\":\"white\",\"linecolor\":\"white\",\"ticks\":\"\"}},\"coloraxis\":{\"colorbar\":{\"outlinewidth\":0,\"ticks\":\"\"}},\"colorscale\":{\"sequential\":[[0.0,\"#0d0887\"],[0.1111111111111111,\"#46039f\"],[0.2222222222222222,\"#7201a8\"],[0.3333333333333333,\"#9c179e\"],[0.4444444444444444,\"#bd3786\"],[0.5555555555555556,\"#d8576b\"],[0.6666666666666666,\"#ed7953\"],[0.7777777777777778,\"#fb9f3a\"],[0.8888888888888888,\"#fdca26\"],[1.0,\"#f0f921\"]],\"sequentialminus\":[[0.0,\"#0d0887\"],[0.1111111111111111,\"#46039f\"],[0.2222222222222222,\"#7201a8\"],[0.3333333333333333,\"#9c179e\"],[0.4444444444444444,\"#bd3786\"],[0.5555555555555556,\"#d8576b\"],[0.6666666666666666,\"#ed7953\"],[0.7777777777777778,\"#fb9f3a\"],[0.8888888888888888,\"#fdca26\"],[1.0,\"#f0f921\"]],\"diverging\":[[0,\"#8e0152\"],[0.1,\"#c51b7d\"],[0.2,\"#de77ae\"],[0.3,\"#f1b6da\"],[0.4,\"#fde0ef\"],[0.5,\"#f7f7f7\"],[0.6,\"#e6f5d0\"],[0.7,\"#b8e186\"],[0.8,\"#7fbc41\"],[0.9,\"#4d9221\"],[1,\"#276419\"]]},\"xaxis\":{\"gridcolor\":\"white\",\"linecolor\":\"white\",\"ticks\":\"\",\"title\":{\"standoff\":15},\"zerolinecolor\":\"white\",\"automargin\":true,\"zerolinewidth\":2},\"yaxis\":{\"gridcolor\":\"white\",\"linecolor\":\"white\",\"ticks\":\"\",\"title\":{\"standoff\":15},\"zerolinecolor\":\"white\",\"automargin\":true,\"zerolinewidth\":2},\"scene\":{\"xaxis\":{\"backgroundcolor\":\"#E5ECF6\",\"gridcolor\":\"white\",\"linecolor\":\"white\",\"showbackground\":true,\"ticks\":\"\",\"zerolinecolor\":\"white\",\"gridwidth\":2},\"yaxis\":{\"backgroundcolor\":\"#E5ECF6\",\"gridcolor\":\"white\",\"linecolor\":\"white\",\"showbackground\":true,\"ticks\":\"\",\"zerolinecolor\":\"white\",\"gridwidth\":2},\"zaxis\":{\"backgroundcolor\":\"#E5ECF6\",\"gridcolor\":\"white\",\"linecolor\":\"white\",\"showbackground\":true,\"ticks\":\"\",\"zerolinecolor\":\"white\",\"gridwidth\":2}},\"shapedefaults\":{\"line\":{\"color\":\"#2a3f5f\"}},\"annotationdefaults\":{\"arrowcolor\":\"#2a3f5f\",\"arrowhead\":0,\"arrowwidth\":1},\"geo\":{\"bgcolor\":\"white\",\"landcolor\":\"#E5ECF6\",\"subunitcolor\":\"white\",\"showland\":true,\"showlakes\":true,\"lakecolor\":\"white\"},\"title\":{\"x\":0.05},\"mapbox\":{\"style\":\"light\"}}},\"xaxis\":{\"anchor\":\"y\",\"domain\":[0.0,1.0],\"title\":{\"text\":\"D\\u00e9nomination principale\"}},\"yaxis\":{\"anchor\":\"x\",\"domain\":[0.0,1.0],\"title\":{\"text\":\"Nombre d'\\u00e9l\\u00e8ves en CE1 hors ULIS\"}},\"legend\":{\"title\":{\"text\":\"rentr\\u00e9e\"},\"tracegroupgap\":0},\"title\":{\"text\":\"CE1\"},\"barmode\":\"group\"},                        {\"responsive\": true}                    ).then(function(){\n",
       "                            \n",
       "var gd = document.getElementById('bc6be801-c9df-4bf1-9a12-a3ae2ef6e623');\n",
       "var x = new MutationObserver(function (mutations, observer) {{\n",
       "        var display = window.getComputedStyle(gd).display;\n",
       "        if (!display || display === 'none') {{\n",
       "            console.log([gd, 'removed!']);\n",
       "            Plotly.purge(gd);\n",
       "            observer.disconnect();\n",
       "        }}\n",
       "}});\n",
       "\n",
       "// Listen for the removal of the full notebook cells\n",
       "var notebookContainer = gd.closest('#notebook-container');\n",
       "if (notebookContainer) {{\n",
       "    x.observe(notebookContainer, {childList: true});\n",
       "}}\n",
       "\n",
       "// Listen for the clearing of the current output cell\n",
       "var outputEl = gd.closest('.output');\n",
       "if (outputEl) {{\n",
       "    x.observe(outputEl, {childList: true});\n",
       "}}\n",
       "\n",
       "                        })                };                });            </script>        </div>"
      ]
     },
     "metadata": {},
     "output_type": "display_data"
    },
    {
     "data": {
      "application/vnd.plotly.v1+json": {
       "config": {
        "plotlyServerURL": "https://plot.ly"
       },
       "data": [
        {
         "alignmentgroup": "True",
         "hovertemplate": "rentrée=2019<br>Dénomination principale=%{x}<br>Nombre d'élèves en CE2 hors ULIS=%{y}<extra></extra>",
         "legendgroup": "2019",
         "marker": {
          "color": "#636efa",
          "pattern": {
           "shape": ""
          }
         },
         "name": "2019",
         "offsetgroup": "2019",
         "orientation": "v",
         "showlegend": true,
         "textposition": "auto",
         "type": "bar",
         "x": [
          "ECOLE ELEMENTAIRE PUBLIQUE",
          "ECOLE ELEMENTAIRE PUBLIQUE",
          "ECOLE ELEMENTAIRE PUBLIQUE",
          "ECOLE ELEMENTAIRE PUBLIQUE",
          "ECOLE ELEMENTAIRE PUBLIQUE",
          "ECOLE ELEMENTAIRE PUBLIQUE",
          "ECOLE ELEMENTAIRE PUBLIQUE",
          "ECOLE ELEMENTAIRE PUBLIQUE",
          "ECOLE ELEMENTAIRE PUBLIQUE",
          "ECOLE ELEMENTAIRE PUBLIQUE",
          "ECOLE ELEMENTAIRE PUBLIQUE",
          "ECOLE ELEMENTAIRE PUBLIQUE",
          "ECOLE ELEMENTAIRE PUBLIQUE",
          "ECOLE ELEMENTAIRE PUBLIQUE",
          "ECOLE ELEMENTAIRE PUBLIQUE",
          "ECOLE ELEMENTAIRE PUBLIQUE",
          "ECOLE ELEMENTAIRE PUBLIQUE",
          "ECOLE ELEMENTAIRE PUBLIQUE",
          "ECOLE ELEMENTAIRE PUBLIQUE",
          "ECOLE ELEMENTAIRE PUBLIQUE",
          "ECOLE ELEMENTAIRE PUBLIQUE",
          "ECOLE ELEMENTAIRE PUBLIQUE",
          "ECOLE ELEMENTAIRE PUBLIQUE",
          "ECOLE ELEMENTAIRE PUBLIQUE",
          "ECOLE ELEMENTAIRE PUBLIQUE",
          "ECOLE ELEMENTAIRE PUBLIQUE",
          "ECOLE ELEMENTAIRE PUBLIQUE",
          "ECOLE ELEMENTAIRE PUBLIQUE",
          "ECOLE ELEMENTAIRE PUBLIQUE",
          "ECOLE ELEMENTAIRE PUBLIQUE",
          "ECOLE ELEMENTAIRE PUBLIQUE",
          "ECOLE ELEMENTAIRE PUBLIQUE",
          "ECOLE ELEMENTAIRE PUBLIQUE",
          "ECOLE ELEMENTAIRE PUBLIQUE",
          "ECOLE ELEMENTAIRE PUBLIQUE",
          "ECOLE ELEMENTAIRE PUBLIQUE",
          "ECOLE ELEMENTAIRE PUBLIQUE",
          "ECOLE ELEMENTAIRE PUBLIQUE"
         ],
         "xaxis": "x",
         "y": [
          39,
          58,
          35,
          64,
          46,
          26,
          36,
          39,
          15,
          56,
          41,
          44,
          34,
          28,
          38,
          49,
          47,
          41,
          48,
          28,
          37,
          49,
          35,
          43,
          59,
          37,
          37,
          49,
          27,
          54,
          48,
          77,
          64,
          18,
          18,
          50,
          56,
          51
         ],
         "yaxis": "y"
        },
        {
         "alignmentgroup": "True",
         "hovertemplate": "rentrée=2020<br>Dénomination principale=%{x}<br>Nombre d'élèves en CE2 hors ULIS=%{y}<extra></extra>",
         "legendgroup": "2020",
         "marker": {
          "color": "#EF553B",
          "pattern": {
           "shape": ""
          }
         },
         "name": "2020",
         "offsetgroup": "2020",
         "orientation": "v",
         "showlegend": true,
         "textposition": "auto",
         "type": "bar",
         "x": [
          "ECOLE ELEMENTAIRE PUBLIQUE",
          "ECOLE ELEMENTAIRE PUBLIQUE",
          "ECOLE ELEMENTAIRE PUBLIQUE",
          "ECOLE ELEMENTAIRE PUBLIQUE",
          "ECOLE ELEMENTAIRE PUBLIQUE",
          "ECOLE ELEMENTAIRE PUBLIQUE",
          "ECOLE ELEMENTAIRE PUBLIQUE",
          "ECOLE ELEMENTAIRE PUBLIQUE",
          "ECOLE ELEMENTAIRE PUBLIQUE",
          "ECOLE ELEMENTAIRE PUBLIQUE",
          "ECOLE ELEMENTAIRE PUBLIQUE",
          "ECOLE ELEMENTAIRE PUBLIQUE",
          "ECOLE ELEMENTAIRE PUBLIQUE",
          "ECOLE ELEMENTAIRE PUBLIQUE",
          "ECOLE ELEMENTAIRE PUBLIQUE",
          "ECOLE ELEMENTAIRE PUBLIQUE",
          "ECOLE ELEMENTAIRE PUBLIQUE",
          "ECOLE ELEMENTAIRE PUBLIQUE",
          "ECOLE ELEMENTAIRE PUBLIQUE",
          "ECOLE ELEMENTAIRE PUBLIQUE",
          "ECOLE ELEMENTAIRE PUBLIQUE",
          "ECOLE ELEMENTAIRE PUBLIQUE",
          "ECOLE ELEMENTAIRE PUBLIQUE",
          "ECOLE ELEMENTAIRE PUBLIQUE",
          "ECOLE ELEMENTAIRE PUBLIQUE",
          "ECOLE ELEMENTAIRE PUBLIQUE",
          "ECOLE ELEMENTAIRE PUBLIQUE",
          "ECOLE ELEMENTAIRE PUBLIQUE",
          "ECOLE ELEMENTAIRE PUBLIQUE",
          "ECOLE ELEMENTAIRE PUBLIQUE",
          "ECOLE ELEMENTAIRE PUBLIQUE",
          "ECOLE ELEMENTAIRE PUBLIQUE",
          "ECOLE ELEMENTAIRE PUBLIQUE",
          "ECOLE ELEMENTAIRE PUBLIQUE",
          "ECOLE ELEMENTAIRE PUBLIQUE",
          "ECOLE ELEMENTAIRE PUBLIQUE",
          "ECOLE ELEMENTAIRE PUBLIQUE",
          "ECOLE ELEMENTAIRE PUBLIQUE"
         ],
         "xaxis": "x",
         "y": [
          24,
          41,
          54,
          37,
          59,
          39,
          28,
          42,
          25,
          24,
          47,
          46,
          28,
          49,
          36,
          51,
          46,
          37,
          49,
          35,
          31,
          51,
          28,
          49,
          48,
          41,
          36,
          54,
          64,
          50,
          75,
          66,
          33,
          27,
          29,
          32,
          37,
          45
         ],
         "yaxis": "y"
        },
        {
         "alignmentgroup": "True",
         "hovertemplate": "rentrée=2021<br>Dénomination principale=%{x}<br>Nombre d'élèves en CE2 hors ULIS=%{y}<extra></extra>",
         "legendgroup": "2021",
         "marker": {
          "color": "#00cc96",
          "pattern": {
           "shape": ""
          }
         },
         "name": "2021",
         "offsetgroup": "2021",
         "orientation": "v",
         "showlegend": true,
         "textposition": "auto",
         "type": "bar",
         "x": [
          "ECOLE ELEMENTAIRE PUBLIQUE",
          "ECOLE ELEMENTAIRE PUBLIQUE",
          "ECOLE ELEMENTAIRE PUBLIQUE",
          "ECOLE ELEMENTAIRE PUBLIQUE",
          "ECOLE ELEMENTAIRE PUBLIQUE",
          "ECOLE ELEMENTAIRE PUBLIQUE",
          "ECOLE ELEMENTAIRE PUBLIQUE",
          "ECOLE ELEMENTAIRE PUBLIQUE",
          "ECOLE ELEMENTAIRE PUBLIQUE",
          "ECOLE ELEMENTAIRE PUBLIQUE",
          "ECOLE ELEMENTAIRE PUBLIQUE",
          "ECOLE ELEMENTAIRE PUBLIQUE",
          "ECOLE ELEMENTAIRE PUBLIQUE",
          "ECOLE ELEMENTAIRE PUBLIQUE",
          "ECOLE ELEMENTAIRE PUBLIQUE",
          "ECOLE ELEMENTAIRE PUBLIQUE",
          "ECOLE ELEMENTAIRE PUBLIQUE",
          "ECOLE ELEMENTAIRE PUBLIQUE",
          "ECOLE ELEMENTAIRE PUBLIQUE",
          "ECOLE ELEMENTAIRE PUBLIQUE",
          "ECOLE ELEMENTAIRE PUBLIQUE",
          "ECOLE ELEMENTAIRE PUBLIQUE",
          "ECOLE ELEMENTAIRE PUBLIQUE",
          "ECOLE ELEMENTAIRE PUBLIQUE",
          "ECOLE ELEMENTAIRE PUBLIQUE",
          "ECOLE ELEMENTAIRE PUBLIQUE",
          "ECOLE ELEMENTAIRE PUBLIQUE",
          "ECOLE ELEMENTAIRE PUBLIQUE",
          "ECOLE ELEMENTAIRE PUBLIQUE",
          "ECOLE ELEMENTAIRE PUBLIQUE",
          "ECOLE ELEMENTAIRE PUBLIQUE",
          "ECOLE ELEMENTAIRE PUBLIQUE",
          "ECOLE ELEMENTAIRE PUBLIQUE",
          "ECOLE ELEMENTAIRE PUBLIQUE",
          "ECOLE ELEMENTAIRE PUBLIQUE",
          "ECOLE ELEMENTAIRE PUBLIQUE",
          "ECOLE ELEMENTAIRE PUBLIQUE",
          "ECOLE ELEMENTAIRE PUBLIQUE"
         ],
         "xaxis": "x",
         "y": [
          19,
          51,
          36,
          60,
          38,
          27,
          36,
          37,
          24,
          50,
          44,
          23,
          37,
          30,
          52,
          40,
          61,
          56,
          28,
          36,
          27,
          36,
          46,
          48,
          51,
          50,
          46,
          51,
          37,
          72,
          56,
          53,
          52,
          24,
          34,
          38,
          33,
          41
         ],
         "yaxis": "y"
        },
        {
         "alignmentgroup": "True",
         "hovertemplate": "rentrée=2022<br>Dénomination principale=%{x}<br>Nombre d'élèves en CE2 hors ULIS=%{y}<extra></extra>",
         "legendgroup": "2022",
         "marker": {
          "color": "#ab63fa",
          "pattern": {
           "shape": ""
          }
         },
         "name": "2022",
         "offsetgroup": "2022",
         "orientation": "v",
         "showlegend": true,
         "textposition": "auto",
         "type": "bar",
         "x": [
          "ECOLE ELEMENTAIRE PUBLIQUE",
          "ECOLE ELEMENTAIRE PUBLIQUE",
          "ECOLE ELEMENTAIRE PUBLIQUE",
          "ECOLE ELEMENTAIRE PUBLIQUE",
          "ECOLE ELEMENTAIRE PUBLIQUE",
          "ECOLE ELEMENTAIRE PUBLIQUE",
          "ECOLE ELEMENTAIRE PUBLIQUE",
          "ECOLE ELEMENTAIRE PUBLIQUE",
          "ECOLE ELEMENTAIRE PUBLIQUE",
          "ECOLE ELEMENTAIRE PUBLIQUE",
          "ECOLE ELEMENTAIRE PUBLIQUE",
          "ECOLE ELEMENTAIRE PUBLIQUE",
          "ECOLE ELEMENTAIRE PUBLIQUE",
          "ECOLE ELEMENTAIRE PUBLIQUE",
          "ECOLE ELEMENTAIRE PUBLIQUE",
          "ECOLE ELEMENTAIRE PUBLIQUE",
          "ECOLE ELEMENTAIRE PUBLIQUE",
          "ECOLE ELEMENTAIRE PUBLIQUE",
          "ECOLE ELEMENTAIRE PUBLIQUE",
          "ECOLE ELEMENTAIRE PUBLIQUE",
          "ECOLE ELEMENTAIRE PUBLIQUE",
          "ECOLE ELEMENTAIRE PUBLIQUE",
          "ECOLE ELEMENTAIRE PUBLIQUE",
          "ECOLE ELEMENTAIRE PUBLIQUE",
          "ECOLE ELEMENTAIRE PUBLIQUE",
          "ECOLE ELEMENTAIRE PUBLIQUE",
          "ECOLE ELEMENTAIRE PUBLIQUE",
          "ECOLE ELEMENTAIRE PUBLIQUE",
          "ECOLE ELEMENTAIRE PUBLIQUE",
          "ECOLE ELEMENTAIRE PUBLIQUE",
          "ECOLE ELEMENTAIRE PUBLIQUE",
          "ECOLE ELEMENTAIRE PUBLIQUE",
          "ECOLE ELEMENTAIRE PUBLIQUE",
          "ECOLE ELEMENTAIRE PUBLIQUE",
          "ECOLE ELEMENTAIRE PUBLIQUE",
          "ECOLE ELEMENTAIRE PUBLIQUE",
          "ECOLE ELEMENTAIRE PUBLIQUE",
          "ECOLE ELEMENTAIRE PUBLIQUE"
         ],
         "xaxis": "x",
         "y": [
          23,
          54,
          33,
          81,
          34,
          50,
          29,
          48,
          43,
          22,
          36,
          48,
          32,
          45,
          31,
          64,
          50,
          42,
          52,
          32,
          39,
          43,
          34,
          48,
          59,
          44,
          51,
          67,
          68,
          47,
          56,
          67,
          37,
          23,
          29,
          40,
          56,
          38
         ],
         "yaxis": "y"
        }
       ],
       "layout": {
        "autosize": true,
        "barmode": "group",
        "legend": {
         "title": {
          "text": "rentrée"
         },
         "tracegroupgap": 0
        },
        "template": {
         "data": {
          "bar": [
           {
            "error_x": {
             "color": "#2a3f5f"
            },
            "error_y": {
             "color": "#2a3f5f"
            },
            "marker": {
             "line": {
              "color": "#E5ECF6",
              "width": 0.5
             },
             "pattern": {
              "fillmode": "overlay",
              "size": 10,
              "solidity": 0.2
             }
            },
            "type": "bar"
           }
          ],
          "barpolar": [
           {
            "marker": {
             "line": {
              "color": "#E5ECF6",
              "width": 0.5
             },
             "pattern": {
              "fillmode": "overlay",
              "size": 10,
              "solidity": 0.2
             }
            },
            "type": "barpolar"
           }
          ],
          "carpet": [
           {
            "aaxis": {
             "endlinecolor": "#2a3f5f",
             "gridcolor": "white",
             "linecolor": "white",
             "minorgridcolor": "white",
             "startlinecolor": "#2a3f5f"
            },
            "baxis": {
             "endlinecolor": "#2a3f5f",
             "gridcolor": "white",
             "linecolor": "white",
             "minorgridcolor": "white",
             "startlinecolor": "#2a3f5f"
            },
            "type": "carpet"
           }
          ],
          "choropleth": [
           {
            "colorbar": {
             "outlinewidth": 0,
             "ticks": ""
            },
            "type": "choropleth"
           }
          ],
          "contour": [
           {
            "colorbar": {
             "outlinewidth": 0,
             "ticks": ""
            },
            "colorscale": [
             [
              0,
              "#0d0887"
             ],
             [
              0.1111111111111111,
              "#46039f"
             ],
             [
              0.2222222222222222,
              "#7201a8"
             ],
             [
              0.3333333333333333,
              "#9c179e"
             ],
             [
              0.4444444444444444,
              "#bd3786"
             ],
             [
              0.5555555555555556,
              "#d8576b"
             ],
             [
              0.6666666666666666,
              "#ed7953"
             ],
             [
              0.7777777777777778,
              "#fb9f3a"
             ],
             [
              0.8888888888888888,
              "#fdca26"
             ],
             [
              1,
              "#f0f921"
             ]
            ],
            "type": "contour"
           }
          ],
          "contourcarpet": [
           {
            "colorbar": {
             "outlinewidth": 0,
             "ticks": ""
            },
            "type": "contourcarpet"
           }
          ],
          "heatmap": [
           {
            "colorbar": {
             "outlinewidth": 0,
             "ticks": ""
            },
            "colorscale": [
             [
              0,
              "#0d0887"
             ],
             [
              0.1111111111111111,
              "#46039f"
             ],
             [
              0.2222222222222222,
              "#7201a8"
             ],
             [
              0.3333333333333333,
              "#9c179e"
             ],
             [
              0.4444444444444444,
              "#bd3786"
             ],
             [
              0.5555555555555556,
              "#d8576b"
             ],
             [
              0.6666666666666666,
              "#ed7953"
             ],
             [
              0.7777777777777778,
              "#fb9f3a"
             ],
             [
              0.8888888888888888,
              "#fdca26"
             ],
             [
              1,
              "#f0f921"
             ]
            ],
            "type": "heatmap"
           }
          ],
          "heatmapgl": [
           {
            "colorbar": {
             "outlinewidth": 0,
             "ticks": ""
            },
            "colorscale": [
             [
              0,
              "#0d0887"
             ],
             [
              0.1111111111111111,
              "#46039f"
             ],
             [
              0.2222222222222222,
              "#7201a8"
             ],
             [
              0.3333333333333333,
              "#9c179e"
             ],
             [
              0.4444444444444444,
              "#bd3786"
             ],
             [
              0.5555555555555556,
              "#d8576b"
             ],
             [
              0.6666666666666666,
              "#ed7953"
             ],
             [
              0.7777777777777778,
              "#fb9f3a"
             ],
             [
              0.8888888888888888,
              "#fdca26"
             ],
             [
              1,
              "#f0f921"
             ]
            ],
            "type": "heatmapgl"
           }
          ],
          "histogram": [
           {
            "marker": {
             "pattern": {
              "fillmode": "overlay",
              "size": 10,
              "solidity": 0.2
             }
            },
            "type": "histogram"
           }
          ],
          "histogram2d": [
           {
            "colorbar": {
             "outlinewidth": 0,
             "ticks": ""
            },
            "colorscale": [
             [
              0,
              "#0d0887"
             ],
             [
              0.1111111111111111,
              "#46039f"
             ],
             [
              0.2222222222222222,
              "#7201a8"
             ],
             [
              0.3333333333333333,
              "#9c179e"
             ],
             [
              0.4444444444444444,
              "#bd3786"
             ],
             [
              0.5555555555555556,
              "#d8576b"
             ],
             [
              0.6666666666666666,
              "#ed7953"
             ],
             [
              0.7777777777777778,
              "#fb9f3a"
             ],
             [
              0.8888888888888888,
              "#fdca26"
             ],
             [
              1,
              "#f0f921"
             ]
            ],
            "type": "histogram2d"
           }
          ],
          "histogram2dcontour": [
           {
            "colorbar": {
             "outlinewidth": 0,
             "ticks": ""
            },
            "colorscale": [
             [
              0,
              "#0d0887"
             ],
             [
              0.1111111111111111,
              "#46039f"
             ],
             [
              0.2222222222222222,
              "#7201a8"
             ],
             [
              0.3333333333333333,
              "#9c179e"
             ],
             [
              0.4444444444444444,
              "#bd3786"
             ],
             [
              0.5555555555555556,
              "#d8576b"
             ],
             [
              0.6666666666666666,
              "#ed7953"
             ],
             [
              0.7777777777777778,
              "#fb9f3a"
             ],
             [
              0.8888888888888888,
              "#fdca26"
             ],
             [
              1,
              "#f0f921"
             ]
            ],
            "type": "histogram2dcontour"
           }
          ],
          "mesh3d": [
           {
            "colorbar": {
             "outlinewidth": 0,
             "ticks": ""
            },
            "type": "mesh3d"
           }
          ],
          "parcoords": [
           {
            "line": {
             "colorbar": {
              "outlinewidth": 0,
              "ticks": ""
             }
            },
            "type": "parcoords"
           }
          ],
          "pie": [
           {
            "automargin": true,
            "type": "pie"
           }
          ],
          "scatter": [
           {
            "fillpattern": {
             "fillmode": "overlay",
             "size": 10,
             "solidity": 0.2
            },
            "type": "scatter"
           }
          ],
          "scatter3d": [
           {
            "line": {
             "colorbar": {
              "outlinewidth": 0,
              "ticks": ""
             }
            },
            "marker": {
             "colorbar": {
              "outlinewidth": 0,
              "ticks": ""
             }
            },
            "type": "scatter3d"
           }
          ],
          "scattercarpet": [
           {
            "marker": {
             "colorbar": {
              "outlinewidth": 0,
              "ticks": ""
             }
            },
            "type": "scattercarpet"
           }
          ],
          "scattergeo": [
           {
            "marker": {
             "colorbar": {
              "outlinewidth": 0,
              "ticks": ""
             }
            },
            "type": "scattergeo"
           }
          ],
          "scattergl": [
           {
            "marker": {
             "colorbar": {
              "outlinewidth": 0,
              "ticks": ""
             }
            },
            "type": "scattergl"
           }
          ],
          "scattermapbox": [
           {
            "marker": {
             "colorbar": {
              "outlinewidth": 0,
              "ticks": ""
             }
            },
            "type": "scattermapbox"
           }
          ],
          "scatterpolar": [
           {
            "marker": {
             "colorbar": {
              "outlinewidth": 0,
              "ticks": ""
             }
            },
            "type": "scatterpolar"
           }
          ],
          "scatterpolargl": [
           {
            "marker": {
             "colorbar": {
              "outlinewidth": 0,
              "ticks": ""
             }
            },
            "type": "scatterpolargl"
           }
          ],
          "scatterternary": [
           {
            "marker": {
             "colorbar": {
              "outlinewidth": 0,
              "ticks": ""
             }
            },
            "type": "scatterternary"
           }
          ],
          "surface": [
           {
            "colorbar": {
             "outlinewidth": 0,
             "ticks": ""
            },
            "colorscale": [
             [
              0,
              "#0d0887"
             ],
             [
              0.1111111111111111,
              "#46039f"
             ],
             [
              0.2222222222222222,
              "#7201a8"
             ],
             [
              0.3333333333333333,
              "#9c179e"
             ],
             [
              0.4444444444444444,
              "#bd3786"
             ],
             [
              0.5555555555555556,
              "#d8576b"
             ],
             [
              0.6666666666666666,
              "#ed7953"
             ],
             [
              0.7777777777777778,
              "#fb9f3a"
             ],
             [
              0.8888888888888888,
              "#fdca26"
             ],
             [
              1,
              "#f0f921"
             ]
            ],
            "type": "surface"
           }
          ],
          "table": [
           {
            "cells": {
             "fill": {
              "color": "#EBF0F8"
             },
             "line": {
              "color": "white"
             }
            },
            "header": {
             "fill": {
              "color": "#C8D4E3"
             },
             "line": {
              "color": "white"
             }
            },
            "type": "table"
           }
          ]
         },
         "layout": {
          "annotationdefaults": {
           "arrowcolor": "#2a3f5f",
           "arrowhead": 0,
           "arrowwidth": 1
          },
          "autotypenumbers": "strict",
          "coloraxis": {
           "colorbar": {
            "outlinewidth": 0,
            "ticks": ""
           }
          },
          "colorscale": {
           "diverging": [
            [
             0,
             "#8e0152"
            ],
            [
             0.1,
             "#c51b7d"
            ],
            [
             0.2,
             "#de77ae"
            ],
            [
             0.3,
             "#f1b6da"
            ],
            [
             0.4,
             "#fde0ef"
            ],
            [
             0.5,
             "#f7f7f7"
            ],
            [
             0.6,
             "#e6f5d0"
            ],
            [
             0.7,
             "#b8e186"
            ],
            [
             0.8,
             "#7fbc41"
            ],
            [
             0.9,
             "#4d9221"
            ],
            [
             1,
             "#276419"
            ]
           ],
           "sequential": [
            [
             0,
             "#0d0887"
            ],
            [
             0.1111111111111111,
             "#46039f"
            ],
            [
             0.2222222222222222,
             "#7201a8"
            ],
            [
             0.3333333333333333,
             "#9c179e"
            ],
            [
             0.4444444444444444,
             "#bd3786"
            ],
            [
             0.5555555555555556,
             "#d8576b"
            ],
            [
             0.6666666666666666,
             "#ed7953"
            ],
            [
             0.7777777777777778,
             "#fb9f3a"
            ],
            [
             0.8888888888888888,
             "#fdca26"
            ],
            [
             1,
             "#f0f921"
            ]
           ],
           "sequentialminus": [
            [
             0,
             "#0d0887"
            ],
            [
             0.1111111111111111,
             "#46039f"
            ],
            [
             0.2222222222222222,
             "#7201a8"
            ],
            [
             0.3333333333333333,
             "#9c179e"
            ],
            [
             0.4444444444444444,
             "#bd3786"
            ],
            [
             0.5555555555555556,
             "#d8576b"
            ],
            [
             0.6666666666666666,
             "#ed7953"
            ],
            [
             0.7777777777777778,
             "#fb9f3a"
            ],
            [
             0.8888888888888888,
             "#fdca26"
            ],
            [
             1,
             "#f0f921"
            ]
           ]
          },
          "colorway": [
           "#636efa",
           "#EF553B",
           "#00cc96",
           "#ab63fa",
           "#FFA15A",
           "#19d3f3",
           "#FF6692",
           "#B6E880",
           "#FF97FF",
           "#FECB52"
          ],
          "font": {
           "color": "#2a3f5f"
          },
          "geo": {
           "bgcolor": "white",
           "lakecolor": "white",
           "landcolor": "#E5ECF6",
           "showlakes": true,
           "showland": true,
           "subunitcolor": "white"
          },
          "hoverlabel": {
           "align": "left"
          },
          "hovermode": "closest",
          "mapbox": {
           "style": "light"
          },
          "paper_bgcolor": "white",
          "plot_bgcolor": "#E5ECF6",
          "polar": {
           "angularaxis": {
            "gridcolor": "white",
            "linecolor": "white",
            "ticks": ""
           },
           "bgcolor": "#E5ECF6",
           "radialaxis": {
            "gridcolor": "white",
            "linecolor": "white",
            "ticks": ""
           }
          },
          "scene": {
           "xaxis": {
            "backgroundcolor": "#E5ECF6",
            "gridcolor": "white",
            "gridwidth": 2,
            "linecolor": "white",
            "showbackground": true,
            "ticks": "",
            "zerolinecolor": "white"
           },
           "yaxis": {
            "backgroundcolor": "#E5ECF6",
            "gridcolor": "white",
            "gridwidth": 2,
            "linecolor": "white",
            "showbackground": true,
            "ticks": "",
            "zerolinecolor": "white"
           },
           "zaxis": {
            "backgroundcolor": "#E5ECF6",
            "gridcolor": "white",
            "gridwidth": 2,
            "linecolor": "white",
            "showbackground": true,
            "ticks": "",
            "zerolinecolor": "white"
           }
          },
          "shapedefaults": {
           "line": {
            "color": "#2a3f5f"
           }
          },
          "ternary": {
           "aaxis": {
            "gridcolor": "white",
            "linecolor": "white",
            "ticks": ""
           },
           "baxis": {
            "gridcolor": "white",
            "linecolor": "white",
            "ticks": ""
           },
           "bgcolor": "#E5ECF6",
           "caxis": {
            "gridcolor": "white",
            "linecolor": "white",
            "ticks": ""
           }
          },
          "title": {
           "x": 0.05
          },
          "xaxis": {
           "automargin": true,
           "gridcolor": "white",
           "linecolor": "white",
           "ticks": "",
           "title": {
            "standoff": 15
           },
           "zerolinecolor": "white",
           "zerolinewidth": 2
          },
          "yaxis": {
           "automargin": true,
           "gridcolor": "white",
           "linecolor": "white",
           "ticks": "",
           "title": {
            "standoff": 15
           },
           "zerolinecolor": "white",
           "zerolinewidth": 2
          }
         }
        },
        "title": {
         "text": "CE2"
        },
        "xaxis": {
         "anchor": "y",
         "autorange": true,
         "domain": [
          0,
          1
         ],
         "range": [
          -0.5,
          0.5
         ],
         "title": {
          "text": "Dénomination principale"
         },
         "type": "category"
        },
        "yaxis": {
         "anchor": "x",
         "autorange": true,
         "domain": [
          0,
          1
         ],
         "range": [
          0,
          1784.2105263157894
         ],
         "title": {
          "text": "Nombre d'élèves en CE2 hors ULIS"
         },
         "type": "linear"
        }
       }
      },
      "text/html": [
       "<div>                            <div id=\"a190e04c-6ec5-4fb9-8fa6-8a08ec8801e3\" class=\"plotly-graph-div\" style=\"height:525px; width:100%;\"></div>            <script type=\"text/javascript\">                require([\"plotly\"], function(Plotly) {                    window.PLOTLYENV=window.PLOTLYENV || {};                                    if (document.getElementById(\"a190e04c-6ec5-4fb9-8fa6-8a08ec8801e3\")) {                    Plotly.newPlot(                        \"a190e04c-6ec5-4fb9-8fa6-8a08ec8801e3\",                        [{\"alignmentgroup\":\"True\",\"hovertemplate\":\"rentr\\u00e9e=2019\\u003cbr\\u003eD\\u00e9nomination principale=%{x}\\u003cbr\\u003eNombre d'\\u00e9l\\u00e8ves en CE2 hors ULIS=%{y}\\u003cextra\\u003e\\u003c\\u002fextra\\u003e\",\"legendgroup\":\"2019\",\"marker\":{\"color\":\"#636efa\",\"pattern\":{\"shape\":\"\"}},\"name\":\"2019\",\"offsetgroup\":\"2019\",\"orientation\":\"v\",\"showlegend\":true,\"textposition\":\"auto\",\"x\":[\"ECOLE ELEMENTAIRE PUBLIQUE\",\"ECOLE ELEMENTAIRE PUBLIQUE\",\"ECOLE ELEMENTAIRE PUBLIQUE\",\"ECOLE ELEMENTAIRE PUBLIQUE\",\"ECOLE ELEMENTAIRE PUBLIQUE\",\"ECOLE ELEMENTAIRE PUBLIQUE\",\"ECOLE ELEMENTAIRE PUBLIQUE\",\"ECOLE ELEMENTAIRE PUBLIQUE\",\"ECOLE ELEMENTAIRE PUBLIQUE\",\"ECOLE ELEMENTAIRE PUBLIQUE\",\"ECOLE ELEMENTAIRE PUBLIQUE\",\"ECOLE ELEMENTAIRE PUBLIQUE\",\"ECOLE ELEMENTAIRE PUBLIQUE\",\"ECOLE ELEMENTAIRE PUBLIQUE\",\"ECOLE ELEMENTAIRE PUBLIQUE\",\"ECOLE ELEMENTAIRE PUBLIQUE\",\"ECOLE ELEMENTAIRE PUBLIQUE\",\"ECOLE ELEMENTAIRE PUBLIQUE\",\"ECOLE ELEMENTAIRE PUBLIQUE\",\"ECOLE ELEMENTAIRE PUBLIQUE\",\"ECOLE ELEMENTAIRE PUBLIQUE\",\"ECOLE ELEMENTAIRE PUBLIQUE\",\"ECOLE ELEMENTAIRE PUBLIQUE\",\"ECOLE ELEMENTAIRE PUBLIQUE\",\"ECOLE ELEMENTAIRE PUBLIQUE\",\"ECOLE ELEMENTAIRE PUBLIQUE\",\"ECOLE ELEMENTAIRE PUBLIQUE\",\"ECOLE ELEMENTAIRE PUBLIQUE\",\"ECOLE ELEMENTAIRE PUBLIQUE\",\"ECOLE ELEMENTAIRE PUBLIQUE\",\"ECOLE ELEMENTAIRE PUBLIQUE\",\"ECOLE ELEMENTAIRE PUBLIQUE\",\"ECOLE ELEMENTAIRE PUBLIQUE\",\"ECOLE ELEMENTAIRE PUBLIQUE\",\"ECOLE ELEMENTAIRE PUBLIQUE\",\"ECOLE ELEMENTAIRE PUBLIQUE\",\"ECOLE ELEMENTAIRE PUBLIQUE\",\"ECOLE ELEMENTAIRE PUBLIQUE\"],\"xaxis\":\"x\",\"y\":[39,58,35,64,46,26,36,39,15,56,41,44,34,28,38,49,47,41,48,28,37,49,35,43,59,37,37,49,27,54,48,77,64,18,18,50,56,51],\"yaxis\":\"y\",\"type\":\"bar\"},{\"alignmentgroup\":\"True\",\"hovertemplate\":\"rentr\\u00e9e=2020\\u003cbr\\u003eD\\u00e9nomination principale=%{x}\\u003cbr\\u003eNombre d'\\u00e9l\\u00e8ves en CE2 hors ULIS=%{y}\\u003cextra\\u003e\\u003c\\u002fextra\\u003e\",\"legendgroup\":\"2020\",\"marker\":{\"color\":\"#EF553B\",\"pattern\":{\"shape\":\"\"}},\"name\":\"2020\",\"offsetgroup\":\"2020\",\"orientation\":\"v\",\"showlegend\":true,\"textposition\":\"auto\",\"x\":[\"ECOLE ELEMENTAIRE PUBLIQUE\",\"ECOLE ELEMENTAIRE PUBLIQUE\",\"ECOLE ELEMENTAIRE PUBLIQUE\",\"ECOLE ELEMENTAIRE PUBLIQUE\",\"ECOLE ELEMENTAIRE PUBLIQUE\",\"ECOLE ELEMENTAIRE PUBLIQUE\",\"ECOLE ELEMENTAIRE PUBLIQUE\",\"ECOLE ELEMENTAIRE PUBLIQUE\",\"ECOLE ELEMENTAIRE PUBLIQUE\",\"ECOLE ELEMENTAIRE PUBLIQUE\",\"ECOLE ELEMENTAIRE PUBLIQUE\",\"ECOLE ELEMENTAIRE PUBLIQUE\",\"ECOLE ELEMENTAIRE PUBLIQUE\",\"ECOLE ELEMENTAIRE PUBLIQUE\",\"ECOLE ELEMENTAIRE PUBLIQUE\",\"ECOLE ELEMENTAIRE PUBLIQUE\",\"ECOLE ELEMENTAIRE PUBLIQUE\",\"ECOLE ELEMENTAIRE PUBLIQUE\",\"ECOLE ELEMENTAIRE PUBLIQUE\",\"ECOLE ELEMENTAIRE PUBLIQUE\",\"ECOLE ELEMENTAIRE PUBLIQUE\",\"ECOLE ELEMENTAIRE PUBLIQUE\",\"ECOLE ELEMENTAIRE PUBLIQUE\",\"ECOLE ELEMENTAIRE PUBLIQUE\",\"ECOLE ELEMENTAIRE PUBLIQUE\",\"ECOLE ELEMENTAIRE PUBLIQUE\",\"ECOLE ELEMENTAIRE PUBLIQUE\",\"ECOLE ELEMENTAIRE PUBLIQUE\",\"ECOLE ELEMENTAIRE PUBLIQUE\",\"ECOLE ELEMENTAIRE PUBLIQUE\",\"ECOLE ELEMENTAIRE PUBLIQUE\",\"ECOLE ELEMENTAIRE PUBLIQUE\",\"ECOLE ELEMENTAIRE PUBLIQUE\",\"ECOLE ELEMENTAIRE PUBLIQUE\",\"ECOLE ELEMENTAIRE PUBLIQUE\",\"ECOLE ELEMENTAIRE PUBLIQUE\",\"ECOLE ELEMENTAIRE PUBLIQUE\",\"ECOLE ELEMENTAIRE PUBLIQUE\"],\"xaxis\":\"x\",\"y\":[24,41,54,37,59,39,28,42,25,24,47,46,28,49,36,51,46,37,49,35,31,51,28,49,48,41,36,54,64,50,75,66,33,27,29,32,37,45],\"yaxis\":\"y\",\"type\":\"bar\"},{\"alignmentgroup\":\"True\",\"hovertemplate\":\"rentr\\u00e9e=2021\\u003cbr\\u003eD\\u00e9nomination principale=%{x}\\u003cbr\\u003eNombre d'\\u00e9l\\u00e8ves en CE2 hors ULIS=%{y}\\u003cextra\\u003e\\u003c\\u002fextra\\u003e\",\"legendgroup\":\"2021\",\"marker\":{\"color\":\"#00cc96\",\"pattern\":{\"shape\":\"\"}},\"name\":\"2021\",\"offsetgroup\":\"2021\",\"orientation\":\"v\",\"showlegend\":true,\"textposition\":\"auto\",\"x\":[\"ECOLE ELEMENTAIRE PUBLIQUE\",\"ECOLE ELEMENTAIRE PUBLIQUE\",\"ECOLE ELEMENTAIRE PUBLIQUE\",\"ECOLE ELEMENTAIRE PUBLIQUE\",\"ECOLE ELEMENTAIRE PUBLIQUE\",\"ECOLE ELEMENTAIRE PUBLIQUE\",\"ECOLE ELEMENTAIRE PUBLIQUE\",\"ECOLE ELEMENTAIRE PUBLIQUE\",\"ECOLE ELEMENTAIRE PUBLIQUE\",\"ECOLE ELEMENTAIRE PUBLIQUE\",\"ECOLE ELEMENTAIRE PUBLIQUE\",\"ECOLE ELEMENTAIRE PUBLIQUE\",\"ECOLE ELEMENTAIRE PUBLIQUE\",\"ECOLE ELEMENTAIRE PUBLIQUE\",\"ECOLE ELEMENTAIRE PUBLIQUE\",\"ECOLE ELEMENTAIRE PUBLIQUE\",\"ECOLE ELEMENTAIRE PUBLIQUE\",\"ECOLE ELEMENTAIRE PUBLIQUE\",\"ECOLE ELEMENTAIRE PUBLIQUE\",\"ECOLE ELEMENTAIRE PUBLIQUE\",\"ECOLE ELEMENTAIRE PUBLIQUE\",\"ECOLE ELEMENTAIRE PUBLIQUE\",\"ECOLE ELEMENTAIRE PUBLIQUE\",\"ECOLE ELEMENTAIRE PUBLIQUE\",\"ECOLE ELEMENTAIRE PUBLIQUE\",\"ECOLE ELEMENTAIRE PUBLIQUE\",\"ECOLE ELEMENTAIRE PUBLIQUE\",\"ECOLE ELEMENTAIRE PUBLIQUE\",\"ECOLE ELEMENTAIRE PUBLIQUE\",\"ECOLE ELEMENTAIRE PUBLIQUE\",\"ECOLE ELEMENTAIRE PUBLIQUE\",\"ECOLE ELEMENTAIRE PUBLIQUE\",\"ECOLE ELEMENTAIRE PUBLIQUE\",\"ECOLE ELEMENTAIRE PUBLIQUE\",\"ECOLE ELEMENTAIRE PUBLIQUE\",\"ECOLE ELEMENTAIRE PUBLIQUE\",\"ECOLE ELEMENTAIRE PUBLIQUE\",\"ECOLE ELEMENTAIRE PUBLIQUE\"],\"xaxis\":\"x\",\"y\":[19,51,36,60,38,27,36,37,24,50,44,23,37,30,52,40,61,56,28,36,27,36,46,48,51,50,46,51,37,72,56,53,52,24,34,38,33,41],\"yaxis\":\"y\",\"type\":\"bar\"},{\"alignmentgroup\":\"True\",\"hovertemplate\":\"rentr\\u00e9e=2022\\u003cbr\\u003eD\\u00e9nomination principale=%{x}\\u003cbr\\u003eNombre d'\\u00e9l\\u00e8ves en CE2 hors ULIS=%{y}\\u003cextra\\u003e\\u003c\\u002fextra\\u003e\",\"legendgroup\":\"2022\",\"marker\":{\"color\":\"#ab63fa\",\"pattern\":{\"shape\":\"\"}},\"name\":\"2022\",\"offsetgroup\":\"2022\",\"orientation\":\"v\",\"showlegend\":true,\"textposition\":\"auto\",\"x\":[\"ECOLE ELEMENTAIRE PUBLIQUE\",\"ECOLE ELEMENTAIRE PUBLIQUE\",\"ECOLE ELEMENTAIRE PUBLIQUE\",\"ECOLE ELEMENTAIRE PUBLIQUE\",\"ECOLE ELEMENTAIRE PUBLIQUE\",\"ECOLE ELEMENTAIRE PUBLIQUE\",\"ECOLE ELEMENTAIRE PUBLIQUE\",\"ECOLE ELEMENTAIRE PUBLIQUE\",\"ECOLE ELEMENTAIRE PUBLIQUE\",\"ECOLE ELEMENTAIRE PUBLIQUE\",\"ECOLE ELEMENTAIRE PUBLIQUE\",\"ECOLE ELEMENTAIRE PUBLIQUE\",\"ECOLE ELEMENTAIRE PUBLIQUE\",\"ECOLE ELEMENTAIRE PUBLIQUE\",\"ECOLE ELEMENTAIRE PUBLIQUE\",\"ECOLE ELEMENTAIRE PUBLIQUE\",\"ECOLE ELEMENTAIRE PUBLIQUE\",\"ECOLE ELEMENTAIRE PUBLIQUE\",\"ECOLE ELEMENTAIRE PUBLIQUE\",\"ECOLE ELEMENTAIRE PUBLIQUE\",\"ECOLE ELEMENTAIRE PUBLIQUE\",\"ECOLE ELEMENTAIRE PUBLIQUE\",\"ECOLE ELEMENTAIRE PUBLIQUE\",\"ECOLE ELEMENTAIRE PUBLIQUE\",\"ECOLE ELEMENTAIRE PUBLIQUE\",\"ECOLE ELEMENTAIRE PUBLIQUE\",\"ECOLE ELEMENTAIRE PUBLIQUE\",\"ECOLE ELEMENTAIRE PUBLIQUE\",\"ECOLE ELEMENTAIRE PUBLIQUE\",\"ECOLE ELEMENTAIRE PUBLIQUE\",\"ECOLE ELEMENTAIRE PUBLIQUE\",\"ECOLE ELEMENTAIRE PUBLIQUE\",\"ECOLE ELEMENTAIRE PUBLIQUE\",\"ECOLE ELEMENTAIRE PUBLIQUE\",\"ECOLE ELEMENTAIRE PUBLIQUE\",\"ECOLE ELEMENTAIRE PUBLIQUE\",\"ECOLE ELEMENTAIRE PUBLIQUE\",\"ECOLE ELEMENTAIRE PUBLIQUE\"],\"xaxis\":\"x\",\"y\":[23,54,33,81,34,50,29,48,43,22,36,48,32,45,31,64,50,42,52,32,39,43,34,48,59,44,51,67,68,47,56,67,37,23,29,40,56,38],\"yaxis\":\"y\",\"type\":\"bar\"}],                        {\"template\":{\"data\":{\"histogram2dcontour\":[{\"type\":\"histogram2dcontour\",\"colorbar\":{\"outlinewidth\":0,\"ticks\":\"\"},\"colorscale\":[[0.0,\"#0d0887\"],[0.1111111111111111,\"#46039f\"],[0.2222222222222222,\"#7201a8\"],[0.3333333333333333,\"#9c179e\"],[0.4444444444444444,\"#bd3786\"],[0.5555555555555556,\"#d8576b\"],[0.6666666666666666,\"#ed7953\"],[0.7777777777777778,\"#fb9f3a\"],[0.8888888888888888,\"#fdca26\"],[1.0,\"#f0f921\"]]}],\"choropleth\":[{\"type\":\"choropleth\",\"colorbar\":{\"outlinewidth\":0,\"ticks\":\"\"}}],\"histogram2d\":[{\"type\":\"histogram2d\",\"colorbar\":{\"outlinewidth\":0,\"ticks\":\"\"},\"colorscale\":[[0.0,\"#0d0887\"],[0.1111111111111111,\"#46039f\"],[0.2222222222222222,\"#7201a8\"],[0.3333333333333333,\"#9c179e\"],[0.4444444444444444,\"#bd3786\"],[0.5555555555555556,\"#d8576b\"],[0.6666666666666666,\"#ed7953\"],[0.7777777777777778,\"#fb9f3a\"],[0.8888888888888888,\"#fdca26\"],[1.0,\"#f0f921\"]]}],\"heatmap\":[{\"type\":\"heatmap\",\"colorbar\":{\"outlinewidth\":0,\"ticks\":\"\"},\"colorscale\":[[0.0,\"#0d0887\"],[0.1111111111111111,\"#46039f\"],[0.2222222222222222,\"#7201a8\"],[0.3333333333333333,\"#9c179e\"],[0.4444444444444444,\"#bd3786\"],[0.5555555555555556,\"#d8576b\"],[0.6666666666666666,\"#ed7953\"],[0.7777777777777778,\"#fb9f3a\"],[0.8888888888888888,\"#fdca26\"],[1.0,\"#f0f921\"]]}],\"heatmapgl\":[{\"type\":\"heatmapgl\",\"colorbar\":{\"outlinewidth\":0,\"ticks\":\"\"},\"colorscale\":[[0.0,\"#0d0887\"],[0.1111111111111111,\"#46039f\"],[0.2222222222222222,\"#7201a8\"],[0.3333333333333333,\"#9c179e\"],[0.4444444444444444,\"#bd3786\"],[0.5555555555555556,\"#d8576b\"],[0.6666666666666666,\"#ed7953\"],[0.7777777777777778,\"#fb9f3a\"],[0.8888888888888888,\"#fdca26\"],[1.0,\"#f0f921\"]]}],\"contourcarpet\":[{\"type\":\"contourcarpet\",\"colorbar\":{\"outlinewidth\":0,\"ticks\":\"\"}}],\"contour\":[{\"type\":\"contour\",\"colorbar\":{\"outlinewidth\":0,\"ticks\":\"\"},\"colorscale\":[[0.0,\"#0d0887\"],[0.1111111111111111,\"#46039f\"],[0.2222222222222222,\"#7201a8\"],[0.3333333333333333,\"#9c179e\"],[0.4444444444444444,\"#bd3786\"],[0.5555555555555556,\"#d8576b\"],[0.6666666666666666,\"#ed7953\"],[0.7777777777777778,\"#fb9f3a\"],[0.8888888888888888,\"#fdca26\"],[1.0,\"#f0f921\"]]}],\"surface\":[{\"type\":\"surface\",\"colorbar\":{\"outlinewidth\":0,\"ticks\":\"\"},\"colorscale\":[[0.0,\"#0d0887\"],[0.1111111111111111,\"#46039f\"],[0.2222222222222222,\"#7201a8\"],[0.3333333333333333,\"#9c179e\"],[0.4444444444444444,\"#bd3786\"],[0.5555555555555556,\"#d8576b\"],[0.6666666666666666,\"#ed7953\"],[0.7777777777777778,\"#fb9f3a\"],[0.8888888888888888,\"#fdca26\"],[1.0,\"#f0f921\"]]}],\"mesh3d\":[{\"type\":\"mesh3d\",\"colorbar\":{\"outlinewidth\":0,\"ticks\":\"\"}}],\"scatter\":[{\"fillpattern\":{\"fillmode\":\"overlay\",\"size\":10,\"solidity\":0.2},\"type\":\"scatter\"}],\"parcoords\":[{\"type\":\"parcoords\",\"line\":{\"colorbar\":{\"outlinewidth\":0,\"ticks\":\"\"}}}],\"scatterpolargl\":[{\"type\":\"scatterpolargl\",\"marker\":{\"colorbar\":{\"outlinewidth\":0,\"ticks\":\"\"}}}],\"bar\":[{\"error_x\":{\"color\":\"#2a3f5f\"},\"error_y\":{\"color\":\"#2a3f5f\"},\"marker\":{\"line\":{\"color\":\"#E5ECF6\",\"width\":0.5},\"pattern\":{\"fillmode\":\"overlay\",\"size\":10,\"solidity\":0.2}},\"type\":\"bar\"}],\"scattergeo\":[{\"type\":\"scattergeo\",\"marker\":{\"colorbar\":{\"outlinewidth\":0,\"ticks\":\"\"}}}],\"scatterpolar\":[{\"type\":\"scatterpolar\",\"marker\":{\"colorbar\":{\"outlinewidth\":0,\"ticks\":\"\"}}}],\"histogram\":[{\"marker\":{\"pattern\":{\"fillmode\":\"overlay\",\"size\":10,\"solidity\":0.2}},\"type\":\"histogram\"}],\"scattergl\":[{\"type\":\"scattergl\",\"marker\":{\"colorbar\":{\"outlinewidth\":0,\"ticks\":\"\"}}}],\"scatter3d\":[{\"type\":\"scatter3d\",\"line\":{\"colorbar\":{\"outlinewidth\":0,\"ticks\":\"\"}},\"marker\":{\"colorbar\":{\"outlinewidth\":0,\"ticks\":\"\"}}}],\"scattermapbox\":[{\"type\":\"scattermapbox\",\"marker\":{\"colorbar\":{\"outlinewidth\":0,\"ticks\":\"\"}}}],\"scatterternary\":[{\"type\":\"scatterternary\",\"marker\":{\"colorbar\":{\"outlinewidth\":0,\"ticks\":\"\"}}}],\"scattercarpet\":[{\"type\":\"scattercarpet\",\"marker\":{\"colorbar\":{\"outlinewidth\":0,\"ticks\":\"\"}}}],\"carpet\":[{\"aaxis\":{\"endlinecolor\":\"#2a3f5f\",\"gridcolor\":\"white\",\"linecolor\":\"white\",\"minorgridcolor\":\"white\",\"startlinecolor\":\"#2a3f5f\"},\"baxis\":{\"endlinecolor\":\"#2a3f5f\",\"gridcolor\":\"white\",\"linecolor\":\"white\",\"minorgridcolor\":\"white\",\"startlinecolor\":\"#2a3f5f\"},\"type\":\"carpet\"}],\"table\":[{\"cells\":{\"fill\":{\"color\":\"#EBF0F8\"},\"line\":{\"color\":\"white\"}},\"header\":{\"fill\":{\"color\":\"#C8D4E3\"},\"line\":{\"color\":\"white\"}},\"type\":\"table\"}],\"barpolar\":[{\"marker\":{\"line\":{\"color\":\"#E5ECF6\",\"width\":0.5},\"pattern\":{\"fillmode\":\"overlay\",\"size\":10,\"solidity\":0.2}},\"type\":\"barpolar\"}],\"pie\":[{\"automargin\":true,\"type\":\"pie\"}]},\"layout\":{\"autotypenumbers\":\"strict\",\"colorway\":[\"#636efa\",\"#EF553B\",\"#00cc96\",\"#ab63fa\",\"#FFA15A\",\"#19d3f3\",\"#FF6692\",\"#B6E880\",\"#FF97FF\",\"#FECB52\"],\"font\":{\"color\":\"#2a3f5f\"},\"hovermode\":\"closest\",\"hoverlabel\":{\"align\":\"left\"},\"paper_bgcolor\":\"white\",\"plot_bgcolor\":\"#E5ECF6\",\"polar\":{\"bgcolor\":\"#E5ECF6\",\"angularaxis\":{\"gridcolor\":\"white\",\"linecolor\":\"white\",\"ticks\":\"\"},\"radialaxis\":{\"gridcolor\":\"white\",\"linecolor\":\"white\",\"ticks\":\"\"}},\"ternary\":{\"bgcolor\":\"#E5ECF6\",\"aaxis\":{\"gridcolor\":\"white\",\"linecolor\":\"white\",\"ticks\":\"\"},\"baxis\":{\"gridcolor\":\"white\",\"linecolor\":\"white\",\"ticks\":\"\"},\"caxis\":{\"gridcolor\":\"white\",\"linecolor\":\"white\",\"ticks\":\"\"}},\"coloraxis\":{\"colorbar\":{\"outlinewidth\":0,\"ticks\":\"\"}},\"colorscale\":{\"sequential\":[[0.0,\"#0d0887\"],[0.1111111111111111,\"#46039f\"],[0.2222222222222222,\"#7201a8\"],[0.3333333333333333,\"#9c179e\"],[0.4444444444444444,\"#bd3786\"],[0.5555555555555556,\"#d8576b\"],[0.6666666666666666,\"#ed7953\"],[0.7777777777777778,\"#fb9f3a\"],[0.8888888888888888,\"#fdca26\"],[1.0,\"#f0f921\"]],\"sequentialminus\":[[0.0,\"#0d0887\"],[0.1111111111111111,\"#46039f\"],[0.2222222222222222,\"#7201a8\"],[0.3333333333333333,\"#9c179e\"],[0.4444444444444444,\"#bd3786\"],[0.5555555555555556,\"#d8576b\"],[0.6666666666666666,\"#ed7953\"],[0.7777777777777778,\"#fb9f3a\"],[0.8888888888888888,\"#fdca26\"],[1.0,\"#f0f921\"]],\"diverging\":[[0,\"#8e0152\"],[0.1,\"#c51b7d\"],[0.2,\"#de77ae\"],[0.3,\"#f1b6da\"],[0.4,\"#fde0ef\"],[0.5,\"#f7f7f7\"],[0.6,\"#e6f5d0\"],[0.7,\"#b8e186\"],[0.8,\"#7fbc41\"],[0.9,\"#4d9221\"],[1,\"#276419\"]]},\"xaxis\":{\"gridcolor\":\"white\",\"linecolor\":\"white\",\"ticks\":\"\",\"title\":{\"standoff\":15},\"zerolinecolor\":\"white\",\"automargin\":true,\"zerolinewidth\":2},\"yaxis\":{\"gridcolor\":\"white\",\"linecolor\":\"white\",\"ticks\":\"\",\"title\":{\"standoff\":15},\"zerolinecolor\":\"white\",\"automargin\":true,\"zerolinewidth\":2},\"scene\":{\"xaxis\":{\"backgroundcolor\":\"#E5ECF6\",\"gridcolor\":\"white\",\"linecolor\":\"white\",\"showbackground\":true,\"ticks\":\"\",\"zerolinecolor\":\"white\",\"gridwidth\":2},\"yaxis\":{\"backgroundcolor\":\"#E5ECF6\",\"gridcolor\":\"white\",\"linecolor\":\"white\",\"showbackground\":true,\"ticks\":\"\",\"zerolinecolor\":\"white\",\"gridwidth\":2},\"zaxis\":{\"backgroundcolor\":\"#E5ECF6\",\"gridcolor\":\"white\",\"linecolor\":\"white\",\"showbackground\":true,\"ticks\":\"\",\"zerolinecolor\":\"white\",\"gridwidth\":2}},\"shapedefaults\":{\"line\":{\"color\":\"#2a3f5f\"}},\"annotationdefaults\":{\"arrowcolor\":\"#2a3f5f\",\"arrowhead\":0,\"arrowwidth\":1},\"geo\":{\"bgcolor\":\"white\",\"landcolor\":\"#E5ECF6\",\"subunitcolor\":\"white\",\"showland\":true,\"showlakes\":true,\"lakecolor\":\"white\"},\"title\":{\"x\":0.05},\"mapbox\":{\"style\":\"light\"}}},\"xaxis\":{\"anchor\":\"y\",\"domain\":[0.0,1.0],\"title\":{\"text\":\"D\\u00e9nomination principale\"}},\"yaxis\":{\"anchor\":\"x\",\"domain\":[0.0,1.0],\"title\":{\"text\":\"Nombre d'\\u00e9l\\u00e8ves en CE2 hors ULIS\"}},\"legend\":{\"title\":{\"text\":\"rentr\\u00e9e\"},\"tracegroupgap\":0},\"title\":{\"text\":\"CE2\"},\"barmode\":\"group\"},                        {\"responsive\": true}                    ).then(function(){\n",
       "                            \n",
       "var gd = document.getElementById('a190e04c-6ec5-4fb9-8fa6-8a08ec8801e3');\n",
       "var x = new MutationObserver(function (mutations, observer) {{\n",
       "        var display = window.getComputedStyle(gd).display;\n",
       "        if (!display || display === 'none') {{\n",
       "            console.log([gd, 'removed!']);\n",
       "            Plotly.purge(gd);\n",
       "            observer.disconnect();\n",
       "        }}\n",
       "}});\n",
       "\n",
       "// Listen for the removal of the full notebook cells\n",
       "var notebookContainer = gd.closest('#notebook-container');\n",
       "if (notebookContainer) {{\n",
       "    x.observe(notebookContainer, {childList: true});\n",
       "}}\n",
       "\n",
       "// Listen for the clearing of the current output cell\n",
       "var outputEl = gd.closest('.output');\n",
       "if (outputEl) {{\n",
       "    x.observe(outputEl, {childList: true});\n",
       "}}\n",
       "\n",
       "                        })                };                });            </script>        </div>"
      ]
     },
     "metadata": {},
     "output_type": "display_data"
    },
    {
     "data": {
      "application/vnd.plotly.v1+json": {
       "config": {
        "plotlyServerURL": "https://plot.ly"
       },
       "data": [
        {
         "alignmentgroup": "True",
         "hovertemplate": "rentrée=2019<br>Dénomination principale=%{x}<br>Nombre d'élèves en CM1 hors ULIS=%{y}<extra></extra>",
         "legendgroup": "2019",
         "marker": {
          "color": "#636efa",
          "pattern": {
           "shape": ""
          }
         },
         "name": "2019",
         "offsetgroup": "2019",
         "orientation": "v",
         "showlegend": true,
         "textposition": "auto",
         "type": "bar",
         "x": [
          "ECOLE ELEMENTAIRE PUBLIQUE",
          "ECOLE ELEMENTAIRE PUBLIQUE",
          "ECOLE ELEMENTAIRE PUBLIQUE",
          "ECOLE ELEMENTAIRE PUBLIQUE",
          "ECOLE ELEMENTAIRE PUBLIQUE",
          "ECOLE ELEMENTAIRE PUBLIQUE",
          "ECOLE ELEMENTAIRE PUBLIQUE",
          "ECOLE ELEMENTAIRE PUBLIQUE",
          "ECOLE ELEMENTAIRE PUBLIQUE",
          "ECOLE ELEMENTAIRE PUBLIQUE",
          "ECOLE ELEMENTAIRE PUBLIQUE",
          "ECOLE ELEMENTAIRE PUBLIQUE",
          "ECOLE ELEMENTAIRE PUBLIQUE",
          "ECOLE ELEMENTAIRE PUBLIQUE",
          "ECOLE ELEMENTAIRE PUBLIQUE",
          "ECOLE ELEMENTAIRE PUBLIQUE",
          "ECOLE ELEMENTAIRE PUBLIQUE",
          "ECOLE ELEMENTAIRE PUBLIQUE",
          "ECOLE ELEMENTAIRE PUBLIQUE",
          "ECOLE ELEMENTAIRE PUBLIQUE",
          "ECOLE ELEMENTAIRE PUBLIQUE",
          "ECOLE ELEMENTAIRE PUBLIQUE",
          "ECOLE ELEMENTAIRE PUBLIQUE",
          "ECOLE ELEMENTAIRE PUBLIQUE",
          "ECOLE ELEMENTAIRE PUBLIQUE",
          "ECOLE ELEMENTAIRE PUBLIQUE",
          "ECOLE ELEMENTAIRE PUBLIQUE",
          "ECOLE ELEMENTAIRE PUBLIQUE",
          "ECOLE ELEMENTAIRE PUBLIQUE",
          "ECOLE ELEMENTAIRE PUBLIQUE",
          "ECOLE ELEMENTAIRE PUBLIQUE",
          "ECOLE ELEMENTAIRE PUBLIQUE",
          "ECOLE ELEMENTAIRE PUBLIQUE",
          "ECOLE ELEMENTAIRE PUBLIQUE",
          "ECOLE ELEMENTAIRE PUBLIQUE",
          "ECOLE ELEMENTAIRE PUBLIQUE",
          "ECOLE ELEMENTAIRE PUBLIQUE",
          "ECOLE ELEMENTAIRE PUBLIQUE"
         ],
         "xaxis": "x",
         "y": [
          32,
          64,
          39,
          79,
          47,
          28,
          38,
          25,
          24,
          48,
          43,
          21,
          56,
          23,
          58,
          50,
          73,
          57,
          31,
          22,
          38,
          31,
          31,
          45,
          55,
          41,
          46,
          49,
          37,
          63,
          62,
          51,
          53,
          24,
          32,
          38,
          45,
          38
         ],
         "yaxis": "y"
        },
        {
         "alignmentgroup": "True",
         "hovertemplate": "rentrée=2020<br>Dénomination principale=%{x}<br>Nombre d'élèves en CM1 hors ULIS=%{y}<extra></extra>",
         "legendgroup": "2020",
         "marker": {
          "color": "#EF553B",
          "pattern": {
           "shape": ""
          }
         },
         "name": "2020",
         "offsetgroup": "2020",
         "orientation": "v",
         "showlegend": true,
         "textposition": "auto",
         "type": "bar",
         "x": [
          "ECOLE ELEMENTAIRE PUBLIQUE",
          "ECOLE ELEMENTAIRE PUBLIQUE",
          "ECOLE ELEMENTAIRE PUBLIQUE",
          "ECOLE ELEMENTAIRE PUBLIQUE",
          "ECOLE ELEMENTAIRE PUBLIQUE",
          "ECOLE ELEMENTAIRE PUBLIQUE",
          "ECOLE ELEMENTAIRE PUBLIQUE",
          "ECOLE ELEMENTAIRE PUBLIQUE",
          "ECOLE ELEMENTAIRE PUBLIQUE",
          "ECOLE ELEMENTAIRE PUBLIQUE",
          "ECOLE ELEMENTAIRE PUBLIQUE",
          "ECOLE ELEMENTAIRE PUBLIQUE",
          "ECOLE ELEMENTAIRE PUBLIQUE",
          "ECOLE ELEMENTAIRE PUBLIQUE",
          "ECOLE ELEMENTAIRE PUBLIQUE",
          "ECOLE ELEMENTAIRE PUBLIQUE",
          "ECOLE ELEMENTAIRE PUBLIQUE",
          "ECOLE ELEMENTAIRE PUBLIQUE",
          "ECOLE ELEMENTAIRE PUBLIQUE",
          "ECOLE ELEMENTAIRE PUBLIQUE",
          "ECOLE ELEMENTAIRE PUBLIQUE",
          "ECOLE ELEMENTAIRE PUBLIQUE",
          "ECOLE ELEMENTAIRE PUBLIQUE",
          "ECOLE ELEMENTAIRE PUBLIQUE",
          "ECOLE ELEMENTAIRE PUBLIQUE",
          "ECOLE ELEMENTAIRE PUBLIQUE",
          "ECOLE ELEMENTAIRE PUBLIQUE",
          "ECOLE ELEMENTAIRE PUBLIQUE",
          "ECOLE ELEMENTAIRE PUBLIQUE",
          "ECOLE ELEMENTAIRE PUBLIQUE",
          "ECOLE ELEMENTAIRE PUBLIQUE",
          "ECOLE ELEMENTAIRE PUBLIQUE",
          "ECOLE ELEMENTAIRE PUBLIQUE",
          "ECOLE ELEMENTAIRE PUBLIQUE",
          "ECOLE ELEMENTAIRE PUBLIQUE",
          "ECOLE ELEMENTAIRE PUBLIQUE",
          "ECOLE ELEMENTAIRE PUBLIQUE",
          "ECOLE ELEMENTAIRE PUBLIQUE"
         ],
         "xaxis": "x",
         "y": [
          35,
          32,
          60,
          36,
          60,
          43,
          26,
          34,
          39,
          15,
          53,
          36,
          42,
          29,
          29,
          40,
          52,
          43,
          45,
          46,
          38,
          48,
          34,
          45,
          54,
          34,
          30,
          46,
          58,
          46,
          73,
          61,
          26,
          16,
          21,
          50,
          47,
          50
         ],
         "yaxis": "y"
        },
        {
         "alignmentgroup": "True",
         "hovertemplate": "rentrée=2021<br>Dénomination principale=%{x}<br>Nombre d'élèves en CM1 hors ULIS=%{y}<extra></extra>",
         "legendgroup": "2021",
         "marker": {
          "color": "#00cc96",
          "pattern": {
           "shape": ""
          }
         },
         "name": "2021",
         "offsetgroup": "2021",
         "orientation": "v",
         "showlegend": true,
         "textposition": "auto",
         "type": "bar",
         "x": [
          "ECOLE ELEMENTAIRE PUBLIQUE",
          "ECOLE ELEMENTAIRE PUBLIQUE",
          "ECOLE ELEMENTAIRE PUBLIQUE",
          "ECOLE ELEMENTAIRE PUBLIQUE",
          "ECOLE ELEMENTAIRE PUBLIQUE",
          "ECOLE ELEMENTAIRE PUBLIQUE",
          "ECOLE ELEMENTAIRE PUBLIQUE",
          "ECOLE ELEMENTAIRE PUBLIQUE",
          "ECOLE ELEMENTAIRE PUBLIQUE",
          "ECOLE ELEMENTAIRE PUBLIQUE",
          "ECOLE ELEMENTAIRE PUBLIQUE",
          "ECOLE ELEMENTAIRE PUBLIQUE",
          "ECOLE ELEMENTAIRE PUBLIQUE",
          "ECOLE ELEMENTAIRE PUBLIQUE",
          "ECOLE ELEMENTAIRE PUBLIQUE",
          "ECOLE ELEMENTAIRE PUBLIQUE",
          "ECOLE ELEMENTAIRE PUBLIQUE",
          "ECOLE ELEMENTAIRE PUBLIQUE",
          "ECOLE ELEMENTAIRE PUBLIQUE",
          "ECOLE ELEMENTAIRE PUBLIQUE",
          "ECOLE ELEMENTAIRE PUBLIQUE",
          "ECOLE ELEMENTAIRE PUBLIQUE",
          "ECOLE ELEMENTAIRE PUBLIQUE",
          "ECOLE ELEMENTAIRE PUBLIQUE",
          "ECOLE ELEMENTAIRE PUBLIQUE",
          "ECOLE ELEMENTAIRE PUBLIQUE",
          "ECOLE ELEMENTAIRE PUBLIQUE",
          "ECOLE ELEMENTAIRE PUBLIQUE",
          "ECOLE ELEMENTAIRE PUBLIQUE",
          "ECOLE ELEMENTAIRE PUBLIQUE",
          "ECOLE ELEMENTAIRE PUBLIQUE",
          "ECOLE ELEMENTAIRE PUBLIQUE",
          "ECOLE ELEMENTAIRE PUBLIQUE",
          "ECOLE ELEMENTAIRE PUBLIQUE",
          "ECOLE ELEMENTAIRE PUBLIQUE",
          "ECOLE ELEMENTAIRE PUBLIQUE",
          "ECOLE ELEMENTAIRE PUBLIQUE",
          "ECOLE ELEMENTAIRE PUBLIQUE"
         ],
         "xaxis": "x",
         "y": [
          25,
          56,
          33,
          63,
          40,
          22,
          41,
          28,
          25,
          47,
          43,
          25,
          57,
          34,
          53,
          49,
          37,
          51,
          32,
          40,
          33,
          50,
          26,
          51,
          41,
          41,
          38,
          55,
          32,
          67,
          46,
          73,
          61,
          25,
          31,
          31,
          36,
          43
         ],
         "yaxis": "y"
        },
        {
         "alignmentgroup": "True",
         "hovertemplate": "rentrée=2022<br>Dénomination principale=%{x}<br>Nombre d'élèves en CM1 hors ULIS=%{y}<extra></extra>",
         "legendgroup": "2022",
         "marker": {
          "color": "#ab63fa",
          "pattern": {
           "shape": ""
          }
         },
         "name": "2022",
         "offsetgroup": "2022",
         "orientation": "v",
         "showlegend": true,
         "textposition": "auto",
         "type": "bar",
         "x": [
          "ECOLE ELEMENTAIRE PUBLIQUE",
          "ECOLE ELEMENTAIRE PUBLIQUE",
          "ECOLE ELEMENTAIRE PUBLIQUE",
          "ECOLE ELEMENTAIRE PUBLIQUE",
          "ECOLE ELEMENTAIRE PUBLIQUE",
          "ECOLE ELEMENTAIRE PUBLIQUE",
          "ECOLE ELEMENTAIRE PUBLIQUE",
          "ECOLE ELEMENTAIRE PUBLIQUE",
          "ECOLE ELEMENTAIRE PUBLIQUE",
          "ECOLE ELEMENTAIRE PUBLIQUE",
          "ECOLE ELEMENTAIRE PUBLIQUE",
          "ECOLE ELEMENTAIRE PUBLIQUE",
          "ECOLE ELEMENTAIRE PUBLIQUE",
          "ECOLE ELEMENTAIRE PUBLIQUE",
          "ECOLE ELEMENTAIRE PUBLIQUE",
          "ECOLE ELEMENTAIRE PUBLIQUE",
          "ECOLE ELEMENTAIRE PUBLIQUE",
          "ECOLE ELEMENTAIRE PUBLIQUE",
          "ECOLE ELEMENTAIRE PUBLIQUE",
          "ECOLE ELEMENTAIRE PUBLIQUE",
          "ECOLE ELEMENTAIRE PUBLIQUE",
          "ECOLE ELEMENTAIRE PUBLIQUE",
          "ECOLE ELEMENTAIRE PUBLIQUE",
          "ECOLE ELEMENTAIRE PUBLIQUE",
          "ECOLE ELEMENTAIRE PUBLIQUE",
          "ECOLE ELEMENTAIRE PUBLIQUE",
          "ECOLE ELEMENTAIRE PUBLIQUE",
          "ECOLE ELEMENTAIRE PUBLIQUE",
          "ECOLE ELEMENTAIRE PUBLIQUE",
          "ECOLE ELEMENTAIRE PUBLIQUE",
          "ECOLE ELEMENTAIRE PUBLIQUE",
          "ECOLE ELEMENTAIRE PUBLIQUE",
          "ECOLE ELEMENTAIRE PUBLIQUE",
          "ECOLE ELEMENTAIRE PUBLIQUE",
          "ECOLE ELEMENTAIRE PUBLIQUE",
          "ECOLE ELEMENTAIRE PUBLIQUE",
          "ECOLE ELEMENTAIRE PUBLIQUE",
          "ECOLE ELEMENTAIRE PUBLIQUE"
         ],
         "xaxis": "x",
         "y": [
          24,
          49,
          35,
          61,
          33,
          42,
          32,
          39,
          41,
          26,
          48,
          40,
          22,
          34,
          27,
          45,
          39,
          42,
          53,
          26,
          26,
          36,
          45,
          49,
          54,
          45,
          47,
          49,
          74,
          57,
          45,
          47,
          39,
          25,
          30,
          34,
          32,
          41
         ],
         "yaxis": "y"
        }
       ],
       "layout": {
        "autosize": true,
        "barmode": "group",
        "legend": {
         "title": {
          "text": "rentrée"
         },
         "tracegroupgap": 0
        },
        "template": {
         "data": {
          "bar": [
           {
            "error_x": {
             "color": "#2a3f5f"
            },
            "error_y": {
             "color": "#2a3f5f"
            },
            "marker": {
             "line": {
              "color": "#E5ECF6",
              "width": 0.5
             },
             "pattern": {
              "fillmode": "overlay",
              "size": 10,
              "solidity": 0.2
             }
            },
            "type": "bar"
           }
          ],
          "barpolar": [
           {
            "marker": {
             "line": {
              "color": "#E5ECF6",
              "width": 0.5
             },
             "pattern": {
              "fillmode": "overlay",
              "size": 10,
              "solidity": 0.2
             }
            },
            "type": "barpolar"
           }
          ],
          "carpet": [
           {
            "aaxis": {
             "endlinecolor": "#2a3f5f",
             "gridcolor": "white",
             "linecolor": "white",
             "minorgridcolor": "white",
             "startlinecolor": "#2a3f5f"
            },
            "baxis": {
             "endlinecolor": "#2a3f5f",
             "gridcolor": "white",
             "linecolor": "white",
             "minorgridcolor": "white",
             "startlinecolor": "#2a3f5f"
            },
            "type": "carpet"
           }
          ],
          "choropleth": [
           {
            "colorbar": {
             "outlinewidth": 0,
             "ticks": ""
            },
            "type": "choropleth"
           }
          ],
          "contour": [
           {
            "colorbar": {
             "outlinewidth": 0,
             "ticks": ""
            },
            "colorscale": [
             [
              0,
              "#0d0887"
             ],
             [
              0.1111111111111111,
              "#46039f"
             ],
             [
              0.2222222222222222,
              "#7201a8"
             ],
             [
              0.3333333333333333,
              "#9c179e"
             ],
             [
              0.4444444444444444,
              "#bd3786"
             ],
             [
              0.5555555555555556,
              "#d8576b"
             ],
             [
              0.6666666666666666,
              "#ed7953"
             ],
             [
              0.7777777777777778,
              "#fb9f3a"
             ],
             [
              0.8888888888888888,
              "#fdca26"
             ],
             [
              1,
              "#f0f921"
             ]
            ],
            "type": "contour"
           }
          ],
          "contourcarpet": [
           {
            "colorbar": {
             "outlinewidth": 0,
             "ticks": ""
            },
            "type": "contourcarpet"
           }
          ],
          "heatmap": [
           {
            "colorbar": {
             "outlinewidth": 0,
             "ticks": ""
            },
            "colorscale": [
             [
              0,
              "#0d0887"
             ],
             [
              0.1111111111111111,
              "#46039f"
             ],
             [
              0.2222222222222222,
              "#7201a8"
             ],
             [
              0.3333333333333333,
              "#9c179e"
             ],
             [
              0.4444444444444444,
              "#bd3786"
             ],
             [
              0.5555555555555556,
              "#d8576b"
             ],
             [
              0.6666666666666666,
              "#ed7953"
             ],
             [
              0.7777777777777778,
              "#fb9f3a"
             ],
             [
              0.8888888888888888,
              "#fdca26"
             ],
             [
              1,
              "#f0f921"
             ]
            ],
            "type": "heatmap"
           }
          ],
          "heatmapgl": [
           {
            "colorbar": {
             "outlinewidth": 0,
             "ticks": ""
            },
            "colorscale": [
             [
              0,
              "#0d0887"
             ],
             [
              0.1111111111111111,
              "#46039f"
             ],
             [
              0.2222222222222222,
              "#7201a8"
             ],
             [
              0.3333333333333333,
              "#9c179e"
             ],
             [
              0.4444444444444444,
              "#bd3786"
             ],
             [
              0.5555555555555556,
              "#d8576b"
             ],
             [
              0.6666666666666666,
              "#ed7953"
             ],
             [
              0.7777777777777778,
              "#fb9f3a"
             ],
             [
              0.8888888888888888,
              "#fdca26"
             ],
             [
              1,
              "#f0f921"
             ]
            ],
            "type": "heatmapgl"
           }
          ],
          "histogram": [
           {
            "marker": {
             "pattern": {
              "fillmode": "overlay",
              "size": 10,
              "solidity": 0.2
             }
            },
            "type": "histogram"
           }
          ],
          "histogram2d": [
           {
            "colorbar": {
             "outlinewidth": 0,
             "ticks": ""
            },
            "colorscale": [
             [
              0,
              "#0d0887"
             ],
             [
              0.1111111111111111,
              "#46039f"
             ],
             [
              0.2222222222222222,
              "#7201a8"
             ],
             [
              0.3333333333333333,
              "#9c179e"
             ],
             [
              0.4444444444444444,
              "#bd3786"
             ],
             [
              0.5555555555555556,
              "#d8576b"
             ],
             [
              0.6666666666666666,
              "#ed7953"
             ],
             [
              0.7777777777777778,
              "#fb9f3a"
             ],
             [
              0.8888888888888888,
              "#fdca26"
             ],
             [
              1,
              "#f0f921"
             ]
            ],
            "type": "histogram2d"
           }
          ],
          "histogram2dcontour": [
           {
            "colorbar": {
             "outlinewidth": 0,
             "ticks": ""
            },
            "colorscale": [
             [
              0,
              "#0d0887"
             ],
             [
              0.1111111111111111,
              "#46039f"
             ],
             [
              0.2222222222222222,
              "#7201a8"
             ],
             [
              0.3333333333333333,
              "#9c179e"
             ],
             [
              0.4444444444444444,
              "#bd3786"
             ],
             [
              0.5555555555555556,
              "#d8576b"
             ],
             [
              0.6666666666666666,
              "#ed7953"
             ],
             [
              0.7777777777777778,
              "#fb9f3a"
             ],
             [
              0.8888888888888888,
              "#fdca26"
             ],
             [
              1,
              "#f0f921"
             ]
            ],
            "type": "histogram2dcontour"
           }
          ],
          "mesh3d": [
           {
            "colorbar": {
             "outlinewidth": 0,
             "ticks": ""
            },
            "type": "mesh3d"
           }
          ],
          "parcoords": [
           {
            "line": {
             "colorbar": {
              "outlinewidth": 0,
              "ticks": ""
             }
            },
            "type": "parcoords"
           }
          ],
          "pie": [
           {
            "automargin": true,
            "type": "pie"
           }
          ],
          "scatter": [
           {
            "fillpattern": {
             "fillmode": "overlay",
             "size": 10,
             "solidity": 0.2
            },
            "type": "scatter"
           }
          ],
          "scatter3d": [
           {
            "line": {
             "colorbar": {
              "outlinewidth": 0,
              "ticks": ""
             }
            },
            "marker": {
             "colorbar": {
              "outlinewidth": 0,
              "ticks": ""
             }
            },
            "type": "scatter3d"
           }
          ],
          "scattercarpet": [
           {
            "marker": {
             "colorbar": {
              "outlinewidth": 0,
              "ticks": ""
             }
            },
            "type": "scattercarpet"
           }
          ],
          "scattergeo": [
           {
            "marker": {
             "colorbar": {
              "outlinewidth": 0,
              "ticks": ""
             }
            },
            "type": "scattergeo"
           }
          ],
          "scattergl": [
           {
            "marker": {
             "colorbar": {
              "outlinewidth": 0,
              "ticks": ""
             }
            },
            "type": "scattergl"
           }
          ],
          "scattermapbox": [
           {
            "marker": {
             "colorbar": {
              "outlinewidth": 0,
              "ticks": ""
             }
            },
            "type": "scattermapbox"
           }
          ],
          "scatterpolar": [
           {
            "marker": {
             "colorbar": {
              "outlinewidth": 0,
              "ticks": ""
             }
            },
            "type": "scatterpolar"
           }
          ],
          "scatterpolargl": [
           {
            "marker": {
             "colorbar": {
              "outlinewidth": 0,
              "ticks": ""
             }
            },
            "type": "scatterpolargl"
           }
          ],
          "scatterternary": [
           {
            "marker": {
             "colorbar": {
              "outlinewidth": 0,
              "ticks": ""
             }
            },
            "type": "scatterternary"
           }
          ],
          "surface": [
           {
            "colorbar": {
             "outlinewidth": 0,
             "ticks": ""
            },
            "colorscale": [
             [
              0,
              "#0d0887"
             ],
             [
              0.1111111111111111,
              "#46039f"
             ],
             [
              0.2222222222222222,
              "#7201a8"
             ],
             [
              0.3333333333333333,
              "#9c179e"
             ],
             [
              0.4444444444444444,
              "#bd3786"
             ],
             [
              0.5555555555555556,
              "#d8576b"
             ],
             [
              0.6666666666666666,
              "#ed7953"
             ],
             [
              0.7777777777777778,
              "#fb9f3a"
             ],
             [
              0.8888888888888888,
              "#fdca26"
             ],
             [
              1,
              "#f0f921"
             ]
            ],
            "type": "surface"
           }
          ],
          "table": [
           {
            "cells": {
             "fill": {
              "color": "#EBF0F8"
             },
             "line": {
              "color": "white"
             }
            },
            "header": {
             "fill": {
              "color": "#C8D4E3"
             },
             "line": {
              "color": "white"
             }
            },
            "type": "table"
           }
          ]
         },
         "layout": {
          "annotationdefaults": {
           "arrowcolor": "#2a3f5f",
           "arrowhead": 0,
           "arrowwidth": 1
          },
          "autotypenumbers": "strict",
          "coloraxis": {
           "colorbar": {
            "outlinewidth": 0,
            "ticks": ""
           }
          },
          "colorscale": {
           "diverging": [
            [
             0,
             "#8e0152"
            ],
            [
             0.1,
             "#c51b7d"
            ],
            [
             0.2,
             "#de77ae"
            ],
            [
             0.3,
             "#f1b6da"
            ],
            [
             0.4,
             "#fde0ef"
            ],
            [
             0.5,
             "#f7f7f7"
            ],
            [
             0.6,
             "#e6f5d0"
            ],
            [
             0.7,
             "#b8e186"
            ],
            [
             0.8,
             "#7fbc41"
            ],
            [
             0.9,
             "#4d9221"
            ],
            [
             1,
             "#276419"
            ]
           ],
           "sequential": [
            [
             0,
             "#0d0887"
            ],
            [
             0.1111111111111111,
             "#46039f"
            ],
            [
             0.2222222222222222,
             "#7201a8"
            ],
            [
             0.3333333333333333,
             "#9c179e"
            ],
            [
             0.4444444444444444,
             "#bd3786"
            ],
            [
             0.5555555555555556,
             "#d8576b"
            ],
            [
             0.6666666666666666,
             "#ed7953"
            ],
            [
             0.7777777777777778,
             "#fb9f3a"
            ],
            [
             0.8888888888888888,
             "#fdca26"
            ],
            [
             1,
             "#f0f921"
            ]
           ],
           "sequentialminus": [
            [
             0,
             "#0d0887"
            ],
            [
             0.1111111111111111,
             "#46039f"
            ],
            [
             0.2222222222222222,
             "#7201a8"
            ],
            [
             0.3333333333333333,
             "#9c179e"
            ],
            [
             0.4444444444444444,
             "#bd3786"
            ],
            [
             0.5555555555555556,
             "#d8576b"
            ],
            [
             0.6666666666666666,
             "#ed7953"
            ],
            [
             0.7777777777777778,
             "#fb9f3a"
            ],
            [
             0.8888888888888888,
             "#fdca26"
            ],
            [
             1,
             "#f0f921"
            ]
           ]
          },
          "colorway": [
           "#636efa",
           "#EF553B",
           "#00cc96",
           "#ab63fa",
           "#FFA15A",
           "#19d3f3",
           "#FF6692",
           "#B6E880",
           "#FF97FF",
           "#FECB52"
          ],
          "font": {
           "color": "#2a3f5f"
          },
          "geo": {
           "bgcolor": "white",
           "lakecolor": "white",
           "landcolor": "#E5ECF6",
           "showlakes": true,
           "showland": true,
           "subunitcolor": "white"
          },
          "hoverlabel": {
           "align": "left"
          },
          "hovermode": "closest",
          "mapbox": {
           "style": "light"
          },
          "paper_bgcolor": "white",
          "plot_bgcolor": "#E5ECF6",
          "polar": {
           "angularaxis": {
            "gridcolor": "white",
            "linecolor": "white",
            "ticks": ""
           },
           "bgcolor": "#E5ECF6",
           "radialaxis": {
            "gridcolor": "white",
            "linecolor": "white",
            "ticks": ""
           }
          },
          "scene": {
           "xaxis": {
            "backgroundcolor": "#E5ECF6",
            "gridcolor": "white",
            "gridwidth": 2,
            "linecolor": "white",
            "showbackground": true,
            "ticks": "",
            "zerolinecolor": "white"
           },
           "yaxis": {
            "backgroundcolor": "#E5ECF6",
            "gridcolor": "white",
            "gridwidth": 2,
            "linecolor": "white",
            "showbackground": true,
            "ticks": "",
            "zerolinecolor": "white"
           },
           "zaxis": {
            "backgroundcolor": "#E5ECF6",
            "gridcolor": "white",
            "gridwidth": 2,
            "linecolor": "white",
            "showbackground": true,
            "ticks": "",
            "zerolinecolor": "white"
           }
          },
          "shapedefaults": {
           "line": {
            "color": "#2a3f5f"
           }
          },
          "ternary": {
           "aaxis": {
            "gridcolor": "white",
            "linecolor": "white",
            "ticks": ""
           },
           "baxis": {
            "gridcolor": "white",
            "linecolor": "white",
            "ticks": ""
           },
           "bgcolor": "#E5ECF6",
           "caxis": {
            "gridcolor": "white",
            "linecolor": "white",
            "ticks": ""
           }
          },
          "title": {
           "x": 0.05
          },
          "xaxis": {
           "automargin": true,
           "gridcolor": "white",
           "linecolor": "white",
           "ticks": "",
           "title": {
            "standoff": 15
           },
           "zerolinecolor": "white",
           "zerolinewidth": 2
          },
          "yaxis": {
           "automargin": true,
           "gridcolor": "white",
           "linecolor": "white",
           "ticks": "",
           "title": {
            "standoff": 15
           },
           "zerolinecolor": "white",
           "zerolinewidth": 2
          }
         }
        },
        "title": {
         "text": "CM1"
        },
        "xaxis": {
         "anchor": "y",
         "autorange": true,
         "domain": [
          0,
          1
         ],
         "range": [
          -0.5,
          0.5
         ],
         "title": {
          "text": "Dénomination principale"
         },
         "type": "category"
        },
        "yaxis": {
         "anchor": "x",
         "autorange": true,
         "domain": [
          0,
          1
         ],
         "range": [
          0,
          1723.157894736842
         ],
         "title": {
          "text": "Nombre d'élèves en CM1 hors ULIS"
         },
         "type": "linear"
        }
       }
      },
      "text/html": [
       "<div>                            <div id=\"5579f5c3-83b3-43cc-a417-34e15a397497\" class=\"plotly-graph-div\" style=\"height:525px; width:100%;\"></div>            <script type=\"text/javascript\">                require([\"plotly\"], function(Plotly) {                    window.PLOTLYENV=window.PLOTLYENV || {};                                    if (document.getElementById(\"5579f5c3-83b3-43cc-a417-34e15a397497\")) {                    Plotly.newPlot(                        \"5579f5c3-83b3-43cc-a417-34e15a397497\",                        [{\"alignmentgroup\":\"True\",\"hovertemplate\":\"rentr\\u00e9e=2019\\u003cbr\\u003eD\\u00e9nomination principale=%{x}\\u003cbr\\u003eNombre d'\\u00e9l\\u00e8ves en CM1 hors ULIS=%{y}\\u003cextra\\u003e\\u003c\\u002fextra\\u003e\",\"legendgroup\":\"2019\",\"marker\":{\"color\":\"#636efa\",\"pattern\":{\"shape\":\"\"}},\"name\":\"2019\",\"offsetgroup\":\"2019\",\"orientation\":\"v\",\"showlegend\":true,\"textposition\":\"auto\",\"x\":[\"ECOLE ELEMENTAIRE PUBLIQUE\",\"ECOLE ELEMENTAIRE PUBLIQUE\",\"ECOLE ELEMENTAIRE PUBLIQUE\",\"ECOLE ELEMENTAIRE PUBLIQUE\",\"ECOLE ELEMENTAIRE PUBLIQUE\",\"ECOLE ELEMENTAIRE PUBLIQUE\",\"ECOLE ELEMENTAIRE PUBLIQUE\",\"ECOLE ELEMENTAIRE PUBLIQUE\",\"ECOLE ELEMENTAIRE PUBLIQUE\",\"ECOLE ELEMENTAIRE PUBLIQUE\",\"ECOLE ELEMENTAIRE PUBLIQUE\",\"ECOLE ELEMENTAIRE PUBLIQUE\",\"ECOLE ELEMENTAIRE PUBLIQUE\",\"ECOLE ELEMENTAIRE PUBLIQUE\",\"ECOLE ELEMENTAIRE PUBLIQUE\",\"ECOLE ELEMENTAIRE PUBLIQUE\",\"ECOLE ELEMENTAIRE PUBLIQUE\",\"ECOLE ELEMENTAIRE PUBLIQUE\",\"ECOLE ELEMENTAIRE PUBLIQUE\",\"ECOLE ELEMENTAIRE PUBLIQUE\",\"ECOLE ELEMENTAIRE PUBLIQUE\",\"ECOLE ELEMENTAIRE PUBLIQUE\",\"ECOLE ELEMENTAIRE PUBLIQUE\",\"ECOLE ELEMENTAIRE PUBLIQUE\",\"ECOLE ELEMENTAIRE PUBLIQUE\",\"ECOLE ELEMENTAIRE PUBLIQUE\",\"ECOLE ELEMENTAIRE PUBLIQUE\",\"ECOLE ELEMENTAIRE PUBLIQUE\",\"ECOLE ELEMENTAIRE PUBLIQUE\",\"ECOLE ELEMENTAIRE PUBLIQUE\",\"ECOLE ELEMENTAIRE PUBLIQUE\",\"ECOLE ELEMENTAIRE PUBLIQUE\",\"ECOLE ELEMENTAIRE PUBLIQUE\",\"ECOLE ELEMENTAIRE PUBLIQUE\",\"ECOLE ELEMENTAIRE PUBLIQUE\",\"ECOLE ELEMENTAIRE PUBLIQUE\",\"ECOLE ELEMENTAIRE PUBLIQUE\",\"ECOLE ELEMENTAIRE PUBLIQUE\"],\"xaxis\":\"x\",\"y\":[32,64,39,79,47,28,38,25,24,48,43,21,56,23,58,50,73,57,31,22,38,31,31,45,55,41,46,49,37,63,62,51,53,24,32,38,45,38],\"yaxis\":\"y\",\"type\":\"bar\"},{\"alignmentgroup\":\"True\",\"hovertemplate\":\"rentr\\u00e9e=2020\\u003cbr\\u003eD\\u00e9nomination principale=%{x}\\u003cbr\\u003eNombre d'\\u00e9l\\u00e8ves en CM1 hors ULIS=%{y}\\u003cextra\\u003e\\u003c\\u002fextra\\u003e\",\"legendgroup\":\"2020\",\"marker\":{\"color\":\"#EF553B\",\"pattern\":{\"shape\":\"\"}},\"name\":\"2020\",\"offsetgroup\":\"2020\",\"orientation\":\"v\",\"showlegend\":true,\"textposition\":\"auto\",\"x\":[\"ECOLE ELEMENTAIRE PUBLIQUE\",\"ECOLE ELEMENTAIRE PUBLIQUE\",\"ECOLE ELEMENTAIRE PUBLIQUE\",\"ECOLE ELEMENTAIRE PUBLIQUE\",\"ECOLE ELEMENTAIRE PUBLIQUE\",\"ECOLE ELEMENTAIRE PUBLIQUE\",\"ECOLE ELEMENTAIRE PUBLIQUE\",\"ECOLE ELEMENTAIRE PUBLIQUE\",\"ECOLE ELEMENTAIRE PUBLIQUE\",\"ECOLE ELEMENTAIRE PUBLIQUE\",\"ECOLE ELEMENTAIRE PUBLIQUE\",\"ECOLE ELEMENTAIRE PUBLIQUE\",\"ECOLE ELEMENTAIRE PUBLIQUE\",\"ECOLE ELEMENTAIRE PUBLIQUE\",\"ECOLE ELEMENTAIRE PUBLIQUE\",\"ECOLE ELEMENTAIRE PUBLIQUE\",\"ECOLE ELEMENTAIRE PUBLIQUE\",\"ECOLE ELEMENTAIRE PUBLIQUE\",\"ECOLE ELEMENTAIRE PUBLIQUE\",\"ECOLE ELEMENTAIRE PUBLIQUE\",\"ECOLE ELEMENTAIRE PUBLIQUE\",\"ECOLE ELEMENTAIRE PUBLIQUE\",\"ECOLE ELEMENTAIRE PUBLIQUE\",\"ECOLE ELEMENTAIRE PUBLIQUE\",\"ECOLE ELEMENTAIRE PUBLIQUE\",\"ECOLE ELEMENTAIRE PUBLIQUE\",\"ECOLE ELEMENTAIRE PUBLIQUE\",\"ECOLE ELEMENTAIRE PUBLIQUE\",\"ECOLE ELEMENTAIRE PUBLIQUE\",\"ECOLE ELEMENTAIRE PUBLIQUE\",\"ECOLE ELEMENTAIRE PUBLIQUE\",\"ECOLE ELEMENTAIRE PUBLIQUE\",\"ECOLE ELEMENTAIRE PUBLIQUE\",\"ECOLE ELEMENTAIRE PUBLIQUE\",\"ECOLE ELEMENTAIRE PUBLIQUE\",\"ECOLE ELEMENTAIRE PUBLIQUE\",\"ECOLE ELEMENTAIRE PUBLIQUE\",\"ECOLE ELEMENTAIRE PUBLIQUE\"],\"xaxis\":\"x\",\"y\":[35,32,60,36,60,43,26,34,39,15,53,36,42,29,29,40,52,43,45,46,38,48,34,45,54,34,30,46,58,46,73,61,26,16,21,50,47,50],\"yaxis\":\"y\",\"type\":\"bar\"},{\"alignmentgroup\":\"True\",\"hovertemplate\":\"rentr\\u00e9e=2021\\u003cbr\\u003eD\\u00e9nomination principale=%{x}\\u003cbr\\u003eNombre d'\\u00e9l\\u00e8ves en CM1 hors ULIS=%{y}\\u003cextra\\u003e\\u003c\\u002fextra\\u003e\",\"legendgroup\":\"2021\",\"marker\":{\"color\":\"#00cc96\",\"pattern\":{\"shape\":\"\"}},\"name\":\"2021\",\"offsetgroup\":\"2021\",\"orientation\":\"v\",\"showlegend\":true,\"textposition\":\"auto\",\"x\":[\"ECOLE ELEMENTAIRE PUBLIQUE\",\"ECOLE ELEMENTAIRE PUBLIQUE\",\"ECOLE ELEMENTAIRE PUBLIQUE\",\"ECOLE ELEMENTAIRE PUBLIQUE\",\"ECOLE ELEMENTAIRE PUBLIQUE\",\"ECOLE ELEMENTAIRE PUBLIQUE\",\"ECOLE ELEMENTAIRE PUBLIQUE\",\"ECOLE ELEMENTAIRE PUBLIQUE\",\"ECOLE ELEMENTAIRE PUBLIQUE\",\"ECOLE ELEMENTAIRE PUBLIQUE\",\"ECOLE ELEMENTAIRE PUBLIQUE\",\"ECOLE ELEMENTAIRE PUBLIQUE\",\"ECOLE ELEMENTAIRE PUBLIQUE\",\"ECOLE ELEMENTAIRE PUBLIQUE\",\"ECOLE ELEMENTAIRE PUBLIQUE\",\"ECOLE ELEMENTAIRE PUBLIQUE\",\"ECOLE ELEMENTAIRE PUBLIQUE\",\"ECOLE ELEMENTAIRE PUBLIQUE\",\"ECOLE ELEMENTAIRE PUBLIQUE\",\"ECOLE ELEMENTAIRE PUBLIQUE\",\"ECOLE ELEMENTAIRE PUBLIQUE\",\"ECOLE ELEMENTAIRE PUBLIQUE\",\"ECOLE ELEMENTAIRE PUBLIQUE\",\"ECOLE ELEMENTAIRE PUBLIQUE\",\"ECOLE ELEMENTAIRE PUBLIQUE\",\"ECOLE ELEMENTAIRE PUBLIQUE\",\"ECOLE ELEMENTAIRE PUBLIQUE\",\"ECOLE ELEMENTAIRE PUBLIQUE\",\"ECOLE ELEMENTAIRE PUBLIQUE\",\"ECOLE ELEMENTAIRE PUBLIQUE\",\"ECOLE ELEMENTAIRE PUBLIQUE\",\"ECOLE ELEMENTAIRE PUBLIQUE\",\"ECOLE ELEMENTAIRE PUBLIQUE\",\"ECOLE ELEMENTAIRE PUBLIQUE\",\"ECOLE ELEMENTAIRE PUBLIQUE\",\"ECOLE ELEMENTAIRE PUBLIQUE\",\"ECOLE ELEMENTAIRE PUBLIQUE\",\"ECOLE ELEMENTAIRE PUBLIQUE\"],\"xaxis\":\"x\",\"y\":[25,56,33,63,40,22,41,28,25,47,43,25,57,34,53,49,37,51,32,40,33,50,26,51,41,41,38,55,32,67,46,73,61,25,31,31,36,43],\"yaxis\":\"y\",\"type\":\"bar\"},{\"alignmentgroup\":\"True\",\"hovertemplate\":\"rentr\\u00e9e=2022\\u003cbr\\u003eD\\u00e9nomination principale=%{x}\\u003cbr\\u003eNombre d'\\u00e9l\\u00e8ves en CM1 hors ULIS=%{y}\\u003cextra\\u003e\\u003c\\u002fextra\\u003e\",\"legendgroup\":\"2022\",\"marker\":{\"color\":\"#ab63fa\",\"pattern\":{\"shape\":\"\"}},\"name\":\"2022\",\"offsetgroup\":\"2022\",\"orientation\":\"v\",\"showlegend\":true,\"textposition\":\"auto\",\"x\":[\"ECOLE ELEMENTAIRE PUBLIQUE\",\"ECOLE ELEMENTAIRE PUBLIQUE\",\"ECOLE ELEMENTAIRE PUBLIQUE\",\"ECOLE ELEMENTAIRE PUBLIQUE\",\"ECOLE ELEMENTAIRE PUBLIQUE\",\"ECOLE ELEMENTAIRE PUBLIQUE\",\"ECOLE ELEMENTAIRE PUBLIQUE\",\"ECOLE ELEMENTAIRE PUBLIQUE\",\"ECOLE ELEMENTAIRE PUBLIQUE\",\"ECOLE ELEMENTAIRE PUBLIQUE\",\"ECOLE ELEMENTAIRE PUBLIQUE\",\"ECOLE ELEMENTAIRE PUBLIQUE\",\"ECOLE ELEMENTAIRE PUBLIQUE\",\"ECOLE ELEMENTAIRE PUBLIQUE\",\"ECOLE ELEMENTAIRE PUBLIQUE\",\"ECOLE ELEMENTAIRE PUBLIQUE\",\"ECOLE ELEMENTAIRE PUBLIQUE\",\"ECOLE ELEMENTAIRE PUBLIQUE\",\"ECOLE ELEMENTAIRE PUBLIQUE\",\"ECOLE ELEMENTAIRE PUBLIQUE\",\"ECOLE ELEMENTAIRE PUBLIQUE\",\"ECOLE ELEMENTAIRE PUBLIQUE\",\"ECOLE ELEMENTAIRE PUBLIQUE\",\"ECOLE ELEMENTAIRE PUBLIQUE\",\"ECOLE ELEMENTAIRE PUBLIQUE\",\"ECOLE ELEMENTAIRE PUBLIQUE\",\"ECOLE ELEMENTAIRE PUBLIQUE\",\"ECOLE ELEMENTAIRE PUBLIQUE\",\"ECOLE ELEMENTAIRE PUBLIQUE\",\"ECOLE ELEMENTAIRE PUBLIQUE\",\"ECOLE ELEMENTAIRE PUBLIQUE\",\"ECOLE ELEMENTAIRE PUBLIQUE\",\"ECOLE ELEMENTAIRE PUBLIQUE\",\"ECOLE ELEMENTAIRE PUBLIQUE\",\"ECOLE ELEMENTAIRE PUBLIQUE\",\"ECOLE ELEMENTAIRE PUBLIQUE\",\"ECOLE ELEMENTAIRE PUBLIQUE\",\"ECOLE ELEMENTAIRE PUBLIQUE\"],\"xaxis\":\"x\",\"y\":[24,49,35,61,33,42,32,39,41,26,48,40,22,34,27,45,39,42,53,26,26,36,45,49,54,45,47,49,74,57,45,47,39,25,30,34,32,41],\"yaxis\":\"y\",\"type\":\"bar\"}],                        {\"template\":{\"data\":{\"histogram2dcontour\":[{\"type\":\"histogram2dcontour\",\"colorbar\":{\"outlinewidth\":0,\"ticks\":\"\"},\"colorscale\":[[0.0,\"#0d0887\"],[0.1111111111111111,\"#46039f\"],[0.2222222222222222,\"#7201a8\"],[0.3333333333333333,\"#9c179e\"],[0.4444444444444444,\"#bd3786\"],[0.5555555555555556,\"#d8576b\"],[0.6666666666666666,\"#ed7953\"],[0.7777777777777778,\"#fb9f3a\"],[0.8888888888888888,\"#fdca26\"],[1.0,\"#f0f921\"]]}],\"choropleth\":[{\"type\":\"choropleth\",\"colorbar\":{\"outlinewidth\":0,\"ticks\":\"\"}}],\"histogram2d\":[{\"type\":\"histogram2d\",\"colorbar\":{\"outlinewidth\":0,\"ticks\":\"\"},\"colorscale\":[[0.0,\"#0d0887\"],[0.1111111111111111,\"#46039f\"],[0.2222222222222222,\"#7201a8\"],[0.3333333333333333,\"#9c179e\"],[0.4444444444444444,\"#bd3786\"],[0.5555555555555556,\"#d8576b\"],[0.6666666666666666,\"#ed7953\"],[0.7777777777777778,\"#fb9f3a\"],[0.8888888888888888,\"#fdca26\"],[1.0,\"#f0f921\"]]}],\"heatmap\":[{\"type\":\"heatmap\",\"colorbar\":{\"outlinewidth\":0,\"ticks\":\"\"},\"colorscale\":[[0.0,\"#0d0887\"],[0.1111111111111111,\"#46039f\"],[0.2222222222222222,\"#7201a8\"],[0.3333333333333333,\"#9c179e\"],[0.4444444444444444,\"#bd3786\"],[0.5555555555555556,\"#d8576b\"],[0.6666666666666666,\"#ed7953\"],[0.7777777777777778,\"#fb9f3a\"],[0.8888888888888888,\"#fdca26\"],[1.0,\"#f0f921\"]]}],\"heatmapgl\":[{\"type\":\"heatmapgl\",\"colorbar\":{\"outlinewidth\":0,\"ticks\":\"\"},\"colorscale\":[[0.0,\"#0d0887\"],[0.1111111111111111,\"#46039f\"],[0.2222222222222222,\"#7201a8\"],[0.3333333333333333,\"#9c179e\"],[0.4444444444444444,\"#bd3786\"],[0.5555555555555556,\"#d8576b\"],[0.6666666666666666,\"#ed7953\"],[0.7777777777777778,\"#fb9f3a\"],[0.8888888888888888,\"#fdca26\"],[1.0,\"#f0f921\"]]}],\"contourcarpet\":[{\"type\":\"contourcarpet\",\"colorbar\":{\"outlinewidth\":0,\"ticks\":\"\"}}],\"contour\":[{\"type\":\"contour\",\"colorbar\":{\"outlinewidth\":0,\"ticks\":\"\"},\"colorscale\":[[0.0,\"#0d0887\"],[0.1111111111111111,\"#46039f\"],[0.2222222222222222,\"#7201a8\"],[0.3333333333333333,\"#9c179e\"],[0.4444444444444444,\"#bd3786\"],[0.5555555555555556,\"#d8576b\"],[0.6666666666666666,\"#ed7953\"],[0.7777777777777778,\"#fb9f3a\"],[0.8888888888888888,\"#fdca26\"],[1.0,\"#f0f921\"]]}],\"surface\":[{\"type\":\"surface\",\"colorbar\":{\"outlinewidth\":0,\"ticks\":\"\"},\"colorscale\":[[0.0,\"#0d0887\"],[0.1111111111111111,\"#46039f\"],[0.2222222222222222,\"#7201a8\"],[0.3333333333333333,\"#9c179e\"],[0.4444444444444444,\"#bd3786\"],[0.5555555555555556,\"#d8576b\"],[0.6666666666666666,\"#ed7953\"],[0.7777777777777778,\"#fb9f3a\"],[0.8888888888888888,\"#fdca26\"],[1.0,\"#f0f921\"]]}],\"mesh3d\":[{\"type\":\"mesh3d\",\"colorbar\":{\"outlinewidth\":0,\"ticks\":\"\"}}],\"scatter\":[{\"fillpattern\":{\"fillmode\":\"overlay\",\"size\":10,\"solidity\":0.2},\"type\":\"scatter\"}],\"parcoords\":[{\"type\":\"parcoords\",\"line\":{\"colorbar\":{\"outlinewidth\":0,\"ticks\":\"\"}}}],\"scatterpolargl\":[{\"type\":\"scatterpolargl\",\"marker\":{\"colorbar\":{\"outlinewidth\":0,\"ticks\":\"\"}}}],\"bar\":[{\"error_x\":{\"color\":\"#2a3f5f\"},\"error_y\":{\"color\":\"#2a3f5f\"},\"marker\":{\"line\":{\"color\":\"#E5ECF6\",\"width\":0.5},\"pattern\":{\"fillmode\":\"overlay\",\"size\":10,\"solidity\":0.2}},\"type\":\"bar\"}],\"scattergeo\":[{\"type\":\"scattergeo\",\"marker\":{\"colorbar\":{\"outlinewidth\":0,\"ticks\":\"\"}}}],\"scatterpolar\":[{\"type\":\"scatterpolar\",\"marker\":{\"colorbar\":{\"outlinewidth\":0,\"ticks\":\"\"}}}],\"histogram\":[{\"marker\":{\"pattern\":{\"fillmode\":\"overlay\",\"size\":10,\"solidity\":0.2}},\"type\":\"histogram\"}],\"scattergl\":[{\"type\":\"scattergl\",\"marker\":{\"colorbar\":{\"outlinewidth\":0,\"ticks\":\"\"}}}],\"scatter3d\":[{\"type\":\"scatter3d\",\"line\":{\"colorbar\":{\"outlinewidth\":0,\"ticks\":\"\"}},\"marker\":{\"colorbar\":{\"outlinewidth\":0,\"ticks\":\"\"}}}],\"scattermapbox\":[{\"type\":\"scattermapbox\",\"marker\":{\"colorbar\":{\"outlinewidth\":0,\"ticks\":\"\"}}}],\"scatterternary\":[{\"type\":\"scatterternary\",\"marker\":{\"colorbar\":{\"outlinewidth\":0,\"ticks\":\"\"}}}],\"scattercarpet\":[{\"type\":\"scattercarpet\",\"marker\":{\"colorbar\":{\"outlinewidth\":0,\"ticks\":\"\"}}}],\"carpet\":[{\"aaxis\":{\"endlinecolor\":\"#2a3f5f\",\"gridcolor\":\"white\",\"linecolor\":\"white\",\"minorgridcolor\":\"white\",\"startlinecolor\":\"#2a3f5f\"},\"baxis\":{\"endlinecolor\":\"#2a3f5f\",\"gridcolor\":\"white\",\"linecolor\":\"white\",\"minorgridcolor\":\"white\",\"startlinecolor\":\"#2a3f5f\"},\"type\":\"carpet\"}],\"table\":[{\"cells\":{\"fill\":{\"color\":\"#EBF0F8\"},\"line\":{\"color\":\"white\"}},\"header\":{\"fill\":{\"color\":\"#C8D4E3\"},\"line\":{\"color\":\"white\"}},\"type\":\"table\"}],\"barpolar\":[{\"marker\":{\"line\":{\"color\":\"#E5ECF6\",\"width\":0.5},\"pattern\":{\"fillmode\":\"overlay\",\"size\":10,\"solidity\":0.2}},\"type\":\"barpolar\"}],\"pie\":[{\"automargin\":true,\"type\":\"pie\"}]},\"layout\":{\"autotypenumbers\":\"strict\",\"colorway\":[\"#636efa\",\"#EF553B\",\"#00cc96\",\"#ab63fa\",\"#FFA15A\",\"#19d3f3\",\"#FF6692\",\"#B6E880\",\"#FF97FF\",\"#FECB52\"],\"font\":{\"color\":\"#2a3f5f\"},\"hovermode\":\"closest\",\"hoverlabel\":{\"align\":\"left\"},\"paper_bgcolor\":\"white\",\"plot_bgcolor\":\"#E5ECF6\",\"polar\":{\"bgcolor\":\"#E5ECF6\",\"angularaxis\":{\"gridcolor\":\"white\",\"linecolor\":\"white\",\"ticks\":\"\"},\"radialaxis\":{\"gridcolor\":\"white\",\"linecolor\":\"white\",\"ticks\":\"\"}},\"ternary\":{\"bgcolor\":\"#E5ECF6\",\"aaxis\":{\"gridcolor\":\"white\",\"linecolor\":\"white\",\"ticks\":\"\"},\"baxis\":{\"gridcolor\":\"white\",\"linecolor\":\"white\",\"ticks\":\"\"},\"caxis\":{\"gridcolor\":\"white\",\"linecolor\":\"white\",\"ticks\":\"\"}},\"coloraxis\":{\"colorbar\":{\"outlinewidth\":0,\"ticks\":\"\"}},\"colorscale\":{\"sequential\":[[0.0,\"#0d0887\"],[0.1111111111111111,\"#46039f\"],[0.2222222222222222,\"#7201a8\"],[0.3333333333333333,\"#9c179e\"],[0.4444444444444444,\"#bd3786\"],[0.5555555555555556,\"#d8576b\"],[0.6666666666666666,\"#ed7953\"],[0.7777777777777778,\"#fb9f3a\"],[0.8888888888888888,\"#fdca26\"],[1.0,\"#f0f921\"]],\"sequentialminus\":[[0.0,\"#0d0887\"],[0.1111111111111111,\"#46039f\"],[0.2222222222222222,\"#7201a8\"],[0.3333333333333333,\"#9c179e\"],[0.4444444444444444,\"#bd3786\"],[0.5555555555555556,\"#d8576b\"],[0.6666666666666666,\"#ed7953\"],[0.7777777777777778,\"#fb9f3a\"],[0.8888888888888888,\"#fdca26\"],[1.0,\"#f0f921\"]],\"diverging\":[[0,\"#8e0152\"],[0.1,\"#c51b7d\"],[0.2,\"#de77ae\"],[0.3,\"#f1b6da\"],[0.4,\"#fde0ef\"],[0.5,\"#f7f7f7\"],[0.6,\"#e6f5d0\"],[0.7,\"#b8e186\"],[0.8,\"#7fbc41\"],[0.9,\"#4d9221\"],[1,\"#276419\"]]},\"xaxis\":{\"gridcolor\":\"white\",\"linecolor\":\"white\",\"ticks\":\"\",\"title\":{\"standoff\":15},\"zerolinecolor\":\"white\",\"automargin\":true,\"zerolinewidth\":2},\"yaxis\":{\"gridcolor\":\"white\",\"linecolor\":\"white\",\"ticks\":\"\",\"title\":{\"standoff\":15},\"zerolinecolor\":\"white\",\"automargin\":true,\"zerolinewidth\":2},\"scene\":{\"xaxis\":{\"backgroundcolor\":\"#E5ECF6\",\"gridcolor\":\"white\",\"linecolor\":\"white\",\"showbackground\":true,\"ticks\":\"\",\"zerolinecolor\":\"white\",\"gridwidth\":2},\"yaxis\":{\"backgroundcolor\":\"#E5ECF6\",\"gridcolor\":\"white\",\"linecolor\":\"white\",\"showbackground\":true,\"ticks\":\"\",\"zerolinecolor\":\"white\",\"gridwidth\":2},\"zaxis\":{\"backgroundcolor\":\"#E5ECF6\",\"gridcolor\":\"white\",\"linecolor\":\"white\",\"showbackground\":true,\"ticks\":\"\",\"zerolinecolor\":\"white\",\"gridwidth\":2}},\"shapedefaults\":{\"line\":{\"color\":\"#2a3f5f\"}},\"annotationdefaults\":{\"arrowcolor\":\"#2a3f5f\",\"arrowhead\":0,\"arrowwidth\":1},\"geo\":{\"bgcolor\":\"white\",\"landcolor\":\"#E5ECF6\",\"subunitcolor\":\"white\",\"showland\":true,\"showlakes\":true,\"lakecolor\":\"white\"},\"title\":{\"x\":0.05},\"mapbox\":{\"style\":\"light\"}}},\"xaxis\":{\"anchor\":\"y\",\"domain\":[0.0,1.0],\"title\":{\"text\":\"D\\u00e9nomination principale\"}},\"yaxis\":{\"anchor\":\"x\",\"domain\":[0.0,1.0],\"title\":{\"text\":\"Nombre d'\\u00e9l\\u00e8ves en CM1 hors ULIS\"}},\"legend\":{\"title\":{\"text\":\"rentr\\u00e9e\"},\"tracegroupgap\":0},\"title\":{\"text\":\"CM1\"},\"barmode\":\"group\"},                        {\"responsive\": true}                    ).then(function(){\n",
       "                            \n",
       "var gd = document.getElementById('5579f5c3-83b3-43cc-a417-34e15a397497');\n",
       "var x = new MutationObserver(function (mutations, observer) {{\n",
       "        var display = window.getComputedStyle(gd).display;\n",
       "        if (!display || display === 'none') {{\n",
       "            console.log([gd, 'removed!']);\n",
       "            Plotly.purge(gd);\n",
       "            observer.disconnect();\n",
       "        }}\n",
       "}});\n",
       "\n",
       "// Listen for the removal of the full notebook cells\n",
       "var notebookContainer = gd.closest('#notebook-container');\n",
       "if (notebookContainer) {{\n",
       "    x.observe(notebookContainer, {childList: true});\n",
       "}}\n",
       "\n",
       "// Listen for the clearing of the current output cell\n",
       "var outputEl = gd.closest('.output');\n",
       "if (outputEl) {{\n",
       "    x.observe(outputEl, {childList: true});\n",
       "}}\n",
       "\n",
       "                        })                };                });            </script>        </div>"
      ]
     },
     "metadata": {},
     "output_type": "display_data"
    },
    {
     "data": {
      "application/vnd.plotly.v1+json": {
       "config": {
        "plotlyServerURL": "https://plot.ly"
       },
       "data": [
        {
         "alignmentgroup": "True",
         "hovertemplate": "rentrée=2019<br>Dénomination principale=%{x}<br>Nombre d'élèves en CM2 hors ULIS=%{y}<extra></extra>",
         "legendgroup": "2019",
         "marker": {
          "color": "#636efa",
          "pattern": {
           "shape": ""
          }
         },
         "name": "2019",
         "offsetgroup": "2019",
         "orientation": "v",
         "showlegend": true,
         "textposition": "auto",
         "type": "bar",
         "x": [
          "ECOLE ELEMENTAIRE PUBLIQUE",
          "ECOLE ELEMENTAIRE PUBLIQUE",
          "ECOLE ELEMENTAIRE PUBLIQUE",
          "ECOLE ELEMENTAIRE PUBLIQUE",
          "ECOLE ELEMENTAIRE PUBLIQUE",
          "ECOLE ELEMENTAIRE PUBLIQUE",
          "ECOLE ELEMENTAIRE PUBLIQUE",
          "ECOLE ELEMENTAIRE PUBLIQUE",
          "ECOLE ELEMENTAIRE PUBLIQUE",
          "ECOLE ELEMENTAIRE PUBLIQUE",
          "ECOLE ELEMENTAIRE PUBLIQUE",
          "ECOLE ELEMENTAIRE PUBLIQUE",
          "ECOLE ELEMENTAIRE PUBLIQUE",
          "ECOLE ELEMENTAIRE PUBLIQUE",
          "ECOLE ELEMENTAIRE PUBLIQUE",
          "ECOLE ELEMENTAIRE PUBLIQUE",
          "ECOLE ELEMENTAIRE PUBLIQUE",
          "ECOLE ELEMENTAIRE PUBLIQUE",
          "ECOLE ELEMENTAIRE PUBLIQUE",
          "ECOLE ELEMENTAIRE PUBLIQUE",
          "ECOLE ELEMENTAIRE PUBLIQUE",
          "ECOLE ELEMENTAIRE PUBLIQUE",
          "ECOLE ELEMENTAIRE PUBLIQUE",
          "ECOLE ELEMENTAIRE PUBLIQUE",
          "ECOLE ELEMENTAIRE PUBLIQUE",
          "ECOLE ELEMENTAIRE PUBLIQUE",
          "ECOLE ELEMENTAIRE PUBLIQUE",
          "ECOLE ELEMENTAIRE PUBLIQUE",
          "ECOLE ELEMENTAIRE PUBLIQUE",
          "ECOLE ELEMENTAIRE PUBLIQUE",
          "ECOLE ELEMENTAIRE PUBLIQUE",
          "ECOLE ELEMENTAIRE PUBLIQUE",
          "ECOLE ELEMENTAIRE PUBLIQUE",
          "ECOLE ELEMENTAIRE PUBLIQUE",
          "ECOLE ELEMENTAIRE PUBLIQUE",
          "ECOLE ELEMENTAIRE PUBLIQUE",
          "ECOLE ELEMENTAIRE PUBLIQUE",
          "ECOLE ELEMENTAIRE PUBLIQUE"
         ],
         "xaxis": "x",
         "y": [
          17,
          54,
          28,
          66,
          44,
          29,
          35,
          45,
          30,
          42,
          32,
          36,
          34,
          23,
          42,
          44,
          62,
          48,
          43,
          40,
          39,
          32,
          31,
          51,
          48,
          40,
          28,
          41,
          29,
          45,
          53,
          48,
          47,
          31,
          32,
          41,
          36,
          37
         ],
         "yaxis": "y"
        },
        {
         "alignmentgroup": "True",
         "hovertemplate": "rentrée=2020<br>Dénomination principale=%{x}<br>Nombre d'élèves en CM2 hors ULIS=%{y}<extra></extra>",
         "legendgroup": "2020",
         "marker": {
          "color": "#EF553B",
          "pattern": {
           "shape": ""
          }
         },
         "name": "2020",
         "offsetgroup": "2020",
         "orientation": "v",
         "showlegend": true,
         "textposition": "auto",
         "type": "bar",
         "x": [
          "ECOLE ELEMENTAIRE PUBLIQUE",
          "ECOLE ELEMENTAIRE PUBLIQUE",
          "ECOLE ELEMENTAIRE PUBLIQUE",
          "ECOLE ELEMENTAIRE PUBLIQUE",
          "ECOLE ELEMENTAIRE PUBLIQUE",
          "ECOLE ELEMENTAIRE PUBLIQUE",
          "ECOLE ELEMENTAIRE PUBLIQUE",
          "ECOLE ELEMENTAIRE PUBLIQUE",
          "ECOLE ELEMENTAIRE PUBLIQUE",
          "ECOLE ELEMENTAIRE PUBLIQUE",
          "ECOLE ELEMENTAIRE PUBLIQUE",
          "ECOLE ELEMENTAIRE PUBLIQUE",
          "ECOLE ELEMENTAIRE PUBLIQUE",
          "ECOLE ELEMENTAIRE PUBLIQUE",
          "ECOLE ELEMENTAIRE PUBLIQUE",
          "ECOLE ELEMENTAIRE PUBLIQUE",
          "ECOLE ELEMENTAIRE PUBLIQUE",
          "ECOLE ELEMENTAIRE PUBLIQUE",
          "ECOLE ELEMENTAIRE PUBLIQUE",
          "ECOLE ELEMENTAIRE PUBLIQUE",
          "ECOLE ELEMENTAIRE PUBLIQUE",
          "ECOLE ELEMENTAIRE PUBLIQUE",
          "ECOLE ELEMENTAIRE PUBLIQUE",
          "ECOLE ELEMENTAIRE PUBLIQUE",
          "ECOLE ELEMENTAIRE PUBLIQUE",
          "ECOLE ELEMENTAIRE PUBLIQUE",
          "ECOLE ELEMENTAIRE PUBLIQUE",
          "ECOLE ELEMENTAIRE PUBLIQUE",
          "ECOLE ELEMENTAIRE PUBLIQUE",
          "ECOLE ELEMENTAIRE PUBLIQUE",
          "ECOLE ELEMENTAIRE PUBLIQUE",
          "ECOLE ELEMENTAIRE PUBLIQUE",
          "ECOLE ELEMENTAIRE PUBLIQUE",
          "ECOLE ELEMENTAIRE PUBLIQUE",
          "ECOLE ELEMENTAIRE PUBLIQUE",
          "ECOLE ELEMENTAIRE PUBLIQUE",
          "ECOLE ELEMENTAIRE PUBLIQUE",
          "ECOLE ELEMENTAIRE PUBLIQUE"
         ],
         "xaxis": "x",
         "y": [
          33,
          23,
          63,
          42,
          80,
          48,
          30,
          45,
          26,
          24,
          50,
          42,
          24,
          63,
          26,
          54,
          49,
          65,
          60,
          32,
          42,
          28,
          31,
          46,
          49,
          33,
          38,
          46,
          62,
          57,
          53,
          47,
          39,
          24,
          35,
          35,
          38,
          44
         ],
         "yaxis": "y"
        },
        {
         "alignmentgroup": "True",
         "hovertemplate": "rentrée=2021<br>Dénomination principale=%{x}<br>Nombre d'élèves en CM2 hors ULIS=%{y}<extra></extra>",
         "legendgroup": "2021",
         "marker": {
          "color": "#00cc96",
          "pattern": {
           "shape": ""
          }
         },
         "name": "2021",
         "offsetgroup": "2021",
         "orientation": "v",
         "showlegend": true,
         "textposition": "auto",
         "type": "bar",
         "x": [
          "ECOLE ELEMENTAIRE PUBLIQUE",
          "ECOLE ELEMENTAIRE PUBLIQUE",
          "ECOLE ELEMENTAIRE PUBLIQUE",
          "ECOLE ELEMENTAIRE PUBLIQUE",
          "ECOLE ELEMENTAIRE PUBLIQUE",
          "ECOLE ELEMENTAIRE PUBLIQUE",
          "ECOLE ELEMENTAIRE PUBLIQUE",
          "ECOLE ELEMENTAIRE PUBLIQUE",
          "ECOLE ELEMENTAIRE PUBLIQUE",
          "ECOLE ELEMENTAIRE PUBLIQUE",
          "ECOLE ELEMENTAIRE PUBLIQUE",
          "ECOLE ELEMENTAIRE PUBLIQUE",
          "ECOLE ELEMENTAIRE PUBLIQUE",
          "ECOLE ELEMENTAIRE PUBLIQUE",
          "ECOLE ELEMENTAIRE PUBLIQUE",
          "ECOLE ELEMENTAIRE PUBLIQUE",
          "ECOLE ELEMENTAIRE PUBLIQUE",
          "ECOLE ELEMENTAIRE PUBLIQUE",
          "ECOLE ELEMENTAIRE PUBLIQUE",
          "ECOLE ELEMENTAIRE PUBLIQUE",
          "ECOLE ELEMENTAIRE PUBLIQUE",
          "ECOLE ELEMENTAIRE PUBLIQUE",
          "ECOLE ELEMENTAIRE PUBLIQUE",
          "ECOLE ELEMENTAIRE PUBLIQUE",
          "ECOLE ELEMENTAIRE PUBLIQUE",
          "ECOLE ELEMENTAIRE PUBLIQUE",
          "ECOLE ELEMENTAIRE PUBLIQUE",
          "ECOLE ELEMENTAIRE PUBLIQUE",
          "ECOLE ELEMENTAIRE PUBLIQUE",
          "ECOLE ELEMENTAIRE PUBLIQUE",
          "ECOLE ELEMENTAIRE PUBLIQUE",
          "ECOLE ELEMENTAIRE PUBLIQUE",
          "ECOLE ELEMENTAIRE PUBLIQUE",
          "ECOLE ELEMENTAIRE PUBLIQUE",
          "ECOLE ELEMENTAIRE PUBLIQUE",
          "ECOLE ELEMENTAIRE PUBLIQUE",
          "ECOLE ELEMENTAIRE PUBLIQUE",
          "ECOLE ELEMENTAIRE PUBLIQUE"
         ],
         "xaxis": "x",
         "y": [
          33,
          62,
          31,
          62,
          44,
          27,
          34,
          39,
          19,
          57,
          34,
          43,
          28,
          27,
          42,
          51,
          48,
          47,
          48,
          32,
          38,
          41,
          32,
          45,
          52,
          32,
          32,
          49,
          23,
          53,
          42,
          66,
          58,
          14,
          22,
          43,
          48,
          49
         ],
         "yaxis": "y"
        },
        {
         "alignmentgroup": "True",
         "hovertemplate": "rentrée=2022<br>Dénomination principale=%{x}<br>Nombre d'élèves en CM2 hors ULIS=%{y}<extra></extra>",
         "legendgroup": "2022",
         "marker": {
          "color": "#ab63fa",
          "pattern": {
           "shape": ""
          }
         },
         "name": "2022",
         "offsetgroup": "2022",
         "orientation": "v",
         "showlegend": true,
         "textposition": "auto",
         "type": "bar",
         "x": [
          "ECOLE ELEMENTAIRE PUBLIQUE",
          "ECOLE ELEMENTAIRE PUBLIQUE",
          "ECOLE ELEMENTAIRE PUBLIQUE",
          "ECOLE ELEMENTAIRE PUBLIQUE",
          "ECOLE ELEMENTAIRE PUBLIQUE",
          "ECOLE ELEMENTAIRE PUBLIQUE",
          "ECOLE ELEMENTAIRE PUBLIQUE",
          "ECOLE ELEMENTAIRE PUBLIQUE",
          "ECOLE ELEMENTAIRE PUBLIQUE",
          "ECOLE ELEMENTAIRE PUBLIQUE",
          "ECOLE ELEMENTAIRE PUBLIQUE",
          "ECOLE ELEMENTAIRE PUBLIQUE",
          "ECOLE ELEMENTAIRE PUBLIQUE",
          "ECOLE ELEMENTAIRE PUBLIQUE",
          "ECOLE ELEMENTAIRE PUBLIQUE",
          "ECOLE ELEMENTAIRE PUBLIQUE",
          "ECOLE ELEMENTAIRE PUBLIQUE",
          "ECOLE ELEMENTAIRE PUBLIQUE",
          "ECOLE ELEMENTAIRE PUBLIQUE",
          "ECOLE ELEMENTAIRE PUBLIQUE",
          "ECOLE ELEMENTAIRE PUBLIQUE",
          "ECOLE ELEMENTAIRE PUBLIQUE",
          "ECOLE ELEMENTAIRE PUBLIQUE",
          "ECOLE ELEMENTAIRE PUBLIQUE",
          "ECOLE ELEMENTAIRE PUBLIQUE",
          "ECOLE ELEMENTAIRE PUBLIQUE",
          "ECOLE ELEMENTAIRE PUBLIQUE",
          "ECOLE ELEMENTAIRE PUBLIQUE",
          "ECOLE ELEMENTAIRE PUBLIQUE",
          "ECOLE ELEMENTAIRE PUBLIQUE",
          "ECOLE ELEMENTAIRE PUBLIQUE",
          "ECOLE ELEMENTAIRE PUBLIQUE",
          "ECOLE ELEMENTAIRE PUBLIQUE",
          "ECOLE ELEMENTAIRE PUBLIQUE",
          "ECOLE ELEMENTAIRE PUBLIQUE",
          "ECOLE ELEMENTAIRE PUBLIQUE",
          "ECOLE ELEMENTAIRE PUBLIQUE",
          "ECOLE ELEMENTAIRE PUBLIQUE"
         ],
         "xaxis": "x",
         "y": [
          21,
          55,
          37,
          59,
          40,
          43,
          22,
          43,
          25,
          27,
          54,
          46,
          26,
          56,
          34,
          48,
          45,
          32,
          48,
          33,
          33,
          48,
          29,
          47,
          37,
          39,
          35,
          54,
          60,
          44,
          68,
          58,
          31,
          21,
          33,
          32,
          38,
          44
         ],
         "yaxis": "y"
        }
       ],
       "layout": {
        "autosize": true,
        "barmode": "group",
        "legend": {
         "title": {
          "text": "rentrée"
         },
         "tracegroupgap": 0
        },
        "template": {
         "data": {
          "bar": [
           {
            "error_x": {
             "color": "#2a3f5f"
            },
            "error_y": {
             "color": "#2a3f5f"
            },
            "marker": {
             "line": {
              "color": "#E5ECF6",
              "width": 0.5
             },
             "pattern": {
              "fillmode": "overlay",
              "size": 10,
              "solidity": 0.2
             }
            },
            "type": "bar"
           }
          ],
          "barpolar": [
           {
            "marker": {
             "line": {
              "color": "#E5ECF6",
              "width": 0.5
             },
             "pattern": {
              "fillmode": "overlay",
              "size": 10,
              "solidity": 0.2
             }
            },
            "type": "barpolar"
           }
          ],
          "carpet": [
           {
            "aaxis": {
             "endlinecolor": "#2a3f5f",
             "gridcolor": "white",
             "linecolor": "white",
             "minorgridcolor": "white",
             "startlinecolor": "#2a3f5f"
            },
            "baxis": {
             "endlinecolor": "#2a3f5f",
             "gridcolor": "white",
             "linecolor": "white",
             "minorgridcolor": "white",
             "startlinecolor": "#2a3f5f"
            },
            "type": "carpet"
           }
          ],
          "choropleth": [
           {
            "colorbar": {
             "outlinewidth": 0,
             "ticks": ""
            },
            "type": "choropleth"
           }
          ],
          "contour": [
           {
            "colorbar": {
             "outlinewidth": 0,
             "ticks": ""
            },
            "colorscale": [
             [
              0,
              "#0d0887"
             ],
             [
              0.1111111111111111,
              "#46039f"
             ],
             [
              0.2222222222222222,
              "#7201a8"
             ],
             [
              0.3333333333333333,
              "#9c179e"
             ],
             [
              0.4444444444444444,
              "#bd3786"
             ],
             [
              0.5555555555555556,
              "#d8576b"
             ],
             [
              0.6666666666666666,
              "#ed7953"
             ],
             [
              0.7777777777777778,
              "#fb9f3a"
             ],
             [
              0.8888888888888888,
              "#fdca26"
             ],
             [
              1,
              "#f0f921"
             ]
            ],
            "type": "contour"
           }
          ],
          "contourcarpet": [
           {
            "colorbar": {
             "outlinewidth": 0,
             "ticks": ""
            },
            "type": "contourcarpet"
           }
          ],
          "heatmap": [
           {
            "colorbar": {
             "outlinewidth": 0,
             "ticks": ""
            },
            "colorscale": [
             [
              0,
              "#0d0887"
             ],
             [
              0.1111111111111111,
              "#46039f"
             ],
             [
              0.2222222222222222,
              "#7201a8"
             ],
             [
              0.3333333333333333,
              "#9c179e"
             ],
             [
              0.4444444444444444,
              "#bd3786"
             ],
             [
              0.5555555555555556,
              "#d8576b"
             ],
             [
              0.6666666666666666,
              "#ed7953"
             ],
             [
              0.7777777777777778,
              "#fb9f3a"
             ],
             [
              0.8888888888888888,
              "#fdca26"
             ],
             [
              1,
              "#f0f921"
             ]
            ],
            "type": "heatmap"
           }
          ],
          "heatmapgl": [
           {
            "colorbar": {
             "outlinewidth": 0,
             "ticks": ""
            },
            "colorscale": [
             [
              0,
              "#0d0887"
             ],
             [
              0.1111111111111111,
              "#46039f"
             ],
             [
              0.2222222222222222,
              "#7201a8"
             ],
             [
              0.3333333333333333,
              "#9c179e"
             ],
             [
              0.4444444444444444,
              "#bd3786"
             ],
             [
              0.5555555555555556,
              "#d8576b"
             ],
             [
              0.6666666666666666,
              "#ed7953"
             ],
             [
              0.7777777777777778,
              "#fb9f3a"
             ],
             [
              0.8888888888888888,
              "#fdca26"
             ],
             [
              1,
              "#f0f921"
             ]
            ],
            "type": "heatmapgl"
           }
          ],
          "histogram": [
           {
            "marker": {
             "pattern": {
              "fillmode": "overlay",
              "size": 10,
              "solidity": 0.2
             }
            },
            "type": "histogram"
           }
          ],
          "histogram2d": [
           {
            "colorbar": {
             "outlinewidth": 0,
             "ticks": ""
            },
            "colorscale": [
             [
              0,
              "#0d0887"
             ],
             [
              0.1111111111111111,
              "#46039f"
             ],
             [
              0.2222222222222222,
              "#7201a8"
             ],
             [
              0.3333333333333333,
              "#9c179e"
             ],
             [
              0.4444444444444444,
              "#bd3786"
             ],
             [
              0.5555555555555556,
              "#d8576b"
             ],
             [
              0.6666666666666666,
              "#ed7953"
             ],
             [
              0.7777777777777778,
              "#fb9f3a"
             ],
             [
              0.8888888888888888,
              "#fdca26"
             ],
             [
              1,
              "#f0f921"
             ]
            ],
            "type": "histogram2d"
           }
          ],
          "histogram2dcontour": [
           {
            "colorbar": {
             "outlinewidth": 0,
             "ticks": ""
            },
            "colorscale": [
             [
              0,
              "#0d0887"
             ],
             [
              0.1111111111111111,
              "#46039f"
             ],
             [
              0.2222222222222222,
              "#7201a8"
             ],
             [
              0.3333333333333333,
              "#9c179e"
             ],
             [
              0.4444444444444444,
              "#bd3786"
             ],
             [
              0.5555555555555556,
              "#d8576b"
             ],
             [
              0.6666666666666666,
              "#ed7953"
             ],
             [
              0.7777777777777778,
              "#fb9f3a"
             ],
             [
              0.8888888888888888,
              "#fdca26"
             ],
             [
              1,
              "#f0f921"
             ]
            ],
            "type": "histogram2dcontour"
           }
          ],
          "mesh3d": [
           {
            "colorbar": {
             "outlinewidth": 0,
             "ticks": ""
            },
            "type": "mesh3d"
           }
          ],
          "parcoords": [
           {
            "line": {
             "colorbar": {
              "outlinewidth": 0,
              "ticks": ""
             }
            },
            "type": "parcoords"
           }
          ],
          "pie": [
           {
            "automargin": true,
            "type": "pie"
           }
          ],
          "scatter": [
           {
            "fillpattern": {
             "fillmode": "overlay",
             "size": 10,
             "solidity": 0.2
            },
            "type": "scatter"
           }
          ],
          "scatter3d": [
           {
            "line": {
             "colorbar": {
              "outlinewidth": 0,
              "ticks": ""
             }
            },
            "marker": {
             "colorbar": {
              "outlinewidth": 0,
              "ticks": ""
             }
            },
            "type": "scatter3d"
           }
          ],
          "scattercarpet": [
           {
            "marker": {
             "colorbar": {
              "outlinewidth": 0,
              "ticks": ""
             }
            },
            "type": "scattercarpet"
           }
          ],
          "scattergeo": [
           {
            "marker": {
             "colorbar": {
              "outlinewidth": 0,
              "ticks": ""
             }
            },
            "type": "scattergeo"
           }
          ],
          "scattergl": [
           {
            "marker": {
             "colorbar": {
              "outlinewidth": 0,
              "ticks": ""
             }
            },
            "type": "scattergl"
           }
          ],
          "scattermapbox": [
           {
            "marker": {
             "colorbar": {
              "outlinewidth": 0,
              "ticks": ""
             }
            },
            "type": "scattermapbox"
           }
          ],
          "scatterpolar": [
           {
            "marker": {
             "colorbar": {
              "outlinewidth": 0,
              "ticks": ""
             }
            },
            "type": "scatterpolar"
           }
          ],
          "scatterpolargl": [
           {
            "marker": {
             "colorbar": {
              "outlinewidth": 0,
              "ticks": ""
             }
            },
            "type": "scatterpolargl"
           }
          ],
          "scatterternary": [
           {
            "marker": {
             "colorbar": {
              "outlinewidth": 0,
              "ticks": ""
             }
            },
            "type": "scatterternary"
           }
          ],
          "surface": [
           {
            "colorbar": {
             "outlinewidth": 0,
             "ticks": ""
            },
            "colorscale": [
             [
              0,
              "#0d0887"
             ],
             [
              0.1111111111111111,
              "#46039f"
             ],
             [
              0.2222222222222222,
              "#7201a8"
             ],
             [
              0.3333333333333333,
              "#9c179e"
             ],
             [
              0.4444444444444444,
              "#bd3786"
             ],
             [
              0.5555555555555556,
              "#d8576b"
             ],
             [
              0.6666666666666666,
              "#ed7953"
             ],
             [
              0.7777777777777778,
              "#fb9f3a"
             ],
             [
              0.8888888888888888,
              "#fdca26"
             ],
             [
              1,
              "#f0f921"
             ]
            ],
            "type": "surface"
           }
          ],
          "table": [
           {
            "cells": {
             "fill": {
              "color": "#EBF0F8"
             },
             "line": {
              "color": "white"
             }
            },
            "header": {
             "fill": {
              "color": "#C8D4E3"
             },
             "line": {
              "color": "white"
             }
            },
            "type": "table"
           }
          ]
         },
         "layout": {
          "annotationdefaults": {
           "arrowcolor": "#2a3f5f",
           "arrowhead": 0,
           "arrowwidth": 1
          },
          "autotypenumbers": "strict",
          "coloraxis": {
           "colorbar": {
            "outlinewidth": 0,
            "ticks": ""
           }
          },
          "colorscale": {
           "diverging": [
            [
             0,
             "#8e0152"
            ],
            [
             0.1,
             "#c51b7d"
            ],
            [
             0.2,
             "#de77ae"
            ],
            [
             0.3,
             "#f1b6da"
            ],
            [
             0.4,
             "#fde0ef"
            ],
            [
             0.5,
             "#f7f7f7"
            ],
            [
             0.6,
             "#e6f5d0"
            ],
            [
             0.7,
             "#b8e186"
            ],
            [
             0.8,
             "#7fbc41"
            ],
            [
             0.9,
             "#4d9221"
            ],
            [
             1,
             "#276419"
            ]
           ],
           "sequential": [
            [
             0,
             "#0d0887"
            ],
            [
             0.1111111111111111,
             "#46039f"
            ],
            [
             0.2222222222222222,
             "#7201a8"
            ],
            [
             0.3333333333333333,
             "#9c179e"
            ],
            [
             0.4444444444444444,
             "#bd3786"
            ],
            [
             0.5555555555555556,
             "#d8576b"
            ],
            [
             0.6666666666666666,
             "#ed7953"
            ],
            [
             0.7777777777777778,
             "#fb9f3a"
            ],
            [
             0.8888888888888888,
             "#fdca26"
            ],
            [
             1,
             "#f0f921"
            ]
           ],
           "sequentialminus": [
            [
             0,
             "#0d0887"
            ],
            [
             0.1111111111111111,
             "#46039f"
            ],
            [
             0.2222222222222222,
             "#7201a8"
            ],
            [
             0.3333333333333333,
             "#9c179e"
            ],
            [
             0.4444444444444444,
             "#bd3786"
            ],
            [
             0.5555555555555556,
             "#d8576b"
            ],
            [
             0.6666666666666666,
             "#ed7953"
            ],
            [
             0.7777777777777778,
             "#fb9f3a"
            ],
            [
             0.8888888888888888,
             "#fdca26"
            ],
            [
             1,
             "#f0f921"
            ]
           ]
          },
          "colorway": [
           "#636efa",
           "#EF553B",
           "#00cc96",
           "#ab63fa",
           "#FFA15A",
           "#19d3f3",
           "#FF6692",
           "#B6E880",
           "#FF97FF",
           "#FECB52"
          ],
          "font": {
           "color": "#2a3f5f"
          },
          "geo": {
           "bgcolor": "white",
           "lakecolor": "white",
           "landcolor": "#E5ECF6",
           "showlakes": true,
           "showland": true,
           "subunitcolor": "white"
          },
          "hoverlabel": {
           "align": "left"
          },
          "hovermode": "closest",
          "mapbox": {
           "style": "light"
          },
          "paper_bgcolor": "white",
          "plot_bgcolor": "#E5ECF6",
          "polar": {
           "angularaxis": {
            "gridcolor": "white",
            "linecolor": "white",
            "ticks": ""
           },
           "bgcolor": "#E5ECF6",
           "radialaxis": {
            "gridcolor": "white",
            "linecolor": "white",
            "ticks": ""
           }
          },
          "scene": {
           "xaxis": {
            "backgroundcolor": "#E5ECF6",
            "gridcolor": "white",
            "gridwidth": 2,
            "linecolor": "white",
            "showbackground": true,
            "ticks": "",
            "zerolinecolor": "white"
           },
           "yaxis": {
            "backgroundcolor": "#E5ECF6",
            "gridcolor": "white",
            "gridwidth": 2,
            "linecolor": "white",
            "showbackground": true,
            "ticks": "",
            "zerolinecolor": "white"
           },
           "zaxis": {
            "backgroundcolor": "#E5ECF6",
            "gridcolor": "white",
            "gridwidth": 2,
            "linecolor": "white",
            "showbackground": true,
            "ticks": "",
            "zerolinecolor": "white"
           }
          },
          "shapedefaults": {
           "line": {
            "color": "#2a3f5f"
           }
          },
          "ternary": {
           "aaxis": {
            "gridcolor": "white",
            "linecolor": "white",
            "ticks": ""
           },
           "baxis": {
            "gridcolor": "white",
            "linecolor": "white",
            "ticks": ""
           },
           "bgcolor": "#E5ECF6",
           "caxis": {
            "gridcolor": "white",
            "linecolor": "white",
            "ticks": ""
           }
          },
          "title": {
           "x": 0.05
          },
          "xaxis": {
           "automargin": true,
           "gridcolor": "white",
           "linecolor": "white",
           "ticks": "",
           "title": {
            "standoff": 15
           },
           "zerolinecolor": "white",
           "zerolinewidth": 2
          },
          "yaxis": {
           "automargin": true,
           "gridcolor": "white",
           "linecolor": "white",
           "ticks": "",
           "title": {
            "standoff": 15
           },
           "zerolinecolor": "white",
           "zerolinewidth": 2
          }
         }
        },
        "title": {
         "text": "CM2"
        },
        "xaxis": {
         "anchor": "y",
         "autorange": true,
         "domain": [
          0,
          1
         ],
         "range": [
          -0.5,
          0.5
         ],
         "title": {
          "text": "Dénomination principale"
         },
         "type": "category"
        },
        "yaxis": {
         "anchor": "x",
         "autorange": true,
         "domain": [
          0,
          1
         ],
         "range": [
          0,
          1711.578947368421
         ],
         "title": {
          "text": "Nombre d'élèves en CM2 hors ULIS"
         },
         "type": "linear"
        }
       }
      },
      "text/html": [
       "<div>                            <div id=\"fa50d605-6a33-4f9c-bb3b-35446cbc6fee\" class=\"plotly-graph-div\" style=\"height:525px; width:100%;\"></div>            <script type=\"text/javascript\">                require([\"plotly\"], function(Plotly) {                    window.PLOTLYENV=window.PLOTLYENV || {};                                    if (document.getElementById(\"fa50d605-6a33-4f9c-bb3b-35446cbc6fee\")) {                    Plotly.newPlot(                        \"fa50d605-6a33-4f9c-bb3b-35446cbc6fee\",                        [{\"alignmentgroup\":\"True\",\"hovertemplate\":\"rentr\\u00e9e=2019\\u003cbr\\u003eD\\u00e9nomination principale=%{x}\\u003cbr\\u003eNombre d'\\u00e9l\\u00e8ves en CM2 hors ULIS=%{y}\\u003cextra\\u003e\\u003c\\u002fextra\\u003e\",\"legendgroup\":\"2019\",\"marker\":{\"color\":\"#636efa\",\"pattern\":{\"shape\":\"\"}},\"name\":\"2019\",\"offsetgroup\":\"2019\",\"orientation\":\"v\",\"showlegend\":true,\"textposition\":\"auto\",\"x\":[\"ECOLE ELEMENTAIRE PUBLIQUE\",\"ECOLE ELEMENTAIRE PUBLIQUE\",\"ECOLE ELEMENTAIRE PUBLIQUE\",\"ECOLE ELEMENTAIRE PUBLIQUE\",\"ECOLE ELEMENTAIRE PUBLIQUE\",\"ECOLE ELEMENTAIRE PUBLIQUE\",\"ECOLE ELEMENTAIRE PUBLIQUE\",\"ECOLE ELEMENTAIRE PUBLIQUE\",\"ECOLE ELEMENTAIRE PUBLIQUE\",\"ECOLE ELEMENTAIRE PUBLIQUE\",\"ECOLE ELEMENTAIRE PUBLIQUE\",\"ECOLE ELEMENTAIRE PUBLIQUE\",\"ECOLE ELEMENTAIRE PUBLIQUE\",\"ECOLE ELEMENTAIRE PUBLIQUE\",\"ECOLE ELEMENTAIRE PUBLIQUE\",\"ECOLE ELEMENTAIRE PUBLIQUE\",\"ECOLE ELEMENTAIRE PUBLIQUE\",\"ECOLE ELEMENTAIRE PUBLIQUE\",\"ECOLE ELEMENTAIRE PUBLIQUE\",\"ECOLE ELEMENTAIRE PUBLIQUE\",\"ECOLE ELEMENTAIRE PUBLIQUE\",\"ECOLE ELEMENTAIRE PUBLIQUE\",\"ECOLE ELEMENTAIRE PUBLIQUE\",\"ECOLE ELEMENTAIRE PUBLIQUE\",\"ECOLE ELEMENTAIRE PUBLIQUE\",\"ECOLE ELEMENTAIRE PUBLIQUE\",\"ECOLE ELEMENTAIRE PUBLIQUE\",\"ECOLE ELEMENTAIRE PUBLIQUE\",\"ECOLE ELEMENTAIRE PUBLIQUE\",\"ECOLE ELEMENTAIRE PUBLIQUE\",\"ECOLE ELEMENTAIRE PUBLIQUE\",\"ECOLE ELEMENTAIRE PUBLIQUE\",\"ECOLE ELEMENTAIRE PUBLIQUE\",\"ECOLE ELEMENTAIRE PUBLIQUE\",\"ECOLE ELEMENTAIRE PUBLIQUE\",\"ECOLE ELEMENTAIRE PUBLIQUE\",\"ECOLE ELEMENTAIRE PUBLIQUE\",\"ECOLE ELEMENTAIRE PUBLIQUE\"],\"xaxis\":\"x\",\"y\":[17,54,28,66,44,29,35,45,30,42,32,36,34,23,42,44,62,48,43,40,39,32,31,51,48,40,28,41,29,45,53,48,47,31,32,41,36,37],\"yaxis\":\"y\",\"type\":\"bar\"},{\"alignmentgroup\":\"True\",\"hovertemplate\":\"rentr\\u00e9e=2020\\u003cbr\\u003eD\\u00e9nomination principale=%{x}\\u003cbr\\u003eNombre d'\\u00e9l\\u00e8ves en CM2 hors ULIS=%{y}\\u003cextra\\u003e\\u003c\\u002fextra\\u003e\",\"legendgroup\":\"2020\",\"marker\":{\"color\":\"#EF553B\",\"pattern\":{\"shape\":\"\"}},\"name\":\"2020\",\"offsetgroup\":\"2020\",\"orientation\":\"v\",\"showlegend\":true,\"textposition\":\"auto\",\"x\":[\"ECOLE ELEMENTAIRE PUBLIQUE\",\"ECOLE ELEMENTAIRE PUBLIQUE\",\"ECOLE ELEMENTAIRE PUBLIQUE\",\"ECOLE ELEMENTAIRE PUBLIQUE\",\"ECOLE ELEMENTAIRE PUBLIQUE\",\"ECOLE ELEMENTAIRE PUBLIQUE\",\"ECOLE ELEMENTAIRE PUBLIQUE\",\"ECOLE ELEMENTAIRE PUBLIQUE\",\"ECOLE ELEMENTAIRE PUBLIQUE\",\"ECOLE ELEMENTAIRE PUBLIQUE\",\"ECOLE ELEMENTAIRE PUBLIQUE\",\"ECOLE ELEMENTAIRE PUBLIQUE\",\"ECOLE ELEMENTAIRE PUBLIQUE\",\"ECOLE ELEMENTAIRE PUBLIQUE\",\"ECOLE ELEMENTAIRE PUBLIQUE\",\"ECOLE ELEMENTAIRE PUBLIQUE\",\"ECOLE ELEMENTAIRE PUBLIQUE\",\"ECOLE ELEMENTAIRE PUBLIQUE\",\"ECOLE ELEMENTAIRE PUBLIQUE\",\"ECOLE ELEMENTAIRE PUBLIQUE\",\"ECOLE ELEMENTAIRE PUBLIQUE\",\"ECOLE ELEMENTAIRE PUBLIQUE\",\"ECOLE ELEMENTAIRE PUBLIQUE\",\"ECOLE ELEMENTAIRE PUBLIQUE\",\"ECOLE ELEMENTAIRE PUBLIQUE\",\"ECOLE ELEMENTAIRE PUBLIQUE\",\"ECOLE ELEMENTAIRE PUBLIQUE\",\"ECOLE ELEMENTAIRE PUBLIQUE\",\"ECOLE ELEMENTAIRE PUBLIQUE\",\"ECOLE ELEMENTAIRE PUBLIQUE\",\"ECOLE ELEMENTAIRE PUBLIQUE\",\"ECOLE ELEMENTAIRE PUBLIQUE\",\"ECOLE ELEMENTAIRE PUBLIQUE\",\"ECOLE ELEMENTAIRE PUBLIQUE\",\"ECOLE ELEMENTAIRE PUBLIQUE\",\"ECOLE ELEMENTAIRE PUBLIQUE\",\"ECOLE ELEMENTAIRE PUBLIQUE\",\"ECOLE ELEMENTAIRE PUBLIQUE\"],\"xaxis\":\"x\",\"y\":[33,23,63,42,80,48,30,45,26,24,50,42,24,63,26,54,49,65,60,32,42,28,31,46,49,33,38,46,62,57,53,47,39,24,35,35,38,44],\"yaxis\":\"y\",\"type\":\"bar\"},{\"alignmentgroup\":\"True\",\"hovertemplate\":\"rentr\\u00e9e=2021\\u003cbr\\u003eD\\u00e9nomination principale=%{x}\\u003cbr\\u003eNombre d'\\u00e9l\\u00e8ves en CM2 hors ULIS=%{y}\\u003cextra\\u003e\\u003c\\u002fextra\\u003e\",\"legendgroup\":\"2021\",\"marker\":{\"color\":\"#00cc96\",\"pattern\":{\"shape\":\"\"}},\"name\":\"2021\",\"offsetgroup\":\"2021\",\"orientation\":\"v\",\"showlegend\":true,\"textposition\":\"auto\",\"x\":[\"ECOLE ELEMENTAIRE PUBLIQUE\",\"ECOLE ELEMENTAIRE PUBLIQUE\",\"ECOLE ELEMENTAIRE PUBLIQUE\",\"ECOLE ELEMENTAIRE PUBLIQUE\",\"ECOLE ELEMENTAIRE PUBLIQUE\",\"ECOLE ELEMENTAIRE PUBLIQUE\",\"ECOLE ELEMENTAIRE PUBLIQUE\",\"ECOLE ELEMENTAIRE PUBLIQUE\",\"ECOLE ELEMENTAIRE PUBLIQUE\",\"ECOLE ELEMENTAIRE PUBLIQUE\",\"ECOLE ELEMENTAIRE PUBLIQUE\",\"ECOLE ELEMENTAIRE PUBLIQUE\",\"ECOLE ELEMENTAIRE PUBLIQUE\",\"ECOLE ELEMENTAIRE PUBLIQUE\",\"ECOLE ELEMENTAIRE PUBLIQUE\",\"ECOLE ELEMENTAIRE PUBLIQUE\",\"ECOLE ELEMENTAIRE PUBLIQUE\",\"ECOLE ELEMENTAIRE PUBLIQUE\",\"ECOLE ELEMENTAIRE PUBLIQUE\",\"ECOLE ELEMENTAIRE PUBLIQUE\",\"ECOLE ELEMENTAIRE PUBLIQUE\",\"ECOLE ELEMENTAIRE PUBLIQUE\",\"ECOLE ELEMENTAIRE PUBLIQUE\",\"ECOLE ELEMENTAIRE PUBLIQUE\",\"ECOLE ELEMENTAIRE PUBLIQUE\",\"ECOLE ELEMENTAIRE PUBLIQUE\",\"ECOLE ELEMENTAIRE PUBLIQUE\",\"ECOLE ELEMENTAIRE PUBLIQUE\",\"ECOLE ELEMENTAIRE PUBLIQUE\",\"ECOLE ELEMENTAIRE PUBLIQUE\",\"ECOLE ELEMENTAIRE PUBLIQUE\",\"ECOLE ELEMENTAIRE PUBLIQUE\",\"ECOLE ELEMENTAIRE PUBLIQUE\",\"ECOLE ELEMENTAIRE PUBLIQUE\",\"ECOLE ELEMENTAIRE PUBLIQUE\",\"ECOLE ELEMENTAIRE PUBLIQUE\",\"ECOLE ELEMENTAIRE PUBLIQUE\",\"ECOLE ELEMENTAIRE PUBLIQUE\"],\"xaxis\":\"x\",\"y\":[33,62,31,62,44,27,34,39,19,57,34,43,28,27,42,51,48,47,48,32,38,41,32,45,52,32,32,49,23,53,42,66,58,14,22,43,48,49],\"yaxis\":\"y\",\"type\":\"bar\"},{\"alignmentgroup\":\"True\",\"hovertemplate\":\"rentr\\u00e9e=2022\\u003cbr\\u003eD\\u00e9nomination principale=%{x}\\u003cbr\\u003eNombre d'\\u00e9l\\u00e8ves en CM2 hors ULIS=%{y}\\u003cextra\\u003e\\u003c\\u002fextra\\u003e\",\"legendgroup\":\"2022\",\"marker\":{\"color\":\"#ab63fa\",\"pattern\":{\"shape\":\"\"}},\"name\":\"2022\",\"offsetgroup\":\"2022\",\"orientation\":\"v\",\"showlegend\":true,\"textposition\":\"auto\",\"x\":[\"ECOLE ELEMENTAIRE PUBLIQUE\",\"ECOLE ELEMENTAIRE PUBLIQUE\",\"ECOLE ELEMENTAIRE PUBLIQUE\",\"ECOLE ELEMENTAIRE PUBLIQUE\",\"ECOLE ELEMENTAIRE PUBLIQUE\",\"ECOLE ELEMENTAIRE PUBLIQUE\",\"ECOLE ELEMENTAIRE PUBLIQUE\",\"ECOLE ELEMENTAIRE PUBLIQUE\",\"ECOLE ELEMENTAIRE PUBLIQUE\",\"ECOLE ELEMENTAIRE PUBLIQUE\",\"ECOLE ELEMENTAIRE PUBLIQUE\",\"ECOLE ELEMENTAIRE PUBLIQUE\",\"ECOLE ELEMENTAIRE PUBLIQUE\",\"ECOLE ELEMENTAIRE PUBLIQUE\",\"ECOLE ELEMENTAIRE PUBLIQUE\",\"ECOLE ELEMENTAIRE PUBLIQUE\",\"ECOLE ELEMENTAIRE PUBLIQUE\",\"ECOLE ELEMENTAIRE PUBLIQUE\",\"ECOLE ELEMENTAIRE PUBLIQUE\",\"ECOLE ELEMENTAIRE PUBLIQUE\",\"ECOLE ELEMENTAIRE PUBLIQUE\",\"ECOLE ELEMENTAIRE PUBLIQUE\",\"ECOLE ELEMENTAIRE PUBLIQUE\",\"ECOLE ELEMENTAIRE PUBLIQUE\",\"ECOLE ELEMENTAIRE PUBLIQUE\",\"ECOLE ELEMENTAIRE PUBLIQUE\",\"ECOLE ELEMENTAIRE PUBLIQUE\",\"ECOLE ELEMENTAIRE PUBLIQUE\",\"ECOLE ELEMENTAIRE PUBLIQUE\",\"ECOLE ELEMENTAIRE PUBLIQUE\",\"ECOLE ELEMENTAIRE PUBLIQUE\",\"ECOLE ELEMENTAIRE PUBLIQUE\",\"ECOLE ELEMENTAIRE PUBLIQUE\",\"ECOLE ELEMENTAIRE PUBLIQUE\",\"ECOLE ELEMENTAIRE PUBLIQUE\",\"ECOLE ELEMENTAIRE PUBLIQUE\",\"ECOLE ELEMENTAIRE PUBLIQUE\",\"ECOLE ELEMENTAIRE PUBLIQUE\"],\"xaxis\":\"x\",\"y\":[21,55,37,59,40,43,22,43,25,27,54,46,26,56,34,48,45,32,48,33,33,48,29,47,37,39,35,54,60,44,68,58,31,21,33,32,38,44],\"yaxis\":\"y\",\"type\":\"bar\"}],                        {\"template\":{\"data\":{\"histogram2dcontour\":[{\"type\":\"histogram2dcontour\",\"colorbar\":{\"outlinewidth\":0,\"ticks\":\"\"},\"colorscale\":[[0.0,\"#0d0887\"],[0.1111111111111111,\"#46039f\"],[0.2222222222222222,\"#7201a8\"],[0.3333333333333333,\"#9c179e\"],[0.4444444444444444,\"#bd3786\"],[0.5555555555555556,\"#d8576b\"],[0.6666666666666666,\"#ed7953\"],[0.7777777777777778,\"#fb9f3a\"],[0.8888888888888888,\"#fdca26\"],[1.0,\"#f0f921\"]]}],\"choropleth\":[{\"type\":\"choropleth\",\"colorbar\":{\"outlinewidth\":0,\"ticks\":\"\"}}],\"histogram2d\":[{\"type\":\"histogram2d\",\"colorbar\":{\"outlinewidth\":0,\"ticks\":\"\"},\"colorscale\":[[0.0,\"#0d0887\"],[0.1111111111111111,\"#46039f\"],[0.2222222222222222,\"#7201a8\"],[0.3333333333333333,\"#9c179e\"],[0.4444444444444444,\"#bd3786\"],[0.5555555555555556,\"#d8576b\"],[0.6666666666666666,\"#ed7953\"],[0.7777777777777778,\"#fb9f3a\"],[0.8888888888888888,\"#fdca26\"],[1.0,\"#f0f921\"]]}],\"heatmap\":[{\"type\":\"heatmap\",\"colorbar\":{\"outlinewidth\":0,\"ticks\":\"\"},\"colorscale\":[[0.0,\"#0d0887\"],[0.1111111111111111,\"#46039f\"],[0.2222222222222222,\"#7201a8\"],[0.3333333333333333,\"#9c179e\"],[0.4444444444444444,\"#bd3786\"],[0.5555555555555556,\"#d8576b\"],[0.6666666666666666,\"#ed7953\"],[0.7777777777777778,\"#fb9f3a\"],[0.8888888888888888,\"#fdca26\"],[1.0,\"#f0f921\"]]}],\"heatmapgl\":[{\"type\":\"heatmapgl\",\"colorbar\":{\"outlinewidth\":0,\"ticks\":\"\"},\"colorscale\":[[0.0,\"#0d0887\"],[0.1111111111111111,\"#46039f\"],[0.2222222222222222,\"#7201a8\"],[0.3333333333333333,\"#9c179e\"],[0.4444444444444444,\"#bd3786\"],[0.5555555555555556,\"#d8576b\"],[0.6666666666666666,\"#ed7953\"],[0.7777777777777778,\"#fb9f3a\"],[0.8888888888888888,\"#fdca26\"],[1.0,\"#f0f921\"]]}],\"contourcarpet\":[{\"type\":\"contourcarpet\",\"colorbar\":{\"outlinewidth\":0,\"ticks\":\"\"}}],\"contour\":[{\"type\":\"contour\",\"colorbar\":{\"outlinewidth\":0,\"ticks\":\"\"},\"colorscale\":[[0.0,\"#0d0887\"],[0.1111111111111111,\"#46039f\"],[0.2222222222222222,\"#7201a8\"],[0.3333333333333333,\"#9c179e\"],[0.4444444444444444,\"#bd3786\"],[0.5555555555555556,\"#d8576b\"],[0.6666666666666666,\"#ed7953\"],[0.7777777777777778,\"#fb9f3a\"],[0.8888888888888888,\"#fdca26\"],[1.0,\"#f0f921\"]]}],\"surface\":[{\"type\":\"surface\",\"colorbar\":{\"outlinewidth\":0,\"ticks\":\"\"},\"colorscale\":[[0.0,\"#0d0887\"],[0.1111111111111111,\"#46039f\"],[0.2222222222222222,\"#7201a8\"],[0.3333333333333333,\"#9c179e\"],[0.4444444444444444,\"#bd3786\"],[0.5555555555555556,\"#d8576b\"],[0.6666666666666666,\"#ed7953\"],[0.7777777777777778,\"#fb9f3a\"],[0.8888888888888888,\"#fdca26\"],[1.0,\"#f0f921\"]]}],\"mesh3d\":[{\"type\":\"mesh3d\",\"colorbar\":{\"outlinewidth\":0,\"ticks\":\"\"}}],\"scatter\":[{\"fillpattern\":{\"fillmode\":\"overlay\",\"size\":10,\"solidity\":0.2},\"type\":\"scatter\"}],\"parcoords\":[{\"type\":\"parcoords\",\"line\":{\"colorbar\":{\"outlinewidth\":0,\"ticks\":\"\"}}}],\"scatterpolargl\":[{\"type\":\"scatterpolargl\",\"marker\":{\"colorbar\":{\"outlinewidth\":0,\"ticks\":\"\"}}}],\"bar\":[{\"error_x\":{\"color\":\"#2a3f5f\"},\"error_y\":{\"color\":\"#2a3f5f\"},\"marker\":{\"line\":{\"color\":\"#E5ECF6\",\"width\":0.5},\"pattern\":{\"fillmode\":\"overlay\",\"size\":10,\"solidity\":0.2}},\"type\":\"bar\"}],\"scattergeo\":[{\"type\":\"scattergeo\",\"marker\":{\"colorbar\":{\"outlinewidth\":0,\"ticks\":\"\"}}}],\"scatterpolar\":[{\"type\":\"scatterpolar\",\"marker\":{\"colorbar\":{\"outlinewidth\":0,\"ticks\":\"\"}}}],\"histogram\":[{\"marker\":{\"pattern\":{\"fillmode\":\"overlay\",\"size\":10,\"solidity\":0.2}},\"type\":\"histogram\"}],\"scattergl\":[{\"type\":\"scattergl\",\"marker\":{\"colorbar\":{\"outlinewidth\":0,\"ticks\":\"\"}}}],\"scatter3d\":[{\"type\":\"scatter3d\",\"line\":{\"colorbar\":{\"outlinewidth\":0,\"ticks\":\"\"}},\"marker\":{\"colorbar\":{\"outlinewidth\":0,\"ticks\":\"\"}}}],\"scattermapbox\":[{\"type\":\"scattermapbox\",\"marker\":{\"colorbar\":{\"outlinewidth\":0,\"ticks\":\"\"}}}],\"scatterternary\":[{\"type\":\"scatterternary\",\"marker\":{\"colorbar\":{\"outlinewidth\":0,\"ticks\":\"\"}}}],\"scattercarpet\":[{\"type\":\"scattercarpet\",\"marker\":{\"colorbar\":{\"outlinewidth\":0,\"ticks\":\"\"}}}],\"carpet\":[{\"aaxis\":{\"endlinecolor\":\"#2a3f5f\",\"gridcolor\":\"white\",\"linecolor\":\"white\",\"minorgridcolor\":\"white\",\"startlinecolor\":\"#2a3f5f\"},\"baxis\":{\"endlinecolor\":\"#2a3f5f\",\"gridcolor\":\"white\",\"linecolor\":\"white\",\"minorgridcolor\":\"white\",\"startlinecolor\":\"#2a3f5f\"},\"type\":\"carpet\"}],\"table\":[{\"cells\":{\"fill\":{\"color\":\"#EBF0F8\"},\"line\":{\"color\":\"white\"}},\"header\":{\"fill\":{\"color\":\"#C8D4E3\"},\"line\":{\"color\":\"white\"}},\"type\":\"table\"}],\"barpolar\":[{\"marker\":{\"line\":{\"color\":\"#E5ECF6\",\"width\":0.5},\"pattern\":{\"fillmode\":\"overlay\",\"size\":10,\"solidity\":0.2}},\"type\":\"barpolar\"}],\"pie\":[{\"automargin\":true,\"type\":\"pie\"}]},\"layout\":{\"autotypenumbers\":\"strict\",\"colorway\":[\"#636efa\",\"#EF553B\",\"#00cc96\",\"#ab63fa\",\"#FFA15A\",\"#19d3f3\",\"#FF6692\",\"#B6E880\",\"#FF97FF\",\"#FECB52\"],\"font\":{\"color\":\"#2a3f5f\"},\"hovermode\":\"closest\",\"hoverlabel\":{\"align\":\"left\"},\"paper_bgcolor\":\"white\",\"plot_bgcolor\":\"#E5ECF6\",\"polar\":{\"bgcolor\":\"#E5ECF6\",\"angularaxis\":{\"gridcolor\":\"white\",\"linecolor\":\"white\",\"ticks\":\"\"},\"radialaxis\":{\"gridcolor\":\"white\",\"linecolor\":\"white\",\"ticks\":\"\"}},\"ternary\":{\"bgcolor\":\"#E5ECF6\",\"aaxis\":{\"gridcolor\":\"white\",\"linecolor\":\"white\",\"ticks\":\"\"},\"baxis\":{\"gridcolor\":\"white\",\"linecolor\":\"white\",\"ticks\":\"\"},\"caxis\":{\"gridcolor\":\"white\",\"linecolor\":\"white\",\"ticks\":\"\"}},\"coloraxis\":{\"colorbar\":{\"outlinewidth\":0,\"ticks\":\"\"}},\"colorscale\":{\"sequential\":[[0.0,\"#0d0887\"],[0.1111111111111111,\"#46039f\"],[0.2222222222222222,\"#7201a8\"],[0.3333333333333333,\"#9c179e\"],[0.4444444444444444,\"#bd3786\"],[0.5555555555555556,\"#d8576b\"],[0.6666666666666666,\"#ed7953\"],[0.7777777777777778,\"#fb9f3a\"],[0.8888888888888888,\"#fdca26\"],[1.0,\"#f0f921\"]],\"sequentialminus\":[[0.0,\"#0d0887\"],[0.1111111111111111,\"#46039f\"],[0.2222222222222222,\"#7201a8\"],[0.3333333333333333,\"#9c179e\"],[0.4444444444444444,\"#bd3786\"],[0.5555555555555556,\"#d8576b\"],[0.6666666666666666,\"#ed7953\"],[0.7777777777777778,\"#fb9f3a\"],[0.8888888888888888,\"#fdca26\"],[1.0,\"#f0f921\"]],\"diverging\":[[0,\"#8e0152\"],[0.1,\"#c51b7d\"],[0.2,\"#de77ae\"],[0.3,\"#f1b6da\"],[0.4,\"#fde0ef\"],[0.5,\"#f7f7f7\"],[0.6,\"#e6f5d0\"],[0.7,\"#b8e186\"],[0.8,\"#7fbc41\"],[0.9,\"#4d9221\"],[1,\"#276419\"]]},\"xaxis\":{\"gridcolor\":\"white\",\"linecolor\":\"white\",\"ticks\":\"\",\"title\":{\"standoff\":15},\"zerolinecolor\":\"white\",\"automargin\":true,\"zerolinewidth\":2},\"yaxis\":{\"gridcolor\":\"white\",\"linecolor\":\"white\",\"ticks\":\"\",\"title\":{\"standoff\":15},\"zerolinecolor\":\"white\",\"automargin\":true,\"zerolinewidth\":2},\"scene\":{\"xaxis\":{\"backgroundcolor\":\"#E5ECF6\",\"gridcolor\":\"white\",\"linecolor\":\"white\",\"showbackground\":true,\"ticks\":\"\",\"zerolinecolor\":\"white\",\"gridwidth\":2},\"yaxis\":{\"backgroundcolor\":\"#E5ECF6\",\"gridcolor\":\"white\",\"linecolor\":\"white\",\"showbackground\":true,\"ticks\":\"\",\"zerolinecolor\":\"white\",\"gridwidth\":2},\"zaxis\":{\"backgroundcolor\":\"#E5ECF6\",\"gridcolor\":\"white\",\"linecolor\":\"white\",\"showbackground\":true,\"ticks\":\"\",\"zerolinecolor\":\"white\",\"gridwidth\":2}},\"shapedefaults\":{\"line\":{\"color\":\"#2a3f5f\"}},\"annotationdefaults\":{\"arrowcolor\":\"#2a3f5f\",\"arrowhead\":0,\"arrowwidth\":1},\"geo\":{\"bgcolor\":\"white\",\"landcolor\":\"#E5ECF6\",\"subunitcolor\":\"white\",\"showland\":true,\"showlakes\":true,\"lakecolor\":\"white\"},\"title\":{\"x\":0.05},\"mapbox\":{\"style\":\"light\"}}},\"xaxis\":{\"anchor\":\"y\",\"domain\":[0.0,1.0],\"title\":{\"text\":\"D\\u00e9nomination principale\"}},\"yaxis\":{\"anchor\":\"x\",\"domain\":[0.0,1.0],\"title\":{\"text\":\"Nombre d'\\u00e9l\\u00e8ves en CM2 hors ULIS\"}},\"legend\":{\"title\":{\"text\":\"rentr\\u00e9e\"},\"tracegroupgap\":0},\"title\":{\"text\":\"CM2\"},\"barmode\":\"group\"},                        {\"responsive\": true}                    ).then(function(){\n",
       "                            \n",
       "var gd = document.getElementById('fa50d605-6a33-4f9c-bb3b-35446cbc6fee');\n",
       "var x = new MutationObserver(function (mutations, observer) {{\n",
       "        var display = window.getComputedStyle(gd).display;\n",
       "        if (!display || display === 'none') {{\n",
       "            console.log([gd, 'removed!']);\n",
       "            Plotly.purge(gd);\n",
       "            observer.disconnect();\n",
       "        }}\n",
       "}});\n",
       "\n",
       "// Listen for the removal of the full notebook cells\n",
       "var notebookContainer = gd.closest('#notebook-container');\n",
       "if (notebookContainer) {{\n",
       "    x.observe(notebookContainer, {childList: true});\n",
       "}}\n",
       "\n",
       "// Listen for the clearing of the current output cell\n",
       "var outputEl = gd.closest('.output');\n",
       "if (outputEl) {{\n",
       "    x.observe(outputEl, {childList: true});\n",
       "}}\n",
       "\n",
       "                        })                };                });            </script>        </div>"
      ]
     },
     "metadata": {},
     "output_type": "display_data"
    }
   ],
   "source": [
    "for classe in [\"CE1\", \"CE2\", \"CM1\", \"CM2\"]:\n",
    "    px.bar(ecoles[(ecoles[\"Commune\"].isin(COMMUNES)) & (ecoles[\"Dénomination principale\"] == \"ECOLE ELEMENTAIRE PUBLIQUE\")], x=\"Dénomination principale\", y=f\"Nombre d'élèves en {classe} hors ULIS\", color=\"rentrée\", barmode=\"group\", title=classe).show()"
   ]
  },
  {
   "cell_type": "code",
   "execution_count": 68,
   "id": "7c359c5a-d6ce-487f-b83b-810c53fe3772",
   "metadata": {},
   "outputs": [
    {
     "data": {
      "text/html": [
       "<div>\n",
       "<style scoped>\n",
       "    .dataframe tbody tr th:only-of-type {\n",
       "        vertical-align: middle;\n",
       "    }\n",
       "\n",
       "    .dataframe tbody tr th {\n",
       "        vertical-align: top;\n",
       "    }\n",
       "\n",
       "    .dataframe thead th {\n",
       "        text-align: right;\n",
       "    }\n",
       "</style>\n",
       "<table border=\"1\" class=\"dataframe\">\n",
       "  <thead>\n",
       "    <tr style=\"text-align: right;\">\n",
       "      <th></th>\n",
       "      <th>Rentrée scolaire</th>\n",
       "      <th>Région académique</th>\n",
       "      <th>Académie</th>\n",
       "      <th>Département</th>\n",
       "      <th>Commune</th>\n",
       "      <th>Numéro de l'école</th>\n",
       "      <th>Dénomination principale</th>\n",
       "      <th>Patronyme</th>\n",
       "      <th>Secteur</th>\n",
       "      <th>REP</th>\n",
       "      <th>...</th>\n",
       "      <th>Nombre d'élèves en élémentaire hors ULIS</th>\n",
       "      <th>Nombre d'élèves en ULIS</th>\n",
       "      <th>Nombre d'élèves en CP hors ULIS</th>\n",
       "      <th>Nombre d'élèves en CE1 hors ULIS</th>\n",
       "      <th>Nombre d'élèves en CE2 hors ULIS</th>\n",
       "      <th>Nombre d'élèves en CM1 hors ULIS</th>\n",
       "      <th>Nombre d'élèves en CM2 hors ULIS</th>\n",
       "      <th>tri</th>\n",
       "      <th>Code Postal</th>\n",
       "      <th>rentrée</th>\n",
       "    </tr>\n",
       "  </thead>\n",
       "  <tbody>\n",
       "    <tr>\n",
       "      <th>76</th>\n",
       "      <td>2022</td>\n",
       "      <td>BRETAGNE</td>\n",
       "      <td>RENNES</td>\n",
       "      <td>ILLE-ET-VILAINE</td>\n",
       "      <td>CHANTEPIE</td>\n",
       "      <td>0352521A</td>\n",
       "      <td>ECOLE ELEMENTAIRE PUBLIQUE</td>\n",
       "      <td>LES DEUX RUISSEAUX</td>\n",
       "      <td>PUBLIC</td>\n",
       "      <td>0</td>\n",
       "      <td>...</td>\n",
       "      <td>143</td>\n",
       "      <td>0</td>\n",
       "      <td>29</td>\n",
       "      <td>46</td>\n",
       "      <td>23</td>\n",
       "      <td>24</td>\n",
       "      <td>21</td>\n",
       "      <td>78-BRETAGNE-RENNES-ILLE-ET-VILAINE-CHANTEPIE-0...</td>\n",
       "      <td>35135</td>\n",
       "      <td>2022</td>\n",
       "    </tr>\n",
       "    <tr>\n",
       "      <th>544</th>\n",
       "      <td>2022</td>\n",
       "      <td>BRETAGNE</td>\n",
       "      <td>RENNES</td>\n",
       "      <td>ILLE-ET-VILAINE</td>\n",
       "      <td>SAINT-GREGOIRE</td>\n",
       "      <td>0350483K</td>\n",
       "      <td>ECOLE ELEMENTAIRE PUBLIQUE</td>\n",
       "      <td>PAUL-EMILE VICTOR</td>\n",
       "      <td>PUBLIC</td>\n",
       "      <td>0</td>\n",
       "      <td>...</td>\n",
       "      <td>250</td>\n",
       "      <td>0</td>\n",
       "      <td>44</td>\n",
       "      <td>48</td>\n",
       "      <td>54</td>\n",
       "      <td>49</td>\n",
       "      <td>55</td>\n",
       "      <td>78-BRETAGNE-RENNES-ILLE-ET-VILAINE-SAINT-GREGO...</td>\n",
       "      <td>35760</td>\n",
       "      <td>2022</td>\n",
       "    </tr>\n",
       "    <tr>\n",
       "      <th>659</th>\n",
       "      <td>2022</td>\n",
       "      <td>BRETAGNE</td>\n",
       "      <td>RENNES</td>\n",
       "      <td>ILLE-ET-VILAINE</td>\n",
       "      <td>VEZIN-LE-COQUET</td>\n",
       "      <td>0351619V</td>\n",
       "      <td>ECOLE ELEMENTAIRE PUBLIQUE</td>\n",
       "      <td>ERIC TABARLY</td>\n",
       "      <td>PUBLIC</td>\n",
       "      <td>0</td>\n",
       "      <td>...</td>\n",
       "      <td>169</td>\n",
       "      <td>0</td>\n",
       "      <td>35</td>\n",
       "      <td>29</td>\n",
       "      <td>33</td>\n",
       "      <td>35</td>\n",
       "      <td>37</td>\n",
       "      <td>78-BRETAGNE-RENNES-ILLE-ET-VILAINE-VEZIN-LE-CO...</td>\n",
       "      <td>35132</td>\n",
       "      <td>2022</td>\n",
       "    </tr>\n",
       "    <tr>\n",
       "      <th>632</th>\n",
       "      <td>2022</td>\n",
       "      <td>BRETAGNE</td>\n",
       "      <td>RENNES</td>\n",
       "      <td>ILLE-ET-VILAINE</td>\n",
       "      <td>THORIGNE-FOUILLARD</td>\n",
       "      <td>0351765D</td>\n",
       "      <td>ECOLE ELEMENTAIRE PUBLIQUE</td>\n",
       "      <td>LES GRANDS PRES VERTS</td>\n",
       "      <td>PUBLIC</td>\n",
       "      <td>0</td>\n",
       "      <td>...</td>\n",
       "      <td>322</td>\n",
       "      <td>0</td>\n",
       "      <td>50</td>\n",
       "      <td>71</td>\n",
       "      <td>81</td>\n",
       "      <td>61</td>\n",
       "      <td>59</td>\n",
       "      <td>78-BRETAGNE-RENNES-ILLE-ET-VILAINE-THORIGNE-FO...</td>\n",
       "      <td>35235</td>\n",
       "      <td>2022</td>\n",
       "    </tr>\n",
       "    <tr>\n",
       "      <th>419</th>\n",
       "      <td>2022</td>\n",
       "      <td>BRETAGNE</td>\n",
       "      <td>RENNES</td>\n",
       "      <td>ILLE-ET-VILAINE</td>\n",
       "      <td>RENNES</td>\n",
       "      <td>0350638D</td>\n",
       "      <td>ECOLE ELEMENTAIRE PUBLIQUE</td>\n",
       "      <td>CARLE BAHON</td>\n",
       "      <td>PUBLIC</td>\n",
       "      <td>0</td>\n",
       "      <td>...</td>\n",
       "      <td>168</td>\n",
       "      <td>0</td>\n",
       "      <td>31</td>\n",
       "      <td>30</td>\n",
       "      <td>34</td>\n",
       "      <td>33</td>\n",
       "      <td>40</td>\n",
       "      <td>78-BRETAGNE-RENNES-ILLE-ET-VILAINE-RENNES-0350...</td>\n",
       "      <td>35200</td>\n",
       "      <td>2022</td>\n",
       "    </tr>\n",
       "    <tr>\n",
       "      <th>418</th>\n",
       "      <td>2022</td>\n",
       "      <td>BRETAGNE</td>\n",
       "      <td>RENNES</td>\n",
       "      <td>ILLE-ET-VILAINE</td>\n",
       "      <td>RENNES</td>\n",
       "      <td>0350635A</td>\n",
       "      <td>ECOLE ELEMENTAIRE PUBLIQUE</td>\n",
       "      <td>POTERIE</td>\n",
       "      <td>PUBLIC</td>\n",
       "      <td>0</td>\n",
       "      <td>...</td>\n",
       "      <td>205</td>\n",
       "      <td>0</td>\n",
       "      <td>31</td>\n",
       "      <td>39</td>\n",
       "      <td>50</td>\n",
       "      <td>42</td>\n",
       "      <td>43</td>\n",
       "      <td>78-BRETAGNE-RENNES-ILLE-ET-VILAINE-RENNES-0350...</td>\n",
       "      <td>35200</td>\n",
       "      <td>2022</td>\n",
       "    </tr>\n",
       "    <tr>\n",
       "      <th>417</th>\n",
       "      <td>2022</td>\n",
       "      <td>BRETAGNE</td>\n",
       "      <td>RENNES</td>\n",
       "      <td>ILLE-ET-VILAINE</td>\n",
       "      <td>RENNES</td>\n",
       "      <td>0350632X</td>\n",
       "      <td>ECOLE ELEMENTAIRE PUBLIQUE</td>\n",
       "      <td>COLOMBIER</td>\n",
       "      <td>PUBLIC</td>\n",
       "      <td>0</td>\n",
       "      <td>...</td>\n",
       "      <td>140</td>\n",
       "      <td>0</td>\n",
       "      <td>24</td>\n",
       "      <td>33</td>\n",
       "      <td>29</td>\n",
       "      <td>32</td>\n",
       "      <td>22</td>\n",
       "      <td>78-BRETAGNE-RENNES-ILLE-ET-VILAINE-RENNES-0350...</td>\n",
       "      <td>35000</td>\n",
       "      <td>2022</td>\n",
       "    </tr>\n",
       "    <tr>\n",
       "      <th>416</th>\n",
       "      <td>2022</td>\n",
       "      <td>BRETAGNE</td>\n",
       "      <td>RENNES</td>\n",
       "      <td>ILLE-ET-VILAINE</td>\n",
       "      <td>RENNES</td>\n",
       "      <td>0350631W</td>\n",
       "      <td>ECOLE ELEMENTAIRE PUBLIQUE</td>\n",
       "      <td>MOULIN DU COMTE</td>\n",
       "      <td>PUBLIC</td>\n",
       "      <td>0</td>\n",
       "      <td>...</td>\n",
       "      <td>234</td>\n",
       "      <td>0</td>\n",
       "      <td>58</td>\n",
       "      <td>46</td>\n",
       "      <td>48</td>\n",
       "      <td>39</td>\n",
       "      <td>43</td>\n",
       "      <td>78-BRETAGNE-RENNES-ILLE-ET-VILAINE-RENNES-0350...</td>\n",
       "      <td>35000</td>\n",
       "      <td>2022</td>\n",
       "    </tr>\n",
       "    <tr>\n",
       "      <th>415</th>\n",
       "      <td>2022</td>\n",
       "      <td>BRETAGNE</td>\n",
       "      <td>RENNES</td>\n",
       "      <td>ILLE-ET-VILAINE</td>\n",
       "      <td>RENNES</td>\n",
       "      <td>0350627S</td>\n",
       "      <td>ECOLE ELEMENTAIRE PUBLIQUE</td>\n",
       "      <td>DUCHESSE ANNE</td>\n",
       "      <td>PUBLIC</td>\n",
       "      <td>0</td>\n",
       "      <td>...</td>\n",
       "      <td>168</td>\n",
       "      <td>5</td>\n",
       "      <td>36</td>\n",
       "      <td>23</td>\n",
       "      <td>43</td>\n",
       "      <td>41</td>\n",
       "      <td>25</td>\n",
       "      <td>78-BRETAGNE-RENNES-ILLE-ET-VILAINE-RENNES-0350...</td>\n",
       "      <td>35000</td>\n",
       "      <td>2022</td>\n",
       "    </tr>\n",
       "    <tr>\n",
       "      <th>414</th>\n",
       "      <td>2022</td>\n",
       "      <td>BRETAGNE</td>\n",
       "      <td>RENNES</td>\n",
       "      <td>ILLE-ET-VILAINE</td>\n",
       "      <td>RENNES</td>\n",
       "      <td>0350626R</td>\n",
       "      <td>ECOLE ELEMENTAIRE PUBLIQUE</td>\n",
       "      <td>CAMILLE CLAUDEL</td>\n",
       "      <td>PUBLIC</td>\n",
       "      <td>0</td>\n",
       "      <td>...</td>\n",
       "      <td>121</td>\n",
       "      <td>0</td>\n",
       "      <td>21</td>\n",
       "      <td>25</td>\n",
       "      <td>22</td>\n",
       "      <td>26</td>\n",
       "      <td>27</td>\n",
       "      <td>78-BRETAGNE-RENNES-ILLE-ET-VILAINE-RENNES-0350...</td>\n",
       "      <td>35700</td>\n",
       "      <td>2022</td>\n",
       "    </tr>\n",
       "    <tr>\n",
       "      <th>413</th>\n",
       "      <td>2022</td>\n",
       "      <td>BRETAGNE</td>\n",
       "      <td>RENNES</td>\n",
       "      <td>ILLE-ET-VILAINE</td>\n",
       "      <td>RENNES</td>\n",
       "      <td>0350624N</td>\n",
       "      <td>ECOLE ELEMENTAIRE PUBLIQUE</td>\n",
       "      <td>CONTOUR SAINT AUBIN</td>\n",
       "      <td>PUBLIC</td>\n",
       "      <td>0</td>\n",
       "      <td>...</td>\n",
       "      <td>215</td>\n",
       "      <td>0</td>\n",
       "      <td>35</td>\n",
       "      <td>42</td>\n",
       "      <td>36</td>\n",
       "      <td>48</td>\n",
       "      <td>54</td>\n",
       "      <td>78-BRETAGNE-RENNES-ILLE-ET-VILAINE-RENNES-0350...</td>\n",
       "      <td>35000</td>\n",
       "      <td>2022</td>\n",
       "    </tr>\n",
       "    <tr>\n",
       "      <th>412</th>\n",
       "      <td>2022</td>\n",
       "      <td>BRETAGNE</td>\n",
       "      <td>RENNES</td>\n",
       "      <td>ILLE-ET-VILAINE</td>\n",
       "      <td>RENNES</td>\n",
       "      <td>0350619H</td>\n",
       "      <td>ECOLE ELEMENTAIRE PUBLIQUE</td>\n",
       "      <td>CHATEAUGIRON-LANDRY</td>\n",
       "      <td>PUBLIC</td>\n",
       "      <td>0</td>\n",
       "      <td>...</td>\n",
       "      <td>246</td>\n",
       "      <td>0</td>\n",
       "      <td>61</td>\n",
       "      <td>51</td>\n",
       "      <td>48</td>\n",
       "      <td>40</td>\n",
       "      <td>46</td>\n",
       "      <td>78-BRETAGNE-RENNES-ILLE-ET-VILAINE-RENNES-0350...</td>\n",
       "      <td>35000</td>\n",
       "      <td>2022</td>\n",
       "    </tr>\n",
       "    <tr>\n",
       "      <th>411</th>\n",
       "      <td>2022</td>\n",
       "      <td>BRETAGNE</td>\n",
       "      <td>RENNES</td>\n",
       "      <td>ILLE-ET-VILAINE</td>\n",
       "      <td>RENNES</td>\n",
       "      <td>0350615D</td>\n",
       "      <td>ECOLE ELEMENTAIRE PUBLIQUE</td>\n",
       "      <td>PAUL LANGEVIN</td>\n",
       "      <td>PUBLIC</td>\n",
       "      <td>0</td>\n",
       "      <td>...</td>\n",
       "      <td>136</td>\n",
       "      <td>0</td>\n",
       "      <td>33</td>\n",
       "      <td>23</td>\n",
       "      <td>32</td>\n",
       "      <td>22</td>\n",
       "      <td>26</td>\n",
       "      <td>78-BRETAGNE-RENNES-ILLE-ET-VILAINE-RENNES-0350...</td>\n",
       "      <td>35000</td>\n",
       "      <td>2022</td>\n",
       "    </tr>\n",
       "    <tr>\n",
       "      <th>410</th>\n",
       "      <td>2022</td>\n",
       "      <td>BRETAGNE</td>\n",
       "      <td>RENNES</td>\n",
       "      <td>ILLE-ET-VILAINE</td>\n",
       "      <td>RENNES</td>\n",
       "      <td>0350612A</td>\n",
       "      <td>ECOLE ELEMENTAIRE PUBLIQUE</td>\n",
       "      <td>JEAN ZAY</td>\n",
       "      <td>PUBLIC</td>\n",
       "      <td>0</td>\n",
       "      <td>...</td>\n",
       "      <td>222</td>\n",
       "      <td>0</td>\n",
       "      <td>43</td>\n",
       "      <td>44</td>\n",
       "      <td>45</td>\n",
       "      <td>34</td>\n",
       "      <td>56</td>\n",
       "      <td>78-BRETAGNE-RENNES-ILLE-ET-VILAINE-RENNES-0350...</td>\n",
       "      <td>35000</td>\n",
       "      <td>2022</td>\n",
       "    </tr>\n",
       "    <tr>\n",
       "      <th>408</th>\n",
       "      <td>2022</td>\n",
       "      <td>BRETAGNE</td>\n",
       "      <td>RENNES</td>\n",
       "      <td>ILLE-ET-VILAINE</td>\n",
       "      <td>RENNES</td>\n",
       "      <td>0350603R</td>\n",
       "      <td>ECOLE ELEMENTAIRE PUBLIQUE</td>\n",
       "      <td>PABLO PICASSO</td>\n",
       "      <td>PUBLIC</td>\n",
       "      <td>0</td>\n",
       "      <td>...</td>\n",
       "      <td>144</td>\n",
       "      <td>0</td>\n",
       "      <td>21</td>\n",
       "      <td>31</td>\n",
       "      <td>31</td>\n",
       "      <td>27</td>\n",
       "      <td>34</td>\n",
       "      <td>78-BRETAGNE-RENNES-ILLE-ET-VILAINE-RENNES-0350...</td>\n",
       "      <td>35000</td>\n",
       "      <td>2022</td>\n",
       "    </tr>\n",
       "    <tr>\n",
       "      <th>407</th>\n",
       "      <td>2022</td>\n",
       "      <td>BRETAGNE</td>\n",
       "      <td>RENNES</td>\n",
       "      <td>ILLE-ET-VILAINE</td>\n",
       "      <td>RENNES</td>\n",
       "      <td>0350602P</td>\n",
       "      <td>ECOLE ELEMENTAIRE PUBLIQUE</td>\n",
       "      <td>MARCEL PAGNOL</td>\n",
       "      <td>PUBLIC</td>\n",
       "      <td>0</td>\n",
       "      <td>...</td>\n",
       "      <td>273</td>\n",
       "      <td>13</td>\n",
       "      <td>63</td>\n",
       "      <td>53</td>\n",
       "      <td>64</td>\n",
       "      <td>45</td>\n",
       "      <td>48</td>\n",
       "      <td>78-BRETAGNE-RENNES-ILLE-ET-VILAINE-RENNES-0350...</td>\n",
       "      <td>35000</td>\n",
       "      <td>2022</td>\n",
       "    </tr>\n",
       "    <tr>\n",
       "      <th>406</th>\n",
       "      <td>2022</td>\n",
       "      <td>BRETAGNE</td>\n",
       "      <td>RENNES</td>\n",
       "      <td>ILLE-ET-VILAINE</td>\n",
       "      <td>RENNES</td>\n",
       "      <td>0350596H</td>\n",
       "      <td>ECOLE ELEMENTAIRE PUBLIQUE</td>\n",
       "      <td>OSCAR LEROUX</td>\n",
       "      <td>PUBLIC</td>\n",
       "      <td>0</td>\n",
       "      <td>...</td>\n",
       "      <td>229</td>\n",
       "      <td>0</td>\n",
       "      <td>54</td>\n",
       "      <td>41</td>\n",
       "      <td>50</td>\n",
       "      <td>39</td>\n",
       "      <td>45</td>\n",
       "      <td>78-BRETAGNE-RENNES-ILLE-ET-VILAINE-RENNES-0350...</td>\n",
       "      <td>35200</td>\n",
       "      <td>2022</td>\n",
       "    </tr>\n",
       "    <tr>\n",
       "      <th>405</th>\n",
       "      <td>2022</td>\n",
       "      <td>BRETAGNE</td>\n",
       "      <td>RENNES</td>\n",
       "      <td>ILLE-ET-VILAINE</td>\n",
       "      <td>RENNES</td>\n",
       "      <td>0350594F</td>\n",
       "      <td>ECOLE ELEMENTAIRE PUBLIQUE</td>\n",
       "      <td>CHAMPION DE CICE</td>\n",
       "      <td>PUBLIC</td>\n",
       "      <td>0</td>\n",
       "      <td>...</td>\n",
       "      <td>201</td>\n",
       "      <td>10</td>\n",
       "      <td>43</td>\n",
       "      <td>42</td>\n",
       "      <td>42</td>\n",
       "      <td>42</td>\n",
       "      <td>32</td>\n",
       "      <td>78-BRETAGNE-RENNES-ILLE-ET-VILAINE-RENNES-0350...</td>\n",
       "      <td>35000</td>\n",
       "      <td>2022</td>\n",
       "    </tr>\n",
       "    <tr>\n",
       "      <th>404</th>\n",
       "      <td>2022</td>\n",
       "      <td>BRETAGNE</td>\n",
       "      <td>RENNES</td>\n",
       "      <td>ILLE-ET-VILAINE</td>\n",
       "      <td>RENNES</td>\n",
       "      <td>0350593E</td>\n",
       "      <td>ECOLE ELEMENTAIRE PUBLIQUE</td>\n",
       "      <td>ALBERT DE MUN</td>\n",
       "      <td>PUBLIC</td>\n",
       "      <td>0</td>\n",
       "      <td>...</td>\n",
       "      <td>253</td>\n",
       "      <td>0</td>\n",
       "      <td>44</td>\n",
       "      <td>56</td>\n",
       "      <td>52</td>\n",
       "      <td>53</td>\n",
       "      <td>48</td>\n",
       "      <td>78-BRETAGNE-RENNES-ILLE-ET-VILAINE-RENNES-0350...</td>\n",
       "      <td>35000</td>\n",
       "      <td>2022</td>\n",
       "    </tr>\n",
       "    <tr>\n",
       "      <th>403</th>\n",
       "      <td>2022</td>\n",
       "      <td>BRETAGNE</td>\n",
       "      <td>RENNES</td>\n",
       "      <td>ILLE-ET-VILAINE</td>\n",
       "      <td>RENNES</td>\n",
       "      <td>0350592D</td>\n",
       "      <td>ECOLE ELEMENTAIRE PUBLIQUE</td>\n",
       "      <td>JOSEPH LOTTE</td>\n",
       "      <td>PUBLIC</td>\n",
       "      <td>0</td>\n",
       "      <td>...</td>\n",
       "      <td>170</td>\n",
       "      <td>9</td>\n",
       "      <td>48</td>\n",
       "      <td>31</td>\n",
       "      <td>32</td>\n",
       "      <td>26</td>\n",
       "      <td>33</td>\n",
       "      <td>78-BRETAGNE-RENNES-ILLE-ET-VILAINE-RENNES-0350...</td>\n",
       "      <td>35000</td>\n",
       "      <td>2022</td>\n",
       "    </tr>\n",
       "    <tr>\n",
       "      <th>420</th>\n",
       "      <td>2022</td>\n",
       "      <td>BRETAGNE</td>\n",
       "      <td>RENNES</td>\n",
       "      <td>ILLE-ET-VILAINE</td>\n",
       "      <td>RENNES</td>\n",
       "      <td>0350639E</td>\n",
       "      <td>ECOLE ELEMENTAIRE PUBLIQUE</td>\n",
       "      <td>VILLENEUVE</td>\n",
       "      <td>PUBLIC</td>\n",
       "      <td>0</td>\n",
       "      <td>...</td>\n",
       "      <td>166</td>\n",
       "      <td>0</td>\n",
       "      <td>34</td>\n",
       "      <td>34</td>\n",
       "      <td>39</td>\n",
       "      <td>26</td>\n",
       "      <td>33</td>\n",
       "      <td>78-BRETAGNE-RENNES-ILLE-ET-VILAINE-RENNES-0350...</td>\n",
       "      <td>35000</td>\n",
       "      <td>2022</td>\n",
       "    </tr>\n",
       "    <tr>\n",
       "      <th>474</th>\n",
       "      <td>2022</td>\n",
       "      <td>BRETAGNE</td>\n",
       "      <td>RENNES</td>\n",
       "      <td>ILLE-ET-VILAINE</td>\n",
       "      <td>RENNES</td>\n",
       "      <td>0352271D</td>\n",
       "      <td>ECOLE ELEMENTAIRE PUBLIQUE</td>\n",
       "      <td>GUYENNE</td>\n",
       "      <td>PUBLIC</td>\n",
       "      <td>1</td>\n",
       "      <td>...</td>\n",
       "      <td>204</td>\n",
       "      <td>0</td>\n",
       "      <td>37</td>\n",
       "      <td>40</td>\n",
       "      <td>43</td>\n",
       "      <td>36</td>\n",
       "      <td>48</td>\n",
       "      <td>78-BRETAGNE-RENNES-ILLE-ET-VILAINE-RENNES-0352...</td>\n",
       "      <td>35000</td>\n",
       "      <td>2022</td>\n",
       "    </tr>\n",
       "    <tr>\n",
       "      <th>473</th>\n",
       "      <td>2022</td>\n",
       "      <td>BRETAGNE</td>\n",
       "      <td>RENNES</td>\n",
       "      <td>ILLE-ET-VILAINE</td>\n",
       "      <td>RENNES</td>\n",
       "      <td>0352258P</td>\n",
       "      <td>ECOLE ELEMENTAIRE PUBLIQUE</td>\n",
       "      <td>VOLGA</td>\n",
       "      <td>PUBLIC</td>\n",
       "      <td>0</td>\n",
       "      <td>...</td>\n",
       "      <td>179</td>\n",
       "      <td>0</td>\n",
       "      <td>40</td>\n",
       "      <td>31</td>\n",
       "      <td>34</td>\n",
       "      <td>45</td>\n",
       "      <td>29</td>\n",
       "      <td>78-BRETAGNE-RENNES-ILLE-ET-VILAINE-RENNES-0352...</td>\n",
       "      <td>35200</td>\n",
       "      <td>2022</td>\n",
       "    </tr>\n",
       "    <tr>\n",
       "      <th>470</th>\n",
       "      <td>2022</td>\n",
       "      <td>BRETAGNE</td>\n",
       "      <td>RENNES</td>\n",
       "      <td>ILLE-ET-VILAINE</td>\n",
       "      <td>RENNES</td>\n",
       "      <td>0352207J</td>\n",
       "      <td>ECOLE ELEMENTAIRE PUBLIQUE</td>\n",
       "      <td>JEAN MOULIN</td>\n",
       "      <td>PUBLIC</td>\n",
       "      <td>1</td>\n",
       "      <td>...</td>\n",
       "      <td>236</td>\n",
       "      <td>0</td>\n",
       "      <td>49</td>\n",
       "      <td>43</td>\n",
       "      <td>48</td>\n",
       "      <td>49</td>\n",
       "      <td>47</td>\n",
       "      <td>78-BRETAGNE-RENNES-ILLE-ET-VILAINE-RENNES-0352...</td>\n",
       "      <td>35000</td>\n",
       "      <td>2022</td>\n",
       "    </tr>\n",
       "    <tr>\n",
       "      <th>469</th>\n",
       "      <td>2022</td>\n",
       "      <td>BRETAGNE</td>\n",
       "      <td>RENNES</td>\n",
       "      <td>ILLE-ET-VILAINE</td>\n",
       "      <td>RENNES</td>\n",
       "      <td>0352199A</td>\n",
       "      <td>ECOLE ELEMENTAIRE PUBLIQUE</td>\n",
       "      <td>GUILLEVIC</td>\n",
       "      <td>PUBLIC</td>\n",
       "      <td>0</td>\n",
       "      <td>...</td>\n",
       "      <td>259</td>\n",
       "      <td>0</td>\n",
       "      <td>54</td>\n",
       "      <td>55</td>\n",
       "      <td>59</td>\n",
       "      <td>54</td>\n",
       "      <td>37</td>\n",
       "      <td>78-BRETAGNE-RENNES-ILLE-ET-VILAINE-RENNES-0352...</td>\n",
       "      <td>35200</td>\n",
       "      <td>2022</td>\n",
       "    </tr>\n",
       "    <tr>\n",
       "      <th>468</th>\n",
       "      <td>2022</td>\n",
       "      <td>BRETAGNE</td>\n",
       "      <td>RENNES</td>\n",
       "      <td>ILLE-ET-VILAINE</td>\n",
       "      <td>RENNES</td>\n",
       "      <td>0352187M</td>\n",
       "      <td>ECOLE ELEMENTAIRE PUBLIQUE</td>\n",
       "      <td>CLEMENCEAU</td>\n",
       "      <td>PUBLIC</td>\n",
       "      <td>1</td>\n",
       "      <td>...</td>\n",
       "      <td>238</td>\n",
       "      <td>11</td>\n",
       "      <td>59</td>\n",
       "      <td>51</td>\n",
       "      <td>44</td>\n",
       "      <td>45</td>\n",
       "      <td>39</td>\n",
       "      <td>78-BRETAGNE-RENNES-ILLE-ET-VILAINE-RENNES-0352...</td>\n",
       "      <td>35200</td>\n",
       "      <td>2022</td>\n",
       "    </tr>\n",
       "    <tr>\n",
       "      <th>467</th>\n",
       "      <td>2022</td>\n",
       "      <td>BRETAGNE</td>\n",
       "      <td>RENNES</td>\n",
       "      <td>ILLE-ET-VILAINE</td>\n",
       "      <td>RENNES</td>\n",
       "      <td>0352158F</td>\n",
       "      <td>ECOLE ELEMENTAIRE PUBLIQUE</td>\n",
       "      <td>JEAN ROSTAND</td>\n",
       "      <td>PUBLIC</td>\n",
       "      <td>0</td>\n",
       "      <td>...</td>\n",
       "      <td>211</td>\n",
       "      <td>0</td>\n",
       "      <td>29</td>\n",
       "      <td>49</td>\n",
       "      <td>51</td>\n",
       "      <td>47</td>\n",
       "      <td>35</td>\n",
       "      <td>78-BRETAGNE-RENNES-ILLE-ET-VILAINE-RENNES-0352...</td>\n",
       "      <td>35000</td>\n",
       "      <td>2022</td>\n",
       "    </tr>\n",
       "    <tr>\n",
       "      <th>466</th>\n",
       "      <td>2022</td>\n",
       "      <td>BRETAGNE</td>\n",
       "      <td>RENNES</td>\n",
       "      <td>ILLE-ET-VILAINE</td>\n",
       "      <td>RENNES</td>\n",
       "      <td>0352150X</td>\n",
       "      <td>ECOLE ELEMENTAIRE PUBLIQUE</td>\n",
       "      <td>TORIGNE</td>\n",
       "      <td>PUBLIC</td>\n",
       "      <td>1</td>\n",
       "      <td>...</td>\n",
       "      <td>280</td>\n",
       "      <td>0</td>\n",
       "      <td>61</td>\n",
       "      <td>49</td>\n",
       "      <td>67</td>\n",
       "      <td>49</td>\n",
       "      <td>54</td>\n",
       "      <td>78-BRETAGNE-RENNES-ILLE-ET-VILAINE-RENNES-0352...</td>\n",
       "      <td>35200</td>\n",
       "      <td>2022</td>\n",
       "    </tr>\n",
       "    <tr>\n",
       "      <th>491</th>\n",
       "      <td>2022</td>\n",
       "      <td>BRETAGNE</td>\n",
       "      <td>RENNES</td>\n",
       "      <td>ILLE-ET-VILAINE</td>\n",
       "      <td>RENNES</td>\n",
       "      <td>0352670M</td>\n",
       "      <td>ECOLE ELEMENTAIRE PUBLIQUE</td>\n",
       "      <td>JACQUES PREVERT</td>\n",
       "      <td>PUBLIC</td>\n",
       "      <td>1</td>\n",
       "      <td>...</td>\n",
       "      <td>323</td>\n",
       "      <td>0</td>\n",
       "      <td>61</td>\n",
       "      <td>60</td>\n",
       "      <td>68</td>\n",
       "      <td>74</td>\n",
       "      <td>60</td>\n",
       "      <td>78-BRETAGNE-RENNES-ILLE-ET-VILAINE-RENNES-0352...</td>\n",
       "      <td>35000</td>\n",
       "      <td>2022</td>\n",
       "    </tr>\n",
       "    <tr>\n",
       "      <th>490</th>\n",
       "      <td>2022</td>\n",
       "      <td>BRETAGNE</td>\n",
       "      <td>RENNES</td>\n",
       "      <td>ILLE-ET-VILAINE</td>\n",
       "      <td>RENNES</td>\n",
       "      <td>0352669L</td>\n",
       "      <td>ECOLE ELEMENTAIRE PUBLIQUE</td>\n",
       "      <td>PASCAL LAFAYE</td>\n",
       "      <td>PUBLIC</td>\n",
       "      <td>1</td>\n",
       "      <td>...</td>\n",
       "      <td>247</td>\n",
       "      <td>13</td>\n",
       "      <td>39</td>\n",
       "      <td>60</td>\n",
       "      <td>47</td>\n",
       "      <td>57</td>\n",
       "      <td>44</td>\n",
       "      <td>78-BRETAGNE-RENNES-ILLE-ET-VILAINE-RENNES-0352...</td>\n",
       "      <td>35000</td>\n",
       "      <td>2022</td>\n",
       "    </tr>\n",
       "    <tr>\n",
       "      <th>489</th>\n",
       "      <td>2022</td>\n",
       "      <td>BRETAGNE</td>\n",
       "      <td>RENNES</td>\n",
       "      <td>ILLE-ET-VILAINE</td>\n",
       "      <td>RENNES</td>\n",
       "      <td>0352668K</td>\n",
       "      <td>ECOLE ELEMENTAIRE PUBLIQUE</td>\n",
       "      <td>GANTELLES</td>\n",
       "      <td>PUBLIC</td>\n",
       "      <td>1</td>\n",
       "      <td>...</td>\n",
       "      <td>319</td>\n",
       "      <td>12</td>\n",
       "      <td>70</td>\n",
       "      <td>80</td>\n",
       "      <td>56</td>\n",
       "      <td>45</td>\n",
       "      <td>68</td>\n",
       "      <td>78-BRETAGNE-RENNES-ILLE-ET-VILAINE-RENNES-0352...</td>\n",
       "      <td>35700</td>\n",
       "      <td>2022</td>\n",
       "    </tr>\n",
       "    <tr>\n",
       "      <th>488</th>\n",
       "      <td>2022</td>\n",
       "      <td>BRETAGNE</td>\n",
       "      <td>RENNES</td>\n",
       "      <td>ILLE-ET-VILAINE</td>\n",
       "      <td>RENNES</td>\n",
       "      <td>0352667J</td>\n",
       "      <td>ECOLE ELEMENTAIRE PUBLIQUE</td>\n",
       "      <td>ILLE</td>\n",
       "      <td>PUBLIC</td>\n",
       "      <td>0</td>\n",
       "      <td>...</td>\n",
       "      <td>290</td>\n",
       "      <td>0</td>\n",
       "      <td>59</td>\n",
       "      <td>59</td>\n",
       "      <td>67</td>\n",
       "      <td>47</td>\n",
       "      <td>58</td>\n",
       "      <td>78-BRETAGNE-RENNES-ILLE-ET-VILAINE-RENNES-0352...</td>\n",
       "      <td>35000</td>\n",
       "      <td>2022</td>\n",
       "    </tr>\n",
       "    <tr>\n",
       "      <th>465</th>\n",
       "      <td>2022</td>\n",
       "      <td>BRETAGNE</td>\n",
       "      <td>RENNES</td>\n",
       "      <td>ILLE-ET-VILAINE</td>\n",
       "      <td>RENNES</td>\n",
       "      <td>0352140L</td>\n",
       "      <td>ECOLE ELEMENTAIRE PUBLIQUE</td>\n",
       "      <td>JULES FERRY</td>\n",
       "      <td>PUBLIC</td>\n",
       "      <td>0</td>\n",
       "      <td>...</td>\n",
       "      <td>196</td>\n",
       "      <td>0</td>\n",
       "      <td>54</td>\n",
       "      <td>35</td>\n",
       "      <td>37</td>\n",
       "      <td>39</td>\n",
       "      <td>31</td>\n",
       "      <td>78-BRETAGNE-RENNES-ILLE-ET-VILAINE-RENNES-0352...</td>\n",
       "      <td>35700</td>\n",
       "      <td>2022</td>\n",
       "    </tr>\n",
       "    <tr>\n",
       "      <th>463</th>\n",
       "      <td>2022</td>\n",
       "      <td>BRETAGNE</td>\n",
       "      <td>RENNES</td>\n",
       "      <td>ILLE-ET-VILAINE</td>\n",
       "      <td>RENNES</td>\n",
       "      <td>0352136G</td>\n",
       "      <td>ECOLE ELEMENTAIRE PUBLIQUE</td>\n",
       "      <td>CLOTEAUX</td>\n",
       "      <td>PUBLIC</td>\n",
       "      <td>1</td>\n",
       "      <td>...</td>\n",
       "      <td>124</td>\n",
       "      <td>0</td>\n",
       "      <td>32</td>\n",
       "      <td>23</td>\n",
       "      <td>23</td>\n",
       "      <td>25</td>\n",
       "      <td>21</td>\n",
       "      <td>78-BRETAGNE-RENNES-ILLE-ET-VILAINE-RENNES-0352...</td>\n",
       "      <td>35200</td>\n",
       "      <td>2022</td>\n",
       "    </tr>\n",
       "    <tr>\n",
       "      <th>462</th>\n",
       "      <td>2022</td>\n",
       "      <td>BRETAGNE</td>\n",
       "      <td>RENNES</td>\n",
       "      <td>ILLE-ET-VILAINE</td>\n",
       "      <td>RENNES</td>\n",
       "      <td>0352055U</td>\n",
       "      <td>ECOLE ELEMENTAIRE PUBLIQUE</td>\n",
       "      <td>LOUISE MICHEL</td>\n",
       "      <td>PUBLIC</td>\n",
       "      <td>0</td>\n",
       "      <td>...</td>\n",
       "      <td>147</td>\n",
       "      <td>0</td>\n",
       "      <td>27</td>\n",
       "      <td>28</td>\n",
       "      <td>29</td>\n",
       "      <td>30</td>\n",
       "      <td>33</td>\n",
       "      <td>78-BRETAGNE-RENNES-ILLE-ET-VILAINE-RENNES-0352...</td>\n",
       "      <td>35000</td>\n",
       "      <td>2022</td>\n",
       "    </tr>\n",
       "    <tr>\n",
       "      <th>459</th>\n",
       "      <td>2022</td>\n",
       "      <td>BRETAGNE</td>\n",
       "      <td>RENNES</td>\n",
       "      <td>ILLE-ET-VILAINE</td>\n",
       "      <td>RENNES</td>\n",
       "      <td>0351989X</td>\n",
       "      <td>ECOLE ELEMENTAIRE PUBLIQUE</td>\n",
       "      <td>JULES ISAAC</td>\n",
       "      <td>PUBLIC</td>\n",
       "      <td>0</td>\n",
       "      <td>...</td>\n",
       "      <td>180</td>\n",
       "      <td>0</td>\n",
       "      <td>34</td>\n",
       "      <td>40</td>\n",
       "      <td>40</td>\n",
       "      <td>34</td>\n",
       "      <td>32</td>\n",
       "      <td>78-BRETAGNE-RENNES-ILLE-ET-VILAINE-RENNES-0351...</td>\n",
       "      <td>35000</td>\n",
       "      <td>2022</td>\n",
       "    </tr>\n",
       "    <tr>\n",
       "      <th>455</th>\n",
       "      <td>2022</td>\n",
       "      <td>BRETAGNE</td>\n",
       "      <td>RENNES</td>\n",
       "      <td>ILLE-ET-VILAINE</td>\n",
       "      <td>RENNES</td>\n",
       "      <td>0351829Y</td>\n",
       "      <td>ECOLE ELEMENTAIRE PUBLIQUE</td>\n",
       "      <td>LEON GRIMAULT</td>\n",
       "      <td>PUBLIC</td>\n",
       "      <td>0</td>\n",
       "      <td>...</td>\n",
       "      <td>205</td>\n",
       "      <td>0</td>\n",
       "      <td>40</td>\n",
       "      <td>39</td>\n",
       "      <td>56</td>\n",
       "      <td>32</td>\n",
       "      <td>38</td>\n",
       "      <td>78-BRETAGNE-RENNES-ILLE-ET-VILAINE-RENNES-0351...</td>\n",
       "      <td>35200</td>\n",
       "      <td>2022</td>\n",
       "    </tr>\n",
       "    <tr>\n",
       "      <th>453</th>\n",
       "      <td>2022</td>\n",
       "      <td>BRETAGNE</td>\n",
       "      <td>RENNES</td>\n",
       "      <td>ILLE-ET-VILAINE</td>\n",
       "      <td>RENNES</td>\n",
       "      <td>0351774N</td>\n",
       "      <td>ECOLE ELEMENTAIRE PUBLIQUE</td>\n",
       "      <td>LIBERTE</td>\n",
       "      <td>PUBLIC</td>\n",
       "      <td>0</td>\n",
       "      <td>...</td>\n",
       "      <td>212</td>\n",
       "      <td>0</td>\n",
       "      <td>45</td>\n",
       "      <td>44</td>\n",
       "      <td>38</td>\n",
       "      <td>41</td>\n",
       "      <td>44</td>\n",
       "      <td>78-BRETAGNE-RENNES-ILLE-ET-VILAINE-RENNES-0351...</td>\n",
       "      <td>35000</td>\n",
       "      <td>2022</td>\n",
       "    </tr>\n",
       "  </tbody>\n",
       "</table>\n",
       "<p>38 rows × 24 columns</p>\n",
       "</div>"
      ],
      "text/plain": [
       "     Rentrée scolaire Région académique Académie      Département  \\\n",
       "76               2022          BRETAGNE   RENNES  ILLE-ET-VILAINE   \n",
       "544              2022          BRETAGNE   RENNES  ILLE-ET-VILAINE   \n",
       "659              2022          BRETAGNE   RENNES  ILLE-ET-VILAINE   \n",
       "632              2022          BRETAGNE   RENNES  ILLE-ET-VILAINE   \n",
       "419              2022          BRETAGNE   RENNES  ILLE-ET-VILAINE   \n",
       "418              2022          BRETAGNE   RENNES  ILLE-ET-VILAINE   \n",
       "417              2022          BRETAGNE   RENNES  ILLE-ET-VILAINE   \n",
       "416              2022          BRETAGNE   RENNES  ILLE-ET-VILAINE   \n",
       "415              2022          BRETAGNE   RENNES  ILLE-ET-VILAINE   \n",
       "414              2022          BRETAGNE   RENNES  ILLE-ET-VILAINE   \n",
       "413              2022          BRETAGNE   RENNES  ILLE-ET-VILAINE   \n",
       "412              2022          BRETAGNE   RENNES  ILLE-ET-VILAINE   \n",
       "411              2022          BRETAGNE   RENNES  ILLE-ET-VILAINE   \n",
       "410              2022          BRETAGNE   RENNES  ILLE-ET-VILAINE   \n",
       "408              2022          BRETAGNE   RENNES  ILLE-ET-VILAINE   \n",
       "407              2022          BRETAGNE   RENNES  ILLE-ET-VILAINE   \n",
       "406              2022          BRETAGNE   RENNES  ILLE-ET-VILAINE   \n",
       "405              2022          BRETAGNE   RENNES  ILLE-ET-VILAINE   \n",
       "404              2022          BRETAGNE   RENNES  ILLE-ET-VILAINE   \n",
       "403              2022          BRETAGNE   RENNES  ILLE-ET-VILAINE   \n",
       "420              2022          BRETAGNE   RENNES  ILLE-ET-VILAINE   \n",
       "474              2022          BRETAGNE   RENNES  ILLE-ET-VILAINE   \n",
       "473              2022          BRETAGNE   RENNES  ILLE-ET-VILAINE   \n",
       "470              2022          BRETAGNE   RENNES  ILLE-ET-VILAINE   \n",
       "469              2022          BRETAGNE   RENNES  ILLE-ET-VILAINE   \n",
       "468              2022          BRETAGNE   RENNES  ILLE-ET-VILAINE   \n",
       "467              2022          BRETAGNE   RENNES  ILLE-ET-VILAINE   \n",
       "466              2022          BRETAGNE   RENNES  ILLE-ET-VILAINE   \n",
       "491              2022          BRETAGNE   RENNES  ILLE-ET-VILAINE   \n",
       "490              2022          BRETAGNE   RENNES  ILLE-ET-VILAINE   \n",
       "489              2022          BRETAGNE   RENNES  ILLE-ET-VILAINE   \n",
       "488              2022          BRETAGNE   RENNES  ILLE-ET-VILAINE   \n",
       "465              2022          BRETAGNE   RENNES  ILLE-ET-VILAINE   \n",
       "463              2022          BRETAGNE   RENNES  ILLE-ET-VILAINE   \n",
       "462              2022          BRETAGNE   RENNES  ILLE-ET-VILAINE   \n",
       "459              2022          BRETAGNE   RENNES  ILLE-ET-VILAINE   \n",
       "455              2022          BRETAGNE   RENNES  ILLE-ET-VILAINE   \n",
       "453              2022          BRETAGNE   RENNES  ILLE-ET-VILAINE   \n",
       "\n",
       "                Commune Numéro de l'école     Dénomination principale  \\\n",
       "76            CHANTEPIE          0352521A  ECOLE ELEMENTAIRE PUBLIQUE   \n",
       "544      SAINT-GREGOIRE          0350483K  ECOLE ELEMENTAIRE PUBLIQUE   \n",
       "659     VEZIN-LE-COQUET          0351619V  ECOLE ELEMENTAIRE PUBLIQUE   \n",
       "632  THORIGNE-FOUILLARD          0351765D  ECOLE ELEMENTAIRE PUBLIQUE   \n",
       "419              RENNES          0350638D  ECOLE ELEMENTAIRE PUBLIQUE   \n",
       "418              RENNES          0350635A  ECOLE ELEMENTAIRE PUBLIQUE   \n",
       "417              RENNES          0350632X  ECOLE ELEMENTAIRE PUBLIQUE   \n",
       "416              RENNES          0350631W  ECOLE ELEMENTAIRE PUBLIQUE   \n",
       "415              RENNES          0350627S  ECOLE ELEMENTAIRE PUBLIQUE   \n",
       "414              RENNES          0350626R  ECOLE ELEMENTAIRE PUBLIQUE   \n",
       "413              RENNES          0350624N  ECOLE ELEMENTAIRE PUBLIQUE   \n",
       "412              RENNES          0350619H  ECOLE ELEMENTAIRE PUBLIQUE   \n",
       "411              RENNES          0350615D  ECOLE ELEMENTAIRE PUBLIQUE   \n",
       "410              RENNES          0350612A  ECOLE ELEMENTAIRE PUBLIQUE   \n",
       "408              RENNES          0350603R  ECOLE ELEMENTAIRE PUBLIQUE   \n",
       "407              RENNES          0350602P  ECOLE ELEMENTAIRE PUBLIQUE   \n",
       "406              RENNES          0350596H  ECOLE ELEMENTAIRE PUBLIQUE   \n",
       "405              RENNES          0350594F  ECOLE ELEMENTAIRE PUBLIQUE   \n",
       "404              RENNES          0350593E  ECOLE ELEMENTAIRE PUBLIQUE   \n",
       "403              RENNES          0350592D  ECOLE ELEMENTAIRE PUBLIQUE   \n",
       "420              RENNES          0350639E  ECOLE ELEMENTAIRE PUBLIQUE   \n",
       "474              RENNES          0352271D  ECOLE ELEMENTAIRE PUBLIQUE   \n",
       "473              RENNES          0352258P  ECOLE ELEMENTAIRE PUBLIQUE   \n",
       "470              RENNES          0352207J  ECOLE ELEMENTAIRE PUBLIQUE   \n",
       "469              RENNES          0352199A  ECOLE ELEMENTAIRE PUBLIQUE   \n",
       "468              RENNES          0352187M  ECOLE ELEMENTAIRE PUBLIQUE   \n",
       "467              RENNES          0352158F  ECOLE ELEMENTAIRE PUBLIQUE   \n",
       "466              RENNES          0352150X  ECOLE ELEMENTAIRE PUBLIQUE   \n",
       "491              RENNES          0352670M  ECOLE ELEMENTAIRE PUBLIQUE   \n",
       "490              RENNES          0352669L  ECOLE ELEMENTAIRE PUBLIQUE   \n",
       "489              RENNES          0352668K  ECOLE ELEMENTAIRE PUBLIQUE   \n",
       "488              RENNES          0352667J  ECOLE ELEMENTAIRE PUBLIQUE   \n",
       "465              RENNES          0352140L  ECOLE ELEMENTAIRE PUBLIQUE   \n",
       "463              RENNES          0352136G  ECOLE ELEMENTAIRE PUBLIQUE   \n",
       "462              RENNES          0352055U  ECOLE ELEMENTAIRE PUBLIQUE   \n",
       "459              RENNES          0351989X  ECOLE ELEMENTAIRE PUBLIQUE   \n",
       "455              RENNES          0351829Y  ECOLE ELEMENTAIRE PUBLIQUE   \n",
       "453              RENNES          0351774N  ECOLE ELEMENTAIRE PUBLIQUE   \n",
       "\n",
       "                 Patronyme Secteur  REP  ...  \\\n",
       "76      LES DEUX RUISSEAUX  PUBLIC    0  ...   \n",
       "544      PAUL-EMILE VICTOR  PUBLIC    0  ...   \n",
       "659           ERIC TABARLY  PUBLIC    0  ...   \n",
       "632  LES GRANDS PRES VERTS  PUBLIC    0  ...   \n",
       "419            CARLE BAHON  PUBLIC    0  ...   \n",
       "418                POTERIE  PUBLIC    0  ...   \n",
       "417              COLOMBIER  PUBLIC    0  ...   \n",
       "416        MOULIN DU COMTE  PUBLIC    0  ...   \n",
       "415          DUCHESSE ANNE  PUBLIC    0  ...   \n",
       "414        CAMILLE CLAUDEL  PUBLIC    0  ...   \n",
       "413    CONTOUR SAINT AUBIN  PUBLIC    0  ...   \n",
       "412    CHATEAUGIRON-LANDRY  PUBLIC    0  ...   \n",
       "411          PAUL LANGEVIN  PUBLIC    0  ...   \n",
       "410               JEAN ZAY  PUBLIC    0  ...   \n",
       "408          PABLO PICASSO  PUBLIC    0  ...   \n",
       "407          MARCEL PAGNOL  PUBLIC    0  ...   \n",
       "406           OSCAR LEROUX  PUBLIC    0  ...   \n",
       "405       CHAMPION DE CICE  PUBLIC    0  ...   \n",
       "404          ALBERT DE MUN  PUBLIC    0  ...   \n",
       "403           JOSEPH LOTTE  PUBLIC    0  ...   \n",
       "420             VILLENEUVE  PUBLIC    0  ...   \n",
       "474                GUYENNE  PUBLIC    1  ...   \n",
       "473                  VOLGA  PUBLIC    0  ...   \n",
       "470            JEAN MOULIN  PUBLIC    1  ...   \n",
       "469              GUILLEVIC  PUBLIC    0  ...   \n",
       "468             CLEMENCEAU  PUBLIC    1  ...   \n",
       "467           JEAN ROSTAND  PUBLIC    0  ...   \n",
       "466                TORIGNE  PUBLIC    1  ...   \n",
       "491        JACQUES PREVERT  PUBLIC    1  ...   \n",
       "490          PASCAL LAFAYE  PUBLIC    1  ...   \n",
       "489              GANTELLES  PUBLIC    1  ...   \n",
       "488                   ILLE  PUBLIC    0  ...   \n",
       "465            JULES FERRY  PUBLIC    0  ...   \n",
       "463               CLOTEAUX  PUBLIC    1  ...   \n",
       "462          LOUISE MICHEL  PUBLIC    0  ...   \n",
       "459            JULES ISAAC  PUBLIC    0  ...   \n",
       "455          LEON GRIMAULT  PUBLIC    0  ...   \n",
       "453                LIBERTE  PUBLIC    0  ...   \n",
       "\n",
       "     Nombre d'élèves en élémentaire hors ULIS  Nombre d'élèves en ULIS  \\\n",
       "76                                        143                        0   \n",
       "544                                       250                        0   \n",
       "659                                       169                        0   \n",
       "632                                       322                        0   \n",
       "419                                       168                        0   \n",
       "418                                       205                        0   \n",
       "417                                       140                        0   \n",
       "416                                       234                        0   \n",
       "415                                       168                        5   \n",
       "414                                       121                        0   \n",
       "413                                       215                        0   \n",
       "412                                       246                        0   \n",
       "411                                       136                        0   \n",
       "410                                       222                        0   \n",
       "408                                       144                        0   \n",
       "407                                       273                       13   \n",
       "406                                       229                        0   \n",
       "405                                       201                       10   \n",
       "404                                       253                        0   \n",
       "403                                       170                        9   \n",
       "420                                       166                        0   \n",
       "474                                       204                        0   \n",
       "473                                       179                        0   \n",
       "470                                       236                        0   \n",
       "469                                       259                        0   \n",
       "468                                       238                       11   \n",
       "467                                       211                        0   \n",
       "466                                       280                        0   \n",
       "491                                       323                        0   \n",
       "490                                       247                       13   \n",
       "489                                       319                       12   \n",
       "488                                       290                        0   \n",
       "465                                       196                        0   \n",
       "463                                       124                        0   \n",
       "462                                       147                        0   \n",
       "459                                       180                        0   \n",
       "455                                       205                        0   \n",
       "453                                       212                        0   \n",
       "\n",
       "     Nombre d'élèves en CP hors ULIS  Nombre d'élèves en CE1 hors ULIS  \\\n",
       "76                                29                                46   \n",
       "544                               44                                48   \n",
       "659                               35                                29   \n",
       "632                               50                                71   \n",
       "419                               31                                30   \n",
       "418                               31                                39   \n",
       "417                               24                                33   \n",
       "416                               58                                46   \n",
       "415                               36                                23   \n",
       "414                               21                                25   \n",
       "413                               35                                42   \n",
       "412                               61                                51   \n",
       "411                               33                                23   \n",
       "410                               43                                44   \n",
       "408                               21                                31   \n",
       "407                               63                                53   \n",
       "406                               54                                41   \n",
       "405                               43                                42   \n",
       "404                               44                                56   \n",
       "403                               48                                31   \n",
       "420                               34                                34   \n",
       "474                               37                                40   \n",
       "473                               40                                31   \n",
       "470                               49                                43   \n",
       "469                               54                                55   \n",
       "468                               59                                51   \n",
       "467                               29                                49   \n",
       "466                               61                                49   \n",
       "491                               61                                60   \n",
       "490                               39                                60   \n",
       "489                               70                                80   \n",
       "488                               59                                59   \n",
       "465                               54                                35   \n",
       "463                               32                                23   \n",
       "462                               27                                28   \n",
       "459                               34                                40   \n",
       "455                               40                                39   \n",
       "453                               45                                44   \n",
       "\n",
       "     Nombre d'élèves en CE2 hors ULIS  Nombre d'élèves en CM1 hors ULIS  \\\n",
       "76                                 23                                24   \n",
       "544                                54                                49   \n",
       "659                                33                                35   \n",
       "632                                81                                61   \n",
       "419                                34                                33   \n",
       "418                                50                                42   \n",
       "417                                29                                32   \n",
       "416                                48                                39   \n",
       "415                                43                                41   \n",
       "414                                22                                26   \n",
       "413                                36                                48   \n",
       "412                                48                                40   \n",
       "411                                32                                22   \n",
       "410                                45                                34   \n",
       "408                                31                                27   \n",
       "407                                64                                45   \n",
       "406                                50                                39   \n",
       "405                                42                                42   \n",
       "404                                52                                53   \n",
       "403                                32                                26   \n",
       "420                                39                                26   \n",
       "474                                43                                36   \n",
       "473                                34                                45   \n",
       "470                                48                                49   \n",
       "469                                59                                54   \n",
       "468                                44                                45   \n",
       "467                                51                                47   \n",
       "466                                67                                49   \n",
       "491                                68                                74   \n",
       "490                                47                                57   \n",
       "489                                56                                45   \n",
       "488                                67                                47   \n",
       "465                                37                                39   \n",
       "463                                23                                25   \n",
       "462                                29                                30   \n",
       "459                                40                                34   \n",
       "455                                56                                32   \n",
       "453                                38                                41   \n",
       "\n",
       "     Nombre d'élèves en CM2 hors ULIS  \\\n",
       "76                                 21   \n",
       "544                                55   \n",
       "659                                37   \n",
       "632                                59   \n",
       "419                                40   \n",
       "418                                43   \n",
       "417                                22   \n",
       "416                                43   \n",
       "415                                25   \n",
       "414                                27   \n",
       "413                                54   \n",
       "412                                46   \n",
       "411                                26   \n",
       "410                                56   \n",
       "408                                34   \n",
       "407                                48   \n",
       "406                                45   \n",
       "405                                32   \n",
       "404                                48   \n",
       "403                                33   \n",
       "420                                33   \n",
       "474                                48   \n",
       "473                                29   \n",
       "470                                47   \n",
       "469                                37   \n",
       "468                                39   \n",
       "467                                35   \n",
       "466                                54   \n",
       "491                                60   \n",
       "490                                44   \n",
       "489                                68   \n",
       "488                                58   \n",
       "465                                31   \n",
       "463                                21   \n",
       "462                                33   \n",
       "459                                32   \n",
       "455                                38   \n",
       "453                                44   \n",
       "\n",
       "                                                   tri  Code Postal  rentrée  \n",
       "76   78-BRETAGNE-RENNES-ILLE-ET-VILAINE-CHANTEPIE-0...        35135     2022  \n",
       "544  78-BRETAGNE-RENNES-ILLE-ET-VILAINE-SAINT-GREGO...        35760     2022  \n",
       "659  78-BRETAGNE-RENNES-ILLE-ET-VILAINE-VEZIN-LE-CO...        35132     2022  \n",
       "632  78-BRETAGNE-RENNES-ILLE-ET-VILAINE-THORIGNE-FO...        35235     2022  \n",
       "419  78-BRETAGNE-RENNES-ILLE-ET-VILAINE-RENNES-0350...        35200     2022  \n",
       "418  78-BRETAGNE-RENNES-ILLE-ET-VILAINE-RENNES-0350...        35200     2022  \n",
       "417  78-BRETAGNE-RENNES-ILLE-ET-VILAINE-RENNES-0350...        35000     2022  \n",
       "416  78-BRETAGNE-RENNES-ILLE-ET-VILAINE-RENNES-0350...        35000     2022  \n",
       "415  78-BRETAGNE-RENNES-ILLE-ET-VILAINE-RENNES-0350...        35000     2022  \n",
       "414  78-BRETAGNE-RENNES-ILLE-ET-VILAINE-RENNES-0350...        35700     2022  \n",
       "413  78-BRETAGNE-RENNES-ILLE-ET-VILAINE-RENNES-0350...        35000     2022  \n",
       "412  78-BRETAGNE-RENNES-ILLE-ET-VILAINE-RENNES-0350...        35000     2022  \n",
       "411  78-BRETAGNE-RENNES-ILLE-ET-VILAINE-RENNES-0350...        35000     2022  \n",
       "410  78-BRETAGNE-RENNES-ILLE-ET-VILAINE-RENNES-0350...        35000     2022  \n",
       "408  78-BRETAGNE-RENNES-ILLE-ET-VILAINE-RENNES-0350...        35000     2022  \n",
       "407  78-BRETAGNE-RENNES-ILLE-ET-VILAINE-RENNES-0350...        35000     2022  \n",
       "406  78-BRETAGNE-RENNES-ILLE-ET-VILAINE-RENNES-0350...        35200     2022  \n",
       "405  78-BRETAGNE-RENNES-ILLE-ET-VILAINE-RENNES-0350...        35000     2022  \n",
       "404  78-BRETAGNE-RENNES-ILLE-ET-VILAINE-RENNES-0350...        35000     2022  \n",
       "403  78-BRETAGNE-RENNES-ILLE-ET-VILAINE-RENNES-0350...        35000     2022  \n",
       "420  78-BRETAGNE-RENNES-ILLE-ET-VILAINE-RENNES-0350...        35000     2022  \n",
       "474  78-BRETAGNE-RENNES-ILLE-ET-VILAINE-RENNES-0352...        35000     2022  \n",
       "473  78-BRETAGNE-RENNES-ILLE-ET-VILAINE-RENNES-0352...        35200     2022  \n",
       "470  78-BRETAGNE-RENNES-ILLE-ET-VILAINE-RENNES-0352...        35000     2022  \n",
       "469  78-BRETAGNE-RENNES-ILLE-ET-VILAINE-RENNES-0352...        35200     2022  \n",
       "468  78-BRETAGNE-RENNES-ILLE-ET-VILAINE-RENNES-0352...        35200     2022  \n",
       "467  78-BRETAGNE-RENNES-ILLE-ET-VILAINE-RENNES-0352...        35000     2022  \n",
       "466  78-BRETAGNE-RENNES-ILLE-ET-VILAINE-RENNES-0352...        35200     2022  \n",
       "491  78-BRETAGNE-RENNES-ILLE-ET-VILAINE-RENNES-0352...        35000     2022  \n",
       "490  78-BRETAGNE-RENNES-ILLE-ET-VILAINE-RENNES-0352...        35000     2022  \n",
       "489  78-BRETAGNE-RENNES-ILLE-ET-VILAINE-RENNES-0352...        35700     2022  \n",
       "488  78-BRETAGNE-RENNES-ILLE-ET-VILAINE-RENNES-0352...        35000     2022  \n",
       "465  78-BRETAGNE-RENNES-ILLE-ET-VILAINE-RENNES-0352...        35700     2022  \n",
       "463  78-BRETAGNE-RENNES-ILLE-ET-VILAINE-RENNES-0352...        35200     2022  \n",
       "462  78-BRETAGNE-RENNES-ILLE-ET-VILAINE-RENNES-0352...        35000     2022  \n",
       "459  78-BRETAGNE-RENNES-ILLE-ET-VILAINE-RENNES-0351...        35000     2022  \n",
       "455  78-BRETAGNE-RENNES-ILLE-ET-VILAINE-RENNES-0351...        35200     2022  \n",
       "453  78-BRETAGNE-RENNES-ILLE-ET-VILAINE-RENNES-0351...        35000     2022  \n",
       "\n",
       "[38 rows x 24 columns]"
      ]
     },
     "execution_count": 68,
     "metadata": {},
     "output_type": "execute_result"
    }
   ],
   "source": []
  },
  {
   "cell_type": "code",
   "execution_count": 83,
   "id": "968287c3-b7d6-4c5d-96fb-f1c8a2fd45b9",
   "metadata": {},
   "outputs": [
    {
     "data": {
      "application/vnd.plotly.v1+json": {
       "config": {
        "plotlyServerURL": "https://plot.ly"
       },
       "data": [
        {
         "alignmentgroup": "True",
         "hovertemplate": "variable=effectifs<br>niveau=%{x}<br>value=%{y}<extra></extra>",
         "legendgroup": "effectifs",
         "marker": {
          "color": "#636efa",
          "pattern": {
           "shape": ""
          }
         },
         "name": "effectifs",
         "offsetgroup": "effectifs",
         "orientation": "v",
         "showlegend": true,
         "textposition": "auto",
         "type": "bar",
         "x": [
          "Nombre d'élèves en CE1 hors ULIS",
          "Nombre d'élèves en CE2 hors ULIS",
          "Nombre d'élèves en CM1 hors ULIS",
          "Nombre d'élèves en CM2 hors ULIS"
         ],
         "xaxis": "x",
         "y": [
          1624,
          1695,
          1533,
          1545
         ],
         "yaxis": "y"
        }
       ],
       "layout": {
        "autosize": true,
        "barmode": "relative",
        "legend": {
         "title": {
          "text": "variable"
         },
         "tracegroupgap": 0
        },
        "template": {
         "data": {
          "bar": [
           {
            "error_x": {
             "color": "#2a3f5f"
            },
            "error_y": {
             "color": "#2a3f5f"
            },
            "marker": {
             "line": {
              "color": "#E5ECF6",
              "width": 0.5
             },
             "pattern": {
              "fillmode": "overlay",
              "size": 10,
              "solidity": 0.2
             }
            },
            "type": "bar"
           }
          ],
          "barpolar": [
           {
            "marker": {
             "line": {
              "color": "#E5ECF6",
              "width": 0.5
             },
             "pattern": {
              "fillmode": "overlay",
              "size": 10,
              "solidity": 0.2
             }
            },
            "type": "barpolar"
           }
          ],
          "carpet": [
           {
            "aaxis": {
             "endlinecolor": "#2a3f5f",
             "gridcolor": "white",
             "linecolor": "white",
             "minorgridcolor": "white",
             "startlinecolor": "#2a3f5f"
            },
            "baxis": {
             "endlinecolor": "#2a3f5f",
             "gridcolor": "white",
             "linecolor": "white",
             "minorgridcolor": "white",
             "startlinecolor": "#2a3f5f"
            },
            "type": "carpet"
           }
          ],
          "choropleth": [
           {
            "colorbar": {
             "outlinewidth": 0,
             "ticks": ""
            },
            "type": "choropleth"
           }
          ],
          "contour": [
           {
            "colorbar": {
             "outlinewidth": 0,
             "ticks": ""
            },
            "colorscale": [
             [
              0,
              "#0d0887"
             ],
             [
              0.1111111111111111,
              "#46039f"
             ],
             [
              0.2222222222222222,
              "#7201a8"
             ],
             [
              0.3333333333333333,
              "#9c179e"
             ],
             [
              0.4444444444444444,
              "#bd3786"
             ],
             [
              0.5555555555555556,
              "#d8576b"
             ],
             [
              0.6666666666666666,
              "#ed7953"
             ],
             [
              0.7777777777777778,
              "#fb9f3a"
             ],
             [
              0.8888888888888888,
              "#fdca26"
             ],
             [
              1,
              "#f0f921"
             ]
            ],
            "type": "contour"
           }
          ],
          "contourcarpet": [
           {
            "colorbar": {
             "outlinewidth": 0,
             "ticks": ""
            },
            "type": "contourcarpet"
           }
          ],
          "heatmap": [
           {
            "colorbar": {
             "outlinewidth": 0,
             "ticks": ""
            },
            "colorscale": [
             [
              0,
              "#0d0887"
             ],
             [
              0.1111111111111111,
              "#46039f"
             ],
             [
              0.2222222222222222,
              "#7201a8"
             ],
             [
              0.3333333333333333,
              "#9c179e"
             ],
             [
              0.4444444444444444,
              "#bd3786"
             ],
             [
              0.5555555555555556,
              "#d8576b"
             ],
             [
              0.6666666666666666,
              "#ed7953"
             ],
             [
              0.7777777777777778,
              "#fb9f3a"
             ],
             [
              0.8888888888888888,
              "#fdca26"
             ],
             [
              1,
              "#f0f921"
             ]
            ],
            "type": "heatmap"
           }
          ],
          "heatmapgl": [
           {
            "colorbar": {
             "outlinewidth": 0,
             "ticks": ""
            },
            "colorscale": [
             [
              0,
              "#0d0887"
             ],
             [
              0.1111111111111111,
              "#46039f"
             ],
             [
              0.2222222222222222,
              "#7201a8"
             ],
             [
              0.3333333333333333,
              "#9c179e"
             ],
             [
              0.4444444444444444,
              "#bd3786"
             ],
             [
              0.5555555555555556,
              "#d8576b"
             ],
             [
              0.6666666666666666,
              "#ed7953"
             ],
             [
              0.7777777777777778,
              "#fb9f3a"
             ],
             [
              0.8888888888888888,
              "#fdca26"
             ],
             [
              1,
              "#f0f921"
             ]
            ],
            "type": "heatmapgl"
           }
          ],
          "histogram": [
           {
            "marker": {
             "pattern": {
              "fillmode": "overlay",
              "size": 10,
              "solidity": 0.2
             }
            },
            "type": "histogram"
           }
          ],
          "histogram2d": [
           {
            "colorbar": {
             "outlinewidth": 0,
             "ticks": ""
            },
            "colorscale": [
             [
              0,
              "#0d0887"
             ],
             [
              0.1111111111111111,
              "#46039f"
             ],
             [
              0.2222222222222222,
              "#7201a8"
             ],
             [
              0.3333333333333333,
              "#9c179e"
             ],
             [
              0.4444444444444444,
              "#bd3786"
             ],
             [
              0.5555555555555556,
              "#d8576b"
             ],
             [
              0.6666666666666666,
              "#ed7953"
             ],
             [
              0.7777777777777778,
              "#fb9f3a"
             ],
             [
              0.8888888888888888,
              "#fdca26"
             ],
             [
              1,
              "#f0f921"
             ]
            ],
            "type": "histogram2d"
           }
          ],
          "histogram2dcontour": [
           {
            "colorbar": {
             "outlinewidth": 0,
             "ticks": ""
            },
            "colorscale": [
             [
              0,
              "#0d0887"
             ],
             [
              0.1111111111111111,
              "#46039f"
             ],
             [
              0.2222222222222222,
              "#7201a8"
             ],
             [
              0.3333333333333333,
              "#9c179e"
             ],
             [
              0.4444444444444444,
              "#bd3786"
             ],
             [
              0.5555555555555556,
              "#d8576b"
             ],
             [
              0.6666666666666666,
              "#ed7953"
             ],
             [
              0.7777777777777778,
              "#fb9f3a"
             ],
             [
              0.8888888888888888,
              "#fdca26"
             ],
             [
              1,
              "#f0f921"
             ]
            ],
            "type": "histogram2dcontour"
           }
          ],
          "mesh3d": [
           {
            "colorbar": {
             "outlinewidth": 0,
             "ticks": ""
            },
            "type": "mesh3d"
           }
          ],
          "parcoords": [
           {
            "line": {
             "colorbar": {
              "outlinewidth": 0,
              "ticks": ""
             }
            },
            "type": "parcoords"
           }
          ],
          "pie": [
           {
            "automargin": true,
            "type": "pie"
           }
          ],
          "scatter": [
           {
            "fillpattern": {
             "fillmode": "overlay",
             "size": 10,
             "solidity": 0.2
            },
            "type": "scatter"
           }
          ],
          "scatter3d": [
           {
            "line": {
             "colorbar": {
              "outlinewidth": 0,
              "ticks": ""
             }
            },
            "marker": {
             "colorbar": {
              "outlinewidth": 0,
              "ticks": ""
             }
            },
            "type": "scatter3d"
           }
          ],
          "scattercarpet": [
           {
            "marker": {
             "colorbar": {
              "outlinewidth": 0,
              "ticks": ""
             }
            },
            "type": "scattercarpet"
           }
          ],
          "scattergeo": [
           {
            "marker": {
             "colorbar": {
              "outlinewidth": 0,
              "ticks": ""
             }
            },
            "type": "scattergeo"
           }
          ],
          "scattergl": [
           {
            "marker": {
             "colorbar": {
              "outlinewidth": 0,
              "ticks": ""
             }
            },
            "type": "scattergl"
           }
          ],
          "scattermapbox": [
           {
            "marker": {
             "colorbar": {
              "outlinewidth": 0,
              "ticks": ""
             }
            },
            "type": "scattermapbox"
           }
          ],
          "scatterpolar": [
           {
            "marker": {
             "colorbar": {
              "outlinewidth": 0,
              "ticks": ""
             }
            },
            "type": "scatterpolar"
           }
          ],
          "scatterpolargl": [
           {
            "marker": {
             "colorbar": {
              "outlinewidth": 0,
              "ticks": ""
             }
            },
            "type": "scatterpolargl"
           }
          ],
          "scatterternary": [
           {
            "marker": {
             "colorbar": {
              "outlinewidth": 0,
              "ticks": ""
             }
            },
            "type": "scatterternary"
           }
          ],
          "surface": [
           {
            "colorbar": {
             "outlinewidth": 0,
             "ticks": ""
            },
            "colorscale": [
             [
              0,
              "#0d0887"
             ],
             [
              0.1111111111111111,
              "#46039f"
             ],
             [
              0.2222222222222222,
              "#7201a8"
             ],
             [
              0.3333333333333333,
              "#9c179e"
             ],
             [
              0.4444444444444444,
              "#bd3786"
             ],
             [
              0.5555555555555556,
              "#d8576b"
             ],
             [
              0.6666666666666666,
              "#ed7953"
             ],
             [
              0.7777777777777778,
              "#fb9f3a"
             ],
             [
              0.8888888888888888,
              "#fdca26"
             ],
             [
              1,
              "#f0f921"
             ]
            ],
            "type": "surface"
           }
          ],
          "table": [
           {
            "cells": {
             "fill": {
              "color": "#EBF0F8"
             },
             "line": {
              "color": "white"
             }
            },
            "header": {
             "fill": {
              "color": "#C8D4E3"
             },
             "line": {
              "color": "white"
             }
            },
            "type": "table"
           }
          ]
         },
         "layout": {
          "annotationdefaults": {
           "arrowcolor": "#2a3f5f",
           "arrowhead": 0,
           "arrowwidth": 1
          },
          "autotypenumbers": "strict",
          "coloraxis": {
           "colorbar": {
            "outlinewidth": 0,
            "ticks": ""
           }
          },
          "colorscale": {
           "diverging": [
            [
             0,
             "#8e0152"
            ],
            [
             0.1,
             "#c51b7d"
            ],
            [
             0.2,
             "#de77ae"
            ],
            [
             0.3,
             "#f1b6da"
            ],
            [
             0.4,
             "#fde0ef"
            ],
            [
             0.5,
             "#f7f7f7"
            ],
            [
             0.6,
             "#e6f5d0"
            ],
            [
             0.7,
             "#b8e186"
            ],
            [
             0.8,
             "#7fbc41"
            ],
            [
             0.9,
             "#4d9221"
            ],
            [
             1,
             "#276419"
            ]
           ],
           "sequential": [
            [
             0,
             "#0d0887"
            ],
            [
             0.1111111111111111,
             "#46039f"
            ],
            [
             0.2222222222222222,
             "#7201a8"
            ],
            [
             0.3333333333333333,
             "#9c179e"
            ],
            [
             0.4444444444444444,
             "#bd3786"
            ],
            [
             0.5555555555555556,
             "#d8576b"
            ],
            [
             0.6666666666666666,
             "#ed7953"
            ],
            [
             0.7777777777777778,
             "#fb9f3a"
            ],
            [
             0.8888888888888888,
             "#fdca26"
            ],
            [
             1,
             "#f0f921"
            ]
           ],
           "sequentialminus": [
            [
             0,
             "#0d0887"
            ],
            [
             0.1111111111111111,
             "#46039f"
            ],
            [
             0.2222222222222222,
             "#7201a8"
            ],
            [
             0.3333333333333333,
             "#9c179e"
            ],
            [
             0.4444444444444444,
             "#bd3786"
            ],
            [
             0.5555555555555556,
             "#d8576b"
            ],
            [
             0.6666666666666666,
             "#ed7953"
            ],
            [
             0.7777777777777778,
             "#fb9f3a"
            ],
            [
             0.8888888888888888,
             "#fdca26"
            ],
            [
             1,
             "#f0f921"
            ]
           ]
          },
          "colorway": [
           "#636efa",
           "#EF553B",
           "#00cc96",
           "#ab63fa",
           "#FFA15A",
           "#19d3f3",
           "#FF6692",
           "#B6E880",
           "#FF97FF",
           "#FECB52"
          ],
          "font": {
           "color": "#2a3f5f"
          },
          "geo": {
           "bgcolor": "white",
           "lakecolor": "white",
           "landcolor": "#E5ECF6",
           "showlakes": true,
           "showland": true,
           "subunitcolor": "white"
          },
          "hoverlabel": {
           "align": "left"
          },
          "hovermode": "closest",
          "mapbox": {
           "style": "light"
          },
          "paper_bgcolor": "white",
          "plot_bgcolor": "#E5ECF6",
          "polar": {
           "angularaxis": {
            "gridcolor": "white",
            "linecolor": "white",
            "ticks": ""
           },
           "bgcolor": "#E5ECF6",
           "radialaxis": {
            "gridcolor": "white",
            "linecolor": "white",
            "ticks": ""
           }
          },
          "scene": {
           "xaxis": {
            "backgroundcolor": "#E5ECF6",
            "gridcolor": "white",
            "gridwidth": 2,
            "linecolor": "white",
            "showbackground": true,
            "ticks": "",
            "zerolinecolor": "white"
           },
           "yaxis": {
            "backgroundcolor": "#E5ECF6",
            "gridcolor": "white",
            "gridwidth": 2,
            "linecolor": "white",
            "showbackground": true,
            "ticks": "",
            "zerolinecolor": "white"
           },
           "zaxis": {
            "backgroundcolor": "#E5ECF6",
            "gridcolor": "white",
            "gridwidth": 2,
            "linecolor": "white",
            "showbackground": true,
            "ticks": "",
            "zerolinecolor": "white"
           }
          },
          "shapedefaults": {
           "line": {
            "color": "#2a3f5f"
           }
          },
          "ternary": {
           "aaxis": {
            "gridcolor": "white",
            "linecolor": "white",
            "ticks": ""
           },
           "baxis": {
            "gridcolor": "white",
            "linecolor": "white",
            "ticks": ""
           },
           "bgcolor": "#E5ECF6",
           "caxis": {
            "gridcolor": "white",
            "linecolor": "white",
            "ticks": ""
           }
          },
          "title": {
           "x": 0.05
          },
          "xaxis": {
           "automargin": true,
           "gridcolor": "white",
           "linecolor": "white",
           "ticks": "",
           "title": {
            "standoff": 15
           },
           "zerolinecolor": "white",
           "zerolinewidth": 2
          },
          "yaxis": {
           "automargin": true,
           "gridcolor": "white",
           "linecolor": "white",
           "ticks": "",
           "title": {
            "standoff": 15
           },
           "zerolinecolor": "white",
           "zerolinewidth": 2
          }
         }
        },
        "title": {
         "text": "effectifs en 2022 pour les écoles primaires pubiques des communes alimentant Rennes"
        },
        "xaxis": {
         "anchor": "y",
         "autorange": true,
         "domain": [
          0,
          1
         ],
         "range": [
          -0.5,
          3.5
         ],
         "title": {
          "text": "niveau"
         },
         "type": "category"
        },
        "yaxis": {
         "anchor": "x",
         "autorange": true,
         "domain": [
          0,
          1
         ],
         "range": [
          0,
          1784.2105263157894
         ],
         "title": {
          "text": "value"
         },
         "type": "linear"
        }
       }
      },
      "text/html": [
       "<div>                            <div id=\"55c8d982-e785-4d01-aab8-7d2222c63f26\" class=\"plotly-graph-div\" style=\"height:525px; width:100%;\"></div>            <script type=\"text/javascript\">                require([\"plotly\"], function(Plotly) {                    window.PLOTLYENV=window.PLOTLYENV || {};                                    if (document.getElementById(\"55c8d982-e785-4d01-aab8-7d2222c63f26\")) {                    Plotly.newPlot(                        \"55c8d982-e785-4d01-aab8-7d2222c63f26\",                        [{\"alignmentgroup\":\"True\",\"hovertemplate\":\"variable=effectifs\\u003cbr\\u003eniveau=%{x}\\u003cbr\\u003evalue=%{y}\\u003cextra\\u003e\\u003c\\u002fextra\\u003e\",\"legendgroup\":\"effectifs\",\"marker\":{\"color\":\"#636efa\",\"pattern\":{\"shape\":\"\"}},\"name\":\"effectifs\",\"offsetgroup\":\"effectifs\",\"orientation\":\"v\",\"showlegend\":true,\"textposition\":\"auto\",\"x\":[\"Nombre d'\\u00e9l\\u00e8ves en CE1 hors ULIS\",\"Nombre d'\\u00e9l\\u00e8ves en CE2 hors ULIS\",\"Nombre d'\\u00e9l\\u00e8ves en CM1 hors ULIS\",\"Nombre d'\\u00e9l\\u00e8ves en CM2 hors ULIS\"],\"xaxis\":\"x\",\"y\":[1624,1695,1533,1545],\"yaxis\":\"y\",\"type\":\"bar\"}],                        {\"template\":{\"data\":{\"histogram2dcontour\":[{\"type\":\"histogram2dcontour\",\"colorbar\":{\"outlinewidth\":0,\"ticks\":\"\"},\"colorscale\":[[0.0,\"#0d0887\"],[0.1111111111111111,\"#46039f\"],[0.2222222222222222,\"#7201a8\"],[0.3333333333333333,\"#9c179e\"],[0.4444444444444444,\"#bd3786\"],[0.5555555555555556,\"#d8576b\"],[0.6666666666666666,\"#ed7953\"],[0.7777777777777778,\"#fb9f3a\"],[0.8888888888888888,\"#fdca26\"],[1.0,\"#f0f921\"]]}],\"choropleth\":[{\"type\":\"choropleth\",\"colorbar\":{\"outlinewidth\":0,\"ticks\":\"\"}}],\"histogram2d\":[{\"type\":\"histogram2d\",\"colorbar\":{\"outlinewidth\":0,\"ticks\":\"\"},\"colorscale\":[[0.0,\"#0d0887\"],[0.1111111111111111,\"#46039f\"],[0.2222222222222222,\"#7201a8\"],[0.3333333333333333,\"#9c179e\"],[0.4444444444444444,\"#bd3786\"],[0.5555555555555556,\"#d8576b\"],[0.6666666666666666,\"#ed7953\"],[0.7777777777777778,\"#fb9f3a\"],[0.8888888888888888,\"#fdca26\"],[1.0,\"#f0f921\"]]}],\"heatmap\":[{\"type\":\"heatmap\",\"colorbar\":{\"outlinewidth\":0,\"ticks\":\"\"},\"colorscale\":[[0.0,\"#0d0887\"],[0.1111111111111111,\"#46039f\"],[0.2222222222222222,\"#7201a8\"],[0.3333333333333333,\"#9c179e\"],[0.4444444444444444,\"#bd3786\"],[0.5555555555555556,\"#d8576b\"],[0.6666666666666666,\"#ed7953\"],[0.7777777777777778,\"#fb9f3a\"],[0.8888888888888888,\"#fdca26\"],[1.0,\"#f0f921\"]]}],\"heatmapgl\":[{\"type\":\"heatmapgl\",\"colorbar\":{\"outlinewidth\":0,\"ticks\":\"\"},\"colorscale\":[[0.0,\"#0d0887\"],[0.1111111111111111,\"#46039f\"],[0.2222222222222222,\"#7201a8\"],[0.3333333333333333,\"#9c179e\"],[0.4444444444444444,\"#bd3786\"],[0.5555555555555556,\"#d8576b\"],[0.6666666666666666,\"#ed7953\"],[0.7777777777777778,\"#fb9f3a\"],[0.8888888888888888,\"#fdca26\"],[1.0,\"#f0f921\"]]}],\"contourcarpet\":[{\"type\":\"contourcarpet\",\"colorbar\":{\"outlinewidth\":0,\"ticks\":\"\"}}],\"contour\":[{\"type\":\"contour\",\"colorbar\":{\"outlinewidth\":0,\"ticks\":\"\"},\"colorscale\":[[0.0,\"#0d0887\"],[0.1111111111111111,\"#46039f\"],[0.2222222222222222,\"#7201a8\"],[0.3333333333333333,\"#9c179e\"],[0.4444444444444444,\"#bd3786\"],[0.5555555555555556,\"#d8576b\"],[0.6666666666666666,\"#ed7953\"],[0.7777777777777778,\"#fb9f3a\"],[0.8888888888888888,\"#fdca26\"],[1.0,\"#f0f921\"]]}],\"surface\":[{\"type\":\"surface\",\"colorbar\":{\"outlinewidth\":0,\"ticks\":\"\"},\"colorscale\":[[0.0,\"#0d0887\"],[0.1111111111111111,\"#46039f\"],[0.2222222222222222,\"#7201a8\"],[0.3333333333333333,\"#9c179e\"],[0.4444444444444444,\"#bd3786\"],[0.5555555555555556,\"#d8576b\"],[0.6666666666666666,\"#ed7953\"],[0.7777777777777778,\"#fb9f3a\"],[0.8888888888888888,\"#fdca26\"],[1.0,\"#f0f921\"]]}],\"mesh3d\":[{\"type\":\"mesh3d\",\"colorbar\":{\"outlinewidth\":0,\"ticks\":\"\"}}],\"scatter\":[{\"fillpattern\":{\"fillmode\":\"overlay\",\"size\":10,\"solidity\":0.2},\"type\":\"scatter\"}],\"parcoords\":[{\"type\":\"parcoords\",\"line\":{\"colorbar\":{\"outlinewidth\":0,\"ticks\":\"\"}}}],\"scatterpolargl\":[{\"type\":\"scatterpolargl\",\"marker\":{\"colorbar\":{\"outlinewidth\":0,\"ticks\":\"\"}}}],\"bar\":[{\"error_x\":{\"color\":\"#2a3f5f\"},\"error_y\":{\"color\":\"#2a3f5f\"},\"marker\":{\"line\":{\"color\":\"#E5ECF6\",\"width\":0.5},\"pattern\":{\"fillmode\":\"overlay\",\"size\":10,\"solidity\":0.2}},\"type\":\"bar\"}],\"scattergeo\":[{\"type\":\"scattergeo\",\"marker\":{\"colorbar\":{\"outlinewidth\":0,\"ticks\":\"\"}}}],\"scatterpolar\":[{\"type\":\"scatterpolar\",\"marker\":{\"colorbar\":{\"outlinewidth\":0,\"ticks\":\"\"}}}],\"histogram\":[{\"marker\":{\"pattern\":{\"fillmode\":\"overlay\",\"size\":10,\"solidity\":0.2}},\"type\":\"histogram\"}],\"scattergl\":[{\"type\":\"scattergl\",\"marker\":{\"colorbar\":{\"outlinewidth\":0,\"ticks\":\"\"}}}],\"scatter3d\":[{\"type\":\"scatter3d\",\"line\":{\"colorbar\":{\"outlinewidth\":0,\"ticks\":\"\"}},\"marker\":{\"colorbar\":{\"outlinewidth\":0,\"ticks\":\"\"}}}],\"scattermapbox\":[{\"type\":\"scattermapbox\",\"marker\":{\"colorbar\":{\"outlinewidth\":0,\"ticks\":\"\"}}}],\"scatterternary\":[{\"type\":\"scatterternary\",\"marker\":{\"colorbar\":{\"outlinewidth\":0,\"ticks\":\"\"}}}],\"scattercarpet\":[{\"type\":\"scattercarpet\",\"marker\":{\"colorbar\":{\"outlinewidth\":0,\"ticks\":\"\"}}}],\"carpet\":[{\"aaxis\":{\"endlinecolor\":\"#2a3f5f\",\"gridcolor\":\"white\",\"linecolor\":\"white\",\"minorgridcolor\":\"white\",\"startlinecolor\":\"#2a3f5f\"},\"baxis\":{\"endlinecolor\":\"#2a3f5f\",\"gridcolor\":\"white\",\"linecolor\":\"white\",\"minorgridcolor\":\"white\",\"startlinecolor\":\"#2a3f5f\"},\"type\":\"carpet\"}],\"table\":[{\"cells\":{\"fill\":{\"color\":\"#EBF0F8\"},\"line\":{\"color\":\"white\"}},\"header\":{\"fill\":{\"color\":\"#C8D4E3\"},\"line\":{\"color\":\"white\"}},\"type\":\"table\"}],\"barpolar\":[{\"marker\":{\"line\":{\"color\":\"#E5ECF6\",\"width\":0.5},\"pattern\":{\"fillmode\":\"overlay\",\"size\":10,\"solidity\":0.2}},\"type\":\"barpolar\"}],\"pie\":[{\"automargin\":true,\"type\":\"pie\"}]},\"layout\":{\"autotypenumbers\":\"strict\",\"colorway\":[\"#636efa\",\"#EF553B\",\"#00cc96\",\"#ab63fa\",\"#FFA15A\",\"#19d3f3\",\"#FF6692\",\"#B6E880\",\"#FF97FF\",\"#FECB52\"],\"font\":{\"color\":\"#2a3f5f\"},\"hovermode\":\"closest\",\"hoverlabel\":{\"align\":\"left\"},\"paper_bgcolor\":\"white\",\"plot_bgcolor\":\"#E5ECF6\",\"polar\":{\"bgcolor\":\"#E5ECF6\",\"angularaxis\":{\"gridcolor\":\"white\",\"linecolor\":\"white\",\"ticks\":\"\"},\"radialaxis\":{\"gridcolor\":\"white\",\"linecolor\":\"white\",\"ticks\":\"\"}},\"ternary\":{\"bgcolor\":\"#E5ECF6\",\"aaxis\":{\"gridcolor\":\"white\",\"linecolor\":\"white\",\"ticks\":\"\"},\"baxis\":{\"gridcolor\":\"white\",\"linecolor\":\"white\",\"ticks\":\"\"},\"caxis\":{\"gridcolor\":\"white\",\"linecolor\":\"white\",\"ticks\":\"\"}},\"coloraxis\":{\"colorbar\":{\"outlinewidth\":0,\"ticks\":\"\"}},\"colorscale\":{\"sequential\":[[0.0,\"#0d0887\"],[0.1111111111111111,\"#46039f\"],[0.2222222222222222,\"#7201a8\"],[0.3333333333333333,\"#9c179e\"],[0.4444444444444444,\"#bd3786\"],[0.5555555555555556,\"#d8576b\"],[0.6666666666666666,\"#ed7953\"],[0.7777777777777778,\"#fb9f3a\"],[0.8888888888888888,\"#fdca26\"],[1.0,\"#f0f921\"]],\"sequentialminus\":[[0.0,\"#0d0887\"],[0.1111111111111111,\"#46039f\"],[0.2222222222222222,\"#7201a8\"],[0.3333333333333333,\"#9c179e\"],[0.4444444444444444,\"#bd3786\"],[0.5555555555555556,\"#d8576b\"],[0.6666666666666666,\"#ed7953\"],[0.7777777777777778,\"#fb9f3a\"],[0.8888888888888888,\"#fdca26\"],[1.0,\"#f0f921\"]],\"diverging\":[[0,\"#8e0152\"],[0.1,\"#c51b7d\"],[0.2,\"#de77ae\"],[0.3,\"#f1b6da\"],[0.4,\"#fde0ef\"],[0.5,\"#f7f7f7\"],[0.6,\"#e6f5d0\"],[0.7,\"#b8e186\"],[0.8,\"#7fbc41\"],[0.9,\"#4d9221\"],[1,\"#276419\"]]},\"xaxis\":{\"gridcolor\":\"white\",\"linecolor\":\"white\",\"ticks\":\"\",\"title\":{\"standoff\":15},\"zerolinecolor\":\"white\",\"automargin\":true,\"zerolinewidth\":2},\"yaxis\":{\"gridcolor\":\"white\",\"linecolor\":\"white\",\"ticks\":\"\",\"title\":{\"standoff\":15},\"zerolinecolor\":\"white\",\"automargin\":true,\"zerolinewidth\":2},\"scene\":{\"xaxis\":{\"backgroundcolor\":\"#E5ECF6\",\"gridcolor\":\"white\",\"linecolor\":\"white\",\"showbackground\":true,\"ticks\":\"\",\"zerolinecolor\":\"white\",\"gridwidth\":2},\"yaxis\":{\"backgroundcolor\":\"#E5ECF6\",\"gridcolor\":\"white\",\"linecolor\":\"white\",\"showbackground\":true,\"ticks\":\"\",\"zerolinecolor\":\"white\",\"gridwidth\":2},\"zaxis\":{\"backgroundcolor\":\"#E5ECF6\",\"gridcolor\":\"white\",\"linecolor\":\"white\",\"showbackground\":true,\"ticks\":\"\",\"zerolinecolor\":\"white\",\"gridwidth\":2}},\"shapedefaults\":{\"line\":{\"color\":\"#2a3f5f\"}},\"annotationdefaults\":{\"arrowcolor\":\"#2a3f5f\",\"arrowhead\":0,\"arrowwidth\":1},\"geo\":{\"bgcolor\":\"white\",\"landcolor\":\"#E5ECF6\",\"subunitcolor\":\"white\",\"showland\":true,\"showlakes\":true,\"lakecolor\":\"white\"},\"title\":{\"x\":0.05},\"mapbox\":{\"style\":\"light\"}}},\"xaxis\":{\"anchor\":\"y\",\"domain\":[0.0,1.0],\"title\":{\"text\":\"niveau\"}},\"yaxis\":{\"anchor\":\"x\",\"domain\":[0.0,1.0],\"title\":{\"text\":\"value\"}},\"legend\":{\"title\":{\"text\":\"variable\"},\"tracegroupgap\":0},\"title\":{\"text\":\"effectifs en 2022 pour les \\u00e9coles primaires pubiques des communes alimentant Rennes\"},\"barmode\":\"relative\"},                        {\"responsive\": true}                    ).then(function(){\n",
       "                            \n",
       "var gd = document.getElementById('55c8d982-e785-4d01-aab8-7d2222c63f26');\n",
       "var x = new MutationObserver(function (mutations, observer) {{\n",
       "        var display = window.getComputedStyle(gd).display;\n",
       "        if (!display || display === 'none') {{\n",
       "            console.log([gd, 'removed!']);\n",
       "            Plotly.purge(gd);\n",
       "            observer.disconnect();\n",
       "        }}\n",
       "}});\n",
       "\n",
       "// Listen for the removal of the full notebook cells\n",
       "var notebookContainer = gd.closest('#notebook-container');\n",
       "if (notebookContainer) {{\n",
       "    x.observe(notebookContainer, {childList: true});\n",
       "}}\n",
       "\n",
       "// Listen for the clearing of the current output cell\n",
       "var outputEl = gd.closest('.output');\n",
       "if (outputEl) {{\n",
       "    x.observe(outputEl, {childList: true});\n",
       "}}\n",
       "\n",
       "                        })                };                });            </script>        </div>"
      ]
     },
     "metadata": {},
     "output_type": "display_data"
    }
   ],
   "source": [
    "colonnes = [f\"Nombre d'élèves en {classe} hors ULIS\" for classe in [\"CE1\", \"CE2\", \"CM1\", \"CM2\"]]\n",
    "# seulement l'année 2022\n",
    "COMMUNES = [\"CHANTEPIE\", \"SAINT-GREGOIRE\",  \"THORIGNE-FOUILLARD\" , \"RENNES\", \"VEZIN-LE-COQUET\"]\n",
    "\n",
    "ecoles_2022 = ecoles[(ecoles[\"Commune\"].isin(COMMUNES)) & (ecoles[\"Dénomination principale\"] == \"ECOLE ELEMENTAIRE PUBLIQUE\") & (ecoles[\"rentrée\"] == \"2022\")]\n",
    "effectifs_montant = ecoles_2022[colonnes].melt(var_name=\"niveau\", value_name=\"effectifs\").groupby(\"niveau\").sum()\n",
    "px.bar(effectifs_montant, title=\"effectifs en 2022 pour les écoles primaires pubiques des communes alimentant Rennes\")"
   ]
  },
  {
   "cell_type": "code",
   "execution_count": 82,
   "id": "e8b117ea-5d9e-455c-a01c-3f10f95834e3",
   "metadata": {},
   "outputs": [
    {
     "data": {
      "text/html": [
       "<div>\n",
       "<style scoped>\n",
       "    .dataframe tbody tr th:only-of-type {\n",
       "        vertical-align: middle;\n",
       "    }\n",
       "\n",
       "    .dataframe tbody tr th {\n",
       "        vertical-align: top;\n",
       "    }\n",
       "\n",
       "    .dataframe thead th {\n",
       "        text-align: right;\n",
       "    }\n",
       "</style>\n",
       "<table border=\"1\" class=\"dataframe\">\n",
       "  <thead>\n",
       "    <tr style=\"text-align: right;\">\n",
       "      <th></th>\n",
       "      <th>effectifs</th>\n",
       "    </tr>\n",
       "    <tr>\n",
       "      <th>niveau</th>\n",
       "      <th></th>\n",
       "    </tr>\n",
       "  </thead>\n",
       "  <tbody>\n",
       "    <tr>\n",
       "      <th>Nombre d'élèves en CE1 hors ULIS</th>\n",
       "      <td>1624</td>\n",
       "    </tr>\n",
       "    <tr>\n",
       "      <th>Nombre d'élèves en CE2 hors ULIS</th>\n",
       "      <td>1695</td>\n",
       "    </tr>\n",
       "    <tr>\n",
       "      <th>Nombre d'élèves en CM1 hors ULIS</th>\n",
       "      <td>1533</td>\n",
       "    </tr>\n",
       "    <tr>\n",
       "      <th>Nombre d'élèves en CM2 hors ULIS</th>\n",
       "      <td>1545</td>\n",
       "    </tr>\n",
       "  </tbody>\n",
       "</table>\n",
       "</div>"
      ],
      "text/plain": [
       "                                  effectifs\n",
       "niveau                                     \n",
       "Nombre d'élèves en CE1 hors ULIS       1624\n",
       "Nombre d'élèves en CE2 hors ULIS       1695\n",
       "Nombre d'élèves en CM1 hors ULIS       1533\n",
       "Nombre d'élèves en CM2 hors ULIS       1545"
      ]
     },
     "execution_count": 82,
     "metadata": {},
     "output_type": "execute_result"
    }
   ],
   "source": [
    "effectifs_montant"
   ]
  },
  {
   "cell_type": "code",
   "execution_count": null,
   "id": "97c57eda-b4dc-44e6-b62b-556a8c447d33",
   "metadata": {},
   "outputs": [],
   "source": []
  }
 ],
 "metadata": {
  "kernelspec": {
   "display_name": "Python 3 (ipykernel)",
   "language": "python",
   "name": "python3"
  },
  "language_info": {
   "codemirror_mode": {
    "name": "ipython",
    "version": 3
   },
   "file_extension": ".py",
   "mimetype": "text/x-python",
   "name": "python",
   "nbconvert_exporter": "python",
   "pygments_lexer": "ipython3",
   "version": "3.10.5"
  }
 },
 "nbformat": 4,
 "nbformat_minor": 5
}
